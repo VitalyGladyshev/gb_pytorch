{
  "nbformat": 4,
  "nbformat_minor": 0,
  "metadata": {
    "colab": {
      "name": "HW_03_Pytorch.ipynb",
      "provenance": [],
      "collapsed_sections": [],
      "authorship_tag": "ABX9TyNMmrXfq+K0sZEpTBF1yQ9Q",
      "include_colab_link": true
    },
    "kernelspec": {
      "name": "python3",
      "display_name": "Python 3"
    },
    "accelerator": "GPU"
  },
  "cells": [
    {
      "cell_type": "markdown",
      "metadata": {
        "id": "view-in-github",
        "colab_type": "text"
      },
      "source": [
        "<a href=\"https://colab.research.google.com/github/VitalyGladyshev/gb_pytorch/blob/main/HW_03_Pytorch.ipynb\" target=\"_parent\"><img src=\"https://colab.research.google.com/assets/colab-badge.svg\" alt=\"Open In Colab\"/></a>"
      ]
    },
    {
      "cell_type": "markdown",
      "metadata": {
        "id": "Pl55iWftXLFX"
      },
      "source": [
        "#ДЗ 3 Pytorch"
      ]
    },
    {
      "cell_type": "markdown",
      "metadata": {
        "id": "Axe4Nq6BX3Uu"
      },
      "source": [
        "## Задание 1"
      ]
    },
    {
      "cell_type": "markdown",
      "metadata": {
        "id": "G3P8Y4XHXYW-"
      },
      "source": [
        "Как было сказано ранее, GAN обучается воспроизводить реальные данные. Поэтому Вам предлагается обучить генератор создавать точки, которые будут лежать на графике функции $y = \\frac{sin(x)}{x} - \\frac{x}{10}$. При выполненинии данного задания структура GAN остается той же, но Вам нужно:\n",
        " * Сгенерировать настоящие данные\n",
        " * Изменить архитектуру дискриминатора и генератора\n",
        " * Наличие графиков обязательно"
      ]
    },
    {
      "cell_type": "code",
      "metadata": {
        "id": "Ss-04QeTW_BN"
      },
      "source": [
        "import os\n",
        "import numpy as np\n",
        "import math\n",
        "\n",
        "from torch.utils.data import DataLoader, Dataset\n",
        "import torchvision.transforms as transforms\n",
        "from torchvision import datasets\n",
        "from torch.autograd import Variable\n",
        "\n",
        "import torch.nn as nn\n",
        "import torch\n",
        "\n",
        "import matplotlib.pyplot as plt\n",
        "from IPython import display\n",
        "from torchvision.utils import save_image, make_grid"
      ],
      "execution_count": 1,
      "outputs": []
    },
    {
      "cell_type": "code",
      "metadata": {
        "id": "_KiNDZzxb9vQ"
      },
      "source": [
        "x = np.linspace(-15, 15, 1001)"
      ],
      "execution_count": 8,
      "outputs": []
    },
    {
      "cell_type": "code",
      "metadata": {
        "colab": {
          "base_uri": "https://localhost:8080/"
        },
        "id": "V25jo8GTcodX",
        "outputId": "b8eb216c-5d07-48cb-dd34-eaaf835960bb"
      },
      "source": [
        "if 0 in x:\n",
        "    print(\"Есть 0\")"
      ],
      "execution_count": 464,
      "outputs": [
        {
          "output_type": "stream",
          "text": [
            "Есть 0\n"
          ],
          "name": "stdout"
        }
      ]
    },
    {
      "cell_type": "code",
      "metadata": {
        "id": "dKVa0-VAbgf3"
      },
      "source": [
        "def func_y(x):    \n",
        "    if 0 in x:\n",
        "        x[x == 0] = 0.00001\n",
        "    return np.sin(x)/x - x/10 "
      ],
      "execution_count": 465,
      "outputs": []
    },
    {
      "cell_type": "code",
      "metadata": {
        "id": "RaqePwmSdIjn"
      },
      "source": [
        "y = func_y(x)"
      ],
      "execution_count": 466,
      "outputs": []
    },
    {
      "cell_type": "code",
      "metadata": {
        "colab": {
          "base_uri": "https://localhost:8080/",
          "height": 281
        },
        "id": "7n0yeb8DdwRf",
        "outputId": "92d24850-03a3-49d3-d12b-da9c13b1334a"
      },
      "source": [
        "plt.plot(y, 'r')\n",
        "\n",
        "plt.grid(color=\"lightgrey\")\n",
        "plt.title('Исходная последовательность' )\n",
        "plt.show()"
      ],
      "execution_count": 467,
      "outputs": [
        {
          "output_type": "display_data",
          "data": {
            "image/png": "[encoded data removed]",
            "text/plain": [
              "<Figure size 432x288 with 1 Axes>"
            ]
          },
          "metadata": {
            "tags": [],
            "needs_background": "light"
          }
        }
      ]
    },
    {
      "cell_type": "code",
      "metadata": {
        "id": "DuKkdmUJqums"
      },
      "source": [
        "class Inc_Dataset(Dataset):\n",
        "    def __init__(self, b_border, u_border, point_number):\n",
        "        x = np.linspace(b_border, u_border, point_number)\n",
        "        if 0 in x:\n",
        "            x[x == 0] = 0.00001\n",
        "        self.data = x\n",
        "        self.labels = np.sin(x)/x - x/10\n",
        "\n",
        "\n",
        "    def __len__(self):\n",
        "        return len(self.data) \n",
        "    \n",
        "    \n",
        "    def __getitem__(self, idx):\n",
        "        item = self.data[idx]\n",
        "        label = self.labels[idx]\n",
        "        return (item, label)"
      ],
      "execution_count": 468,
      "outputs": []
    },
    {
      "cell_type": "code",
      "metadata": {
        "id": "ZwiP_XTRwjj_"
      },
      "source": [
        "dataset = Inc_Dataset(-15, 15, 1001)"
      ],
      "execution_count": 469,
      "outputs": []
    },
    {
      "cell_type": "code",
      "metadata": {
        "id": "hwk7Csnwwrf0"
      },
      "source": [
        "split_train_part = 0.75\n",
        "batch_size = 16\n",
        "\n",
        "real_data_dataset, test_dataset = torch.utils.data.random_split(dataset, \n",
        "                                                            [int(split_train_part*dataset.data.shape[0]), \n",
        "                                                             dataset.data.shape[0] - int(split_train_part*dataset.data.shape[0])])\n",
        "real_data_loader = DataLoader(real_data_dataset, batch_size = batch_size, shuffle=True)\n",
        "test_loader = DataLoader(test_dataset, batch_size = 1, shuffle=False)"
      ],
      "execution_count": 470,
      "outputs": []
    },
    {
      "cell_type": "code",
      "metadata": {
        "colab": {
          "base_uri": "https://localhost:8080/"
        },
        "id": "iAhgmt-egGaL",
        "outputId": "0fa9439c-bf32-42a1-8219-49f6279bfc63"
      },
      "source": [
        "device = torch.device('cuda') if torch.cuda.is_available() else torch.device('cpu')\n",
        "print(device)"
      ],
      "execution_count": 471,
      "outputs": [
        {
          "output_type": "stream",
          "text": [
            "cpu\n"
          ],
          "name": "stdout"
        }
      ]
    },
    {
      "cell_type": "markdown",
      "metadata": {
        "id": "uGFtHqdOiLGp"
      },
      "source": [
        "### Генератор"
      ]
    },
    {
      "cell_type": "code",
      "metadata": {
        "id": "QNeV7YSkgiwJ"
      },
      "source": [
        "class Generator(nn.Module):\n",
        "    def __init__(self):\n",
        "        super().__init__()\n",
        "        self.fc1 = nn.Linear(1, 32)\n",
        "        self.fc2 = nn.Linear(32, 32)\n",
        "        self.fc4 = nn.Linear(32, 1)\n",
        "        # self.sigm = nn.Sigmoid()\n",
        "        self.relu = nn.ReLU()\n",
        "        self.tanh = nn.Tanh()\n",
        "        # self.sph = nn.Softplus()\n",
        "\n",
        "    def forward(self, x):\n",
        "        # print(\"X размеры in: %s\\n\" % (x.shape,))\n",
        "        x = self.tanh(self.fc1(x))\n",
        "        # print(\"X размеры in: %s\\n\" % (x.shape,))\n",
        "        x = self.tanh(self.fc2(x))\n",
        "        # x = self.tanh(self.fc3(x))\n",
        "        x = self.fc4(x)\n",
        "        # print(\"X размеры in: %s\\n\" % (x.shape,))\n",
        "        return x"
      ],
      "execution_count": 472,
      "outputs": []
    },
    {
      "cell_type": "markdown",
      "metadata": {
        "id": "wxT6TnO_mory"
      },
      "source": [
        "### Дискриминатор "
      ]
    },
    {
      "cell_type": "code",
      "metadata": {
        "id": "NZHsh_DSmlY0"
      },
      "source": [
        "class Discriminator(nn.Module):\n",
        "    def __init__(self):\n",
        "        super().__init__()\n",
        "        self.fc1 = nn.Linear(1, 128)\n",
        "        self.fc2 = nn.Linear(128, 128)\n",
        "        # self.fc3 = nn.Linear(128, 128)\n",
        "        self.fc4 = nn.Linear(128, 1)\n",
        "        self.sigm = nn.Sigmoid()\n",
        "        self.tanh = nn.Tanh()\n",
        "        self.relu = nn.ReLU()\n",
        "        # self.sfm = nn.Softmax()\n",
        "\n",
        "    def forward(self, x):\n",
        "        # print(\"X размеры d in: %s\\n\" % (x.shape,))\n",
        "        x = self.relu(self.fc1(x))\n",
        "        # print(\"X размеры fc1 sigm in: %s\\n\" % (x.shape,))\n",
        "        x = self.relu(self.fc2(x))\n",
        "        # x = self.relu(self.fc3(x))\n",
        "        x = self.sigm(self.fc4(x))\n",
        "        return x"
      ],
      "execution_count": 473,
      "outputs": []
    },
    {
      "cell_type": "markdown",
      "metadata": {
        "id": "gATWYVHMzJbG"
      },
      "source": [
        "### Инициализация"
      ]
    },
    {
      "cell_type": "code",
      "metadata": {
        "id": "UaMb3gMCzP4X"
      },
      "source": [
        "n_epochs = 1000\n",
        "lr = 0.0001   # 0.0005\n",
        "\n",
        "b1 = 0.5\n",
        "b2 = 0.999\n",
        "\n",
        "sample_interval = 50"
      ],
      "execution_count": 474,
      "outputs": []
    },
    {
      "cell_type": "code",
      "metadata": {
        "id": "0jEyb2BJp6wd"
      },
      "source": [
        "generator = Generator().to(device)\n",
        "discriminator = Discriminator().to(device)\n",
        "\n",
        "optimizer_G = torch.optim.Adam(generator.parameters(), lr=lr, betas=(b1, b2))   # torch.optim.SGD(generator.parameters(), lr=lr, momentum=0.9)   # \n",
        "optimizer_D = torch.optim.Adam(discriminator.parameters(), lr=lr, betas=(b1, b2))   # torch.optim.SGD(discriminator.parameters(), lr=lr, momentum=0.9)   # \n",
        "\n",
        "adversarial_loss = torch.nn.BCELoss()   # nn.CrossEntropyLoss() "
      ],
      "execution_count": 475,
      "outputs": []
    },
    {
      "cell_type": "code",
      "metadata": {
        "id": "tSIpKvSVzD83"
      },
      "source": [
        "d_loss_history = []\n",
        "g_loss_history = []"
      ],
      "execution_count": 476,
      "outputs": []
    },
    {
      "cell_type": "code",
      "metadata": {
        "colab": {
          "base_uri": "https://localhost:8080/"
        },
        "id": "CtEarnauSK_e",
        "outputId": "f128a364-bcd4-4824-f20f-ddabe906ed5c"
      },
      "source": [
        "idx = torch.randperm(16)\n",
        "idx"
      ],
      "execution_count": 477,
      "outputs": [
        {
          "output_type": "execute_result",
          "data": {
            "text/plain": [
              "tensor([ 5,  0, 12, 10,  1, 11,  6, 15,  2, 14, 13,  7,  3,  4,  8,  9])"
            ]
          },
          "metadata": {
            "tags": []
          },
          "execution_count": 477
        }
      ]
    },
    {
      "cell_type": "code",
      "metadata": {
        "id": "NugQRnFAz-OO",
        "colab": {
          "base_uri": "https://localhost:8080/"
        },
        "outputId": "1f4fecd0-00f0-400f-9737-6db5557eff38"
      },
      "source": [
        "for epoch in range(1):\n",
        "    for i, (number, labels) in enumerate(real_data_loader):\n",
        "\n",
        "##################### Лейблы для данных: 1 - настоящие, 0 - сгенерированные ########\n",
        "\n",
        "        valid = Variable(torch.FloatTensor(batch_size, 1).fill_(1.0), requires_grad=False).to(device)\n",
        "        fake = Variable(torch.FloatTensor(batch_size, 1).fill_(0.0), requires_grad=False).to(device)\n",
        "\n",
        "        real_number = Variable(number.type(torch.FloatTensor)).to(device)\n",
        "\n",
        "        #генерация шума\n",
        "        idx = torch.randperm(batch_size)\n",
        "        z = Variable(number[idx].type(torch.FloatTensor)).to(device)\n",
        "\n",
        "        print(f\"real_number: {real_number}\")\n",
        "        # print(f\"{z.shape}\")\n",
        "        print(f\"z: {z.view(16, 1)}\")\n",
        "        print(f\"{z.view(16, 1).shape}\")\n",
        "        # print(f\"z: {z}\")\n",
        "        # print(f\"real_number + z: {real_number + z}\")\n",
        "        print(f\"valid.shape: {valid.shape}\")\n",
        "        print(f\"fake.shape: {fake.shape}\")\n",
        "\n",
        "        break\n",
        "    break"
      ],
      "execution_count": 478,
      "outputs": [
        {
          "output_type": "stream",
          "text": [
            "real_number: tensor([  3.8700,   1.2600,  -2.8500,   7.2300,  -1.9800,  13.9800,   7.2900,\n",
            "         -7.6500, -10.0200, -12.0900,   6.9300,   2.2800,   6.4200,  -6.5700,\n",
            "          0.7800,   2.4600])\n",
            "z: tensor([[  2.2800],\n",
            "        [ -2.8500],\n",
            "        [  6.9300],\n",
            "        [  7.2900],\n",
            "        [ -1.9800],\n",
            "        [  6.4200],\n",
            "        [-10.0200],\n",
            "        [  0.7800],\n",
            "        [  7.2300],\n",
            "        [  2.4600],\n",
            "        [ 13.9800],\n",
            "        [ -6.5700],\n",
            "        [ -7.6500],\n",
            "        [-12.0900],\n",
            "        [  3.8700],\n",
            "        [  1.2600]])\n",
            "torch.Size([16, 1])\n",
            "valid.shape: torch.Size([16, 1])\n",
            "fake.shape: torch.Size([16, 1])\n"
          ],
          "name": "stdout"
        }
      ]
    },
    {
      "cell_type": "code",
      "metadata": {
        "id": "vDUnGID-z-Rg",
        "colab": {
          "base_uri": "https://localhost:8080/",
          "height": 282
        },
        "outputId": "93212345-5968-4938-fda9-871ba783296c"
      },
      "source": [
        "import matplotlib.patches as mpatches\n",
        "\n",
        "red_patch = mpatches.Patch(color='red', label='D loss')\n",
        "green_patch = mpatches.Patch(color='green', label='G loss')\n",
        "\n",
        "g_loss_p = 1000\n",
        "ep_loss = 0\n",
        "n_epochs = 500\n",
        "\n",
        "for epoch in range(n_epochs):\n",
        "    for i, (number, labels) in enumerate(real_data_loader):\n",
        "\n",
        "##################### Лейблы для данных: 1 - настоящие, 0 - сгенерированные ########\n",
        "\n",
        "        valid = Variable(torch.FloatTensor(len(number), 1).fill_(1.0), requires_grad=False).to(device)\n",
        "        fake = Variable(torch.FloatTensor(len(labels), 1).fill_(0.0), requires_grad=False).to(device)\n",
        "\n",
        "        real_numbers = Variable(number.type(torch.FloatTensor)).to(device)\n",
        "\n",
        "######################  Тренировка генератора    ##########################\n",
        "\n",
        "        optimizer_G.zero_grad()\n",
        "    \n",
        "        #генерация шума\n",
        "        idx = torch.randperm(len(number))\n",
        "        z = Variable(number[idx].type(torch.FloatTensor)).to(device)\n",
        "\n",
        "        gen_numbers = generator(z.view(len(z), 1))\n",
        "\n",
        "        validity = discriminator(gen_numbers)\n",
        "        g_loss = adversarial_loss(validity, valid)\n",
        "        \n",
        "        g_loss.backward()\n",
        "        optimizer_G.step()\n",
        "\n",
        "        if g_loss < g_loss_p:\n",
        "            torch.save(generator.state_dict(), \"series_gan_loss_min.pth\")\n",
        "            g_loss_p = g_loss\n",
        "            ep_loss = epoch\n",
        "\n",
        "######################  Тренировка дискриминатора    ##########################\n",
        "\n",
        "        optimizer_D.zero_grad()\n",
        "\n",
        "        real_pred = discriminator(labels.view(len(labels), 1).type(torch.FloatTensor).to(device))\n",
        "        d_real_loss = adversarial_loss(real_pred, valid)\n",
        "\n",
        "        fake_pred = discriminator(gen_numbers.detach())\n",
        "        d_fake_loss = adversarial_loss(fake_pred, fake)\n",
        "\n",
        "        d_loss = (d_real_loss + d_fake_loss) / 2\n",
        "\n",
        "        d_loss.backward()\n",
        "        optimizer_D.step()\n",
        "        \n",
        "######## Отображение процесса обучения и вывод функций потерь ############\n",
        "\n",
        "        batches_done = epoch * len(real_data_loader) + i\n",
        "    \n",
        "        if batches_done % sample_interval == 0:\n",
        "            plt.clf()\n",
        "            \n",
        "            display.clear_output(wait=False)\n",
        "            # sample_image(gen_imgs)\n",
        "            print(\"[Epoch %d/%d] [Batch %d/%d] [D loss: %f] [G loss: %f]\"% (epoch, n_epochs, i, len(real_data_loader), d_loss.item(), g_loss.item()) ) \n",
        "            \n",
        "            # display.display(plt.gcf())\n",
        "\n",
        "            d_loss_history.append(d_loss)\n",
        "            g_loss_history.append(g_loss)\n",
        "\n",
        "            plt.plot(np.log(np.array(d_loss_history)), label='D loss', color = 'red')\n",
        "            plt.plot(np.log(np.array(g_loss_history)), label='G loss', color = 'green')\n",
        "            plt.legend(handles=[red_patch, green_patch])\n",
        "            plt.show()"
      ],
      "execution_count": 519,
      "outputs": [
        {
          "output_type": "stream",
          "text": [
            "[Epoch 498/500] [Batch 44/47] [D loss: 0.666507] [G loss: 0.718898]\n"
          ],
          "name": "stdout"
        },
        {
          "output_type": "display_data",
          "data": {
            "image/png": "[encoded data removed]",
            "text/plain": [
              "<Figure size 432x288 with 1 Axes>"
            ]
          },
          "metadata": {
            "tags": [],
            "needs_background": "light"
          }
        }
      ]
    },
    {
      "cell_type": "code",
      "metadata": {
        "id": "7kIzTWD60LG-"
      },
      "source": [
        "torch.save(generator.state_dict(), \"series_gan.pth\")"
      ],
      "execution_count": 520,
      "outputs": []
    },
    {
      "cell_type": "code",
      "metadata": {
        "colab": {
          "base_uri": "https://localhost:8080/"
        },
        "id": "xPOaX2vLiUL2",
        "outputId": "c46162b7-7f38-45ec-cdda-d8d31164d863"
      },
      "source": [
        "generator_r = Generator().to(device)\n",
        "generator_r.load_state_dict(torch.load(\"series_gan_loss_min.pth\"))"
      ],
      "execution_count": 521,
      "outputs": [
        {
          "output_type": "execute_result",
          "data": {
            "text/plain": [
              "<All keys matched successfully>"
            ]
          },
          "metadata": {
            "tags": []
          },
          "execution_count": 521
        }
      ]
    },
    {
      "cell_type": "code",
      "metadata": {
        "colab": {
          "base_uri": "https://localhost:8080/",
          "height": 35
        },
        "id": "KUeTMNmzkT3T",
        "outputId": "a652b0d8-ef8e-4fe0-e195-5552ccb9eef1"
      },
      "source": [
        "x =  np.linspace(-15, 15, 50)\n",
        "xt = torch.from_numpy(x).type(torch.FloatTensor).to(device)\n",
        "xt.type()"
      ],
      "execution_count": 522,
      "outputs": [
        {
          "output_type": "execute_result",
          "data": {
            "application/vnd.google.colaboratory.intrinsic+json": {
              "type": "string"
            },
            "text/plain": [
              "'torch.FloatTensor'"
            ]
          },
          "metadata": {
            "tags": []
          },
          "execution_count": 522
        }
      ]
    },
    {
      "cell_type": "code",
      "metadata": {
        "id": "oj-bjjkglrXw"
      },
      "source": [
        "gen_numbers = generator_r(xt.view(len(x), 1))"
      ],
      "execution_count": 523,
      "outputs": []
    },
    {
      "cell_type": "code",
      "metadata": {
        "colab": {
          "base_uri": "https://localhost:8080/",
          "height": 281
        },
        "id": "bGBIthxKl7tV",
        "outputId": "be67557a-3044-4494-f8fb-49d06f34de8c"
      },
      "source": [
        "plt.plot(x, gen_numbers.detach().cpu().numpy(), 'ro-', label=f\"модель: эпоха {ep_loss}\")\n",
        "plt.plot(x, func_y(x), 'bo-', label=f\"эталон по формуле\")\n",
        "\n",
        "plt.legend(loc=\"lower left\")\n",
        "plt.grid(color=\"lightgrey\")\n",
        "plt.title(f'Сравнение. Эпоха loss min {ep_loss}' )\n",
        "plt.show()"
      ],
      "execution_count": 524,
      "outputs": [
        {
          "output_type": "display_data",
          "data": {
            "image/png": "[encoded data removed]",
            "text/plain": [
              "<Figure size 432x288 with 1 Axes>"
            ]
          },
          "metadata": {
            "tags": [],
            "needs_background": "light"
          }
        }
      ]
    },
    {
      "cell_type": "code",
      "metadata": {
        "colab": {
          "base_uri": "https://localhost:8080/",
          "height": 281
        },
        "id": "Vz_mw9FJdT2J",
        "outputId": "40597623-0f72-43a3-a7cc-8d53b9a4d7ce"
      },
      "source": [
        "generator_f = Generator().to(device)\n",
        "generator_f.load_state_dict(torch.load(\"series_gan.pth\"))\n",
        "\n",
        "gen_numbers_f = generator_f(xt.view(len(x), 1))\n",
        "\n",
        "plt.plot(x, gen_numbers_f.detach().cpu().numpy(), 'ro-', label=f\"модель: эпоха {n_epochs}\")\n",
        "plt.plot(x, func_y(x), 'bo-', label=f\"эталон по формуле\")\n",
        "\n",
        "plt.legend(loc=\"lower left\")\n",
        "plt.grid(color=\"lightgrey\")\n",
        "plt.title('Сравнение' )\n",
        "plt.show()"
      ],
      "execution_count": 525,
      "outputs": [
        {
          "output_type": "display_data",
          "data": {
            "image/png": "[encoded data removed]",
            "text/plain": [
              "<Figure size 432x288 with 1 Axes>"
            ]
          },
          "metadata": {
            "tags": [],
            "needs_background": "light"
          }
        }
      ]
    },
    {
      "cell_type": "markdown",
      "metadata": {
        "id": "hTsCCZjfswJ9"
      },
      "source": [
        "### Тестовый dataset\n"
      ]
    },
    {
      "cell_type": "code",
      "metadata": {
        "id": "H5fKwbf9r-Tp"
      },
      "source": [
        "x_test = []\n",
        "y_test = []\n",
        "\n",
        "for x, y in test_loader:\n",
        "    x_test.append(x), y_test.append(y)"
      ],
      "execution_count": 526,
      "outputs": []
    },
    {
      "cell_type": "code",
      "metadata": {
        "id": "hkbnnIExylTg"
      },
      "source": [
        "xt = torch.FloatTensor(x_test).to(device)\n",
        "gen_numbers_t = generator_f(xt.view(len(x_test), 1))"
      ],
      "execution_count": 527,
      "outputs": []
    },
    {
      "cell_type": "code",
      "metadata": {
        "colab": {
          "base_uri": "https://localhost:8080/",
          "height": 281
        },
        "id": "l6Oemti5vQIp",
        "outputId": "136cab32-a16c-434e-8cc2-e551c7d7186b"
      },
      "source": [
        "plt.plot(x_test, gen_numbers_t.detach().cpu().numpy(), 'ro', label=f\"модель: эпоха {n_epochs}\")\n",
        "plt.plot(x_test, y_test, 'bo', label=f\"test data\")\n",
        "\n",
        "plt.legend(loc=\"lower left\")\n",
        "plt.grid(color=\"lightgrey\")\n",
        "plt.title('Сравнение' )\n",
        "plt.show()"
      ],
      "execution_count": 528,
      "outputs": [
        {
          "output_type": "display_data",
          "data": {
            "image/png": "[encoded data removed]",
            "text/plain": [
              "<Figure size 432x288 with 1 Axes>"
            ]
          },
          "metadata": {
            "tags": [],
            "needs_background": "light"
          }
        }
      ]
    },
    {
      "cell_type": "markdown",
      "metadata": {
        "id": "yGEvUIFuX7xu"
      },
      "source": [
        "## Задание 2"
      ]
    },
    {
      "cell_type": "markdown",
      "metadata": {
        "id": "y4tUUtVNYSjn"
      },
      "source": [
        "Изменить используемые модели генератора и дискриминатора, с помощью сверточных слоев. Идея: https://arxiv.org/abs/1511.06434 Датасет можно использовать так же MNIST."
      ]
    },
    {
      "cell_type": "code",
      "metadata": {
        "id": "AUt_D86KPoe-"
      },
      "source": [
        "thr_num = 8\n",
        "batch_sz = 4"
      ],
      "execution_count": 326,
      "outputs": []
    },
    {
      "cell_type": "code",
      "metadata": {
        "id": "T0_7b8KRPfvJ"
      },
      "source": [
        "transform = transforms.Compose(\n",
        "    [transforms.ToTensor(),\n",
        "     transforms.Normalize([0.5], [0.5])])"
      ],
      "execution_count": 327,
      "outputs": []
    },
    {
      "cell_type": "code",
      "metadata": {
        "id": "NodN-sSfXOuN"
      },
      "source": [
        "mnist_train = datasets.MNIST(root='./MNIST/train', \n",
        "                                         train=True, \n",
        "                                         download=True, \n",
        "                                         transform=transform)\n",
        "mnist_train_loader = torch.utils.data.DataLoader(mnist_train,\n",
        "                                                 batch_size=batch_sz,\n",
        "                                                 shuffle=True,\n",
        "                                                 num_workers=thr_num)\n",
        "\n",
        "mnist_test = datasets.MNIST(root='./MNIST/test', \n",
        "                                        train=False, \n",
        "                                        download=True, \n",
        "                                        transform=transform)\n",
        "mnist_test_loader = torch.utils.data.DataLoader(mnist_test,\n",
        "                                                batch_size=batch_sz,\n",
        "                                                shuffle=False,\n",
        "                                                num_workers=thr_num)"
      ],
      "execution_count": 328,
      "outputs": []
    },
    {
      "cell_type": "code",
      "metadata": {
        "id": "AANoi-uLM3IZ"
      },
      "source": [
        "classes = ('0', '1', '2', '3', '4', '5', '6', '7', '8', '9')"
      ],
      "execution_count": 329,
      "outputs": []
    },
    {
      "cell_type": "code",
      "metadata": {
        "colab": {
          "base_uri": "https://localhost:8080/",
          "height": 497
        },
        "id": "DpHd66xyQDAi",
        "outputId": "4cc18656-8f6a-4dfb-a976-69dc627695ff"
      },
      "source": [
        "data_iter = iter(mnist_train_loader)\n",
        "# [data_iter.next() for i in range(0)]\n",
        "\n",
        "for i in range(2):\n",
        "    images, labels = data_iter.next()\n",
        "\n",
        "    print(\"images размеры view: %s\\n\" % (images.shape, ))\n",
        "    \n",
        "    imgs = make_grid(images)\n",
        "    print(\"imgs размеры view: %s\\n\" % (imgs.shape,))\n",
        "    print('GroundTruth:\\n', ' '.join('%8s' % classes[labels[j]] for j in range(batch_sz)))\n",
        "    plt.imshow(imgs.permute(1, 2, 0).numpy())\n",
        "    plt.show()"
      ],
      "execution_count": 330,
      "outputs": [
        {
          "output_type": "stream",
          "text": [
            "Clipping input data to the valid range for imshow with RGB data ([0..1] for floats or [0..255] for integers).\n"
          ],
          "name": "stderr"
        },
        {
          "output_type": "stream",
          "text": [
            "images размеры view: torch.Size([4, 1, 28, 28])\n",
            "\n",
            "imgs размеры view: torch.Size([3, 32, 122])\n",
            "\n",
            "GroundTruth:\n",
            "        3        9        6        3\n"
          ],
          "name": "stdout"
        },
        {
          "output_type": "display_data",
          "data": {
            "image/png": "[encoded data removed]",
            "text/plain": [
              "<Figure size 432x288 with 1 Axes>"
            ]
          },
          "metadata": {
            "tags": [],
            "needs_background": "light"
          }
        },
        {
          "output_type": "stream",
          "text": [
            "Clipping input data to the valid range for imshow with RGB data ([0..1] for floats or [0..255] for integers).\n"
          ],
          "name": "stderr"
        },
        {
          "output_type": "stream",
          "text": [
            "images размеры view: torch.Size([4, 1, 28, 28])\n",
            "\n",
            "imgs размеры view: torch.Size([3, 32, 122])\n",
            "\n",
            "GroundTruth:\n",
            "        2        6        9        6\n"
          ],
          "name": "stdout"
        },
        {
          "output_type": "display_data",
          "data": {
            "image/png": "[encoded data removed]",
            "text/plain": [
              "<Figure size 432x288 with 1 Axes>"
            ]
          },
          "metadata": {
            "tags": [],
            "needs_background": "light"
          }
        }
      ]
    },
    {
      "cell_type": "markdown",
      "metadata": {
        "id": "VoDC5FGdRWK5"
      },
      "source": [
        "### Генератор"
      ]
    },
    {
      "cell_type": "code",
      "metadata": {
        "id": "hAVtlaNnQgOy"
      },
      "source": [
        "class Generator(nn.Module):\n",
        "    def __init__(self, cnn_filt_num=8, kern_size=5, func_act='relu', in_shape=28, nn_prn=False):\n",
        "        super(Generator, self).__init__()\n",
        "\n",
        "        self.nn_prn = nn_prn\n",
        "        \n",
        "        self.relu = nn.ReLU()\n",
        "\n",
        "        # self.conv1 = nn.Conv2d(1, cnn_filt_num, kernel_size=kern_size, stride=1, padding=(2, 2))\n",
        "        # self.conv2 = nn.Conv2d(cnn_filt_num, cnn_filt_num*2, kernel_size=kern_size, stride=1, padding=(2, 2))\n",
        "        # cnn_filt_num *= 2\n",
        "        \n",
        "        # self.fs_size = cnn_filt_num * in_shape ** 2\n",
        "        # fs_sz = self.fs_size\n",
        "        # self.fc_dec1 = nn.Linear(fs_sz, in_shape ** 2)\n",
        "\n",
        "        # keras.Input(shape=(latent_dim,)),\n",
        "        # # строим размер входного вектора 7x7x128 map\n",
        "        # layers.Dense(7 * 7 * 128),\n",
        "        # layers.LeakyReLU(alpha=0.2),\n",
        "        # layers.Reshape((7, 7, 128)),\n",
        "        # layers.Conv2DTranspose(128, (4, 4), strides=(2, 2), padding=\"same\"),\n",
        "        # layers.LeakyReLU(alpha=0.2),\n",
        "        # layers.Conv2DTranspose(128, (4, 4), strides=(2, 2), padding=\"same\"),\n",
        "        # layers.LeakyReLU(alpha=0.2),\n",
        "        # layers.Conv2D(1, (7, 7), padding=\"same\", activation=\"sigmoid\"),\n",
        "\n",
        "        self.fc_dec1 = nn.Linear(16, 7*7*16)\n",
        "        self.leaky_relu = nn.LeakyReLU(0.2)\n",
        "        self.conv2_transp_1 = nn.ConvTranspose2d(1, 16, kernel_size=4, stride=(2, 2), padding=(1, 1)) #, output_padding=1)\n",
        "        nn.init.normal_(self.conv2_transp_1.weight.data, 0.0, 0.02)\n",
        "        self.conv2_transp_2 = nn.ConvTranspose2d(16, 16, kernel_size=4, stride=(2, 2), padding=(1, 1)) #, output_padding=1)\n",
        "        nn.init.normal_(self.conv2_transp_2.weight.data, 0.0, 0.02)\n",
        "        self.conv2_1 = nn.Conv2d(16, 1, kernel_size=7) # , stride=1, padding=(2, 2)\n",
        "        nn.init.normal_(self.conv2_1.weight.data, 0.0, 0.02)\n",
        "        self.fc_dec2 = nn.Linear(16*22*22, 784)\n",
        "        self.sigm = nn.Sigmoid()\n",
        "\n",
        "    def forward(self, x):\n",
        "        if self.nn_prn:\n",
        "            print(\"Генератор\\n\")\n",
        "            print(\"\\tразмеры income: %s\\n\" % (x.shape,))\n",
        "        x = x.view(-1, 16)\n",
        "        if self.nn_prn:\n",
        "            print(\"\\tразмеры x.view: %s\\n\" % (x.shape,))\n",
        "        x = self.leaky_relu(self.fc_dec1(x))\n",
        "        if self.nn_prn:\n",
        "            print(\"\\tразмеры fc_dec1, leaky_relu: %s\\n\" % (x.shape,))\n",
        "        x = x.view(-1, 1, 7, 7)\n",
        "        if self.nn_prn:\n",
        "            print(\"\\tразмеры x.view: %s\\n\" % (x.shape,))\n",
        "        x = self.leaky_relu(self.conv2_transp_1(x))\n",
        "        if self.nn_prn:\n",
        "            print(\"\\tразмеры conv2_transp_1, leaky_relu: %s\\n\" % (x.shape,))\n",
        "        x = self.leaky_relu(self.conv2_transp_2(x))\n",
        "        if self.nn_prn:\n",
        "            print(\"\\tразмеры conv2_transp_2, leaky_relu: %s\\n\" % (x.shape,))\n",
        "        x = self.sigm(self.conv2_1(x))\n",
        "        if self.nn_prn:\n",
        "            print(\"\\tразмеры conv2_1, sigm: %s\\n\" % (x.shape,))\n",
        "        x = x.view(-1, 16*22*22)\n",
        "        if self.nn_prn:\n",
        "            print(\"\\tразмеры x.view: %s\\n\" % (x.shape,))\n",
        "        x = self.relu(self.fc_dec2(x))\n",
        "        if self.nn_prn:\n",
        "            print(\"\\tразмеры fc_dec2: %s\\n\" % (x.shape,))\n",
        "        x = x.view(1, 28, 28)\n",
        "        if self.nn_prn:\n",
        "            print(\"\\tразмеры x.view: %s\\n\" % (x.shape,))\n",
        "            self.nn_prn = False\n",
        "        return x"
      ],
      "execution_count": 356,
      "outputs": []
    },
    {
      "cell_type": "markdown",
      "metadata": {
        "id": "YwsGXcCPRYNu"
      },
      "source": [
        "### Дискриминатор "
      ]
    },
    {
      "cell_type": "code",
      "metadata": {
        "id": "MbKySDivRcpT"
      },
      "source": [
        "class Discriminator(nn.Module):\n",
        "    def __init__(self, cnn_filt_num=16, kern_size=5, func_act='relu', in_shape=28, nn_prn=False):\n",
        "        super(Discriminator, self).__init__()\n",
        "\n",
        "        self.nn_prn = nn_prn\n",
        "        \n",
        "        self.relu = nn.ReLU()\n",
        "        self.sigm = nn.Sigmoid()\n",
        "\n",
        "        self.conv1 = nn.Conv2d(1, cnn_filt_num, kernel_size=kern_size, stride=1, padding=(2, 2))\n",
        "        self.pool = nn.MaxPool2d(2, 2)\n",
        "        self.conv2 = nn.Conv2d(cnn_filt_num, cnn_filt_num*2, kernel_size=kern_size, stride=1, padding=(2, 2))\n",
        "        cnn_filt_num *= 2\n",
        "        \n",
        "        self.fs_size = cnn_filt_num * (in_shape//2**2) ** 2\n",
        "        fs_sz = self.fs_size\n",
        "        \n",
        "        self.fc_dec1 = nn.Linear(fs_sz, fs_sz//4)   # fs_sz*3//4\n",
        "        fs_sz=fs_sz//4   # *3//4\n",
        "        self.fc_out = nn.Linear(fs_sz, 1)\n",
        "\n",
        "    def forward(self, x):\n",
        "        if self.nn_prn:\n",
        "            print(\"Дискриминатор\\n\")\n",
        "            print(\"\\tразмеры income: %s\\n\" % (x.shape,))\n",
        "        x = x.view(1, 1, 28, 28)\n",
        "        if self.nn_prn:\n",
        "            print(\"\\tразмеры x.view: %s\\n\" % (x.shape,))\n",
        "        x = self.pool(self.relu(self.conv1(x)))\n",
        "        if self.nn_prn:\n",
        "            print(\"\\tразмеры conv1, pool: %s\\n\" % (x.shape,))\n",
        "        x = self.pool(self.relu(self.conv2(x)))\n",
        "        if self.nn_prn:\n",
        "            print(\"\\tразмеры conv2, pool: %s\\n\" % (x.shape,))\n",
        "\n",
        "        x = x.view(-1, self.fs_size)\n",
        "        if self.nn_prn:\n",
        "            print(\"\\tразмеры x.view: %s\\n\" % (x.shape,))\n",
        "        x = self.relu(self.fc_dec1(x))\n",
        "        if self.nn_prn:\n",
        "            print(\"\\tразмеры fc_dec1: %s\\n\" % (x.shape,))\n",
        "        x = self.sigm(self.fc_out(x))\n",
        "        if self.nn_prn:\n",
        "            print(\"\\tразмеры fc_out: %s\\n\" % (x.shape,))\n",
        "            self.nn_prn = False\n",
        "        return x"
      ],
      "execution_count": 357,
      "outputs": []
    },
    {
      "cell_type": "markdown",
      "metadata": {
        "id": "V4hpqSuvRdOz"
      },
      "source": [
        "### Инициализация"
      ]
    },
    {
      "cell_type": "code",
      "metadata": {
        "id": "BSfqBrgoRigi"
      },
      "source": [
        "n_epochs = 2   # 1500\n",
        "lr = 0.001   # 0.0005\n",
        "\n",
        "b1 = 0.5\n",
        "b2 = 0.999\n",
        "\n",
        "sample_interval = 50"
      ],
      "execution_count": 358,
      "outputs": []
    },
    {
      "cell_type": "code",
      "metadata": {
        "colab": {
          "base_uri": "https://localhost:8080/"
        },
        "id": "_YH3uVwqj0MF",
        "outputId": "d61254c6-8c12-4b5a-87b4-eb84d6532dd0"
      },
      "source": [
        "device = torch.device('cuda') if torch.cuda.is_available() else torch.device('cpu')\n",
        "print(device)"
      ],
      "execution_count": 359,
      "outputs": [
        {
          "output_type": "stream",
          "text": [
            "cuda\n"
          ],
          "name": "stdout"
        }
      ]
    },
    {
      "cell_type": "code",
      "metadata": {
        "id": "CC_QCOZ_YB0E"
      },
      "source": [
        "batch_sz = 1\n",
        "mnist_train = datasets.MNIST(root='./MNIST/train', \n",
        "                                         train=True, \n",
        "                                         download=True, \n",
        "                                         transform=transform)\n",
        "mnist_train_loader = torch.utils.data.DataLoader(mnist_train,\n",
        "                                                 batch_size=batch_sz,\n",
        "                                                 shuffle=True,\n",
        "                                                 num_workers=thr_num)"
      ],
      "execution_count": 360,
      "outputs": []
    },
    {
      "cell_type": "code",
      "metadata": {
        "id": "oUFnq6U08s4Z"
      },
      "source": [
        "generator = Generator(nn_prn=True).to(device)\n",
        "discriminator = Discriminator(nn_prn=True).to(device)\n",
        "\n",
        "optimizer_G = torch.optim.Adam(generator.parameters(), lr=lr)   # , betas=(b1, b2))   # torch.optim.SGD(generator.parameters(), lr=lr, momentum=0.9)   # \n",
        "optimizer_D = torch.optim.Adam(discriminator.parameters(), lr=lr)   # , betas=(b1, b2))   # torch.optim.SGD(discriminator.parameters(), lr=lr, momentum=0.9)   # \n",
        "\n",
        "adversarial_loss = torch.nn.BCELoss()   # nn.CrossEntropyLoss() "
      ],
      "execution_count": 361,
      "outputs": []
    },
    {
      "cell_type": "code",
      "metadata": {
        "id": "-nV-_sYw8611"
      },
      "source": [
        "d_loss_history = []\n",
        "g_loss_history = []"
      ],
      "execution_count": 362,
      "outputs": []
    },
    {
      "cell_type": "code",
      "metadata": {
        "id": "ygNQyaZ43uIU"
      },
      "source": [
        "######## функция для вывода изображения ########\n",
        "def sample_image(static_sample):\n",
        "    npimg = make_grid(static_sample.data).cpu().numpy()\n",
        "    fig, ax = plt.subplots(figsize=(4, 1))\n",
        "    ax.imshow(np.transpose(npimg, (1,2,0)), interpolation=\"nearest\")\n",
        "    plt.show()"
      ],
      "execution_count": 363,
      "outputs": []
    },
    {
      "cell_type": "code",
      "metadata": {
        "id": "iTRoZ6Fy87vS",
        "colab": {
          "base_uri": "https://localhost:8080/",
          "height": 639
        },
        "outputId": "8f2ff782-ec8f-40c4-857b-3d4ea7a20885"
      },
      "source": [
        "import matplotlib.patches as mpatches\n",
        "\n",
        "red_patch = mpatches.Patch(color='red', label='D loss')\n",
        "green_patch = mpatches.Patch(color='green', label='G loss')\n",
        "\n",
        "g_loss_p = 1000\n",
        "ep_loss = 0\n",
        "\n",
        "for epoch in range(n_epochs):\n",
        "    for i, (number, labels) in enumerate(mnist_train_loader):\n",
        "\n",
        "##################### Лейблы для данных: 1 - настоящие, 0 - сгенерированные ########\n",
        "\n",
        "        valid = Variable(torch.FloatTensor(len(number), 1).fill_(1.0), requires_grad=False).to(device)\n",
        "        fake = Variable(torch.FloatTensor(len(labels), 1).fill_(0.0), requires_grad=False).to(device)\n",
        "\n",
        "        real_numbers = Variable(number.type(torch.FloatTensor)).to(device)\n",
        "\n",
        "######################  Тренировка генератора    ##########################\n",
        "\n",
        "        optimizer_G.zero_grad()\n",
        "    \n",
        "        #генерация шума\n",
        "        z = Variable(torch.FloatTensor(np.random.normal(0, 1, (batch_sz, 16)))).to(device)\n",
        "\n",
        "        gen_numbers = generator(z)   # .view(len(z), 1)\n",
        "\n",
        "        validity = discriminator(gen_numbers)\n",
        "        g_loss = adversarial_loss(validity, valid)\n",
        "        \n",
        "        g_loss.backward()\n",
        "        optimizer_G.step()\n",
        "\n",
        "        if g_loss < g_loss_p:\n",
        "            torch.save(generator.state_dict(), \"series_gan_loss_min.pth\")\n",
        "            g_loss_p = g_loss\n",
        "            ep_loss = epoch\n",
        "\n",
        "######################  Тренировка дискриминатора    ##########################\n",
        "\n",
        "        optimizer_D.zero_grad()\n",
        "\n",
        "        real_pred = discriminator(real_numbers)\n",
        "        d_real_loss = adversarial_loss(real_pred, valid)\n",
        "\n",
        "        fake_pred = discriminator(gen_numbers.detach())\n",
        "        d_fake_loss = adversarial_loss(fake_pred, fake)\n",
        "\n",
        "        d_loss = (d_real_loss + d_fake_loss) / 2\n",
        "\n",
        "        d_loss.backward()\n",
        "        optimizer_D.step()\n",
        "        \n",
        "######## Отображение процесса обучения и вывод функций потерь ############\n",
        "\n",
        "        batches_done = epoch * len(mnist_train_loader) + i\n",
        "    \n",
        "        if (i+1) % 1000 == 0:\n",
        "            plt.clf()\n",
        "            \n",
        "            display.clear_output(wait=False)\n",
        "\n",
        "            print(\"[Epoch %d/%d] [Batch %d/%d] [D loss: %f] [G loss: %f]\"% (epoch, n_epochs, i+1, len(mnist_train_loader), d_loss.item(), g_loss.item()) ) \n",
        "            # sample_image(gen_numbers)            \n",
        "            # display.display(plt.gcf())\n",
        "\n",
        "            d_loss_history.append(d_loss)\n",
        "            g_loss_history.append(g_loss)\n",
        "\n",
        "            plt.plot(np.log(np.array(d_loss_history)), label='D loss', color = 'red')\n",
        "            plt.plot(np.log(np.array(g_loss_history)), label='G loss', color = 'green')\n",
        "            plt.legend(handles=[red_patch, green_patch])\n",
        "            plt.show()"
      ],
      "execution_count": 364,
      "outputs": [
        {
          "output_type": "stream",
          "text": [
            "[Epoch 0/2] [Batch 16000/60000] [D loss: 0.000000] [G loss: 23.478685]\n"
          ],
          "name": "stdout"
        },
        {
          "output_type": "display_data",
          "data": {
            "image/png": "[encoded data removed]",
            "text/plain": [
              "<Figure size 432x288 with 1 Axes>"
            ]
          },
          "metadata": {
            "tags": [],
            "needs_background": "light"
          }
        },
        {
          "output_type": "error",
          "ename": "KeyboardInterrupt",
          "evalue": "ignored",
          "traceback": [
            "\u001b[0;31m---------------------------------------------------------------------------\u001b[0m",
            "\u001b[0;31mKeyboardInterrupt\u001b[0m                         Traceback (most recent call last)",
            "\u001b[0;32m<ipython-input-364-bb931057e2df>\u001b[0m in \u001b[0;36m<module>\u001b[0;34m()\u001b[0m\n\u001b[1;32m     29\u001b[0m         \u001b[0mg_loss\u001b[0m \u001b[0;34m=\u001b[0m \u001b[0madversarial_loss\u001b[0m\u001b[0;34m(\u001b[0m\u001b[0mvalidity\u001b[0m\u001b[0;34m,\u001b[0m \u001b[0mvalid\u001b[0m\u001b[0;34m)\u001b[0m\u001b[0;34m\u001b[0m\u001b[0;34m\u001b[0m\u001b[0m\n\u001b[1;32m     30\u001b[0m \u001b[0;34m\u001b[0m\u001b[0m\n\u001b[0;32m---> 31\u001b[0;31m         \u001b[0mg_loss\u001b[0m\u001b[0;34m.\u001b[0m\u001b[0mbackward\u001b[0m\u001b[0;34m(\u001b[0m\u001b[0;34m)\u001b[0m\u001b[0;34m\u001b[0m\u001b[0;34m\u001b[0m\u001b[0m\n\u001b[0m\u001b[1;32m     32\u001b[0m         \u001b[0moptimizer_G\u001b[0m\u001b[0;34m.\u001b[0m\u001b[0mstep\u001b[0m\u001b[0;34m(\u001b[0m\u001b[0;34m)\u001b[0m\u001b[0;34m\u001b[0m\u001b[0;34m\u001b[0m\u001b[0m\n\u001b[1;32m     33\u001b[0m \u001b[0;34m\u001b[0m\u001b[0m\n",
            "\u001b[0;32m/usr/local/lib/python3.6/dist-packages/torch/tensor.py\u001b[0m in \u001b[0;36mbackward\u001b[0;34m(self, gradient, retain_graph, create_graph)\u001b[0m\n\u001b[1;32m    219\u001b[0m                 \u001b[0mretain_graph\u001b[0m\u001b[0;34m=\u001b[0m\u001b[0mretain_graph\u001b[0m\u001b[0;34m,\u001b[0m\u001b[0;34m\u001b[0m\u001b[0;34m\u001b[0m\u001b[0m\n\u001b[1;32m    220\u001b[0m                 create_graph=create_graph)\n\u001b[0;32m--> 221\u001b[0;31m         \u001b[0mtorch\u001b[0m\u001b[0;34m.\u001b[0m\u001b[0mautograd\u001b[0m\u001b[0;34m.\u001b[0m\u001b[0mbackward\u001b[0m\u001b[0;34m(\u001b[0m\u001b[0mself\u001b[0m\u001b[0;34m,\u001b[0m \u001b[0mgradient\u001b[0m\u001b[0;34m,\u001b[0m \u001b[0mretain_graph\u001b[0m\u001b[0;34m,\u001b[0m \u001b[0mcreate_graph\u001b[0m\u001b[0;34m)\u001b[0m\u001b[0;34m\u001b[0m\u001b[0;34m\u001b[0m\u001b[0m\n\u001b[0m\u001b[1;32m    222\u001b[0m \u001b[0;34m\u001b[0m\u001b[0m\n\u001b[1;32m    223\u001b[0m     \u001b[0;32mdef\u001b[0m \u001b[0mregister_hook\u001b[0m\u001b[0;34m(\u001b[0m\u001b[0mself\u001b[0m\u001b[0;34m,\u001b[0m \u001b[0mhook\u001b[0m\u001b[0;34m)\u001b[0m\u001b[0;34m:\u001b[0m\u001b[0;34m\u001b[0m\u001b[0;34m\u001b[0m\u001b[0m\n",
            "\u001b[0;32m/usr/local/lib/python3.6/dist-packages/torch/autograd/__init__.py\u001b[0m in \u001b[0;36mbackward\u001b[0;34m(tensors, grad_tensors, retain_graph, create_graph, grad_variables)\u001b[0m\n\u001b[1;32m    130\u001b[0m     Variable._execution_engine.run_backward(\n\u001b[1;32m    131\u001b[0m         \u001b[0mtensors\u001b[0m\u001b[0;34m,\u001b[0m \u001b[0mgrad_tensors_\u001b[0m\u001b[0;34m,\u001b[0m \u001b[0mretain_graph\u001b[0m\u001b[0;34m,\u001b[0m \u001b[0mcreate_graph\u001b[0m\u001b[0;34m,\u001b[0m\u001b[0;34m\u001b[0m\u001b[0;34m\u001b[0m\u001b[0m\n\u001b[0;32m--> 132\u001b[0;31m         allow_unreachable=True)  # allow_unreachable flag\n\u001b[0m\u001b[1;32m    133\u001b[0m \u001b[0;34m\u001b[0m\u001b[0m\n\u001b[1;32m    134\u001b[0m \u001b[0;34m\u001b[0m\u001b[0m\n",
            "\u001b[0;31mKeyboardInterrupt\u001b[0m: "
          ]
        }
      ]
    },
    {
      "cell_type": "code",
      "metadata": {
        "id": "YcOeoby99JvG"
      },
      "source": [
        "torch.save(generator.state_dict(), \"series_gan.pth\")"
      ],
      "execution_count": null,
      "outputs": []
    },
    {
      "cell_type": "code",
      "metadata": {
        "colab": {
          "base_uri": "https://localhost:8080/",
          "height": 1000
        },
        "id": "6scFTPrv2pci",
        "outputId": "464cd088-eac7-4a38-b358-a3ec81bc49ad"
      },
      "source": [
        "for it in range(10):\n",
        "    z = Variable(torch.FloatTensor(np.random.normal(0, 1, (batch_sz, 784)))).to(device)\n",
        "\n",
        "    gen_numbers = generator(z)\n",
        "\n",
        "    plt.clf()\n",
        "\n",
        "    # display.clear_output(wait=False)\n",
        "    sample_image(gen_numbers)\n",
        "    # display.display(plt.gcf())"
      ],
      "execution_count": 93,
      "outputs": [
        {
          "output_type": "display_data",
          "data": {
            "text/plain": [
              "<Figure size 432x288 with 0 Axes>"
            ]
          },
          "metadata": {
            "tags": []
          }
        },
        {
          "output_type": "display_data",
          "data": {
            "image/png": "[encoded data removed]",
            "text/plain": [
              "<Figure size 288x72 with 1 Axes>"
            ]
          },
          "metadata": {
            "tags": [],
            "needs_background": "light"
          }
        },
        {
          "output_type": "display_data",
          "data": {
            "text/plain": [
              "<Figure size 432x288 with 0 Axes>"
            ]
          },
          "metadata": {
            "tags": []
          }
        },
        {
          "output_type": "display_data",
          "data": {
            "image/png": "[encoded data removed]",
            "text/plain": [
              "<Figure size 288x72 with 1 Axes>"
            ]
          },
          "metadata": {
            "tags": [],
            "needs_background": "light"
          }
        },
        {
          "output_type": "display_data",
          "data": {
            "text/plain": [
              "<Figure size 432x288 with 0 Axes>"
            ]
          },
          "metadata": {
            "tags": []
          }
        },
        {
          "output_type": "display_data",
          "data": {
            "image/png": "[encoded data removed]",
            "text/plain": [
              "<Figure size 288x72 with 1 Axes>"
            ]
          },
          "metadata": {
            "tags": [],
            "needs_background": "light"
          }
        },
        {
          "output_type": "display_data",
          "data": {
            "text/plain": [
              "<Figure size 432x288 with 0 Axes>"
            ]
          },
          "metadata": {
            "tags": []
          }
        },
        {
          "output_type": "display_data",
          "data": {
            "image/png": "[encoded data removed]",
            "text/plain": [
              "<Figure size 288x72 with 1 Axes>"
            ]
          },
          "metadata": {
            "tags": [],
            "needs_background": "light"
          }
        },
        {
          "output_type": "display_data",
          "data": {
            "text/plain": [
              "<Figure size 432x288 with 0 Axes>"
            ]
          },
          "metadata": {
            "tags": []
          }
        },
        {
          "output_type": "display_data",
          "data": {
            "image/png": "[encoded data removed]",
            "text/plain": [
              "<Figure size 288x72 with 1 Axes>"
            ]
          },
          "metadata": {
            "tags": [],
            "needs_background": "light"
          }
        },
        {
          "output_type": "display_data",
          "data": {
            "text/plain": [
              "<Figure size 432x288 with 0 Axes>"
            ]
          },
          "metadata": {
            "tags": []
          }
        },
        {
          "output_type": "display_data",
          "data": {
            "image/png": "[encoded data removed]",
            "text/plain": [
              "<Figure size 288x72 with 1 Axes>"
            ]
          },
          "metadata": {
            "tags": [],
            "needs_background": "light"
          }
        },
        {
          "output_type": "display_data",
          "data": {
            "text/plain": [
              "<Figure size 432x288 with 0 Axes>"
            ]
          },
          "metadata": {
            "tags": []
          }
        },
        {
          "output_type": "display_data",
          "data": {
            "image/png": "[encoded data removed]",
            "text/plain": [
              "<Figure size 288x72 with 1 Axes>"
            ]
          },
          "metadata": {
            "tags": [],
            "needs_background": "light"
          }
        },
        {
          "output_type": "display_data",
          "data": {
            "text/plain": [
              "<Figure size 432x288 with 0 Axes>"
            ]
          },
          "metadata": {
            "tags": []
          }
        },
        {
          "output_type": "display_data",
          "data": {
            "image/png": "[encoded data removed]",
            "text/plain": [
              "<Figure size 288x72 with 1 Axes>"
            ]
          },
          "metadata": {
            "tags": [],
            "needs_background": "light"
          }
        },
        {
          "output_type": "display_data",
          "data": {
            "text/plain": [
              "<Figure size 432x288 with 0 Axes>"
            ]
          },
          "metadata": {
            "tags": []
          }
        },
        {
          "output_type": "display_data",
          "data": {
            "image/png": "[encoded data removed]",
            "text/plain": [
              "<Figure size 288x72 with 1 Axes>"
            ]
          },
          "metadata": {
            "tags": [],
            "needs_background": "light"
          }
        },
        {
          "output_type": "display_data",
          "data": {
            "text/plain": [
              "<Figure size 432x288 with 0 Axes>"
            ]
          },
          "metadata": {
            "tags": []
          }
        },
        {
          "output_type": "display_data",
          "data": {
            "image/png": "[encoded data removed]",
            "text/plain": [
              "<Figure size 288x72 with 1 Axes>"
            ]
          },
          "metadata": {
            "tags": [],
            "needs_background": "light"
          }
        }
      ]
    },
    {
      "cell_type": "code",
      "metadata": {
        "id": "OHf93XFT3fE6"
      },
      "source": [
        ""
      ],
      "execution_count": null,
      "outputs": []
    }
  ]
}