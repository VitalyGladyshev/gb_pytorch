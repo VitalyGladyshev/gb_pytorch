{
  "nbformat": 4,
  "nbformat_minor": 0,
  "metadata": {
    "colab": {
      "name": "HW_03_Pytorch.ipynb",
      "provenance": [],
      "collapsed_sections": [],
      "authorship_tag": "ABX9TyOPsasEXFCaFRKg2l7+hcbS",
      "include_colab_link": true
    },
    "kernelspec": {
      "name": "python3",
      "display_name": "Python 3"
    },
    "accelerator": "GPU"
  },
  "cells": [
    {
      "cell_type": "markdown",
      "metadata": {
        "id": "view-in-github",
        "colab_type": "text"
      },
      "source": [
        "<a href=\"https://colab.research.google.com/github/VitalyGladyshev/gb_pytorch/blob/main/HW_03_Pytorch.ipynb\" target=\"_parent\"><img src=\"https://colab.research.google.com/assets/colab-badge.svg\" alt=\"Open In Colab\"/></a>"
      ]
    },
    {
      "cell_type": "markdown",
      "metadata": {
        "id": "Pl55iWftXLFX"
      },
      "source": [
        "#ДЗ 3 Pytorch"
      ]
    },
    {
      "cell_type": "markdown",
      "metadata": {
        "id": "Axe4Nq6BX3Uu"
      },
      "source": [
        "## Задание 1"
      ]
    },
    {
      "cell_type": "markdown",
      "metadata": {
        "id": "G3P8Y4XHXYW-"
      },
      "source": [
        "Как было сказано ранее, GAN обучается воспроизводить реальные данные. Поэтому Вам предлагается обучить генератор создавать точки, которые будут лежать на графике функции $y = \\frac{sin(x)}{x} - \\frac{x}{10}$. При выполненинии данного задания структура GAN остается той же, но Вам нужно:\n",
        " * Сгенерировать настоящие данные\n",
        " * Изменить архитектуру дискриминатора и генератора\n",
        " * Наличие графиков обязательно"
      ]
    },
    {
      "cell_type": "code",
      "metadata": {
        "id": "Ss-04QeTW_BN"
      },
      "source": [
        "import os\n",
        "import numpy as np\n",
        "import math\n",
        "\n",
        "from torch.utils.data import DataLoader, Dataset\n",
        "import torchvision.transforms as transforms\n",
        "from torchvision import datasets\n",
        "from torch.autograd import Variable\n",
        "\n",
        "import torch.nn as nn\n",
        "import torch\n",
        "\n",
        "import matplotlib.pyplot as plt\n",
        "from IPython import display\n",
        "from torchvision.utils import save_image, make_grid"
      ],
      "execution_count": 1,
      "outputs": []
    },
    {
      "cell_type": "code",
      "metadata": {
        "id": "_KiNDZzxb9vQ"
      },
      "source": [
        "x = np.linspace(-15, 15, 1001)"
      ],
      "execution_count": 2,
      "outputs": []
    },
    {
      "cell_type": "code",
      "metadata": {
        "colab": {
          "base_uri": "https://localhost:8080/"
        },
        "id": "V25jo8GTcodX",
        "outputId": "91f5801d-60a7-4872-83b9-303eb85616d3"
      },
      "source": [
        "if 0 in x:\n",
        "    print(\"Есть 0\")"
      ],
      "execution_count": 3,
      "outputs": [
        {
          "output_type": "stream",
          "text": [
            "Есть 0\n"
          ],
          "name": "stdout"
        }
      ]
    },
    {
      "cell_type": "code",
      "metadata": {
        "id": "dKVa0-VAbgf3"
      },
      "source": [
        "def func_y(x):    \n",
        "    if 0 in x:\n",
        "        x[x == 0] = 0.00001\n",
        "    return np.sin(x)/x - x/10 "
      ],
      "execution_count": 4,
      "outputs": []
    },
    {
      "cell_type": "code",
      "metadata": {
        "id": "RaqePwmSdIjn"
      },
      "source": [
        "y = func_y(x)"
      ],
      "execution_count": 5,
      "outputs": []
    },
    {
      "cell_type": "code",
      "metadata": {
        "colab": {
          "base_uri": "https://localhost:8080/",
          "height": 281
        },
        "id": "7n0yeb8DdwRf",
        "outputId": "7c543199-1f1f-4fc8-e2fd-4e57206d7db7"
      },
      "source": [
        "plt.plot(y, 'r')\n",
        "\n",
        "plt.grid(color=\"lightgrey\")\n",
        "plt.title('Исходная последовательность' )\n",
        "plt.show()"
      ],
      "execution_count": 6,
      "outputs": [
        {
          "output_type": "display_data",
          "data": {
            "image/png": "[encoded data removed]",
            "text/plain": [
              "<Figure size 432x288 with 1 Axes>"
            ]
          },
          "metadata": {
            "tags": [],
            "needs_background": "light"
          }
        }
      ]
    },
    {
      "cell_type": "code",
      "metadata": {
        "id": "DuKkdmUJqums"
      },
      "source": [
        "class Inc_Dataset(Dataset):\n",
        "    def __init__(self, b_border, u_border, point_number):\n",
        "        x = np.linspace(b_border, u_border, point_number)\n",
        "        if 0 in x:\n",
        "            x[x == 0] = 0.00001\n",
        "        self.data = x\n",
        "        self.labels = np.sin(x)/x - x/10\n",
        "\n",
        "\n",
        "    def __len__(self):\n",
        "        return len(self.data) \n",
        "    \n",
        "    \n",
        "    def __getitem__(self, idx):\n",
        "        item = self.data[idx]\n",
        "        label = self.labels[idx]\n",
        "        return (item, label)"
      ],
      "execution_count": 7,
      "outputs": []
    },
    {
      "cell_type": "code",
      "metadata": {
        "id": "ZwiP_XTRwjj_"
      },
      "source": [
        "dataset = Inc_Dataset(-15, 15, 1001)"
      ],
      "execution_count": 8,
      "outputs": []
    },
    {
      "cell_type": "code",
      "metadata": {
        "id": "hwk7Csnwwrf0"
      },
      "source": [
        "split_train_part = 0.75\n",
        "batch_size = 16\n",
        "\n",
        "real_data_dataset, test_dataset = torch.utils.data.random_split(dataset, \n",
        "                                                            [int(split_train_part*dataset.data.shape[0]), \n",
        "                                                             dataset.data.shape[0] - int(split_train_part*dataset.data.shape[0])])\n",
        "real_data_loader = DataLoader(real_data_dataset, batch_size = batch_size, shuffle=True)\n",
        "test_loader = DataLoader(test_dataset, batch_size = 1, shuffle=False)"
      ],
      "execution_count": 9,
      "outputs": []
    },
    {
      "cell_type": "code",
      "metadata": {
        "colab": {
          "base_uri": "https://localhost:8080/"
        },
        "id": "iAhgmt-egGaL",
        "outputId": "3f0c06ba-3c6e-4a43-a181-fedc6db22c84"
      },
      "source": [
        "device = torch.device('cuda') if torch.cuda.is_available() else torch.device('cpu')\n",
        "print(device)"
      ],
      "execution_count": 10,
      "outputs": [
        {
          "output_type": "stream",
          "text": [
            "cuda\n"
          ],
          "name": "stdout"
        }
      ]
    },
    {
      "cell_type": "markdown",
      "metadata": {
        "id": "uGFtHqdOiLGp"
      },
      "source": [
        "### Генератор"
      ]
    },
    {
      "cell_type": "code",
      "metadata": {
        "id": "QNeV7YSkgiwJ"
      },
      "source": [
        "class Generator(nn.Module):\n",
        "    def __init__(self):\n",
        "        super().__init__()\n",
        "        self.fc1 = nn.Linear(1, 16)\n",
        "        self.fc2 = nn.Linear(16, 16)\n",
        "        self.fc3 = nn.Linear(16, 1)\n",
        "        # self.sigm = nn.Sigmoid()\n",
        "        self.relu = nn.ReLU()\n",
        "        self.tanh = nn.Tanh()\n",
        "        # self.sph = nn.Softplus()\n",
        "\n",
        "    def forward(self, x):\n",
        "        # print(\"X размеры in: %s\\n\" % (x.shape,))\n",
        "        x = self.tanh(self.fc1(x))\n",
        "        # print(\"X размеры in: %s\\n\" % (x.shape,))\n",
        "        x = self.tanh(self.fc2(x))\n",
        "        x = self.fc3(x)\n",
        "        # print(\"X размеры in: %s\\n\" % (x.shape,))\n",
        "        return x"
      ],
      "execution_count": 204,
      "outputs": []
    },
    {
      "cell_type": "markdown",
      "metadata": {
        "id": "wxT6TnO_mory"
      },
      "source": [
        "### Дискриминатор "
      ]
    },
    {
      "cell_type": "code",
      "metadata": {
        "id": "NZHsh_DSmlY0"
      },
      "source": [
        "class Discriminator(nn.Module):\n",
        "    def __init__(self):\n",
        "        super().__init__()\n",
        "        self.fc1 = nn.Linear(1, 64)\n",
        "        self.fc2 = nn.Linear(64, 64)\n",
        "        self.fc3 = nn.Linear(64, 1)\n",
        "        self.sigm = nn.Sigmoid()\n",
        "        self.tanh = nn.Tanh()\n",
        "        self.relu = nn.ReLU()\n",
        "        # self.sfm = nn.Softmax()\n",
        "\n",
        "    def forward(self, x):\n",
        "        # print(\"X размеры d in: %s\\n\" % (x.shape,))\n",
        "        x = self.relu(self.fc1(x))\n",
        "        # print(\"X размеры fc1 sigm in: %s\\n\" % (x.shape,))\n",
        "        x = self.relu(self.fc2(x))\n",
        "        x = self.sigm(self.fc3(x))\n",
        "        return x"
      ],
      "execution_count": 205,
      "outputs": []
    },
    {
      "cell_type": "markdown",
      "metadata": {
        "id": "gATWYVHMzJbG"
      },
      "source": [
        "### Инициализация"
      ]
    },
    {
      "cell_type": "code",
      "metadata": {
        "id": "UaMb3gMCzP4X"
      },
      "source": [
        "n_epochs = 1500\n",
        "lr = 0.0005\n",
        "\n",
        "b1 = 0.5\n",
        "b2 = 0.999\n",
        "\n",
        "sample_interval = 50"
      ],
      "execution_count": 206,
      "outputs": []
    },
    {
      "cell_type": "code",
      "metadata": {
        "id": "0jEyb2BJp6wd"
      },
      "source": [
        "generator = Generator().to(device)\n",
        "discriminator = Discriminator().to(device)\n",
        "\n",
        "optimizer_G = torch.optim.SGD(generator.parameters(), lr=lr, momentum=0.9)   # torch.optim.Adam(generator.parameters(), lr=lr)   # , betas=(b1, b2))   \n",
        "optimizer_D = torch.optim.SGD(discriminator.parameters(), lr=lr, momentum=0.9)   # torch.optim.Adam(discriminator.parameters(), lr=lr)   # , betas=(b1, b2))   \n",
        "\n",
        "adversarial_loss = torch.nn.BCELoss()   # nn.CrossEntropyLoss() "
      ],
      "execution_count": 207,
      "outputs": []
    },
    {
      "cell_type": "code",
      "metadata": {
        "id": "tSIpKvSVzD83"
      },
      "source": [
        "d_loss_history = []\n",
        "g_loss_history = []"
      ],
      "execution_count": 208,
      "outputs": []
    },
    {
      "cell_type": "code",
      "metadata": {
        "colab": {
          "base_uri": "https://localhost:8080/"
        },
        "id": "CtEarnauSK_e",
        "outputId": "21152aa1-2208-4156-fa71-9853629883d0"
      },
      "source": [
        "idx = torch.randperm(16)\n",
        "idx"
      ],
      "execution_count": 209,
      "outputs": [
        {
          "output_type": "execute_result",
          "data": {
            "text/plain": [
              "tensor([14, 13,  7,  4, 12,  9,  8,  3,  2,  5,  1, 15,  0,  6, 11, 10])"
            ]
          },
          "metadata": {
            "tags": []
          },
          "execution_count": 209
        }
      ]
    },
    {
      "cell_type": "code",
      "metadata": {
        "id": "NugQRnFAz-OO",
        "colab": {
          "base_uri": "https://localhost:8080/"
        },
        "outputId": "dd5d8131-903f-44ef-e776-6b096ed57e2d"
      },
      "source": [
        "for epoch in range(1):\n",
        "    for i, (number, labels) in enumerate(real_data_loader):\n",
        "\n",
        "##################### Лейблы для данных: 1 - настоящие, 0 - сгенерированные ########\n",
        "\n",
        "        valid = Variable(torch.FloatTensor(batch_size, 1).fill_(1.0), requires_grad=False).to(device)\n",
        "        fake = Variable(torch.FloatTensor(batch_size, 1).fill_(0.0), requires_grad=False).to(device)\n",
        "\n",
        "        real_number = Variable(number.type(torch.FloatTensor)).to(device)\n",
        "\n",
        "        #генерация шума\n",
        "        idx = torch.randperm(batch_size)\n",
        "        z = Variable(number[idx].type(torch.FloatTensor)).to(device)\n",
        "\n",
        "        print(f\"real_number: {real_number}\")\n",
        "        # print(f\"{z.shape}\")\n",
        "        print(f\"z: {z.view(16, 1)}\")\n",
        "        print(f\"{z.view(16, 1).shape}\")\n",
        "        # print(f\"z: {z}\")\n",
        "        # print(f\"real_number + z: {real_number + z}\")\n",
        "        print(f\"valid.shape: {valid.shape}\")\n",
        "        print(f\"fake.shape: {fake.shape}\")\n",
        "\n",
        "        break\n",
        "    break"
      ],
      "execution_count": 210,
      "outputs": [
        {
          "output_type": "stream",
          "text": [
            "real_number: tensor([ -5.7000,  -4.6200, -12.9000,   0.7800,  -2.2200,  -6.6000,   6.8700,\n",
            "         13.5900,  12.9300, -13.5300,  -6.9300,  14.5800,  12.3900,  -6.9900,\n",
            "          0.3600,   6.9300], device='cuda:0')\n",
            "z: tensor([[ 12.3900],\n",
            "        [-12.9000],\n",
            "        [ -4.6200],\n",
            "        [ 12.9300],\n",
            "        [  6.8700],\n",
            "        [ -2.2200],\n",
            "        [  0.7800],\n",
            "        [  6.9300],\n",
            "        [ 13.5900],\n",
            "        [ -5.7000],\n",
            "        [-13.5300],\n",
            "        [  0.3600],\n",
            "        [ -6.9300],\n",
            "        [ -6.6000],\n",
            "        [ -6.9900],\n",
            "        [ 14.5800]], device='cuda:0')\n",
            "torch.Size([16, 1])\n",
            "valid.shape: torch.Size([16, 1])\n",
            "fake.shape: torch.Size([16, 1])\n"
          ],
          "name": "stdout"
        }
      ]
    },
    {
      "cell_type": "code",
      "metadata": {
        "id": "vDUnGID-z-Rg",
        "colab": {
          "base_uri": "https://localhost:8080/",
          "height": 282
        },
        "outputId": "3871941d-db17-483e-b9f9-884d79d36b00"
      },
      "source": [
        "import matplotlib.patches as mpatches\n",
        "\n",
        "red_patch = mpatches.Patch(color='red', label='D loss')\n",
        "green_patch = mpatches.Patch(color='green', label='G loss')\n",
        "\n",
        "for epoch in range(n_epochs):\n",
        "    for i, (number, labels) in enumerate(real_data_loader):\n",
        "\n",
        "##################### Лейблы для данных: 1 - настоящие, 0 - сгенерированные ########\n",
        "\n",
        "        valid = Variable(torch.FloatTensor(len(number), 1).fill_(1.0), requires_grad=False).to(device)\n",
        "        fake = Variable(torch.FloatTensor(len(labels), 1).fill_(0.0), requires_grad=False).to(device)\n",
        "\n",
        "        real_numbers = Variable(number.type(torch.FloatTensor)).to(device)\n",
        "\n",
        "######################  Тренировка генератора    ##########################\n",
        "\n",
        "        optimizer_G.zero_grad()\n",
        "    \n",
        "        #генерация шума\n",
        "        idx = torch.randperm(len(number))\n",
        "        z = Variable(number[idx].type(torch.FloatTensor)).to(device)\n",
        "\n",
        "        gen_numbers = generator(z.view(len(z), 1))\n",
        "\n",
        "        validity = discriminator(gen_numbers)\n",
        "        g_loss = adversarial_loss(validity, valid)\n",
        "        \n",
        "        g_loss.backward()\n",
        "        optimizer_G.step()\n",
        "\n",
        "######################  Тренировка дискриминатора    ##########################\n",
        "\n",
        "        optimizer_D.zero_grad()\n",
        "\n",
        "        real_pred = discriminator(labels.view(len(labels), 1).type(torch.FloatTensor).to(device))\n",
        "        d_real_loss = adversarial_loss(real_pred, valid)\n",
        "\n",
        "        fake_pred = discriminator(gen_numbers.detach())\n",
        "        d_fake_loss = adversarial_loss(fake_pred, fake)\n",
        "\n",
        "        d_loss = (d_real_loss + d_fake_loss) / 2\n",
        "\n",
        "        d_loss.backward()\n",
        "        optimizer_D.step()\n",
        "        \n",
        "######## Отображение процесса обучения и вывод функций потерь ############\n",
        "\n",
        "        batches_done = epoch * len(real_data_loader) + i\n",
        "    \n",
        "        if batches_done % sample_interval == 0:\n",
        "            plt.clf()\n",
        "            \n",
        "            display.clear_output(wait=False)\n",
        "            # sample_image(gen_imgs)\n",
        "            print(\"[Epoch %d/%d] [Batch %d/%d] [D loss: %f] [G loss: %f]\"% (epoch, n_epochs, i, len(real_data_loader), d_loss.item(), g_loss.item()) ) \n",
        "            \n",
        "            # display.display(plt.gcf())\n",
        "\n",
        "            d_loss_history.append(d_loss)\n",
        "            g_loss_history.append(g_loss)\n",
        "\n",
        "            plt.plot(np.log(np.array(d_loss_history)), label='D loss', color = 'red')\n",
        "            plt.plot(np.log(np.array(g_loss_history)), label='G loss', color = 'green')\n",
        "            plt.legend(handles=[red_patch, green_patch])\n",
        "            plt.show()"
      ],
      "execution_count": 211,
      "outputs": [
        {
          "output_type": "stream",
          "text": [
            "[Epoch 1498/1500] [Batch 44/47] [D loss: 0.683681] [G loss: 0.713612]\n"
          ],
          "name": "stdout"
        },
        {
          "output_type": "display_data",
          "data": {
            "image/png": "[encoded data removed]",
            "text/plain": [
              "<Figure size 432x288 with 1 Axes>"
            ]
          },
          "metadata": {
            "tags": [],
            "needs_background": "light"
          }
        }
      ]
    },
    {
      "cell_type": "code",
      "metadata": {
        "id": "7kIzTWD60LG-"
      },
      "source": [
        "torch.save(generator.state_dict(), \"series_gan.pth\")"
      ],
      "execution_count": 212,
      "outputs": []
    },
    {
      "cell_type": "code",
      "metadata": {
        "colab": {
          "base_uri": "https://localhost:8080/"
        },
        "id": "xPOaX2vLiUL2",
        "outputId": "1239c8a2-25d0-41de-d2bf-10b7fc4239c7"
      },
      "source": [
        "generator_r = Generator().to(device)\n",
        "generator_r.load_state_dict(torch.load(\"series_gan.pth\"))"
      ],
      "execution_count": 213,
      "outputs": [
        {
          "output_type": "execute_result",
          "data": {
            "text/plain": [
              "<All keys matched successfully>"
            ]
          },
          "metadata": {
            "tags": []
          },
          "execution_count": 213
        }
      ]
    },
    {
      "cell_type": "code",
      "metadata": {
        "colab": {
          "base_uri": "https://localhost:8080/",
          "height": 35
        },
        "id": "KUeTMNmzkT3T",
        "outputId": "a109741e-c57d-4bd1-e43d-f1f46d0c9ebc"
      },
      "source": [
        "x =  np.linspace(-15, 15, 50)\n",
        "xt = torch.from_numpy(x).type(torch.FloatTensor).to(device)\n",
        "xt.type()"
      ],
      "execution_count": 214,
      "outputs": [
        {
          "output_type": "execute_result",
          "data": {
            "application/vnd.google.colaboratory.intrinsic+json": {
              "type": "string"
            },
            "text/plain": [
              "'torch.cuda.FloatTensor'"
            ]
          },
          "metadata": {
            "tags": []
          },
          "execution_count": 214
        }
      ]
    },
    {
      "cell_type": "code",
      "metadata": {
        "id": "oj-bjjkglrXw"
      },
      "source": [
        "gen_numbers = generator(xt.view(len(x), 1))"
      ],
      "execution_count": 215,
      "outputs": []
    },
    {
      "cell_type": "code",
      "metadata": {
        "colab": {
          "base_uri": "https://localhost:8080/",
          "height": 281
        },
        "id": "bGBIthxKl7tV",
        "outputId": "62d8a176-54d1-4bd1-acc5-6ea3e8ffacab"
      },
      "source": [
        "plt.plot(x, gen_numbers.detach().cpu().numpy(), 'ro-')\n",
        "plt.plot(x, func_y(x), 'bo-')\n",
        "\n",
        "plt.grid(color=\"lightgrey\")\n",
        "plt.title('Предсказанная последовательность' )\n",
        "plt.show()"
      ],
      "execution_count": 216,
      "outputs": [
        {
          "output_type": "display_data",
          "data": {
            "image/png": "[encoded data removed]",
            "text/plain": [
              "<Figure size 432x288 with 1 Axes>"
            ]
          },
          "metadata": {
            "tags": [],
            "needs_background": "light"
          }
        }
      ]
    },
    {
      "cell_type": "markdown",
      "metadata": {
        "id": "yGEvUIFuX7xu"
      },
      "source": [
        "## Задание 2"
      ]
    },
    {
      "cell_type": "markdown",
      "metadata": {
        "id": "y4tUUtVNYSjn"
      },
      "source": [
        "Изменить используемые модели генератора и дискриминатора, с помощью сверточных слоев. Идея: https://arxiv.org/abs/1511.06434 Датасет можно использовать так же MNIST."
      ]
    },
    {
      "cell_type": "code",
      "metadata": {
        "id": "NodN-sSfXOuN"
      },
      "source": [
        ""
      ],
      "execution_count": null,
      "outputs": []
    }
  ]
}