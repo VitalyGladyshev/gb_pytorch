{
  "nbformat": 4,
  "nbformat_minor": 0,
  "metadata": {
    "colab": {
      "name": "HW_03_Pytorch.ipynb",
      "provenance": [],
      "collapsed_sections": [],
      "authorship_tag": "ABX9TyPedXsUUqBNrYOhbQ2p0oma",
      "include_colab_link": true
    },
    "kernelspec": {
      "name": "python3",
      "display_name": "Python 3"
    }
  },
  "cells": [
    {
      "cell_type": "markdown",
      "metadata": {
        "id": "view-in-github",
        "colab_type": "text"
      },
      "source": [
        "<a href=\"https://colab.research.google.com/github/VitalyGladyshev/gb_pytorch/blob/main/HW_03_Pytorch.ipynb\" target=\"_parent\"><img src=\"https://colab.research.google.com/assets/colab-badge.svg\" alt=\"Open In Colab\"/></a>"
      ]
    },
    {
      "cell_type": "markdown",
      "metadata": {
        "id": "Pl55iWftXLFX"
      },
      "source": [
        "#ДЗ 3 Pytorch"
      ]
    },
    {
      "cell_type": "markdown",
      "metadata": {
        "id": "Axe4Nq6BX3Uu"
      },
      "source": [
        "## Задание 1"
      ]
    },
    {
      "cell_type": "markdown",
      "metadata": {
        "id": "G3P8Y4XHXYW-"
      },
      "source": [
        "Как было сказано ранее, GAN обучается воспроизводить реальные данные. Поэтому Вам предлагается обучить генератор создавать точки, которые будут лежать на графике функции $y = \\frac{sin(x)}{x} - \\frac{x}{10}$. При выполненинии данного задания структура GAN остается той же, но Вам нужно:\n",
        " * Сгенерировать настоящие данные\n",
        " * Изменить архитектуру дискриминатора и генератора\n",
        " * Наличие графиков обязательно"
      ]
    },
    {
      "cell_type": "code",
      "metadata": {
        "id": "Ss-04QeTW_BN"
      },
      "source": [
        "import os\n",
        "import numpy as np\n",
        "import math\n",
        "\n",
        "from torch.utils.data import DataLoader, Dataset\n",
        "import torchvision.transforms as transforms\n",
        "from torchvision import datasets\n",
        "from torch.autograd import Variable\n",
        "\n",
        "import torch.nn as nn\n",
        "import torch\n",
        "\n",
        "import matplotlib.pyplot as plt\n",
        "from IPython import display\n",
        "from torchvision.utils import save_image, make_grid"
      ],
      "execution_count": 1,
      "outputs": []
    },
    {
      "cell_type": "code",
      "metadata": {
        "id": "_KiNDZzxb9vQ"
      },
      "source": [
        "x = np.linspace(-15, 15, 1001)"
      ],
      "execution_count": 2,
      "outputs": []
    },
    {
      "cell_type": "code",
      "metadata": {
        "colab": {
          "base_uri": "https://localhost:8080/"
        },
        "id": "V25jo8GTcodX",
        "outputId": "7f26c234-2255-4148-a105-84a3248fb691"
      },
      "source": [
        "if 0 in x:\n",
        "    print(\"Есть 0\")"
      ],
      "execution_count": 3,
      "outputs": [
        {
          "output_type": "stream",
          "text": [
            "Есть 0\n"
          ],
          "name": "stdout"
        }
      ]
    },
    {
      "cell_type": "code",
      "metadata": {
        "id": "dKVa0-VAbgf3"
      },
      "source": [
        "def func_y(x):    \n",
        "    if 0 in x:\n",
        "        x[x == 0] = 0.00001\n",
        "    return np.sin(x)/x - x/10 "
      ],
      "execution_count": 4,
      "outputs": []
    },
    {
      "cell_type": "code",
      "metadata": {
        "id": "RaqePwmSdIjn"
      },
      "source": [
        "y = func_y(x)"
      ],
      "execution_count": 5,
      "outputs": []
    },
    {
      "cell_type": "code",
      "metadata": {
        "colab": {
          "base_uri": "https://localhost:8080/",
          "height": 281
        },
        "id": "7n0yeb8DdwRf",
        "outputId": "14e28da6-9cc7-444e-f111-eeafec3ee7b6"
      },
      "source": [
        "plt.plot(y, 'r')\n",
        "\n",
        "plt.grid(color=\"lightgrey\")\n",
        "plt.title('Исходная последовательность' )\n",
        "plt.show()"
      ],
      "execution_count": 6,
      "outputs": [
        {
          "output_type": "display_data",
          "data": {
            "image/png": "[encoded data removed]",
            "text/plain": [
              "<Figure size 432x288 with 1 Axes>"
            ]
          },
          "metadata": {
            "tags": [],
            "needs_background": "light"
          }
        }
      ]
    },
    {
      "cell_type": "code",
      "metadata": {
        "id": "DuKkdmUJqums"
      },
      "source": [
        "class Inc_Dataset(Dataset):\n",
        "    def __init__(self, b_border, u_border, point_number):\n",
        "        x = np.linspace(b_border, u_border, point_number)\n",
        "        if 0 in x:\n",
        "            x[x == 0] = 0.00001\n",
        "        self.data = x\n",
        "        self.labels = np.sin(x)/x - x/10\n",
        "\n",
        "\n",
        "    def __len__(self):\n",
        "        return len(self.data) \n",
        "    \n",
        "    \n",
        "    def __getitem__(self, idx):\n",
        "        item = self.data[idx]\n",
        "        label = self.labels[idx]\n",
        "        return (item, label)"
      ],
      "execution_count": 114,
      "outputs": []
    },
    {
      "cell_type": "code",
      "metadata": {
        "id": "ZwiP_XTRwjj_"
      },
      "source": [
        "dataset = Inc_Dataset(-15, 15, 1001)"
      ],
      "execution_count": 115,
      "outputs": []
    },
    {
      "cell_type": "code",
      "metadata": {
        "id": "hwk7Csnwwrf0"
      },
      "source": [
        "split_train_part = 0.75\n",
        "batch_size = 16\n",
        "\n",
        "real_data_dataset, test_dataset = torch.utils.data.random_split(dataset, \n",
        "                                                            [int(split_train_part*dataset.data.shape[0]), \n",
        "                                                             dataset.data.shape[0] - int(split_train_part*dataset.data.shape[0])])\n",
        "real_data_loader = DataLoader(real_data_dataset, batch_size = batch_size, shuffle=True)\n",
        "test_loader = DataLoader(test_dataset, batch_size = 1, shuffle=False)"
      ],
      "execution_count": 116,
      "outputs": []
    },
    {
      "cell_type": "code",
      "metadata": {
        "colab": {
          "base_uri": "https://localhost:8080/"
        },
        "id": "iAhgmt-egGaL",
        "outputId": "62989929-c2d1-48b6-b334-6d8d09cf576f"
      },
      "source": [
        "device = torch.device('cuda') if torch.cuda.is_available() else torch.device('cpu')\n",
        "print(device)"
      ],
      "execution_count": 117,
      "outputs": [
        {
          "output_type": "stream",
          "text": [
            "cpu\n"
          ],
          "name": "stdout"
        }
      ]
    },
    {
      "cell_type": "markdown",
      "metadata": {
        "id": "uGFtHqdOiLGp"
      },
      "source": [
        "### Генератор"
      ]
    },
    {
      "cell_type": "code",
      "metadata": {
        "id": "QNeV7YSkgiwJ"
      },
      "source": [
        "class Generator(nn.Module):\n",
        "    def __init__(self):\n",
        "        super().__init__()\n",
        "        self.fc1 = nn.Linear(1, 32)\n",
        "        self.fc2 = nn.Linear(32, 32)\n",
        "        self.fc4 = nn.Linear(32, 1)\n",
        "        # self.sigm = nn.Sigmoid()\n",
        "        self.relu = nn.ReLU()\n",
        "        self.tanh = nn.Tanh()\n",
        "        # self.sph = nn.Softplus()\n",
        "\n",
        "    def forward(self, x):\n",
        "        # print(\"X размеры in: %s\\n\" % (x.shape,))\n",
        "        x = self.tanh(self.fc1(x))\n",
        "        # print(\"X размеры in: %s\\n\" % (x.shape,))\n",
        "        x = self.tanh(self.fc2(x))\n",
        "        # x = self.tanh(self.fc3(x))\n",
        "        x = self.fc4(x)\n",
        "        # print(\"X размеры in: %s\\n\" % (x.shape,))\n",
        "        return x"
      ],
      "execution_count": 125,
      "outputs": []
    },
    {
      "cell_type": "markdown",
      "metadata": {
        "id": "wxT6TnO_mory"
      },
      "source": [
        "### Дискриминатор "
      ]
    },
    {
      "cell_type": "code",
      "metadata": {
        "id": "NZHsh_DSmlY0"
      },
      "source": [
        "class Discriminator(nn.Module):\n",
        "    def __init__(self):\n",
        "        super().__init__()\n",
        "        self.fc1 = nn.Linear(1, 128)\n",
        "        self.fc2 = nn.Linear(128, 128)\n",
        "        # self.fc3 = nn.Linear(128, 128)\n",
        "        self.fc4 = nn.Linear(128, 1)\n",
        "        self.sigm = nn.Sigmoid()\n",
        "        self.tanh = nn.Tanh()\n",
        "        self.relu = nn.ReLU()\n",
        "        # self.sfm = nn.Softmax()\n",
        "\n",
        "    def forward(self, x):\n",
        "        # print(\"X размеры d in: %s\\n\" % (x.shape,))\n",
        "        x = self.relu(self.fc1(x))\n",
        "        # print(\"X размеры fc1 sigm in: %s\\n\" % (x.shape,))\n",
        "        x = self.relu(self.fc2(x))\n",
        "        # x = self.relu(self.fc3(x))\n",
        "        x = self.sigm(self.fc4(x))\n",
        "        return x"
      ],
      "execution_count": 126,
      "outputs": []
    },
    {
      "cell_type": "markdown",
      "metadata": {
        "id": "gATWYVHMzJbG"
      },
      "source": [
        "### Инициализация"
      ]
    },
    {
      "cell_type": "code",
      "metadata": {
        "id": "UaMb3gMCzP4X"
      },
      "source": [
        "n_epochs = 1500\n",
        "lr = 0.0001   # 0.0005\n",
        "\n",
        "b1 = 0.5\n",
        "b2 = 0.999\n",
        "\n",
        "sample_interval = 50"
      ],
      "execution_count": 127,
      "outputs": []
    },
    {
      "cell_type": "code",
      "metadata": {
        "id": "0jEyb2BJp6wd"
      },
      "source": [
        "generator = Generator().to(device)\n",
        "discriminator = Discriminator().to(device)\n",
        "\n",
        "optimizer_G = torch.optim.Adam(generator.parameters(), lr=lr, betas=(b1, b2))   # torch.optim.SGD(generator.parameters(), lr=lr, momentum=0.9)   # \n",
        "optimizer_D = torch.optim.Adam(discriminator.parameters(), lr=lr, betas=(b1, b2))   # torch.optim.SGD(discriminator.parameters(), lr=lr, momentum=0.9)   # \n",
        "\n",
        "adversarial_loss = torch.nn.BCELoss()   # nn.CrossEntropyLoss() "
      ],
      "execution_count": 128,
      "outputs": []
    },
    {
      "cell_type": "code",
      "metadata": {
        "id": "tSIpKvSVzD83"
      },
      "source": [
        "d_loss_history = []\n",
        "g_loss_history = []"
      ],
      "execution_count": 129,
      "outputs": []
    },
    {
      "cell_type": "code",
      "metadata": {
        "colab": {
          "base_uri": "https://localhost:8080/"
        },
        "id": "CtEarnauSK_e",
        "outputId": "26e1a9a2-a0f3-466a-b9bb-ad46879e3a1f"
      },
      "source": [
        "idx = torch.randperm(16)\n",
        "idx"
      ],
      "execution_count": 130,
      "outputs": [
        {
          "output_type": "execute_result",
          "data": {
            "text/plain": [
              "tensor([ 4,  7, 13, 15,  6, 14,  8, 12,  3, 10,  2,  9,  1,  5, 11,  0])"
            ]
          },
          "metadata": {
            "tags": []
          },
          "execution_count": 130
        }
      ]
    },
    {
      "cell_type": "code",
      "metadata": {
        "id": "NugQRnFAz-OO",
        "colab": {
          "base_uri": "https://localhost:8080/"
        },
        "outputId": "aac4c17d-e6d5-4653-b501-7d81a6b33682"
      },
      "source": [
        "for epoch in range(1):\n",
        "    for i, (number, labels) in enumerate(real_data_loader):\n",
        "\n",
        "##################### Лейблы для данных: 1 - настоящие, 0 - сгенерированные ########\n",
        "\n",
        "        valid = Variable(torch.FloatTensor(batch_size, 1).fill_(1.0), requires_grad=False).to(device)\n",
        "        fake = Variable(torch.FloatTensor(batch_size, 1).fill_(0.0), requires_grad=False).to(device)\n",
        "\n",
        "        real_number = Variable(number.type(torch.FloatTensor)).to(device)\n",
        "\n",
        "        #генерация шума\n",
        "        idx = torch.randperm(batch_size)\n",
        "        z = Variable(number[idx].type(torch.FloatTensor)).to(device)\n",
        "\n",
        "        print(f\"real_number: {real_number}\")\n",
        "        # print(f\"{z.shape}\")\n",
        "        print(f\"z: {z.view(16, 1)}\")\n",
        "        print(f\"{z.view(16, 1).shape}\")\n",
        "        # print(f\"z: {z}\")\n",
        "        # print(f\"real_number + z: {real_number + z}\")\n",
        "        print(f\"valid.shape: {valid.shape}\")\n",
        "        print(f\"fake.shape: {fake.shape}\")\n",
        "\n",
        "        break\n",
        "    break"
      ],
      "execution_count": 131,
      "outputs": [
        {
          "output_type": "stream",
          "text": [
            "real_number: tensor([  7.4700,  -7.2900, -10.6500,   5.8200,   0.5100,   9.6000,  -6.8400,\n",
            "        -14.4600,   3.4500,  14.7600,  -3.3000,  10.5300,   3.0000, -10.5600,\n",
            "        -10.3500,  -9.4800])\n",
            "z: tensor([[  3.4500],\n",
            "        [  5.8200],\n",
            "        [-14.4600],\n",
            "        [ 10.5300],\n",
            "        [ -6.8400],\n",
            "        [ -7.2900],\n",
            "        [-10.3500],\n",
            "        [  9.6000],\n",
            "        [ -3.3000],\n",
            "        [  7.4700],\n",
            "        [ 14.7600],\n",
            "        [-10.5600],\n",
            "        [  0.5100],\n",
            "        [-10.6500],\n",
            "        [ -9.4800],\n",
            "        [  3.0000]])\n",
            "torch.Size([16, 1])\n",
            "valid.shape: torch.Size([16, 1])\n",
            "fake.shape: torch.Size([16, 1])\n"
          ],
          "name": "stdout"
        }
      ]
    },
    {
      "cell_type": "code",
      "metadata": {
        "id": "vDUnGID-z-Rg",
        "colab": {
          "base_uri": "https://localhost:8080/",
          "height": 282
        },
        "outputId": "f2c2379a-6c80-4ee0-c768-fa4e0b265b3c"
      },
      "source": [
        "import matplotlib.patches as mpatches\n",
        "\n",
        "red_patch = mpatches.Patch(color='red', label='D loss')\n",
        "green_patch = mpatches.Patch(color='green', label='G loss')\n",
        "\n",
        "g_loss_p = 1000\n",
        "ep_loss = 0\n",
        "\n",
        "for epoch in range(n_epochs):\n",
        "    for i, (number, labels) in enumerate(real_data_loader):\n",
        "\n",
        "##################### Лейблы для данных: 1 - настоящие, 0 - сгенерированные ########\n",
        "\n",
        "        valid = Variable(torch.FloatTensor(len(number), 1).fill_(1.0), requires_grad=False).to(device)\n",
        "        fake = Variable(torch.FloatTensor(len(labels), 1).fill_(0.0), requires_grad=False).to(device)\n",
        "\n",
        "        real_numbers = Variable(number.type(torch.FloatTensor)).to(device)\n",
        "\n",
        "######################  Тренировка генератора    ##########################\n",
        "\n",
        "        optimizer_G.zero_grad()\n",
        "    \n",
        "        #генерация шума\n",
        "        idx = torch.randperm(len(number))\n",
        "        z = Variable(number[idx].type(torch.FloatTensor)).to(device)\n",
        "\n",
        "        gen_numbers = generator(z.view(len(z), 1))\n",
        "\n",
        "        validity = discriminator(gen_numbers)\n",
        "        g_loss = adversarial_loss(validity, valid)\n",
        "        \n",
        "        g_loss.backward()\n",
        "        optimizer_G.step()\n",
        "\n",
        "        if g_loss < g_loss_p:\n",
        "            torch.save(generator.state_dict(), \"series_gan_loss_min.pth\")\n",
        "            g_loss_p = g_loss\n",
        "            ep_loss = epoch\n",
        "\n",
        "######################  Тренировка дискриминатора    ##########################\n",
        "\n",
        "        optimizer_D.zero_grad()\n",
        "\n",
        "        real_pred = discriminator(labels.view(len(labels), 1).type(torch.FloatTensor).to(device))\n",
        "        d_real_loss = adversarial_loss(real_pred, valid)\n",
        "\n",
        "        fake_pred = discriminator(gen_numbers.detach())\n",
        "        d_fake_loss = adversarial_loss(fake_pred, fake)\n",
        "\n",
        "        d_loss = (d_real_loss + d_fake_loss) / 2\n",
        "\n",
        "        d_loss.backward()\n",
        "        optimizer_D.step()\n",
        "        \n",
        "######## Отображение процесса обучения и вывод функций потерь ############\n",
        "\n",
        "        batches_done = epoch * len(real_data_loader) + i\n",
        "    \n",
        "        if batches_done % sample_interval == 0:\n",
        "            plt.clf()\n",
        "            \n",
        "            display.clear_output(wait=False)\n",
        "            # sample_image(gen_imgs)\n",
        "            print(\"[Epoch %d/%d] [Batch %d/%d] [D loss: %f] [G loss: %f]\"% (epoch, n_epochs, i, len(real_data_loader), d_loss.item(), g_loss.item()) ) \n",
        "            \n",
        "            # display.display(plt.gcf())\n",
        "\n",
        "            d_loss_history.append(d_loss)\n",
        "            g_loss_history.append(g_loss)\n",
        "\n",
        "            plt.plot(np.log(np.array(d_loss_history)), label='D loss', color = 'red')\n",
        "            plt.plot(np.log(np.array(g_loss_history)), label='G loss', color = 'green')\n",
        "            plt.legend(handles=[red_patch, green_patch])\n",
        "            plt.show()"
      ],
      "execution_count": 132,
      "outputs": [
        {
          "output_type": "stream",
          "text": [
            "[Epoch 1498/1500] [Batch 44/47] [D loss: 0.647136] [G loss: 0.746959]\n"
          ],
          "name": "stdout"
        },
        {
          "output_type": "display_data",
          "data": {
            "image/png": "[encoded data removed]",
            "text/plain": [
              "<Figure size 432x288 with 1 Axes>"
            ]
          },
          "metadata": {
            "tags": [],
            "needs_background": "light"
          }
        }
      ]
    },
    {
      "cell_type": "code",
      "metadata": {
        "id": "7kIzTWD60LG-"
      },
      "source": [
        "torch.save(generator.state_dict(), \"series_gan.pth\")"
      ],
      "execution_count": 133,
      "outputs": []
    },
    {
      "cell_type": "code",
      "metadata": {
        "colab": {
          "base_uri": "https://localhost:8080/"
        },
        "id": "xPOaX2vLiUL2",
        "outputId": "09d61560-f619-4b74-d0ee-c6395fb71ce6"
      },
      "source": [
        "generator_r = Generator().to(device)\n",
        "generator_r.load_state_dict(torch.load(\"series_gan_loss_min.pth\"))"
      ],
      "execution_count": 134,
      "outputs": [
        {
          "output_type": "execute_result",
          "data": {
            "text/plain": [
              "<All keys matched successfully>"
            ]
          },
          "metadata": {
            "tags": []
          },
          "execution_count": 134
        }
      ]
    },
    {
      "cell_type": "code",
      "metadata": {
        "colab": {
          "base_uri": "https://localhost:8080/",
          "height": 35
        },
        "id": "KUeTMNmzkT3T",
        "outputId": "aef75e86-b842-486d-b898-741cd8bbed4d"
      },
      "source": [
        "x =  np.linspace(-15, 15, 50)\n",
        "xt = torch.from_numpy(x).type(torch.FloatTensor).to(device)\n",
        "xt.type()"
      ],
      "execution_count": 135,
      "outputs": [
        {
          "output_type": "execute_result",
          "data": {
            "application/vnd.google.colaboratory.intrinsic+json": {
              "type": "string"
            },
            "text/plain": [
              "'torch.FloatTensor'"
            ]
          },
          "metadata": {
            "tags": []
          },
          "execution_count": 135
        }
      ]
    },
    {
      "cell_type": "code",
      "metadata": {
        "id": "oj-bjjkglrXw"
      },
      "source": [
        "gen_numbers = generator_r(xt.view(len(x), 1))"
      ],
      "execution_count": 136,
      "outputs": []
    },
    {
      "cell_type": "code",
      "metadata": {
        "colab": {
          "base_uri": "https://localhost:8080/",
          "height": 281
        },
        "id": "bGBIthxKl7tV",
        "outputId": "74eaa862-6818-428a-b8b9-f11a44bd3434"
      },
      "source": [
        "plt.plot(x, gen_numbers.detach().cpu().numpy(), 'ro-')\n",
        "plt.plot(x, func_y(x), 'bo-')\n",
        "\n",
        "plt.grid(color=\"lightgrey\")\n",
        "plt.title(f'Сравнение. Эпоха loss min {ep_loss}' )\n",
        "plt.show()"
      ],
      "execution_count": 137,
      "outputs": [
        {
          "output_type": "display_data",
          "data": {
            "image/png": "[encoded data removed]",
            "text/plain": [
              "<Figure size 432x288 with 1 Axes>"
            ]
          },
          "metadata": {
            "tags": [],
            "needs_background": "light"
          }
        }
      ]
    },
    {
      "cell_type": "code",
      "metadata": {
        "colab": {
          "base_uri": "https://localhost:8080/",
          "height": 281
        },
        "id": "Vz_mw9FJdT2J",
        "outputId": "ebab9a07-021f-475d-94c0-a0dce534c5d1"
      },
      "source": [
        "generator_f = Generator().to(device)\n",
        "generator_f.load_state_dict(torch.load(\"series_gan.pth\"))\n",
        "\n",
        "gen_numbers_f = generator_f(xt.view(len(x), 1))\n",
        "\n",
        "plt.plot(x, gen_numbers_f.detach().cpu().numpy(), 'ro-')\n",
        "plt.plot(x, func_y(x), 'bo-')\n",
        "\n",
        "plt.grid(color=\"lightgrey\")\n",
        "plt.title('Сравнение' )\n",
        "plt.show()"
      ],
      "execution_count": 138,
      "outputs": [
        {
          "output_type": "display_data",
          "data": {
            "image/png": "[encoded data removed]",
            "text/plain": [
              "<Figure size 432x288 with 1 Axes>"
            ]
          },
          "metadata": {
            "tags": [],
            "needs_background": "light"
          }
        }
      ]
    },
    {
      "cell_type": "markdown",
      "metadata": {
        "id": "yGEvUIFuX7xu"
      },
      "source": [
        "## Задание 2"
      ]
    },
    {
      "cell_type": "markdown",
      "metadata": {
        "id": "y4tUUtVNYSjn"
      },
      "source": [
        "Изменить используемые модели генератора и дискриминатора, с помощью сверточных слоев. Идея: https://arxiv.org/abs/1511.06434 Датасет можно использовать так же MNIST."
      ]
    },
    {
      "cell_type": "code",
      "metadata": {
        "id": "NodN-sSfXOuN"
      },
      "source": [
        ""
      ],
      "execution_count": null,
      "outputs": []
    }
  ]
}