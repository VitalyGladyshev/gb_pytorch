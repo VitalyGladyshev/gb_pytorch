{
  "nbformat": 4,
  "nbformat_minor": 0,
  "metadata": {
    "colab": {
      "name": "HW_04_Pytorch.ipynb",
      "provenance": [],
      "collapsed_sections": [],
      "authorship_tag": "ABX9TyMgR3gaC2lm3lcYKxFaWfVw",
      "include_colab_link": true
    },
    "kernelspec": {
      "name": "python3",
      "display_name": "Python 3"
    },
    "accelerator": "GPU"
  },
  "cells": [
    {
      "cell_type": "markdown",
      "metadata": {
        "id": "view-in-github",
        "colab_type": "text"
      },
      "source": [
        "<a href=\"https://colab.research.google.com/github/VitalyGladyshev/gb_pytorch/blob/main/HW_04_Pytorch.ipynb\" target=\"_parent\"><img src=\"https://colab.research.google.com/assets/colab-badge.svg\" alt=\"Open In Colab\"/></a>"
      ]
    },
    {
      "cell_type": "markdown",
      "metadata": {
        "id": "4fJ_QYJ6-EnK"
      },
      "source": [
        "#ДЗ 4 Pytorch"
      ]
    },
    {
      "cell_type": "markdown",
      "metadata": {
        "id": "i63dy6pn-JzA"
      },
      "source": [
        "## Задание 1"
      ]
    },
    {
      "cell_type": "markdown",
      "metadata": {
        "id": "nUZPcTfDLpsD"
      },
      "source": [
        "Необходимо доработать обучение нейросети, что мы разбирали на уроке.(Посмотрите чего не хватает в процессе обучения и подготовки данных)"
      ]
    },
    {
      "cell_type": "code",
      "metadata": {
        "colab": {
          "base_uri": "https://localhost:8080/"
        },
        "id": "elUZPPUJ9co8",
        "outputId": "7dd5fc86-70d6-45b2-e2a4-94483b15627b"
      },
      "source": [
        "pip install segmentation_models_pytorch"
      ],
      "execution_count": 1,
      "outputs": [
        {
          "output_type": "stream",
          "text": [
            "Collecting segmentation_models_pytorch\n",
            "\u001b[?25l  Downloading https://files.pythonhosted.org/packages/65/54/8953f9f7ee9d451b0f3be8d635aa3a654579abf898d17502a090efe1155a/segmentation_models_pytorch-0.1.3-py3-none-any.whl (66kB)\n",
            "\r\u001b[K     |█████                           | 10kB 29.3MB/s eta 0:00:01\r\u001b[K     |██████████                      | 20kB 32.9MB/s eta 0:00:01\r\u001b[K     |██████████████▉                 | 30kB 20.2MB/s eta 0:00:01\r\u001b[K     |███████████████████▉            | 40kB 17.2MB/s eta 0:00:01\r\u001b[K     |████████████████████████▉       | 51kB 13.0MB/s eta 0:00:01\r\u001b[K     |█████████████████████████████▊  | 61kB 13.3MB/s eta 0:00:01\r\u001b[K     |████████████████████████████████| 71kB 6.8MB/s \n",
            "\u001b[?25hRequirement already satisfied: torchvision>=0.3.0 in /usr/local/lib/python3.6/dist-packages (from segmentation_models_pytorch) (0.8.1+cu101)\n",
            "Collecting timm==0.3.2\n",
            "\u001b[?25l  Downloading https://files.pythonhosted.org/packages/51/2d/39ecc56fbb202e1891c317e8e44667299bc3b0762ea2ed6aaaa2c2f6613c/timm-0.3.2-py3-none-any.whl (244kB)\n",
            "\u001b[K     |████████████████████████████████| 245kB 20.4MB/s \n",
            "\u001b[?25hCollecting efficientnet-pytorch==0.6.3\n",
            "  Downloading https://files.pythonhosted.org/packages/b8/cb/0309a6e3d404862ae4bc017f89645cf150ac94c14c88ef81d215c8e52925/efficientnet_pytorch-0.6.3.tar.gz\n",
            "Collecting pretrainedmodels==0.7.4\n",
            "\u001b[?25l  Downloading https://files.pythonhosted.org/packages/84/0e/be6a0e58447ac16c938799d49bfb5fb7a80ac35e137547fc6cee2c08c4cf/pretrainedmodels-0.7.4.tar.gz (58kB)\n",
            "\u001b[K     |████████████████████████████████| 61kB 8.3MB/s \n",
            "\u001b[?25hRequirement already satisfied: numpy in /usr/local/lib/python3.6/dist-packages (from torchvision>=0.3.0->segmentation_models_pytorch) (1.18.5)\n",
            "Requirement already satisfied: torch==1.7.0 in /usr/local/lib/python3.6/dist-packages (from torchvision>=0.3.0->segmentation_models_pytorch) (1.7.0+cu101)\n",
            "Requirement already satisfied: pillow>=4.1.1 in /usr/local/lib/python3.6/dist-packages (from torchvision>=0.3.0->segmentation_models_pytorch) (7.0.0)\n",
            "Collecting munch\n",
            "  Downloading https://files.pythonhosted.org/packages/cc/ab/85d8da5c9a45e072301beb37ad7f833cd344e04c817d97e0cc75681d248f/munch-2.5.0-py2.py3-none-any.whl\n",
            "Requirement already satisfied: tqdm in /usr/local/lib/python3.6/dist-packages (from pretrainedmodels==0.7.4->segmentation_models_pytorch) (4.41.1)\n",
            "Requirement already satisfied: dataclasses in /usr/local/lib/python3.6/dist-packages (from torch==1.7.0->torchvision>=0.3.0->segmentation_models_pytorch) (0.8)\n",
            "Requirement already satisfied: typing-extensions in /usr/local/lib/python3.6/dist-packages (from torch==1.7.0->torchvision>=0.3.0->segmentation_models_pytorch) (3.7.4.3)\n",
            "Requirement already satisfied: future in /usr/local/lib/python3.6/dist-packages (from torch==1.7.0->torchvision>=0.3.0->segmentation_models_pytorch) (0.16.0)\n",
            "Requirement already satisfied: six in /usr/local/lib/python3.6/dist-packages (from munch->pretrainedmodels==0.7.4->segmentation_models_pytorch) (1.15.0)\n",
            "Building wheels for collected packages: efficientnet-pytorch, pretrainedmodels\n",
            "  Building wheel for efficientnet-pytorch (setup.py) ... \u001b[?25l\u001b[?25hdone\n",
            "  Created wheel for efficientnet-pytorch: filename=efficientnet_pytorch-0.6.3-cp36-none-any.whl size=12420 sha256=1e62e8190e6dbb0a0c6801148ab9259c2eaa73fb36ddb913ae279975c000c767\n",
            "  Stored in directory: /root/.cache/pip/wheels/42/1e/a9/2a578ba9ad04e776e80bf0f70d8a7f4c29ec0718b92d8f6ccd\n",
            "  Building wheel for pretrainedmodels (setup.py) ... \u001b[?25l\u001b[?25hdone\n",
            "  Created wheel for pretrainedmodels: filename=pretrainedmodels-0.7.4-cp36-none-any.whl size=60963 sha256=3e5e70115cdc6b3cf29fa59b8ca60a6aaa2c1c47418e5c5d996acf1e913a084a\n",
            "  Stored in directory: /root/.cache/pip/wheels/69/df/63/62583c096289713f22db605aa2334de5b591d59861a02c2ecd\n",
            "Successfully built efficientnet-pytorch pretrainedmodels\n",
            "Installing collected packages: timm, efficientnet-pytorch, munch, pretrainedmodels, segmentation-models-pytorch\n",
            "Successfully installed efficientnet-pytorch-0.6.3 munch-2.5.0 pretrainedmodels-0.7.4 segmentation-models-pytorch-0.1.3 timm-0.3.2\n"
          ],
          "name": "stdout"
        }
      ]
    },
    {
      "cell_type": "code",
      "metadata": {
        "id": "9Bonov13NCly"
      },
      "source": [
        "import segmentation_models_pytorch as smp"
      ],
      "execution_count": 2,
      "outputs": []
    },
    {
      "cell_type": "code",
      "metadata": {
        "id": "T9JbwZbBNCo9"
      },
      "source": [
        "!pip install -U -q kaggle\r\n",
        "!mkdir -p ~/.kaggle"
      ],
      "execution_count": 3,
      "outputs": []
    },
    {
      "cell_type": "code",
      "metadata": {
        "colab": {
          "resources": {
            "http://localhost:8080/nbextensions/google.colab/files.js": {
              "data": "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",
              "ok": true,
              "headers": [
                [
                  "content-type",
                  "application/javascript"
                ]
              ],
              "status": 200,
              "status_text": ""
            }
          },
          "base_uri": "https://localhost:8080/",
          "height": 91
        },
        "id": "v1m5nL9oWx3D",
        "outputId": "4534085d-2033-4c67-f487-adef51837fc8"
      },
      "source": [
        "from google.colab import files\r\n",
        "files.upload()"
      ],
      "execution_count": 4,
      "outputs": [
        {
          "output_type": "display_data",
          "data": {
            "text/html": [
              "\n",
              "     <input type=\"file\" id=\"files-9e7793fb-4671-4225-aad4-77e8b5df5df8\" name=\"files[]\" multiple disabled\n",
              "        style=\"border:none\" />\n",
              "     <output id=\"result-9e7793fb-4671-4225-aad4-77e8b5df5df8\">\n",
              "      Upload widget is only available when the cell has been executed in the\n",
              "      current browser session. Please rerun this cell to enable.\n",
              "      </output>\n",
              "      <script src=\"/nbextensions/google.colab/files.js\"></script> "
            ],
            "text/plain": [
              "<IPython.core.display.HTML object>"
            ]
          },
          "metadata": {
            "tags": []
          }
        },
        {
          "output_type": "stream",
          "text": [
            "Saving kaggle.json to kaggle.json\n"
          ],
          "name": "stdout"
        },
        {
          "output_type": "execute_result",
          "data": {
            "text/plain": [
              "{'kaggle.json': b'{\"username\":\"vitalygladyshev\",\"key\":\"3353367a1e22b48542ed3c3946bdf3e4\"}'}"
            ]
          },
          "metadata": {
            "tags": []
          },
          "execution_count": 4
        }
      ]
    },
    {
      "cell_type": "code",
      "metadata": {
        "colab": {
          "base_uri": "https://localhost:8080/"
        },
        "id": "OCJ6ERzEWx59",
        "outputId": "22de8958-a6b0-4735-daae-b7973503bb2d"
      },
      "source": [
        "!mv kaggle.json ~/.kaggle/\r\n",
        "!chmod 600 ~/.kaggle/kaggle.json\r\n",
        "!ls -la ~/.kaggle/"
      ],
      "execution_count": 5,
      "outputs": [
        {
          "output_type": "stream",
          "text": [
            "total 16\n",
            "drwxr-xr-x 2 root root 4096 Dec 16 10:37 .\n",
            "drwx------ 1 root root 4096 Dec 16 10:37 ..\n",
            "-rw------- 1 root root   71 Dec 16 10:37 kaggle.json\n"
          ],
          "name": "stdout"
        }
      ]
    },
    {
      "cell_type": "code",
      "metadata": {
        "colab": {
          "base_uri": "https://localhost:8080/"
        },
        "id": "cXMrctSGWyAW",
        "outputId": "9f9ee797-662f-416e-b7ba-83456b7e734f"
      },
      "source": [
        "!kaggle datasets list -s lyft-udacity-challenge"
      ],
      "execution_count": null,
      "outputs": [
        {
          "output_type": "stream",
          "text": [
            "Warning: Looks like you're using an outdated API Version, please consider updating (server 1.5.10 / client 1.5.4)\n",
            "ref                                                       title                                               size  lastUpdated          downloadCount  \n",
            "--------------------------------------------------------  -------------------------------------------------  -----  -------------------  -------------  \n",
            "kumaresanmanickavelu/lyft-udacity-challenge               Semantic Segmentation for Self Driving Cars          5GB  2018-05-18 05:59:42           2000  \n",
            "morrisb/semantic-segmentation-with-carla-and-tpus         Semantic Segmentation With CARLA And TPUs            3GB  2020-10-18 10:11:51             16  \n",
            "austenmy/udacity-enrollments                              Udacity Enrollments                                 10KB  2018-04-06 00:54:43             91  \n",
            "pbdanny/udacity-project-submissions                       Udacity Project Submission                          24KB  2018-05-10 11:41:36             45  \n",
            "samtyagi/audacity-ab-testing                              audacity ab testing                                103KB  2019-01-29 15:00:02            114  \n",
            "souravs17031999/flowerclassifierudacitypretrainedweights  Flower-classifier-Udacity-pretrained-Weights       211MB  2020-04-19 12:22:52             24  \n",
            "austenmy/udacity-daily-engagement                         Udacity Daily Engagement                           649KB  2018-04-06 01:01:01            100  \n",
            "luizoamorim/analysis-bay-area-bike-share-udacity          Analysis Bay Area Bike Share Udacity               243KB  2017-11-10 00:16:53            108  \n",
            "fabiocorreacordeiro/udacity-titanic-data                  Udacity Titanic Data                                22KB  2017-11-01 20:46:37             44  \n",
            "tammyrotem/udacity-ab-testing-finalproject-data           Udacity_AB_Testing_FinalProject_Data                679B  2018-01-03 14:55:38             60  \n",
            "schirmerchad/bostonhoustingmlnd                           Boston Housing                                       4KB  2017-06-11 15:07:11           8789  \n",
            "madushan1996/udacity                                      Udacity                                            420MB  2020-08-23 15:21:22              0  \n",
            "abhinavmanoj/udacity-simulator-dataset                    Udacity Simulator Dataset                           32MB  2020-06-09 18:30:13              7  \n",
            "jpdaza/udacity-intro-to-data-analysis                     Udacity Intro to Data Analysis                       9MB  2018-06-10 18:10:56             70  \n",
            "tusharcode/selfdriving-car-udacity                        Self-Driving Car Udacity                           243MB  2020-04-23 03:44:26             23  \n",
            "evertonsa/udacitybrazilmedicalappointments                UdacityBrazilMedicalAppointments                     2MB  2017-10-29 15:55:19             18  \n",
            "zaynena/selfdriving-car-simulator                         Self-Driving Car Simulator                           2GB  2019-04-06 23:38:58            512  \n",
            "priya2908/chopsticks-1992                                 Beginner Projects - Ergonomic Study on Chopsticks    1KB  2017-06-11 19:44:20            371  \n",
            "swimmingwhale/udacitymachinelearningdatasets              Udacity-Machine-Learning-Datasets                    4MB  2018-09-08 01:45:03              2  \n",
            "davydev/udacity-intro-to-ml                               udacity-intro-to-machine-learning                    4MB  2020-07-26 08:42:09              0  \n"
          ],
          "name": "stdout"
        }
      ]
    },
    {
      "cell_type": "code",
      "metadata": {
        "colab": {
          "base_uri": "https://localhost:8080/"
        },
        "id": "HplVxzolWx9U",
        "outputId": "af622c39-1064-4236-c85e-cabe322a235a"
      },
      "source": [
        "!kaggle datasets download -d kumaresanmanickavelu/lyft-udacity-challenge\r\n",
        "!ls"
      ],
      "execution_count": null,
      "outputs": [
        {
          "output_type": "stream",
          "text": [
            "Downloading lyft-udacity-challenge.zip to /content\n",
            "100% 5.11G/5.11G [01:46<00:00, 32.2MB/s]\n",
            "100% 5.11G/5.11G [01:46<00:00, 51.6MB/s]\n",
            "lyft-udacity-challenge.zip  sample_data\n"
          ],
          "name": "stdout"
        }
      ]
    },
    {
      "cell_type": "code",
      "metadata": {
        "id": "96oaWxn-Z7DE"
      },
      "source": [
        "from zipfile import ZipFile"
      ],
      "execution_count": 6,
      "outputs": []
    },
    {
      "cell_type": "code",
      "metadata": {
        "id": "eq_Y3X0DaCqZ"
      },
      "source": [
        "zip_file = ZipFile('lyft-udacity-challenge.zip')\r\n",
        "zip_file.extractall(\"./lyft-udacity-challenge\")"
      ],
      "execution_count": null,
      "outputs": []
    },
    {
      "cell_type": "code",
      "metadata": {
        "colab": {
          "base_uri": "https://localhost:8080/"
        },
        "id": "tHnzwQBIaCyq",
        "outputId": "7cb2af3c-99cd-4fc0-9700-1a0bb44886c0"
      },
      "source": [
        "!ls -ls lyft-udacity-challenge"
      ],
      "execution_count": null,
      "outputs": [
        {
          "output_type": "stream",
          "text": [
            "total 40\n",
            "4 drwxr-xr-x 3 root root 4096 Dec 15 17:41 dataa\n",
            "4 drwxr-xr-x 3 root root 4096 Dec 15 17:40 dataA\n",
            "4 drwxr-xr-x 3 root root 4096 Dec 15 17:41 datab\n",
            "4 drwxr-xr-x 3 root root 4096 Dec 15 17:40 dataB\n",
            "4 drwxr-xr-x 3 root root 4096 Dec 15 17:41 datac\n",
            "4 drwxr-xr-x 3 root root 4096 Dec 15 17:40 dataC\n",
            "4 drwxr-xr-x 3 root root 4096 Dec 15 17:42 datad\n",
            "4 drwxr-xr-x 3 root root 4096 Dec 15 17:40 dataD\n",
            "4 drwxr-xr-x 3 root root 4096 Dec 15 17:42 datae\n",
            "4 drwxr-xr-x 3 root root 4096 Dec 15 17:41 dataE\n"
          ],
          "name": "stdout"
        }
      ]
    },
    {
      "cell_type": "code",
      "metadata": {
        "id": "aEyCR3kiWyDl"
      },
      "source": [
        "import numpy as np\r\n",
        "import pandas as pd\r\n",
        "import os\r\n",
        "import matplotlib.pyplot as plt"
      ],
      "execution_count": 7,
      "outputs": []
    },
    {
      "cell_type": "code",
      "metadata": {
        "id": "fiIr9JOpd14M"
      },
      "source": [
        "labels = ['Unlabeled','Building','Fence','Other',\r\n",
        "          'Pedestrian', 'Pole', 'Roadline', 'Road',\r\n",
        "          'Sidewalk', 'Vegetation', 'Car','Wall',\r\n",
        "          'Traffic sign']"
      ],
      "execution_count": null,
      "outputs": []
    },
    {
      "cell_type": "code",
      "metadata": {
        "id": "O1x7H1h1edCr"
      },
      "source": [
        "path = \"lyft-udacity-challenge\""
      ],
      "execution_count": null,
      "outputs": []
    },
    {
      "cell_type": "code",
      "metadata": {
        "id": "JCBsoCsed18L"
      },
      "source": [
        "cameraRGB = []\r\n",
        "cameraSeg = []\r\n",
        "for root, dirs, files in os.walk(path):\r\n",
        "    for name in files:\r\n",
        "        f = os.path.join(root, name)\r\n",
        "        if 'CameraRGB' in f:\r\n",
        "            cameraRGB.append(f)\r\n",
        "        elif 'CameraSeg' in f:\r\n",
        "            cameraSeg.append(f)\r\n",
        "        else:\r\n",
        "            break"
      ],
      "execution_count": null,
      "outputs": []
    },
    {
      "cell_type": "code",
      "metadata": {
        "colab": {
          "base_uri": "https://localhost:8080/"
        },
        "id": "Xk3ZwXvDd2AU",
        "outputId": "ded65709-2367-43db-f96b-3faee5c63ccc"
      },
      "source": [
        "cameraRGB[-1], cameraSeg[-1]"
      ],
      "execution_count": null,
      "outputs": [
        {
          "output_type": "execute_result",
          "data": {
            "text/plain": [
              "('lyft-udacity-challenge/dataC/dataC/CameraRGB/F64-44.png',\n",
              " 'lyft-udacity-challenge/dataC/dataC/CameraSeg/F64-44.png')"
            ]
          },
          "metadata": {
            "tags": []
          },
          "execution_count": 18
        }
      ]
    },
    {
      "cell_type": "code",
      "metadata": {
        "colab": {
          "base_uri": "https://localhost:8080/"
        },
        "id": "NU1-185NkF81",
        "outputId": "ddf08916-a58f-4308-b244-c6d1c64d59c4"
      },
      "source": [
        "df = pd.DataFrame({'cameraRGB': cameraRGB, 'cameraSeg': cameraSeg})\r\n",
        "# Отсортируем  датафрейм по значениям\r\n",
        "df.sort_values(by='cameraRGB',inplace=True)\r\n",
        "# Используем функцию,\r\n",
        "# лагодаря которой индексация значений \r\n",
        "# будет начинаться с 0.\r\n",
        "df.reset_index(drop=True, inplace=True)\r\n",
        "# Выведем первые ять значений нашего датафрейма\r\n",
        "print(df.head(5))"
      ],
      "execution_count": null,
      "outputs": [
        {
          "output_type": "stream",
          "text": [
            "                                           cameraRGB                                          cameraSeg\n",
            "0  lyft-udacity-challenge/dataA/dataA/CameraRGB/0...  lyft-udacity-challenge/dataA/dataA/CameraSeg/0...\n",
            "1  lyft-udacity-challenge/dataA/dataA/CameraRGB/0...  lyft-udacity-challenge/dataA/dataA/CameraSeg/0...\n",
            "2  lyft-udacity-challenge/dataA/dataA/CameraRGB/0...  lyft-udacity-challenge/dataA/dataA/CameraSeg/0...\n",
            "3  lyft-udacity-challenge/dataA/dataA/CameraRGB/0...  lyft-udacity-challenge/dataA/dataA/CameraSeg/0...\n",
            "4  lyft-udacity-challenge/dataA/dataA/CameraRGB/0...  lyft-udacity-challenge/dataA/dataA/CameraSeg/0...\n"
          ],
          "name": "stdout"
        }
      ]
    },
    {
      "cell_type": "code",
      "metadata": {
        "colab": {
          "base_uri": "https://localhost:8080/"
        },
        "id": "8G6-6RCtkGGC",
        "outputId": "1d6cfb81-4a1c-4afc-dcbf-8d3b993cbeb8"
      },
      "source": [
        "df.info()"
      ],
      "execution_count": null,
      "outputs": [
        {
          "output_type": "stream",
          "text": [
            "<class 'pandas.core.frame.DataFrame'>\n",
            "RangeIndex: 10000 entries, 0 to 9999\n",
            "Data columns (total 2 columns):\n",
            " #   Column     Non-Null Count  Dtype \n",
            "---  ------     --------------  ----- \n",
            " 0   cameraRGB  10000 non-null  object\n",
            " 1   cameraSeg  10000 non-null  object\n",
            "dtypes: object(2)\n",
            "memory usage: 156.4+ KB\n"
          ],
          "name": "stdout"
        }
      ]
    },
    {
      "cell_type": "code",
      "metadata": {
        "id": "b-tm-DhHd2D9"
      },
      "source": [
        "from torch.utils.data import Dataset, DataLoader\r\n",
        "from PIL import Image\r\n",
        "import torch\r\n",
        "import torch.nn as nn\r\n",
        "from torch.nn import functional as F\r\n",
        "import time"
      ],
      "execution_count": 9,
      "outputs": []
    },
    {
      "cell_type": "code",
      "metadata": {
        "id": "molwhPU5kGQE"
      },
      "source": [
        "class CustomDatasetFromImages(Dataset):\r\n",
        "    def __init__(self, data_info):\r\n",
        "        # Подаем наш подготовленный датафрейм\r\n",
        "        self.data_info = data_info\r\n",
        "        \r\n",
        "        # Разделяем датафрейм на rgb картинки \r\n",
        "        self.image_arr = self.data_info.iloc[:,0]\r\n",
        "        # и на сегментированные картинки\r\n",
        "        self.label_arr = self.data_info.iloc[:,1]\r\n",
        "        \r\n",
        "        # Количество пар картинка-сегментация\r\n",
        "        self.data_len = len(self.data_info.index)\r\n",
        "    def __getitem__(self, index):\r\n",
        "        # Читаем картинку и сразу же представляем ее в виде numpy-массива \r\n",
        "        # размера 600х800 float-значний\r\n",
        "        img = np.asarray(Image.open(self.image_arr[index])).astype('float')\r\n",
        "        # Нормализуем изображение в значениях [0,1]\r\n",
        "        img = torch.as_tensor(img)/255    \r\n",
        "        # 1) unsqueeze - меняет размерность img c (600, 800, 3) -> (1, 600, 800, 3),\r\n",
        "        # т.е. оборачивает картинку в батч размером в одну картинку\r\n",
        "        # 2) permute - меняет местами измерения , т.е. (1, 600, 800, 3) -> (1, 3, 600, 800)\r\n",
        "        img = img.unsqueeze(0).permute(0,3,1,2)\r\n",
        "        # Мы используем функцию интерполяции для того,\r\n",
        "        # чтобы поменять рамерность картинки с 800х600 на 256х256\r\n",
        "        img = F.interpolate(input=img, size=256, align_corners=False, mode='bicubic')\r\n",
        "        \r\n",
        "        # итаем сегментированную картинку и сразу же представляем ее в виде numpy-массива \r\n",
        "        # размера 600х800 float-значний\r\n",
        "        lab = np.asarray(plt.imread(self.label_arr[index]))[:,:,0]*255\r\n",
        "        \r\n",
        "        # Упаковываем ее в pytorch-тензор и оборачиваем ее в батч из одной каринки,\r\n",
        "        # но при этом заполняем 13 каналов масками нужных классов\r\n",
        "        # Т.е. там, где например класс автомобилей (10 по счету канал) - все пиксели 0 \r\n",
        "        # если не принадлежат классу, и 1 если принадлежат \r\n",
        "        x_out = torch.as_tensor(np.where(lab == 0, 255, 0)).unsqueeze(0)\r\n",
        "        for i in range(1, 13):\r\n",
        "            mask = np.asarray(plt.imread(self.label_arr[index]))[:,:,0]*255\r\n",
        "            mask = np.where(mask == i, 255, 0)\r\n",
        "            x = torch.as_tensor(mask).unsqueeze(0)\r\n",
        "            x_out =  torch.cat((x_out,x),dim=0)    \r\n",
        "        x_out = x_out.float()\r\n",
        "        \r\n",
        "        lab = x_out.unsqueeze(0)\r\n",
        "        # делаем ресайз картинки на 256х256\r\n",
        "        lab = F.interpolate(input=lab, size=256, mode='nearest')\r\n",
        "        \r\n",
        "        return (img.float(), lab.float())\r\n",
        "\r\n",
        "    def __len__(self):\r\n",
        "        return self.data_len"
      ],
      "execution_count": null,
      "outputs": []
    },
    {
      "cell_type": "code",
      "metadata": {
        "id": "zv78_E2PlQOs"
      },
      "source": [
        "from sklearn.model_selection import train_test_split\r\n",
        "\r\n",
        "# 80 % в тренировочную выборку, 20 - в тестовую\r\n",
        "X_data, X_test = train_test_split(df, test_size=0.2)\r\n",
        "# 20 - в валидационную\r\n",
        "X_train, X_valid = train_test_split(X_data, test_size=0.2)\r\n",
        "\r\n",
        "# Упорядочиваем индексацию\r\n",
        "X_train.reset_index(drop=True,inplace=True)\r\n",
        "X_valid.reset_index(drop=True,inplace=True)\r\n",
        "X_test.reset_index(drop=True,inplace=True)\r\n",
        "\r\n",
        "# Оборачиваем каждую выборку в наш кастомный датасет\r\n",
        "train_data = CustomDatasetFromImages(X_train[:300])\r\n",
        "valid_data = CustomDatasetFromImages(X_valid[:300])\r\n",
        "test_data = CustomDatasetFromImages(X_test)"
      ],
      "execution_count": null,
      "outputs": []
    },
    {
      "cell_type": "code",
      "metadata": {
        "id": "5Eln4fgtmirG"
      },
      "source": [
        "batch_s = 10\r\n",
        "\r\n",
        "train_data_loader = DataLoader(train_data, batch_size=batch_s, shuffle=True)\r\n",
        "valid_data_loader = DataLoader(valid_data, batch_size=batch_s, shuffle=True)\r\n",
        "test_data_loader = DataLoader(test_data, batch_size=1, shuffle=False)"
      ],
      "execution_count": null,
      "outputs": []
    },
    {
      "cell_type": "code",
      "metadata": {
        "colab": {
          "base_uri": "https://localhost:8080/"
        },
        "id": "h7ittFGJd2IL",
        "outputId": "87808a80-879d-4aa5-b0a7-11f5a0114b94"
      },
      "source": [
        "device = torch.device('cuda') if torch.cuda.is_available() else torch.device('cpu')\r\n",
        "print(device)"
      ],
      "execution_count": null,
      "outputs": [
        {
          "output_type": "stream",
          "text": [
            "cuda\n"
          ],
          "name": "stdout"
        }
      ]
    },
    {
      "cell_type": "code",
      "metadata": {
        "id": "lggxKFWjoLuH"
      },
      "source": [
        "class SoftDiceLoss(nn.Module):\r\n",
        "    def __init__(self, weight=None, size_average=True):\r\n",
        "        super(SoftDiceLoss, self).__init__()\r\n",
        "\r\n",
        "    def forward(self, logits, targets):\r\n",
        "        smooth =1\r\n",
        "        num = targets.size(0)\r\n",
        "        probs = torch.sigmoid(logits)\r\n",
        "        m1 = probs.view(num, -1)\r\n",
        "        m2 = targets.view(num, -1)\r\n",
        "        intersection = (m1 * m2)\r\n",
        "\r\n",
        "        score =2. * (intersection.sum(1) + smooth) / (m1.sum(1) + m2.sum(1) + smooth)\r\n",
        "        score =1 - score.sum() / num\r\n",
        "        return score"
      ],
      "execution_count": 62,
      "outputs": []
    },
    {
      "cell_type": "code",
      "metadata": {
        "id": "9WbxUle-pUA7"
      },
      "source": [
        "learning_rate = 0.001\r\n",
        "epochs = 7\r\n",
        "\r\n",
        "# создание модели\r\n",
        "segmodel = smp.Unet('resnet34', classes=13, activation='softmax').to(device)\r\n",
        "\r\n",
        "criterion = SoftDiceLoss()\r\n",
        "optimizer = torch.optim.Adam(segmodel.parameters(), lr=learning_rate)"
      ],
      "execution_count": null,
      "outputs": []
    },
    {
      "cell_type": "code",
      "metadata": {
        "id": "Dy5vRkk3aHVu"
      },
      "source": [
        "path_checkpoint = \"checkpoints\"\r\n",
        "if not os.path.exists(path_checkpoint):\r\n",
        "    os.mkdir(path_checkpoint)"
      ],
      "execution_count": null,
      "outputs": []
    },
    {
      "cell_type": "code",
      "metadata": {
        "colab": {
          "base_uri": "https://localhost:8080/"
        },
        "id": "1TpAPX0vgtji",
        "outputId": "fa4796a0-c2bb-4ccc-f8e2-70cc18a5a79c"
      },
      "source": [
        "ls -la"
      ],
      "execution_count": null,
      "outputs": [
        {
          "output_type": "stream",
          "text": [
            "total 5357068\n",
            "drwxr-xr-x  1 root root       4096 Dec 15 17:46 \u001b[0m\u001b[01;34m.\u001b[0m/\n",
            "drwxr-xr-x  1 root root       4096 Dec 15 18:56 \u001b[01;34m..\u001b[0m/\n",
            "drwxr-xr-x  2 root root       4096 Dec 15 19:23 \u001b[01;34mcheckpoints\u001b[0m/\n",
            "drwxr-xr-x  1 root root       4096 Dec 10 17:17 \u001b[01;34m.config\u001b[0m/\n",
            "drwxr-xr-x 12 root root       4096 Dec 15 17:42 \u001b[01;34mlyft-udacity-challenge\u001b[0m/\n",
            "-rw-r--r--  1 root root 5485605432 Dec 15 17:39 lyft-udacity-challenge.zip\n",
            "drwxr-xr-x  1 root root       4096 Dec  2 22:04 \u001b[01;34msample_data\u001b[0m/\n"
          ],
          "name": "stdout"
        }
      ]
    },
    {
      "cell_type": "code",
      "metadata": {
        "colab": {
          "base_uri": "https://localhost:8080/"
        },
        "id": "6HSeQtHQMxjr",
        "outputId": "ab2908fe-93b4-4608-e691-9c079a7a51cb"
      },
      "source": [
        "epoch_losses = []\r\n",
        "epoch_val_losses = []\r\n",
        "\r\n",
        "for epoch in range(epochs):  # loop over the dataset multiple times\r\n",
        "    running_loss = 0.0\r\n",
        "    cum_loss = []\r\n",
        "\r\n",
        "    print(f'Epoch: {epoch+1}')\r\n",
        "    time1 = time.time()\r\n",
        "    segmodel.train()\r\n",
        "    for i, data in enumerate(train_data_loader, 0):\r\n",
        "        # get the inputs; data is a list of [inputs, labels]\r\n",
        "        inputs, labels = data\r\n",
        "        inputs = inputs.to(device) # .cuda()\r\n",
        "        labels = labels.to(device) # .cuda()\r\n",
        "\r\n",
        "        # zero the parameter gradients\r\n",
        "        optimizer.zero_grad()\r\n",
        "\r\n",
        "        # forward + backward + optimize\r\n",
        "        outputs = segmodel(inputs[0])\r\n",
        "        loss = criterion(outputs, labels[0,0,:,:,:])\r\n",
        "        loss.backward()\r\n",
        "        optimizer.step()\r\n",
        "\r\n",
        "        # print statistics\r\n",
        "        running_loss += loss.item()\r\n",
        "        cum_loss.append(loss.item())\r\n",
        "        if not (i+1) % 10:    # print every 10 mini-batches\r\n",
        "            print(f'\\tbatchcount: {i+1}, avg. loss for last {batch_s*10} images: {running_loss/(batch_s*10):.5f}')\r\n",
        "            running_loss = 0.0\r\n",
        "\r\n",
        "    time2 = time.time()\r\n",
        "    epoch_losses.append(np.mean(cum_loss))\r\n",
        "    torch.save(segmodel.state_dict(), path_checkpoint + f\"/checkpoint_ep_{epoch}.pth\")\r\n",
        "\r\n",
        "    cum_loss = []\r\n",
        "    segmodel.eval()\r\n",
        "    with torch.no_grad():\r\n",
        "        running_val_loss = 0.0\r\n",
        "        for i, data in enumerate(valid_data_loader, 0):\r\n",
        "            inputs, labels = data\r\n",
        "            inputs = inputs.to(device) # .cuda()\r\n",
        "            labels = labels.to(device) # .cuda()\r\n",
        "\r\n",
        "            outputs = segmodel(inputs[0])\r\n",
        "            loss = criterion(outputs, labels[0,0,:,:,:])\r\n",
        "\r\n",
        "            running_val_loss += loss.item()\r\n",
        "            cum_loss.append(loss.item())\r\n",
        "\r\n",
        "    epoch_val_losses.append(np.mean(cum_loss))\r\n",
        "    print(f'\\n  Epoch {epoch+1}, loss: {epoch_losses[-1]:.5f} loss_val: {epoch_val_losses[-1]:.5f} time = {time2-time1:.2f} sec\\n')"
      ],
      "execution_count": null,
      "outputs": [
        {
          "output_type": "stream",
          "text": [
            "Epoch: 1\n"
          ],
          "name": "stdout"
        },
        {
          "output_type": "stream",
          "text": [
            "/usr/local/lib/python3.6/dist-packages/segmentation_models_pytorch/base/modules.py:102: UserWarning: Implicit dimension choice for softmax has been deprecated. Change the call to include dim=X as an argument.\n",
            "  return self.activation(x)\n"
          ],
          "name": "stderr"
        },
        {
          "output_type": "stream",
          "text": [
            "\tbatchcount: 10, avg. loss for last 100 images: 0.02925\n",
            "\tbatchcount: 20, avg. loss for last 100 images: 0.02150\n",
            "\tbatchcount: 30, avg. loss for last 100 images: 0.01630\n",
            "\n",
            "  Epoch 1, loss: 0.22349 loss_val: 0.16014 time = 119.72 sec\n",
            "\n",
            "Epoch: 2\n",
            "\tbatchcount: 10, avg. loss for last 100 images: 0.01411\n",
            "\tbatchcount: 20, avg. loss for last 100 images: 0.01426\n",
            "\tbatchcount: 30, avg. loss for last 100 images: 0.00962\n",
            "\n",
            "  Epoch 2, loss: 0.12664 loss_val: 0.14178 time = 117.87 sec\n",
            "\n",
            "Epoch: 3\n",
            "\tbatchcount: 10, avg. loss for last 100 images: 0.01564\n",
            "\tbatchcount: 20, avg. loss for last 100 images: 0.01297\n",
            "\tbatchcount: 30, avg. loss for last 100 images: 0.00866\n",
            "\n",
            "  Epoch 3, loss: 0.12420 loss_val: 0.09678 time = 117.88 sec\n",
            "\n",
            "Epoch: 4\n",
            "\tbatchcount: 10, avg. loss for last 100 images: 0.00896\n",
            "\tbatchcount: 20, avg. loss for last 100 images: 0.00977\n",
            "\tbatchcount: 30, avg. loss for last 100 images: 0.01321\n",
            "\n",
            "  Epoch 4, loss: 0.10650 loss_val: 0.09771 time = 117.85 sec\n",
            "\n",
            "Epoch: 5\n",
            "\tbatchcount: 10, avg. loss for last 100 images: 0.00863\n",
            "\tbatchcount: 20, avg. loss for last 100 images: 0.00687\n",
            "\tbatchcount: 30, avg. loss for last 100 images: 0.00778\n",
            "\n",
            "  Epoch 5, loss: 0.07760 loss_val: 0.10249 time = 119.00 sec\n",
            "\n",
            "Epoch: 6\n",
            "\tbatchcount: 10, avg. loss for last 100 images: 0.00752\n",
            "\tbatchcount: 20, avg. loss for last 100 images: 0.01088\n",
            "\tbatchcount: 30, avg. loss for last 100 images: 0.01371\n",
            "\n",
            "  Epoch 6, loss: 0.10704 loss_val: 0.09325 time = 117.33 sec\n",
            "\n",
            "Epoch: 7\n",
            "\tbatchcount: 10, avg. loss for last 100 images: 0.00925\n",
            "\tbatchcount: 20, avg. loss for last 100 images: 0.01228\n",
            "\tbatchcount: 30, avg. loss for last 100 images: 0.00686\n",
            "\n",
            "  Epoch 7, loss: 0.09462 loss_val: 0.08674 time = 117.05 sec\n",
            "\n"
          ],
          "name": "stdout"
        }
      ]
    },
    {
      "cell_type": "code",
      "metadata": {
        "id": "LjA8jZlfcpfZ",
        "colab": {
          "base_uri": "https://localhost:8080/",
          "height": 281
        },
        "outputId": "a7f34983-b412-4a25-c76a-4e7ee739cf83"
      },
      "source": [
        "plt.plot(np.arange(1, 8), epoch_losses, 'go-', label='train loss')\r\n",
        "plt.plot(np.arange(1, 8), epoch_val_losses, 'ro-', label='validation loss')\r\n",
        "\r\n",
        "plt.legend(loc=\"upper right\")\r\n",
        "plt.grid(color=\"lightgrey\")\r\n",
        "plt.title('Сравнение train и valid loss' )\r\n",
        "plt.show()"
      ],
      "execution_count": null,
      "outputs": [
        {
          "output_type": "display_data",
          "data": {
            "image/png": "[encoded data removed]",
            "text/plain": [
              "<Figure size 432x288 with 1 Axes>"
            ]
          },
          "metadata": {
            "tags": [],
            "needs_background": "light"
          }
        }
      ]
    },
    {
      "cell_type": "markdown",
      "metadata": {
        "id": "kjH9bm_6_Kcj"
      },
      "source": [
        "## Задание 2"
      ]
    },
    {
      "cell_type": "markdown",
      "metadata": {
        "id": "s3iXQuiz_Red"
      },
      "source": [
        "Необходимо скачать и подготовить датасет https://www.kaggle.com/olekslu/makeup-lips-segmentation-28k-samples/notebooks для обучения модели на губы(т.е. 2 класса: губы/не губы)."
      ]
    },
    {
      "cell_type": "code",
      "metadata": {
        "colab": {
          "base_uri": "https://localhost:8080/"
        },
        "id": "9871z7EB3J12",
        "outputId": "342c987a-7fc5-4910-fa08-f03d2dbf9f6b"
      },
      "source": [
        "!kaggle datasets list -s lipstick"
      ],
      "execution_count": 10,
      "outputs": [
        {
          "output_type": "stream",
          "text": [
            "Warning: Looks like you're using an outdated API Version, please consider updating (server 1.5.10 / client 1.5.4)\n",
            "ref                                                 title                                      size  lastUpdated          downloadCount  \n",
            "--------------------------------------------------  ----------------------------------------  -----  -------------------  -------------  \n",
            "olgabelitskaya/quick-draw-images-from-key-points-4  Quick, Draw! Images from Key Points 4     350MB  2020-07-25 06:57:20              9  \n",
            "olekslu/makeup-lips-segmentation-28k-samples        Makeup. Pixel Perfect Lips Segmentation.    2GB  2020-06-10 09:00:21            124  \n",
            "pevogam/cognitive-stimuli                           Cognitive stimuli                         254MB  2020-11-01 11:25:16              7  \n"
          ],
          "name": "stdout"
        }
      ]
    },
    {
      "cell_type": "code",
      "metadata": {
        "colab": {
          "base_uri": "https://localhost:8080/"
        },
        "id": "T4rVTrGo_7mC",
        "outputId": "d9fabd0a-7e94-4e53-e090-0ffa00be037e"
      },
      "source": [
        "!kaggle datasets download -d olekslu/makeup-lips-segmentation-28k-samples\r\n",
        "!ls"
      ],
      "execution_count": 11,
      "outputs": [
        {
          "output_type": "stream",
          "text": [
            "Downloading makeup-lips-segmentation-28k-samples.zip to /content\n",
            "100% 2.38G/2.38G [00:32<00:00, 33.5MB/s]\n",
            "100% 2.38G/2.38G [00:32<00:00, 78.4MB/s]\n",
            "makeup-lips-segmentation-28k-samples.zip  sample_data\n"
          ],
          "name": "stdout"
        }
      ]
    },
    {
      "cell_type": "code",
      "metadata": {
        "id": "2f1OWCpIBvbv"
      },
      "source": [
        "from zipfile import ZipFile\r\n",
        "\r\n",
        "zip_file = ZipFile('makeup-lips-segmentation-28k-samples.zip')\r\n",
        "zip_file.extractall(\"./lips_segmentation\")"
      ],
      "execution_count": 12,
      "outputs": []
    },
    {
      "cell_type": "code",
      "metadata": {
        "id": "KzJzpfQcBv49",
        "colab": {
          "base_uri": "https://localhost:8080/"
        },
        "outputId": "b91c695b-6b46-4fb8-ca76-98723c4b583f"
      },
      "source": [
        "!ls -la ./lips_segmentation/set-lipstick-original"
      ],
      "execution_count": 13,
      "outputs": [
        {
          "output_type": "stream",
          "text": [
            "total 3992\n",
            "drwxr-xr-x 4 root root    4096 Dec 16 10:40 .\n",
            "drwxr-xr-x 3 root root    4096 Dec 16 10:39 ..\n",
            "drwxr-xr-x 2 root root 1232896 Dec 16 10:40 720p\n",
            "-rw-r--r-- 1 root root 1858818 Dec 16 10:40 list.csv\n",
            "drwxr-xr-x 2 root root  983040 Dec 16 10:40 mask\n"
          ],
          "name": "stdout"
        }
      ]
    },
    {
      "cell_type": "code",
      "metadata": {
        "id": "2ilqCFSvUtJB"
      },
      "source": [
        "path_img = \"./lips_segmentation/set-lipstick-original/720p\"\r\n",
        "path_mask = \"./lips_segmentation/set-lipstick-original/mask\"\r\n",
        "\r\n",
        "images = []\r\n",
        "masks = []\r\n",
        "\r\n",
        "for root, dirs, files in os.walk(path_img):\r\n",
        "    for name in files:\r\n",
        "        f = os.path.join(root, name)\r\n",
        "        if 'image' in f:\r\n",
        "            images.append(f)\r\n",
        "        else:\r\n",
        "            break\r\n",
        "\r\n",
        "for root, dirs, files in os.walk(path_mask):\r\n",
        "    for name in files:\r\n",
        "        f = os.path.join(root, name)\r\n",
        "        if 'mask' in f:\r\n",
        "            masks.append(f)\r\n",
        "        else:\r\n",
        "            break"
      ],
      "execution_count": 14,
      "outputs": []
    },
    {
      "cell_type": "code",
      "metadata": {
        "colab": {
          "base_uri": "https://localhost:8080/"
        },
        "id": "qbLg8k0IV-H7",
        "outputId": "4e483b97-f2ca-4349-8f32-b1c03b6ac8dd"
      },
      "source": [
        "len(images), len(masks), images[-1], masks[-1]"
      ],
      "execution_count": 15,
      "outputs": [
        {
          "output_type": "execute_result",
          "data": {
            "text/plain": [
              "(28594,\n",
              " 28540,\n",
              " './lips_segmentation/set-lipstick-original/720p/image00027582.jpg',\n",
              " './lips_segmentation/set-lipstick-original/mask/mask00026740.png')"
            ]
          },
          "metadata": {
            "tags": []
          },
          "execution_count": 15
        }
      ]
    },
    {
      "cell_type": "code",
      "metadata": {
        "colab": {
          "base_uri": "https://localhost:8080/"
        },
        "id": "V3UY2wu2Yk7s",
        "outputId": "88bb5130-d684-4485-e717-97877cf56365"
      },
      "source": [
        "images[0], images[0][-12:-4]"
      ],
      "execution_count": 16,
      "outputs": [
        {
          "output_type": "execute_result",
          "data": {
            "text/plain": [
              "('./lips_segmentation/set-lipstick-original/720p/image00006439.jpg',\n",
              " '00006439')"
            ]
          },
          "metadata": {
            "tags": []
          },
          "execution_count": 16
        }
      ]
    },
    {
      "cell_type": "code",
      "metadata": {
        "id": "VmqdLT3jW3v5"
      },
      "source": [
        "images_w_mask = []\r\n",
        "\r\n",
        "for img in images:\r\n",
        "    for mask in masks:\r\n",
        "        if img[-12:-4] == mask[-12:-4]:\r\n",
        "            images_w_mask.append(img)\r\n",
        "            break"
      ],
      "execution_count": 17,
      "outputs": []
    },
    {
      "cell_type": "code",
      "metadata": {
        "colab": {
          "base_uri": "https://localhost:8080/"
        },
        "id": "gqe95XOqZXmh",
        "outputId": "bf87003c-f3c3-4f20-8a02-cf25031e1bc3"
      },
      "source": [
        "len(images_w_mask), images_w_mask[10000], masks[10000]"
      ],
      "execution_count": 18,
      "outputs": [
        {
          "output_type": "execute_result",
          "data": {
            "text/plain": [
              "(28540,\n",
              " './lips_segmentation/set-lipstick-original/720p/image00010300.jpg',\n",
              " './lips_segmentation/set-lipstick-original/mask/mask00026785.png')"
            ]
          },
          "metadata": {
            "tags": []
          },
          "execution_count": 18
        }
      ]
    },
    {
      "cell_type": "code",
      "metadata": {
        "id": "ZWvuGdpobHyh"
      },
      "source": [
        "masks_adapt = []\r\n",
        "\r\n",
        "for img in images_w_mask:\r\n",
        "    masks_adapt.append(f\"./lips_segmentation/set-lipstick-original/mask/mask{img[-12:-4]}.png\")"
      ],
      "execution_count": 19,
      "outputs": []
    },
    {
      "cell_type": "code",
      "metadata": {
        "colab": {
          "base_uri": "https://localhost:8080/"
        },
        "id": "7ob5k1bQbxXl",
        "outputId": "1d15fd56-7d71-40d7-d952-500d2f63c477"
      },
      "source": [
        "images_w_mask[10000], masks_adapt[10000]"
      ],
      "execution_count": 20,
      "outputs": [
        {
          "output_type": "execute_result",
          "data": {
            "text/plain": [
              "('./lips_segmentation/set-lipstick-original/720p/image00010300.jpg',\n",
              " './lips_segmentation/set-lipstick-original/mask/mask00010300.png')"
            ]
          },
          "metadata": {
            "tags": []
          },
          "execution_count": 20
        }
      ]
    },
    {
      "cell_type": "code",
      "metadata": {
        "colab": {
          "base_uri": "https://localhost:8080/"
        },
        "id": "DlnZ8RlKZ6bh",
        "outputId": "00e53a5a-19d7-46b4-ddac-ffe01f9142c0"
      },
      "source": [
        "df = pd.DataFrame({'images': images_w_mask, 'masks': masks_adapt})\r\n",
        "# Отсортируем  датафрейм по значениям\r\n",
        "df.sort_values(by='images',inplace=True)\r\n",
        "# Используем функцию,\r\n",
        "# лагодаря которой индексация значений \r\n",
        "# будет начинаться с 0.\r\n",
        "df.reset_index(drop=True, inplace=True)\r\n",
        "\r\n",
        "# Выведем первые ять значений нашего датафрейма\r\n",
        "pd.set_option('display.max_colwidth', 70)\r\n",
        "print(df.tail(5))"
      ],
      "execution_count": 21,
      "outputs": [
        {
          "output_type": "stream",
          "text": [
            "                                                                 images                                                            masks\n",
            "28535  ./lips_segmentation/set-lipstick-original/720p/image00028590.jpg  ./lips_segmentation/set-lipstick-original/mask/mask00028590.png\n",
            "28536  ./lips_segmentation/set-lipstick-original/720p/image00028591.jpg  ./lips_segmentation/set-lipstick-original/mask/mask00028591.png\n",
            "28537  ./lips_segmentation/set-lipstick-original/720p/image00028592.jpg  ./lips_segmentation/set-lipstick-original/mask/mask00028592.png\n",
            "28538  ./lips_segmentation/set-lipstick-original/720p/image00028593.jpg  ./lips_segmentation/set-lipstick-original/mask/mask00028593.png\n",
            "28539  ./lips_segmentation/set-lipstick-original/720p/image00028594.jpg  ./lips_segmentation/set-lipstick-original/mask/mask00028594.png\n"
          ],
          "name": "stdout"
        }
      ]
    },
    {
      "cell_type": "code",
      "metadata": {
        "colab": {
          "base_uri": "https://localhost:8080/"
        },
        "id": "D12OYNx3cL-q",
        "outputId": "cc646b43-a542-42aa-cc77-a132dedf3338"
      },
      "source": [
        "df.info()"
      ],
      "execution_count": 22,
      "outputs": [
        {
          "output_type": "stream",
          "text": [
            "<class 'pandas.core.frame.DataFrame'>\n",
            "RangeIndex: 28540 entries, 0 to 28539\n",
            "Data columns (total 2 columns):\n",
            " #   Column  Non-Null Count  Dtype \n",
            "---  ------  --------------  ----- \n",
            " 0   images  28540 non-null  object\n",
            " 1   masks   28540 non-null  object\n",
            "dtypes: object(2)\n",
            "memory usage: 446.1+ KB\n"
          ],
          "name": "stdout"
        }
      ]
    },
    {
      "cell_type": "code",
      "metadata": {
        "colab": {
          "base_uri": "https://localhost:8080/"
        },
        "id": "ym-cJRbmfIT3",
        "outputId": "edef478e-e376-4790-da4c-8e67fd6b830e"
      },
      "source": [
        "img = np.asarray(Image.open(images_w_mask[0])).astype('float')\r\n",
        "img.shape"
      ],
      "execution_count": 23,
      "outputs": [
        {
          "output_type": "execute_result",
          "data": {
            "text/plain": [
              "(720, 1280, 3)"
            ]
          },
          "metadata": {
            "tags": []
          },
          "execution_count": 23
        }
      ]
    },
    {
      "cell_type": "code",
      "metadata": {
        "colab": {
          "base_uri": "https://localhost:8080/"
        },
        "id": "_5CAiX2XwOgU",
        "outputId": "0764c999-896c-480c-f14a-9e238caed47d"
      },
      "source": [
        "img = torch.as_tensor(img)/255\r\n",
        "img = img.unsqueeze(0)\r\n",
        "print(img.shape)\r\n",
        "img = img.permute(0,3,1,2)\r\n",
        "print(img.shape)\r\n",
        "img = F.interpolate(input=img, size=256, align_corners=False, mode='bicubic')\r\n",
        "print(img.shape)"
      ],
      "execution_count": 24,
      "outputs": [
        {
          "output_type": "stream",
          "text": [
            "torch.Size([1, 720, 1280, 3])\n",
            "torch.Size([1, 3, 720, 1280])\n",
            "torch.Size([1, 3, 256, 256])\n"
          ],
          "name": "stdout"
        }
      ]
    },
    {
      "cell_type": "code",
      "metadata": {
        "colab": {
          "base_uri": "https://localhost:8080/"
        },
        "id": "aFErYq4MfYO6",
        "outputId": "3e84b9b6-6d3c-4743-c4e9-9102f6fb6db8"
      },
      "source": [
        "mask_it = np.asarray(Image.open(masks_adapt[-1])).astype('int')\r\n",
        "mask_it.shape"
      ],
      "execution_count": 25,
      "outputs": [
        {
          "output_type": "execute_result",
          "data": {
            "text/plain": [
              "(720, 1280, 3)"
            ]
          },
          "metadata": {
            "tags": []
          },
          "execution_count": 25
        }
      ]
    },
    {
      "cell_type": "code",
      "metadata": {
        "colab": {
          "base_uri": "https://localhost:8080/",
          "height": 258
        },
        "id": "oDpW7C80QmtA",
        "outputId": "b7f6b6e8-58cb-4a06-9434-dd873898e9d8"
      },
      "source": [
        "plt.imshow(Image.open(images_w_mask[-1]))"
      ],
      "execution_count": 70,
      "outputs": [
        {
          "output_type": "execute_result",
          "data": {
            "text/plain": [
              "<matplotlib.image.AxesImage at 0x7fdab64ab358>"
            ]
          },
          "metadata": {
            "tags": []
          },
          "execution_count": 70
        },
        {
          "output_type": "display_data",
          "data": {
            "image/png": "[encoded data removed]",
            "text/plain": [
              "<Figure size 432x288 with 1 Axes>"
            ]
          },
          "metadata": {
            "tags": [],
            "needs_background": "light"
          }
        }
      ]
    },
    {
      "cell_type": "code",
      "metadata": {
        "colab": {
          "base_uri": "https://localhost:8080/",
          "height": 258
        },
        "id": "hGRoYUo4nMHl",
        "outputId": "3201f084-8888-45e8-f58a-45dd3bdbf06a"
      },
      "source": [
        "plt.imshow(mask_it)"
      ],
      "execution_count": 26,
      "outputs": [
        {
          "output_type": "execute_result",
          "data": {
            "text/plain": [
              "<matplotlib.image.AxesImage at 0x7fdad29fed68>"
            ]
          },
          "metadata": {
            "tags": []
          },
          "execution_count": 26
        },
        {
          "output_type": "display_data",
          "data": {
            "image/png": "[encoded data removed]",
            "text/plain": [
              "<Figure size 432x288 with 1 Axes>"
            ]
          },
          "metadata": {
            "tags": [],
            "needs_background": "light"
          }
        }
      ]
    },
    {
      "cell_type": "code",
      "metadata": {
        "colab": {
          "base_uri": "https://localhost:8080/"
        },
        "id": "xqnp57UViXs2",
        "outputId": "c8ce613b-5eb8-4c45-c935-b8b6b3c9da82"
      },
      "source": [
        "mask_it[280, 600:605, :]"
      ],
      "execution_count": 27,
      "outputs": [
        {
          "output_type": "execute_result",
          "data": {
            "text/plain": [
              "array([[0, 0, 0],\n",
              "       [0, 0, 0],\n",
              "       [0, 0, 0],\n",
              "       [0, 0, 0],\n",
              "       [0, 0, 0]])"
            ]
          },
          "metadata": {
            "tags": []
          },
          "execution_count": 27
        }
      ]
    },
    {
      "cell_type": "code",
      "metadata": {
        "colab": {
          "base_uri": "https://localhost:8080/"
        },
        "id": "2Nsjv979it6y",
        "outputId": "612dcd9e-aa2a-4265-f9f6-fdca9a1a6460"
      },
      "source": [
        "min(mask_it[mask_it>0]), max(mask_it[mask_it>0]), np.mean(mask_it[mask_it>0])"
      ],
      "execution_count": 28,
      "outputs": [
        {
          "output_type": "execute_result",
          "data": {
            "text/plain": [
              "(1, 255, 71.01086178085463)"
            ]
          },
          "metadata": {
            "tags": []
          },
          "execution_count": 28
        }
      ]
    },
    {
      "cell_type": "code",
      "metadata": {
        "colab": {
          "base_uri": "https://localhost:8080/"
        },
        "id": "JquSRohToLXd",
        "outputId": "09398cc1-5630-46aa-cf31-f84407f0c5c6"
      },
      "source": [
        "mask_it[mask_it[:, :, 1]>0]"
      ],
      "execution_count": 29,
      "outputs": [
        {
          "output_type": "execute_result",
          "data": {
            "text/plain": [
              "array([[0, 1, 0],\n",
              "       [0, 1, 0],\n",
              "       [0, 1, 0],\n",
              "       ...,\n",
              "       [0, 1, 0],\n",
              "       [0, 2, 0],\n",
              "       [0, 2, 0]])"
            ]
          },
          "metadata": {
            "tags": []
          },
          "execution_count": 29
        }
      ]
    },
    {
      "cell_type": "code",
      "metadata": {
        "colab": {
          "base_uri": "https://localhost:8080/"
        },
        "id": "Eheqh3WGpIk-",
        "outputId": "a440fb09-753e-4960-cb70-a3540115b7de"
      },
      "source": [
        "lab = np.asarray(plt.imread(masks_adapt[-1]))[:,:,1] #.astype('int')\r\n",
        "lab.shape"
      ],
      "execution_count": 30,
      "outputs": [
        {
          "output_type": "execute_result",
          "data": {
            "text/plain": [
              "(720, 1280)"
            ]
          },
          "metadata": {
            "tags": []
          },
          "execution_count": 30
        }
      ]
    },
    {
      "cell_type": "code",
      "metadata": {
        "colab": {
          "base_uri": "https://localhost:8080/"
        },
        "id": "j-dPBdqlqHh1",
        "outputId": "5ae86174-4cfe-4e09-b6a4-7d53836b920f"
      },
      "source": [
        "min(lab[lab>0]), max(lab[lab>0]), np.mean(lab[lab>0])"
      ],
      "execution_count": 31,
      "outputs": [
        {
          "output_type": "execute_result",
          "data": {
            "text/plain": [
              "(0.003921569, 1.0, 0.595959)"
            ]
          },
          "metadata": {
            "tags": []
          },
          "execution_count": 31
        }
      ]
    },
    {
      "cell_type": "code",
      "metadata": {
        "colab": {
          "base_uri": "https://localhost:8080/",
          "height": 258
        },
        "id": "dckSkrI5suzU",
        "outputId": "395fc73f-ec95-4179-a2db-838e3bcbd800"
      },
      "source": [
        "lab[lab>0.4] = 255\r\n",
        "plt.imshow(lab)"
      ],
      "execution_count": 32,
      "outputs": [
        {
          "output_type": "execute_result",
          "data": {
            "text/plain": [
              "<matplotlib.image.AxesImage at 0x7fdad24e9048>"
            ]
          },
          "metadata": {
            "tags": []
          },
          "execution_count": 32
        },
        {
          "output_type": "display_data",
          "data": {
            "image/png": "[encoded data removed]",
            "text/plain": [
              "<Figure size 432x288 with 1 Axes>"
            ]
          },
          "metadata": {
            "tags": [],
            "needs_background": "light"
          }
        }
      ]
    },
    {
      "cell_type": "code",
      "metadata": {
        "colab": {
          "base_uri": "https://localhost:8080/"
        },
        "id": "LnmwIBPiq_8W",
        "outputId": "20e18c89-9f80-4138-f612-dafee7c7998f"
      },
      "source": [
        "lab_2 = np.asarray(Image.open(masks_adapt[-1]))[:,:,1]\r\n",
        "lab_2.shape"
      ],
      "execution_count": 33,
      "outputs": [
        {
          "output_type": "execute_result",
          "data": {
            "text/plain": [
              "(720, 1280)"
            ]
          },
          "metadata": {
            "tags": []
          },
          "execution_count": 33
        }
      ]
    },
    {
      "cell_type": "code",
      "metadata": {
        "colab": {
          "base_uri": "https://localhost:8080/"
        },
        "id": "scKaQK4xrH9i",
        "outputId": "5be3a17e-9f91-4944-cc15-c0309db704c0"
      },
      "source": [
        "min(lab_2[lab_2>0]), max(lab_2[lab_2>0]), np.mean(lab_2[lab_2>0])"
      ],
      "execution_count": 34,
      "outputs": [
        {
          "output_type": "execute_result",
          "data": {
            "text/plain": [
              "(1, 255, 151.96955036994876)"
            ]
          },
          "metadata": {
            "tags": []
          },
          "execution_count": 34
        }
      ]
    },
    {
      "cell_type": "code",
      "metadata": {
        "colab": {
          "base_uri": "https://localhost:8080/",
          "height": 258
        },
        "id": "Rydg73FCpaMk",
        "outputId": "3e574337-de63-4a37-c6c9-b4181191b638"
      },
      "source": [
        "# lab_2[lab_2 > 0] = 255\r\n",
        "plt.imshow(lab_2)"
      ],
      "execution_count": 35,
      "outputs": [
        {
          "output_type": "execute_result",
          "data": {
            "text/plain": [
              "<matplotlib.image.AxesImage at 0x7fdad245b898>"
            ]
          },
          "metadata": {
            "tags": []
          },
          "execution_count": 35
        },
        {
          "output_type": "display_data",
          "data": {
            "image/png": "[encoded data removed]",
            "text/plain": [
              "<Figure size 432x288 with 1 Axes>"
            ]
          },
          "metadata": {
            "tags": [],
            "needs_background": "light"
          }
        }
      ]
    },
    {
      "cell_type": "code",
      "metadata": {
        "colab": {
          "base_uri": "https://localhost:8080/"
        },
        "id": "awOQ5Vu_xqnG",
        "outputId": "719873e6-3821-4fe9-8339-9586fb60626d"
      },
      "source": [
        "lab = np.asarray(plt.imread(masks_adapt[-1]))[:,:,1] #.astype('int')\r\n",
        "lab.shape"
      ],
      "execution_count": 36,
      "outputs": [
        {
          "output_type": "execute_result",
          "data": {
            "text/plain": [
              "(720, 1280)"
            ]
          },
          "metadata": {
            "tags": []
          },
          "execution_count": 36
        }
      ]
    },
    {
      "cell_type": "code",
      "metadata": {
        "id": "Pu_WYxtixwz9"
      },
      "source": [
        "lab[lab<0.4] = 0\r\n",
        "lab[lab>=0.4] = 1"
      ],
      "execution_count": 37,
      "outputs": []
    },
    {
      "cell_type": "code",
      "metadata": {
        "colab": {
          "base_uri": "https://localhost:8080/"
        },
        "id": "vCrUCI0sx5Pt",
        "outputId": "6fd7f48a-563b-453d-f678-0e47e2bbbfd9"
      },
      "source": [
        "min(lab[lab>0]), max(lab[lab>0]), np.mean(lab[lab>0])"
      ],
      "execution_count": 38,
      "outputs": [
        {
          "output_type": "execute_result",
          "data": {
            "text/plain": [
              "(1.0, 1.0, 1.0)"
            ]
          },
          "metadata": {
            "tags": []
          },
          "execution_count": 38
        }
      ]
    },
    {
      "cell_type": "code",
      "metadata": {
        "colab": {
          "base_uri": "https://localhost:8080/"
        },
        "id": "cPzeTc1AyBCF",
        "outputId": "9fc20c73-2dd1-481c-fc29-d721bc28a488"
      },
      "source": [
        "lab = torch.as_tensor(lab)\r\n",
        "print(lab.shape)\r\n",
        "lab = lab.unsqueeze(0).unsqueeze(0)\r\n",
        "print(lab.shape)\r\n",
        "lab = F.interpolate(input=lab, size=256, mode='nearest')\r\n",
        "print(lab.shape)"
      ],
      "execution_count": 39,
      "outputs": [
        {
          "output_type": "stream",
          "text": [
            "torch.Size([720, 1280])\n",
            "torch.Size([1, 1, 720, 1280])\n",
            "torch.Size([1, 1, 256, 256])\n"
          ],
          "name": "stdout"
        }
      ]
    },
    {
      "cell_type": "code",
      "metadata": {
        "colab": {
          "base_uri": "https://localhost:8080/"
        },
        "id": "kdXu-eVlQE2_",
        "outputId": "70ef5e5b-9abf-4a5a-ea32-6e3c791b177b"
      },
      "source": [
        "lab = np.asarray(plt.imread(masks_adapt[-1]))[:,:,1]\r\n",
        "\r\n",
        "f_lp = np.where(lab<0.4, 255, 0)\r\n",
        "t_lp = np.where(lab>=0.4, 255, 0)\r\n",
        "\r\n",
        "f_lp.shape, t_lp.shape"
      ],
      "execution_count": 76,
      "outputs": [
        {
          "output_type": "execute_result",
          "data": {
            "text/plain": [
              "((720, 1280), (720, 1280))"
            ]
          },
          "metadata": {
            "tags": []
          },
          "execution_count": 76
        }
      ]
    },
    {
      "cell_type": "code",
      "metadata": {
        "colab": {
          "base_uri": "https://localhost:8080/"
        },
        "id": "6h9Dr3tvRTWP",
        "outputId": "36f35a5a-b550-4b70-e239-4acd8a0bc471"
      },
      "source": [
        "f_lp[260:290, 614:627]"
      ],
      "execution_count": 90,
      "outputs": [
        {
          "output_type": "execute_result",
          "data": {
            "text/plain": [
              "array([[255, 255, 255, 255, 255, 255, 255, 255, 255, 255, 255, 255, 255],\n",
              "       [255, 255, 255, 255, 255, 255, 255, 255, 255, 255, 255, 255,   0],\n",
              "       [255, 255, 255, 255, 255, 255, 255, 255, 255, 255, 255,   0,   0],\n",
              "       [255, 255, 255, 255, 255, 255, 255, 255, 255, 255,   0,   0,   0],\n",
              "       [255, 255, 255, 255, 255, 255, 255, 255, 255,   0,   0,   0,   0],\n",
              "       [255, 255, 255, 255, 255, 255, 255, 255,   0,   0,   0,   0,   0],\n",
              "       [255, 255, 255, 255, 255, 255, 255,   0,   0,   0,   0,   0,   0],\n",
              "       [255, 255, 255, 255, 255, 255,   0,   0,   0,   0,   0,   0,   0],\n",
              "       [255, 255, 255, 255, 255,   0,   0,   0,   0,   0,   0,   0,   0],\n",
              "       [255, 255, 255, 255,   0,   0,   0,   0,   0,   0,   0,   0,   0],\n",
              "       [255, 255, 255,   0,   0,   0,   0,   0,   0,   0,   0,   0,   0],\n",
              "       [255, 255, 255,   0,   0,   0,   0,   0,   0,   0,   0,   0,   0],\n",
              "       [255, 255,   0,   0,   0,   0,   0,   0,   0,   0,   0,   0,   0],\n",
              "       [255, 255,   0,   0,   0,   0,   0,   0,   0,   0,   0,   0,   0],\n",
              "       [255, 255,   0,   0,   0,   0,   0,   0,   0,   0,   0,   0,   0],\n",
              "       [255,   0,   0,   0,   0,   0,   0,   0,   0,   0,   0,   0,   0],\n",
              "       [255,   0,   0,   0,   0,   0,   0,   0,   0,   0,   0,   0,   0],\n",
              "       [255, 255,   0,   0,   0,   0,   0,   0,   0,   0,   0,   0,   0],\n",
              "       [255, 255,   0,   0,   0,   0,   0,   0,   0,   0,   0,   0,   0],\n",
              "       [255, 255,   0,   0,   0,   0,   0,   0,   0,   0,   0,   0,   0],\n",
              "       [255, 255, 255,   0,   0,   0,   0,   0,   0,   0,   0,   0,   0],\n",
              "       [255, 255, 255, 255,   0,   0,   0,   0,   0,   0,   0,   0,   0],\n",
              "       [255, 255, 255, 255,   0,   0,   0,   0,   0,   0,   0,   0,   0],\n",
              "       [255, 255, 255, 255, 255,   0,   0,   0,   0,   0,   0,   0,   0],\n",
              "       [255, 255, 255, 255, 255, 255,   0,   0,   0,   0,   0,   0,   0],\n",
              "       [255, 255, 255, 255, 255, 255,   0,   0,   0,   0,   0,   0,   0],\n",
              "       [255, 255, 255, 255, 255, 255, 255, 255,   0,   0,   0,   0,   0],\n",
              "       [255, 255, 255, 255, 255, 255, 255, 255, 255,   0,   0,   0,   0],\n",
              "       [255, 255, 255, 255, 255, 255, 255, 255, 255, 255,   0,   0,   0],\n",
              "       [255, 255, 255, 255, 255, 255, 255, 255, 255, 255, 255,   0,   0]])"
            ]
          },
          "metadata": {
            "tags": []
          },
          "execution_count": 90
        }
      ]
    },
    {
      "cell_type": "code",
      "metadata": {
        "colab": {
          "base_uri": "https://localhost:8080/"
        },
        "id": "KVNFDoBKSn_Q",
        "outputId": "435ff526-e7aa-433f-de10-6800ff70f4ea"
      },
      "source": [
        "t_lp[260:290, 614:627]"
      ],
      "execution_count": 91,
      "outputs": [
        {
          "output_type": "execute_result",
          "data": {
            "text/plain": [
              "array([[  0,   0,   0,   0,   0,   0,   0,   0,   0,   0,   0,   0,   0],\n",
              "       [  0,   0,   0,   0,   0,   0,   0,   0,   0,   0,   0,   0, 255],\n",
              "       [  0,   0,   0,   0,   0,   0,   0,   0,   0,   0,   0, 255, 255],\n",
              "       [  0,   0,   0,   0,   0,   0,   0,   0,   0,   0, 255, 255, 255],\n",
              "       [  0,   0,   0,   0,   0,   0,   0,   0,   0, 255, 255, 255, 255],\n",
              "       [  0,   0,   0,   0,   0,   0,   0,   0, 255, 255, 255, 255, 255],\n",
              "       [  0,   0,   0,   0,   0,   0,   0, 255, 255, 255, 255, 255, 255],\n",
              "       [  0,   0,   0,   0,   0,   0, 255, 255, 255, 255, 255, 255, 255],\n",
              "       [  0,   0,   0,   0,   0, 255, 255, 255, 255, 255, 255, 255, 255],\n",
              "       [  0,   0,   0,   0, 255, 255, 255, 255, 255, 255, 255, 255, 255],\n",
              "       [  0,   0,   0, 255, 255, 255, 255, 255, 255, 255, 255, 255, 255],\n",
              "       [  0,   0,   0, 255, 255, 255, 255, 255, 255, 255, 255, 255, 255],\n",
              "       [  0,   0, 255, 255, 255, 255, 255, 255, 255, 255, 255, 255, 255],\n",
              "       [  0,   0, 255, 255, 255, 255, 255, 255, 255, 255, 255, 255, 255],\n",
              "       [  0,   0, 255, 255, 255, 255, 255, 255, 255, 255, 255, 255, 255],\n",
              "       [  0, 255, 255, 255, 255, 255, 255, 255, 255, 255, 255, 255, 255],\n",
              "       [  0, 255, 255, 255, 255, 255, 255, 255, 255, 255, 255, 255, 255],\n",
              "       [  0,   0, 255, 255, 255, 255, 255, 255, 255, 255, 255, 255, 255],\n",
              "       [  0,   0, 255, 255, 255, 255, 255, 255, 255, 255, 255, 255, 255],\n",
              "       [  0,   0, 255, 255, 255, 255, 255, 255, 255, 255, 255, 255, 255],\n",
              "       [  0,   0,   0, 255, 255, 255, 255, 255, 255, 255, 255, 255, 255],\n",
              "       [  0,   0,   0,   0, 255, 255, 255, 255, 255, 255, 255, 255, 255],\n",
              "       [  0,   0,   0,   0, 255, 255, 255, 255, 255, 255, 255, 255, 255],\n",
              "       [  0,   0,   0,   0,   0, 255, 255, 255, 255, 255, 255, 255, 255],\n",
              "       [  0,   0,   0,   0,   0,   0, 255, 255, 255, 255, 255, 255, 255],\n",
              "       [  0,   0,   0,   0,   0,   0, 255, 255, 255, 255, 255, 255, 255],\n",
              "       [  0,   0,   0,   0,   0,   0,   0,   0, 255, 255, 255, 255, 255],\n",
              "       [  0,   0,   0,   0,   0,   0,   0,   0,   0, 255, 255, 255, 255],\n",
              "       [  0,   0,   0,   0,   0,   0,   0,   0,   0,   0, 255, 255, 255],\n",
              "       [  0,   0,   0,   0,   0,   0,   0,   0,   0,   0,   0, 255, 255]])"
            ]
          },
          "metadata": {
            "tags": []
          },
          "execution_count": 91
        }
      ]
    },
    {
      "cell_type": "code",
      "metadata": {
        "colab": {
          "base_uri": "https://localhost:8080/"
        },
        "id": "qq5xhuyWI7v_",
        "outputId": "9d5d58ca-6e7f-42cf-d789-6ef5d9ee5783"
      },
      "source": [
        "lab = np.asarray(plt.imread(masks_adapt[-1]))[:,:,1]\r\n",
        "\r\n",
        "f_lp = torch.as_tensor(np.where(lab<0.4, 255, 0)).unsqueeze(0)\r\n",
        "t_lp = torch.as_tensor(np.where(lab>=0.4, 255, 0)).unsqueeze(0)\r\n",
        "\r\n",
        "t_lp = torch.cat((t_lp, f_lp), dim=0).unsqueeze(0)\r\n",
        "lab = F.interpolate(input=t_lp.float(), size=256, mode='nearest')\r\n",
        "lab.shape"
      ],
      "execution_count": 54,
      "outputs": [
        {
          "output_type": "execute_result",
          "data": {
            "text/plain": [
              "torch.Size([1, 2, 256, 256])"
            ]
          },
          "metadata": {
            "tags": []
          },
          "execution_count": 54
        }
      ]
    },
    {
      "cell_type": "code",
      "metadata": {
        "id": "c-NMo6XHcsss"
      },
      "source": [
        "class CustomDatasetFromImages(Dataset):\r\n",
        "    def __init__(self, data_info):\r\n",
        "        # Подаем наш подготовленный датафрейм\r\n",
        "        self.data_info = data_info\r\n",
        "        \r\n",
        "        # Разделяем датафрейм на rgb картинки \r\n",
        "        self.image_arr = self.data_info.iloc[:,0]\r\n",
        "        # и на сегментированные картинки\r\n",
        "        self.label_arr = self.data_info.iloc[:,1]\r\n",
        "        \r\n",
        "        # Количество пар картинка-сегментация\r\n",
        "        self.data_len = len(self.data_info.index)\r\n",
        "\r\n",
        "    def __getitem__(self, index):\r\n",
        "        # Читаем картинку и сразу же представляем ее в виде numpy-массива \r\n",
        "        # размера 720х1280 float-значний\r\n",
        "        img = np.asarray(Image.open(self.image_arr[index])).astype('float')\r\n",
        "        # Нормализуем изображение в значениях [0,1]\r\n",
        "        img = torch.as_tensor(img)/255    \r\n",
        "        # 1) unsqueeze - меняет размерность img c (720, 1280, 3) -> (1, 720, 1280, 3),\r\n",
        "        # т.е. оборачивает картинку в батч размером в одну картинку\r\n",
        "        # 2) permute - меняет местами измерения , т.е. (1, 720, 1280, 3) -> (1, 3, 720, 1280)\r\n",
        "        img = img.unsqueeze(0).permute(0,3,1,2)\r\n",
        "        # Мы используем функцию интерполяции для того,\r\n",
        "        # чтобы поменять рамерность картинки с 1280х720 на 256х256\r\n",
        "        img = F.interpolate(input=img, size=256, align_corners=False, mode='bicubic')\r\n",
        "        \r\n",
        "        # итаем сегментированную картинку и сразу же представляем ее в виде numpy-массива \r\n",
        "        lab = np.asarray(plt.imread(self.label_arr[index]))[:,:,1]\r\n",
        "\r\n",
        "        f_lp = torch.as_tensor(np.where(lab<0.4, 255, 0)).unsqueeze(0)\r\n",
        "        t_lp = torch.as_tensor(np.where(lab>=0.4, 255, 0)).unsqueeze(0)\r\n",
        "\r\n",
        "        t_lp = torch.cat((t_lp, f_lp), dim=0).unsqueeze(0)\r\n",
        "        # делаем ресайз картинки на 256х256\r\n",
        "        lab = F.interpolate(input=t_lp.float(), size=256, mode='nearest')\r\n",
        "\r\n",
        "        return (img.float(), lab.float())\r\n",
        "\r\n",
        "    def __len__(self):\r\n",
        "        return self.data_len"
      ],
      "execution_count": 113,
      "outputs": []
    },
    {
      "cell_type": "code",
      "metadata": {
        "id": "wIXdADy01rC_"
      },
      "source": [
        "from sklearn.model_selection import train_test_split\r\n",
        "\r\n",
        "# 80 % в тренировочную выборку, 20 - в тестовую\r\n",
        "X_data, X_test = train_test_split(df, test_size=0.2)\r\n",
        "# 20 - в валидационную\r\n",
        "X_train, X_valid = train_test_split(X_data, test_size=0.2)\r\n",
        "\r\n",
        "# Упорядочиваем индексацию\r\n",
        "X_train.reset_index(drop=True,inplace=True)\r\n",
        "X_valid.reset_index(drop=True,inplace=True)\r\n",
        "X_test.reset_index(drop=True,inplace=True)\r\n",
        "\r\n",
        "# Оборачиваем каждую выборку в наш кастомный датасет\r\n",
        "train_data = CustomDatasetFromImages(X_train[:90])\r\n",
        "valid_data = CustomDatasetFromImages(X_valid[:90])\r\n",
        "test_data = CustomDatasetFromImages(X_test)"
      ],
      "execution_count": 114,
      "outputs": []
    },
    {
      "cell_type": "code",
      "metadata": {
        "id": "070phrKH1zY1"
      },
      "source": [
        "batch_s = 3\r\n",
        "\r\n",
        "train_data_loader = DataLoader(train_data, batch_size=batch_s, shuffle=True)\r\n",
        "valid_data_loader = DataLoader(valid_data, batch_size=batch_s, shuffle=True)\r\n",
        "test_data_loader = DataLoader(test_data, batch_size=1, shuffle=False)"
      ],
      "execution_count": 115,
      "outputs": []
    },
    {
      "cell_type": "code",
      "metadata": {
        "id": "pp73ZZrcIPfw"
      },
      "source": [
        "labels = ['NoLips','Lips']"
      ],
      "execution_count": 116,
      "outputs": []
    },
    {
      "cell_type": "markdown",
      "metadata": {
        "id": "wsPMSy8E_Mjt"
      },
      "source": [
        "## Задание 3"
      ]
    },
    {
      "cell_type": "markdown",
      "metadata": {
        "id": "RvmjUKUt_SVQ"
      },
      "source": [
        "Обучить Модель на выбор из segmentation_models_pytorch"
      ]
    },
    {
      "cell_type": "code",
      "metadata": {
        "id": "hQ6bRlC3_Nq6",
        "colab": {
          "base_uri": "https://localhost:8080/"
        },
        "outputId": "61957a28-9e0d-4ce0-bff5-f791c551d2fe"
      },
      "source": [
        "device = torch.device('cuda') if torch.cuda.is_available() else torch.device('cpu')\r\n",
        "print(device)"
      ],
      "execution_count": 117,
      "outputs": [
        {
          "output_type": "stream",
          "text": [
            "cuda\n"
          ],
          "name": "stdout"
        }
      ]
    },
    {
      "cell_type": "code",
      "metadata": {
        "id": "AYywdUIn15_d"
      },
      "source": [
        "learning_rate = 0.001\r\n",
        "epochs = 7\r\n",
        "\r\n",
        "# создание модели\r\n",
        "segmodel = smp.Unet('resnet34', classes=2, activation='softmax').to(device)\r\n",
        "\r\n",
        "criterion = SoftDiceLoss()\r\n",
        "optimizer = torch.optim.Adam(segmodel.parameters(), lr=learning_rate)"
      ],
      "execution_count": 118,
      "outputs": []
    },
    {
      "cell_type": "code",
      "metadata": {
        "id": "BpgaYmiX2E8c"
      },
      "source": [
        "path_checkpoint = \"checkpoints_lp\"\r\n",
        "if not os.path.exists(path_checkpoint):\r\n",
        "    os.mkdir(path_checkpoint)"
      ],
      "execution_count": 119,
      "outputs": []
    },
    {
      "cell_type": "code",
      "metadata": {
        "colab": {
          "base_uri": "https://localhost:8080/"
        },
        "id": "f65gsvsd2MOd",
        "outputId": "a47378a0-0c9d-45bb-ecd9-15f070274095"
      },
      "source": [
        "epoch_losses = []\r\n",
        "epoch_val_losses = []\r\n",
        "\r\n",
        "for epoch in range(epochs):  # loop over the dataset multiple times\r\n",
        "    running_loss = 0.0\r\n",
        "    cum_loss = []\r\n",
        "\r\n",
        "    print(f'Epoch: {epoch+1}')\r\n",
        "    time1 = time.time()\r\n",
        "    segmodel.train()\r\n",
        "    for i, data in enumerate(train_data_loader, 0):\r\n",
        "        # get the inputs; data is a list of [inputs, labels]\r\n",
        "        inputs, labels = data\r\n",
        "        inputs = inputs.to(device) # .cuda()\r\n",
        "        labels = labels.to(device) # .cuda()\r\n",
        "\r\n",
        "        # zero the parameter gradients\r\n",
        "        optimizer.zero_grad()\r\n",
        "\r\n",
        "        # forward + backward + optimize\r\n",
        "        outputs = segmodel(inputs[0])\r\n",
        "        loss = criterion(outputs, labels[0,:,:,:])\r\n",
        "        loss.backward()\r\n",
        "        optimizer.step()\r\n",
        "\r\n",
        "        # print statistics\r\n",
        "        running_loss += loss.item()\r\n",
        "        cum_loss.append(loss.item())\r\n",
        "        if not (i+1) % 10:    # print every 10 mini-batches\r\n",
        "            print(f'\\tbatchcount: {i+1}, avg. loss for last {batch_s*10} images: {running_loss/(batch_s*10):.5f}')\r\n",
        "            running_loss = 0.0\r\n",
        "\r\n",
        "    time2 = time.time()\r\n",
        "    epoch_losses.append(np.mean(cum_loss))\r\n",
        "    torch.save(segmodel.state_dict(), path_checkpoint + f\"/checkpoint_lp_ep_{epoch}.pth\")\r\n",
        "\r\n",
        "    cum_loss = []\r\n",
        "    segmodel.eval()\r\n",
        "    with torch.no_grad():\r\n",
        "        running_val_loss = 0.0\r\n",
        "        for i, data in enumerate(valid_data_loader, 0):\r\n",
        "            inputs, labels = data\r\n",
        "            inputs = inputs.to(device) # .cuda()\r\n",
        "            labels = labels.to(device) # .cuda()\r\n",
        "\r\n",
        "            outputs = segmodel(inputs[0])\r\n",
        "            loss = criterion(outputs, labels[0,:,:,:])\r\n",
        "\r\n",
        "            running_val_loss += loss.item()\r\n",
        "            cum_loss.append(loss.item())\r\n",
        "\r\n",
        "    epoch_val_losses.append(np.mean(cum_loss))\r\n",
        "    print(f'\\n  Epoch {epoch+1}, loss: {epoch_losses[-1]:.5f} loss_val: {epoch_val_losses[-1]:.5f} time = {time2-time1:.2f} sec\\n')"
      ],
      "execution_count": 120,
      "outputs": [
        {
          "output_type": "stream",
          "text": [
            "Epoch: 1\n"
          ],
          "name": "stdout"
        },
        {
          "output_type": "stream",
          "text": [
            "/usr/local/lib/python3.6/dist-packages/segmentation_models_pytorch/base/modules.py:102: UserWarning: Implicit dimension choice for softmax has been deprecated. Change the call to include dim=X as an argument.\n",
            "  return self.activation(x)\n"
          ],
          "name": "stderr"
        },
        {
          "output_type": "stream",
          "text": [
            "\tbatchcount: 10, avg. loss for last 30 images: -0.08831\n",
            "\tbatchcount: 20, avg. loss for last 30 images: -0.11779\n",
            "\tbatchcount: 30, avg. loss for last 30 images: -0.13226\n",
            "\n",
            "  Epoch 1, loss: -0.33837 loss_val: -0.42683 time = 8.61 sec\n",
            "\n",
            "Epoch: 2\n",
            "\tbatchcount: 10, avg. loss for last 30 images: -0.14264\n",
            "\tbatchcount: 20, avg. loss for last 30 images: -0.14704\n",
            "\tbatchcount: 30, avg. loss for last 30 images: -0.14802\n",
            "\n",
            "  Epoch 2, loss: -0.43770 loss_val: -0.45013 time = 8.54 sec\n",
            "\n",
            "Epoch: 3\n",
            "\tbatchcount: 10, avg. loss for last 30 images: -0.14969\n",
            "\tbatchcount: 20, avg. loss for last 30 images: -0.15034\n",
            "\tbatchcount: 30, avg. loss for last 30 images: -0.15043\n",
            "\n",
            "  Epoch 3, loss: -0.45046 loss_val: -0.45055 time = 8.51 sec\n",
            "\n",
            "Epoch: 4\n",
            "\tbatchcount: 10, avg. loss for last 30 images: -0.15043\n",
            "\tbatchcount: 20, avg. loss for last 30 images: -0.14901\n",
            "\tbatchcount: 30, avg. loss for last 30 images: -0.15024\n",
            "\n",
            "  Epoch 4, loss: -0.44968 loss_val: -0.45061 time = 8.41 sec\n",
            "\n",
            "Epoch: 5\n",
            "\tbatchcount: 10, avg. loss for last 30 images: -0.15088\n",
            "\tbatchcount: 20, avg. loss for last 30 images: -0.15076\n",
            "\tbatchcount: 30, avg. loss for last 30 images: -0.15056\n",
            "\n",
            "  Epoch 5, loss: -0.45220 loss_val: -0.45182 time = 8.38 sec\n",
            "\n",
            "Epoch: 6\n",
            "\tbatchcount: 10, avg. loss for last 30 images: -0.15063\n",
            "\tbatchcount: 20, avg. loss for last 30 images: -0.15090\n",
            "\tbatchcount: 30, avg. loss for last 30 images: -0.15071\n",
            "\n",
            "  Epoch 6, loss: -0.45224 loss_val: -0.45291 time = 8.45 sec\n",
            "\n",
            "Epoch: 7\n",
            "\tbatchcount: 10, avg. loss for last 30 images: -0.15099\n",
            "\tbatchcount: 20, avg. loss for last 30 images: -0.15098\n",
            "\tbatchcount: 30, avg. loss for last 30 images: -0.15004\n",
            "\n",
            "  Epoch 7, loss: -0.45201 loss_val: -0.45103 time = 8.46 sec\n",
            "\n"
          ],
          "name": "stdout"
        }
      ]
    },
    {
      "cell_type": "code",
      "metadata": {
        "colab": {
          "base_uri": "https://localhost:8080/",
          "height": 281
        },
        "id": "RJabmiul2S2G",
        "outputId": "9c7e02d5-b0e4-4418-c2b0-de6888075c2b"
      },
      "source": [
        "plt.plot(np.arange(1, 8), epoch_losses, 'go-', label='train loss')\r\n",
        "plt.plot(np.arange(1, 8), epoch_val_losses, 'ro-', label='validation loss')\r\n",
        "\r\n",
        "plt.legend(loc=\"upper right\")\r\n",
        "plt.grid(color=\"lightgrey\")\r\n",
        "plt.title('Сравнение train и valid loss' )\r\n",
        "plt.show()"
      ],
      "execution_count": 121,
      "outputs": [
        {
          "output_type": "display_data",
          "data": {
            "image/png": "[encoded data removed]",
            "text/plain": [
              "<Figure size 432x288 with 1 Axes>"
            ]
          },
          "metadata": {
            "tags": [],
            "needs_background": "light"
          }
        }
      ]
    },
    {
      "cell_type": "markdown",
      "metadata": {
        "id": "5n4ifZqm_O3f"
      },
      "source": [
        "## Задание 4"
      ]
    },
    {
      "cell_type": "markdown",
      "metadata": {
        "id": "vqdRlltq_TA_"
      },
      "source": [
        "Переделайте архитектуру декодера Unet так, как в этой работе https://www.ics.uci.edu/~haoyum3/papers/slides_icivc.pdf. Эта тема пересекается с темой о второго вебинара о LSTM-сетях. И попробуйте обучить получившуюся нейронную сеть."
      ]
    },
    {
      "cell_type": "code",
      "metadata": {
        "id": "qgnfkGaA_QUA"
      },
      "source": [
        ""
      ],
      "execution_count": null,
      "outputs": []
    }
  ]
}