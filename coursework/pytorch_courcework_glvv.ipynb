{
  "nbformat": 4,
  "nbformat_minor": 0,
  "metadata": {
    "colab": {
      "name": "pytorch_courcework_glvv.ipynb",
      "provenance": [],
      "collapsed_sections": [],
      "toc_visible": true
    },
    "kernelspec": {
      "name": "python3",
      "display_name": "Python 3"
    },
    "accelerator": "GPU"
  },
  "cells": [
    {
      "cell_type": "markdown",
      "metadata": {
        "id": "4A-cxY5my-Po"
      },
      "source": [
        "# Курсовая работа Гладышев В.В."
      ]
    },
    {
      "cell_type": "markdown",
      "metadata": {
        "id": "cSiIpYCHzUDA"
      },
      "source": [
        "## Подготовка данных"
      ]
    },
    {
      "cell_type": "markdown",
      "metadata": {
        "id": "HbAoklEG603S"
      },
      "source": [
        "### Получение данных"
      ]
    },
    {
      "cell_type": "code",
      "metadata": {
        "id": "TupWM9NPy9UJ"
      },
      "source": [
        "!pip install -U -q kaggle\r\n",
        "!mkdir -p ~/.kaggle"
      ],
      "execution_count": 1,
      "outputs": []
    },
    {
      "cell_type": "code",
      "metadata": {
        "colab": {
          "resources": {
            "http://localhost:8080/nbextensions/google.colab/files.js": {
              "data": "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",
              "ok": true,
              "headers": [
                [
                  "content-type",
                  "application/javascript"
                ]
              ],
              "status": 200,
              "status_text": ""
            }
          },
          "base_uri": "https://localhost:8080/",
          "height": 91
        },
        "id": "c4J5rNM_4QL3",
        "outputId": "d6bb39c3-d077-4678-be2a-532a71df5e24"
      },
      "source": [
        "from google.colab import files\r\n",
        "files.upload()"
      ],
      "execution_count": 2,
      "outputs": [
        {
          "output_type": "display_data",
          "data": {
            "text/html": [
              "\n",
              "     <input type=\"file\" id=\"files-74f64671-70b8-4b43-b825-08012c66b4dc\" name=\"files[]\" multiple disabled\n",
              "        style=\"border:none\" />\n",
              "     <output id=\"result-74f64671-70b8-4b43-b825-08012c66b4dc\">\n",
              "      Upload widget is only available when the cell has been executed in the\n",
              "      current browser session. Please rerun this cell to enable.\n",
              "      </output>\n",
              "      <script src=\"/nbextensions/google.colab/files.js\"></script> "
            ],
            "text/plain": [
              "<IPython.core.display.HTML object>"
            ]
          },
          "metadata": {
            "tags": []
          }
        },
        {
          "output_type": "stream",
          "text": [
            "Saving kaggle.json to kaggle.json\n"
          ],
          "name": "stdout"
        },
        {
          "output_type": "execute_result",
          "data": {
            "text/plain": [
              "{'kaggle.json': b'{\"username\":\"vitalygladyshev\",\"key\":\"2bbb481c72ed617b4a8a26ea850c3ec9\"}'}"
            ]
          },
          "metadata": {
            "tags": []
          },
          "execution_count": 2
        }
      ]
    },
    {
      "cell_type": "code",
      "metadata": {
        "colab": {
          "base_uri": "https://localhost:8080/"
        },
        "id": "SOYnR1Bd4XmF",
        "outputId": "bd2ac28d-4c89-44a8-d001-41502e4d4c07"
      },
      "source": [
        "!mv kaggle.json ~/.kaggle/\r\n",
        "!chmod 600 ~/.kaggle/kaggle.json\r\n",
        "!ls -la ~/.kaggle/"
      ],
      "execution_count": 5,
      "outputs": [
        {
          "output_type": "stream",
          "text": [
            "total 16\n",
            "drwxr-xr-x 2 root root 4096 Dec 26 18:52 .\n",
            "drwx------ 1 root root 4096 Dec 26 18:04 ..\n",
            "-rw------- 1 root root   71 Dec 26 18:52 kaggle.json\n"
          ],
          "name": "stdout"
        }
      ]
    },
    {
      "cell_type": "code",
      "metadata": {
        "colab": {
          "base_uri": "https://localhost:8080/"
        },
        "id": "x73iwMKn4kAd",
        "outputId": "6638cfb1-2e6b-4457-a0d4-0ec10eb6dfd2"
      },
      "source": [
        "!kaggle datasets list -s gesture"
      ],
      "execution_count": 6,
      "outputs": [
        {
          "output_type": "stream",
          "text": [
            "Warning: Looks like you're using an outdated API Version, please consider updating (server 1.5.10 / client 1.5.4)\n",
            "ref                                                     title                                                size  lastUpdated          downloadCount  \n",
            "------------------------------------------------------  --------------------------------------------------  -----  -------------------  -------------  \n",
            "gti-upm/leapgestrecog                                   Hand Gesture Recognition Database                     2GB  2018-07-30 06:43:29          10189  \n",
            "kyr7plus/emg-4                                          Classify gestures by reading muscle activity.       868KB  2018-12-09 17:45:37           2535  \n",
            "datamunge/sign-language-mnist                           Sign Language MNIST                                  63MB  2017-10-20 15:09:18          34848  \n",
            "shayanriyaz/gesture-recognition                         Gesture Recognition                                   2MB  2020-02-25 18:12:57             74  \n",
            "corrphilip/numeral-gestures                             Numeral Gestures recorded on iOS                     34MB  2017-08-24 16:22:16            350  \n",
            "ahmedkhanak1995/sign-language-gesture-images-dataset    Sign Language Gesture Images Dataset                191MB  2019-09-10 20:54:35            842  \n",
            "gti-upm/depthgestrecog                                  Depth based Gesture Recognition Database            557MB  2018-07-26 14:44:41            352  \n",
            "bitthal/hand-gesture-dataset                            Hand Gesture Dataset                                  3MB  2019-12-28 15:25:43            100  \n",
            "destin369y/interactivehandgesture1                      Interactive Hand Gesture                              2GB  2018-01-24 21:53:55            762  \n",
            "gti-upm/multimodhandgestrec                             Multi-Modal Dataset for Hand Gesture Recognition      6GB  2018-07-30 07:10:03            860  \n",
            "evernext10/hand-gesture-of-the-colombian-sign-language  Hand Gesture of the Colombian sign language          22GB  2018-11-07 18:14:39            655  \n",
            "tobirohrer/hololens-gesture-data                        HoloLens Gesture Data                                 2MB  2020-04-03 10:39:29              6  \n",
            "gti-upm/leaphandgestuav                                 LeapMotion Hand Gesture Dataset for UAV Management   26GB  2018-07-30 09:29:20            401  \n",
            "muhammadkhalid/sign-language-for-alphabets              Sign Language for Alphabets                          98MB  2019-11-14 20:06:56            244  \n",
            "muhammadkhalid/sign-language-for-numbers                Sign Language for Numbers                            48MB  2019-11-14 17:45:47            282  \n",
            "sprakash08/hand-gestures-recognition                    Hand Gestures Recognition                             7MB  2019-12-22 22:08:17             87  \n",
            "ashish8898/hand-gestures                                Hand Gestures                                       140MB  2018-06-15 09:02:45            745  \n",
            "ash2703/handsignimages                                  hand-sign-images                                     23MB  2020-04-07 10:22:31            221  \n",
            "dylanmendonca/hand_gestures                             Hand Gestures                                        41MB  2019-07-26 06:10:11             95  \n",
            "cdcaleanu/upt-tof-3d-hand-gesture-database              UPT Time of Flight 3D Hand Gesture Database         571MB  2020-03-02 18:18:55             18  \n"
          ],
          "name": "stdout"
        }
      ]
    },
    {
      "cell_type": "code",
      "metadata": {
        "colab": {
          "base_uri": "https://localhost:8080/"
        },
        "id": "6MC2bHqc5ABU",
        "outputId": "a4530953-bdeb-4cb8-90f4-d04610c45e9d"
      },
      "source": [
        "!kaggle datasets download -d gti-upm/leapgestrecog \r\n",
        "!ls"
      ],
      "execution_count": 7,
      "outputs": [
        {
          "output_type": "stream",
          "text": [
            "leapgestrecog.zip: Skipping, found more recently modified local copy (use --force to force download)\n",
            "data  leapgestrecog  leapGestRecog  leapgestrecog.zip  net  sample_data\n"
          ],
          "name": "stdout"
        }
      ]
    },
    {
      "cell_type": "code",
      "metadata": {
        "id": "FJhVJj_a5QN1"
      },
      "source": [
        "from zipfile import ZipFile"
      ],
      "execution_count": 8,
      "outputs": []
    },
    {
      "cell_type": "code",
      "metadata": {
        "id": "aG90DLAA6Wuu"
      },
      "source": [
        "zip_file = ZipFile('leapgestrecog.zip')\r\n",
        "zip_file.extractall()   # \"./lyft-udacity-challenge\")"
      ],
      "execution_count": 9,
      "outputs": []
    },
    {
      "cell_type": "code",
      "metadata": {
        "colab": {
          "base_uri": "https://localhost:8080/"
        },
        "id": "UU4cw6bP6gJm",
        "outputId": "4a7adb90-18e0-476b-e64d-028ec7ff4599"
      },
      "source": [
        "!ls"
      ],
      "execution_count": 10,
      "outputs": [
        {
          "output_type": "stream",
          "text": [
            "data  leapgestrecog  leapGestRecog  leapgestrecog.zip  net  sample_data\n"
          ],
          "name": "stdout"
        }
      ]
    },
    {
      "cell_type": "code",
      "metadata": {
        "id": "OhPFFKR78sPS"
      },
      "source": [
        "path = \"./leapGestRecog\""
      ],
      "execution_count": 11,
      "outputs": []
    },
    {
      "cell_type": "markdown",
      "metadata": {
        "id": "1Ll-To-K66Vx"
      },
      "source": [
        "### Предобработка данных"
      ]
    },
    {
      "cell_type": "code",
      "metadata": {
        "id": "xKZ0hpkJ9b2R"
      },
      "source": [
        "import os"
      ],
      "execution_count": 12,
      "outputs": []
    },
    {
      "cell_type": "code",
      "metadata": {
        "colab": {
          "base_uri": "https://localhost:8080/"
        },
        "id": "wBwwM_kw6pVE",
        "outputId": "c3dd3520-7780-4064-ae7b-dbe4f9355577"
      },
      "source": [
        "class_names = {}\r\n",
        "file_counter = {}\r\n",
        "file_img = {}\r\n",
        "\r\n",
        "for root, dirs, files in os.walk(path):\r\n",
        "    if dirs:\r\n",
        "        if len(dirs[2]) > 3 and dirs[2][2] == '_':\r\n",
        "            for dir in dirs:\r\n",
        "                class_names[int(dir[:2])-1] = dir[3:]\r\n",
        "                file_counter[int(dir[:2])-1] = 0\r\n",
        "                file_img[int(dir[:2])-1] = []\r\n",
        "            break\r\n",
        "\r\n",
        "class_names"
      ],
      "execution_count": 13,
      "outputs": [
        {
          "output_type": "execute_result",
          "data": {
            "text/plain": [
              "{0: 'palm',\n",
              " 1: 'l',\n",
              " 2: 'fist',\n",
              " 3: 'fist_moved',\n",
              " 4: 'thumb',\n",
              " 5: 'index',\n",
              " 6: 'ok',\n",
              " 7: 'palm_moved',\n",
              " 8: 'c',\n",
              " 9: 'down'}"
            ]
          },
          "metadata": {
            "tags": []
          },
          "execution_count": 13
        }
      ]
    },
    {
      "cell_type": "code",
      "metadata": {
        "colab": {
          "base_uri": "https://localhost:8080/"
        },
        "id": "uuq8lGF09aiW",
        "outputId": "852a9a61-c749-40ac-91ec-03d16d1cb17e"
      },
      "source": [
        "file_counter"
      ],
      "execution_count": 14,
      "outputs": [
        {
          "output_type": "execute_result",
          "data": {
            "text/plain": [
              "{0: 0, 1: 0, 2: 0, 3: 0, 4: 0, 5: 0, 6: 0, 7: 0, 8: 0, 9: 0}"
            ]
          },
          "metadata": {
            "tags": []
          },
          "execution_count": 14
        }
      ]
    },
    {
      "cell_type": "code",
      "metadata": {
        "colab": {
          "base_uri": "https://localhost:8080/"
        },
        "id": "z3a5XV-HE1Qm",
        "outputId": "ec75f6d0-9410-4d19-dd87-65f3871fdf7d"
      },
      "source": [
        "file_img"
      ],
      "execution_count": 15,
      "outputs": [
        {
          "output_type": "execute_result",
          "data": {
            "text/plain": [
              "{0: [], 1: [], 2: [], 3: [], 4: [], 5: [], 6: [], 7: [], 8: [], 9: []}"
            ]
          },
          "metadata": {
            "tags": []
          },
          "execution_count": 15
        }
      ]
    },
    {
      "cell_type": "code",
      "metadata": {
        "colab": {
          "base_uri": "https://localhost:8080/"
        },
        "id": "14YdxZOoBmVP",
        "outputId": "b99b24e2-6257-4f90-9fc1-45448f081f1b"
      },
      "source": [
        "for root, dirs, files in os.walk(path):\r\n",
        "    for fl in files:\r\n",
        "        file_counter[int(fl[9:11])-1] += 1\r\n",
        "        f = os.path.join(root, fl)\r\n",
        "        file_img[int(fl[9:11])-1].append(f)\r\n",
        "file_counter"
      ],
      "execution_count": 16,
      "outputs": [
        {
          "output_type": "execute_result",
          "data": {
            "text/plain": [
              "{0: 2000,\n",
              " 1: 2000,\n",
              " 2: 2000,\n",
              " 3: 2000,\n",
              " 4: 2000,\n",
              " 5: 2000,\n",
              " 6: 2000,\n",
              " 7: 2000,\n",
              " 8: 2000,\n",
              " 9: 2000}"
            ]
          },
          "metadata": {
            "tags": []
          },
          "execution_count": 16
        }
      ]
    },
    {
      "cell_type": "code",
      "metadata": {
        "colab": {
          "base_uri": "https://localhost:8080/",
          "height": 35
        },
        "id": "FwL6mxun3-Bg",
        "outputId": "7cab41ec-4da8-45d7-ea7c-52b8ededcebd"
      },
      "source": [
        "file_img[0][0]"
      ],
      "execution_count": 17,
      "outputs": [
        {
          "output_type": "execute_result",
          "data": {
            "application/vnd.google.colaboratory.intrinsic+json": {
              "type": "string"
            },
            "text/plain": [
              "'./leapGestRecog/05/01_palm/frame_05_01_0130.png'"
            ]
          },
          "metadata": {
            "tags": []
          },
          "execution_count": 17
        }
      ]
    },
    {
      "cell_type": "code",
      "metadata": {
        "colab": {
          "base_uri": "https://localhost:8080/"
        },
        "id": "RU80qFi7CISn",
        "outputId": "6bb5fb84-4c2e-451d-91cd-c7dcc5dfe1e9"
      },
      "source": [
        "file_img[0][:5], file_img[0][-5:]"
      ],
      "execution_count": 18,
      "outputs": [
        {
          "output_type": "execute_result",
          "data": {
            "text/plain": [
              "(['./leapGestRecog/05/01_palm/frame_05_01_0130.png',\n",
              "  './leapGestRecog/05/01_palm/frame_05_01_0087.png',\n",
              "  './leapGestRecog/05/01_palm/frame_05_01_0185.png',\n",
              "  './leapGestRecog/05/01_palm/frame_05_01_0116.png',\n",
              "  './leapGestRecog/05/01_palm/frame_05_01_0049.png'],\n",
              " ['./leapGestRecog/08/01_palm/frame_08_01_0057.png',\n",
              "  './leapGestRecog/08/01_palm/frame_08_01_0176.png',\n",
              "  './leapGestRecog/08/01_palm/frame_08_01_0019.png',\n",
              "  './leapGestRecog/08/01_palm/frame_08_01_0156.png',\n",
              "  './leapGestRecog/08/01_palm/frame_08_01_0126.png'])"
            ]
          },
          "metadata": {
            "tags": []
          },
          "execution_count": 18
        }
      ]
    },
    {
      "cell_type": "code",
      "metadata": {
        "id": "hwOlMfWw4Fm6"
      },
      "source": [
        "!cp ./leapGestRecog/06/01_palm/frame_06_01_0195.png data/"
      ],
      "execution_count": 19,
      "outputs": []
    },
    {
      "cell_type": "code",
      "metadata": {
        "colab": {
          "base_uri": "https://localhost:8080/"
        },
        "id": "YfyXQbvV8B7c",
        "outputId": "474b28ae-3372-4791-d283-26210e55d0e6"
      },
      "source": [
        "pip install mediapipe"
      ],
      "execution_count": 20,
      "outputs": [
        {
          "output_type": "stream",
          "text": [
            "Requirement already satisfied: mediapipe in /usr/local/lib/python3.6/dist-packages (0.8.2)\n",
            "Requirement already satisfied: dataclasses in /usr/local/lib/python3.6/dist-packages (from mediapipe) (0.8)\n",
            "Requirement already satisfied: absl-py in /usr/local/lib/python3.6/dist-packages (from mediapipe) (0.10.0)\n",
            "Requirement already satisfied: protobuf>=3.11.4 in /usr/local/lib/python3.6/dist-packages (from mediapipe) (3.12.4)\n",
            "Requirement already satisfied: numpy==1.19.3 in /usr/local/lib/python3.6/dist-packages (from mediapipe) (1.19.3)\n",
            "Requirement already satisfied: six in /usr/local/lib/python3.6/dist-packages (from mediapipe) (1.15.0)\n",
            "Requirement already satisfied: opencv-python in /usr/local/lib/python3.6/dist-packages (from mediapipe) (4.1.2.30)\n",
            "Requirement already satisfied: wheel in /usr/local/lib/python3.6/dist-packages (from mediapipe) (0.36.2)\n",
            "Requirement already satisfied: setuptools in /usr/local/lib/python3.6/dist-packages (from protobuf>=3.11.4->mediapipe) (51.0.0)\n"
          ],
          "name": "stdout"
        }
      ]
    },
    {
      "cell_type": "code",
      "metadata": {
        "id": "RwxKLg5r5zIn"
      },
      "source": [
        "import cv2\n",
        "import numpy as np\n",
        "from PIL import Image\n",
        "import matplotlib.pyplot as plt\n",
        "# import scipy.misc\n",
        "\n",
        "import mediapipe as mp\n",
        "mp_hands = mp.solutions.hands\n",
        "mp_drawing = mp.solutions.drawing_utils\n",
        "# For webcam input:\n",
        "hands = mp_hands.Hands(\n",
        "    static_image_mode=True,\n",
        "    max_num_hands=2,\n",
        "    min_detection_confidence=0.5)"
      ],
      "execution_count": 21,
      "outputs": []
    },
    {
      "cell_type": "code",
      "metadata": {
        "colab": {
          "base_uri": "https://localhost:8080/",
          "height": 213
        },
        "id": "dq_GVLYJ-DBy",
        "outputId": "8dd61ed5-e793-49e8-f583-b81f95981769"
      },
      "source": [
        "img = Image.open(file_img[0][0])\n",
        "print(np.asarray(img).shape)\n",
        "plt.imshow(img)"
      ],
      "execution_count": 22,
      "outputs": [
        {
          "output_type": "stream",
          "text": [
            "(240, 640)\n"
          ],
          "name": "stdout"
        },
        {
          "output_type": "execute_result",
          "data": {
            "text/plain": [
              "<matplotlib.image.AxesImage at 0x7f810e9abb00>"
            ]
          },
          "metadata": {
            "tags": []
          },
          "execution_count": 22
        },
        {
          "output_type": "display_data",
          "data": {
            "image/png": "[encoded data removed]",
            "text/plain": [
              "<Figure size 432x288 with 1 Axes>"
            ]
          },
          "metadata": {
            "tags": [],
            "needs_background": "light"
          }
        }
      ]
    },
    {
      "cell_type": "code",
      "metadata": {
        "id": "SXLgIIOUqu70"
      },
      "source": [
        "src = np.asarray(img)"
      ],
      "execution_count": 23,
      "outputs": []
    },
    {
      "cell_type": "code",
      "metadata": {
        "id": "t7lO_WgQqpyu"
      },
      "source": [
        "frame = cv2.cvtColor(src, cv2.COLOR_GRAY2RGB)"
      ],
      "execution_count": 24,
      "outputs": []
    },
    {
      "cell_type": "code",
      "metadata": {
        "colab": {
          "base_uri": "https://localhost:8080/",
          "height": 195
        },
        "id": "zrYdGoL4q0fD",
        "outputId": "4b0e4296-82fe-4950-99da-dbfe227fa43a"
      },
      "source": [
        "plt.imshow(frame)"
      ],
      "execution_count": 25,
      "outputs": [
        {
          "output_type": "execute_result",
          "data": {
            "text/plain": [
              "<matplotlib.image.AxesImage at 0x7f810e504278>"
            ]
          },
          "metadata": {
            "tags": []
          },
          "execution_count": 25
        },
        {
          "output_type": "display_data",
          "data": {
            "image/png": "[encoded data removed]",
            "text/plain": [
              "<Figure size 432x288 with 1 Axes>"
            ]
          },
          "metadata": {
            "tags": [],
            "needs_background": "light"
          }
        }
      ]
    },
    {
      "cell_type": "code",
      "metadata": {
        "id": "azb9zSt0suDc"
      },
      "source": [
        "arm_marks = ['WRIST',\r\n",
        "             'THUMB_CMC', 'THUMB_MCP', 'THUMB_IP', 'THUMB_TIP',\r\n",
        "             'INDEX_FINGER_MCP', 'INDEX_FINGER_PIP', 'INDEX_FINGER_DIP', 'INDEX_FINGER_TIP',\r\n",
        "             'MIDDLE_FINGER_MCP', 'MIDDLE_FINGER_PIP', 'MIDDLE_FINGER_DIP', 'MIDDLE_FINGER_TIP',\r\n",
        "             'RING_FINGER_MCP', 'RING_FINGER_PIP', 'RING_FINGER_DIP', 'RING_FINGER_TIP',\r\n",
        "             'PINKY_MCP', 'PINKY_PIP', 'PINKY_DIP', 'PINKY_TIP']"
      ],
      "execution_count": 26,
      "outputs": []
    },
    {
      "cell_type": "code",
      "metadata": {
        "id": "Q1GqbX8j-yEh"
      },
      "source": [
        "def hand_detection_mp(file_pth, prn=False):\n",
        "    img = np.asarray(Image.open(file_pth))\n",
        "    h, w = img.shape\n",
        "    frame = cv2.cvtColor(img, cv2.COLOR_GRAY2RGB)   # cv2.flip(frame, 1)\n",
        "\n",
        "    frame.flags.writeable = False\n",
        "    # im_pil = Image.fromarray(frame)\n",
        "    results = hands.process(frame)\n",
        "    frame.flags.writeable = True\n",
        "\n",
        "    if results.multi_hand_landmarks and prn:\n",
        "        count = 0\n",
        "        for hand_landmarks in results.multi_hand_landmarks:\n",
        "            count += 1\n",
        "            print(f\"Рука {count}\")\n",
        "            print(\n",
        "                f'\\tIndex finger tip coordinates: ('\n",
        "                f'x: {round(hand_landmarks.landmark[mp_hands.HandLandmark.INDEX_FINGER_TIP].x * w)}, '\n",
        "                f'y: {round(hand_landmarks.landmark[mp_hands.HandLandmark.INDEX_FINGER_TIP].y * h)})'\n",
        "            )\n",
        "            for num, mark in enumerate(hand_landmarks.landmark):\n",
        "                print(f\"\\tМетка {arm_marks[num]}\"\n",
        "                        f\"- x: {round(mark.x * w)}, y: {round(mark.y * h)}\")\n",
        "\n",
        "    return results, frame"
      ],
      "execution_count": 27,
      "outputs": []
    },
    {
      "cell_type": "code",
      "metadata": {
        "colab": {
          "base_uri": "https://localhost:8080/"
        },
        "id": "OzoLT-jdpAaj",
        "outputId": "a5596547-0a44-42c6-9f34-9e9ca2a34ced"
      },
      "source": [
        "hand_detect_rez, frame = hand_detection_mp(file_img[0][0], True)"
      ],
      "execution_count": 28,
      "outputs": [
        {
          "output_type": "stream",
          "text": [
            "Рука 1\n",
            "\tIndex finger tip coordinates: (x: 398, y: 60)\n",
            "\tМетка WRIST- x: 302, y: 157\n",
            "\tМетка THUMB_CMC- x: 352, y: 167\n",
            "\tМетка THUMB_MCP- x: 392, y: 158\n",
            "\tМетка THUMB_IP- x: 425, y: 144\n",
            "\tМетка THUMB_TIP- x: 452, y: 130\n",
            "\tМетка INDEX_FINGER_MCP- x: 376, y: 102\n",
            "\tМетка INDEX_FINGER_PIP- x: 394, y: 65\n",
            "\tМетка INDEX_FINGER_DIP- x: 398, y: 59\n",
            "\tМетка INDEX_FINGER_TIP- x: 398, y: 60\n",
            "\tМетка MIDDLE_FINGER_MCP- x: 353, y: 95\n",
            "\tМетка MIDDLE_FINGER_PIP- x: 368, y: 56\n",
            "\tМетка MIDDLE_FINGER_DIP- x: 372, y: 50\n",
            "\tМетка MIDDLE_FINGER_TIP- x: 371, y: 52\n",
            "\tМетка RING_FINGER_MCP- x: 327, y: 94\n",
            "\tМетка RING_FINGER_PIP- x: 340, y: 61\n",
            "\tМетка RING_FINGER_DIP- x: 343, y: 57\n",
            "\tМетка RING_FINGER_TIP- x: 343, y: 59\n",
            "\tМетка PINKY_MCP- x: 302, y: 100\n",
            "\tМетка PINKY_PIP- x: 304, y: 76\n",
            "\tМетка PINKY_DIP- x: 305, y: 71\n",
            "\tМетка PINKY_TIP- x: 305, y: 74\n"
          ],
          "name": "stdout"
        }
      ]
    },
    {
      "cell_type": "code",
      "metadata": {
        "id": "L1CX_3wHAA27"
      },
      "source": [
        "# Функция рисования прямоугольников рук\n",
        "def draw_hand(frame, hand_landmarks):\n",
        "    h, w, _ = frame.shape\n",
        "    mp_drawing.draw_landmarks(frame, hand_landmarks, mp_hands.HAND_CONNECTIONS)\n",
        "    max_x = max_y = 0\n",
        "    min_x = min_y = 65535\n",
        "    for mark in hand_landmarks.landmark:\n",
        "        if mark.x > max_x:\n",
        "            max_x = mark.x\n",
        "        if mark.x < min_x:\n",
        "            min_x = mark.x\n",
        "        if mark.y > max_y:\n",
        "            max_y = mark.y\n",
        "        if mark.y < min_y:\n",
        "            min_y = mark.y\n",
        "    max_x = round(max_x * w) + 30\n",
        "    min_x = round(min_x * w) - 30\n",
        "    max_y = round(max_y * h) + 30\n",
        "    min_y = round(min_y * h) - 30\n",
        "    if min_x < 0:\n",
        "        min_x = 0\n",
        "    if min_y < 0:\n",
        "        min_y = 0\n",
        "    if max_x > w:\n",
        "        max_x = w\n",
        "    if max_y > h:\n",
        "        max_y = h\n",
        "    print(f\"\\tmax_x: {max_x} min_x: {min_x} max_y: {max_y} min_y: {min_y}\")\n",
        "    # Рисуем обрамляющий прямоугольник руки на кадре\n",
        "    cv2.rectangle(frame,\n",
        "                    (min_x, min_y),\n",
        "                    (max_x, max_y),\n",
        "                    (0, 255, 0),\n",
        "                    thickness=2)\n",
        "    return frame, [min_x, min_y, max_x, max_y]"
      ],
      "execution_count": 29,
      "outputs": []
    },
    {
      "cell_type": "code",
      "metadata": {
        "colab": {
          "base_uri": "https://localhost:8080/",
          "height": 195
        },
        "id": "ZlHCrJzErL3d",
        "outputId": "836e4efb-59dd-4470-a085-303ec6ba8eb3"
      },
      "source": [
        "if hand_detect_rez.multi_hand_landmarks:\r\n",
        "    for hand_landmarks in hand_detect_rez.multi_hand_landmarks:\r\n",
        "        img, hand_box = draw_hand(frame, hand_landmarks)\r\n",
        "        plt.imshow(img)\r\n",
        "        break"
      ],
      "execution_count": 30,
      "outputs": [
        {
          "output_type": "stream",
          "text": [
            "\tmax_x: 482 min_x: 272 max_y: 197 min_y: 20\n"
          ],
          "name": "stdout"
        },
        {
          "output_type": "display_data",
          "data": {
            "image/png": "[encoded data removed]",
            "text/plain": [
              "<Figure size 432x288 with 1 Axes>"
            ]
          },
          "metadata": {
            "tags": [],
            "needs_background": "light"
          }
        }
      ]
    },
    {
      "cell_type": "code",
      "metadata": {
        "id": "hQ0u0kW7v9qk"
      },
      "source": [
        "# Возвращает изображение ладони\r\n",
        "def get_hand(frame, hand_landmarks):\r\n",
        "    h, w, _ = frame.shape\r\n",
        "    max_x = max_y = 0\r\n",
        "    min_x = min_y = 65535\r\n",
        "    for mark in hand_landmarks.landmark:\r\n",
        "        if mark.x > max_x:\r\n",
        "            max_x = mark.x\r\n",
        "        if mark.x < min_x:\r\n",
        "            min_x = mark.x\r\n",
        "        if mark.y > max_y:\r\n",
        "            max_y = mark.y\r\n",
        "        if mark.y < min_y:\r\n",
        "            min_y = mark.y\r\n",
        "    \r\n",
        "    max_x = round(max_x * w) + 30\r\n",
        "    min_x = round(min_x * w) - 30\r\n",
        "    max_y = round(max_y * h) + 30\r\n",
        "    min_y = round(min_y * h) - 30\r\n",
        "    \r\n",
        "    if min_x < 0:\r\n",
        "        min_x = 0\r\n",
        "    if min_y < 0:\r\n",
        "        min_y = 0\r\n",
        "    if max_x > w:\r\n",
        "        max_x = w\r\n",
        "    if max_y > h:\r\n",
        "        max_y = h\r\n",
        "\r\n",
        "    # print(f\"\\tmax_x: {max_x} min_x: {min_x} max_y: {max_y} min_y: {min_y}\")\r\n",
        "    \r\n",
        "    res = frame[int(min_y):int(max_y), int(min_x):int(max_x)]\r\n",
        "    res = cv2.resize(res, (160, 160), interpolation = cv2.INTER_AREA)\r\n",
        "    return res"
      ],
      "execution_count": 31,
      "outputs": []
    },
    {
      "cell_type": "code",
      "metadata": {
        "colab": {
          "base_uri": "https://localhost:8080/",
          "height": 269
        },
        "id": "u9QFSSP4rL7J",
        "outputId": "0e50ec22-95da-43b9-c31e-2c0f6bfb6d04"
      },
      "source": [
        "hand_detect_rez, frame = hand_detection_mp(file_img[0][0])\r\n",
        "\r\n",
        "if hand_detect_rez.multi_hand_landmarks:\r\n",
        "    for hand_landmarks in hand_detect_rez.multi_hand_landmarks:\r\n",
        "        img = get_hand(frame, hand_landmarks)\r\n",
        "        plt.imshow(img)\r\n",
        "        break"
      ],
      "execution_count": 32,
      "outputs": [
        {
          "output_type": "display_data",
          "data": {
            "image/png": "[encoded data removed]",
            "text/plain": [
              "<Figure size 432x288 with 1 Axes>"
            ]
          },
          "metadata": {
            "tags": [],
            "needs_background": "light"
          }
        }
      ]
    },
    {
      "cell_type": "code",
      "metadata": {
        "colab": {
          "base_uri": "https://localhost:8080/",
          "height": 269
        },
        "id": "UYiGy6bc0IoG",
        "outputId": "a561737e-57f3-42cb-e67c-1517938a6afb"
      },
      "source": [
        "hand_detect_rez, frame = hand_detection_mp(file_img[9][0])\r\n",
        "\r\n",
        "if hand_detect_rez.multi_hand_landmarks:\r\n",
        "    for hand_landmarks in hand_detect_rez.multi_hand_landmarks:\r\n",
        "        img = get_hand(frame, hand_landmarks)\r\n",
        "        plt.imshow(img)\r\n",
        "        break"
      ],
      "execution_count": 33,
      "outputs": [
        {
          "output_type": "display_data",
          "data": {
            "image/png": "[encoded data removed]",
            "text/plain": [
              "<Figure size 432x288 with 1 Axes>"
            ]
          },
          "metadata": {
            "tags": [],
            "needs_background": "light"
          }
        }
      ]
    },
    {
      "cell_type": "markdown",
      "metadata": {
        "id": "WI3uaVU4BYjA"
      },
      "source": [
        "## Формирование датасета"
      ]
    },
    {
      "cell_type": "code",
      "metadata": {
        "id": "GeDZp6t-1B06",
        "colab": {
          "base_uri": "https://localhost:8080/"
        },
        "outputId": "3ea25f3c-1f5d-4441-a359-a46e430b5e3a"
      },
      "source": [
        "!mkdir data"
      ],
      "execution_count": 34,
      "outputs": [
        {
          "output_type": "stream",
          "text": [
            "mkdir: cannot create directory ‘data’: File exists\n"
          ],
          "name": "stdout"
        }
      ]
    },
    {
      "cell_type": "code",
      "metadata": {
        "colab": {
          "base_uri": "https://localhost:8080/"
        },
        "id": "Fkg0x0W42rk8",
        "outputId": "7d36a99e-9991-4dc6-d5dd-8fa26329bc41"
      },
      "source": [
        "!ls -la "
      ],
      "execution_count": 35,
      "outputs": [
        {
          "output_type": "stream",
          "text": [
            "total 2233096\n",
            "drwxr-xr-x  1 root root       4096 Dec 26 18:52 .\n",
            "drwxr-xr-x  1 root root       4096 Dec 26 17:40 ..\n",
            "drwxr-xr-x  1 root root       4096 Dec 21 17:29 .config\n",
            "drwxr-xr-x  2 root root     565248 Dec 26 18:02 data\n",
            "drwxr-xr-x  3 root root       4096 Dec 26 17:57 leapgestrecog\n",
            "drwxr-xr-x 12 root root       4096 Dec 26 17:57 leapGestRecog\n",
            "-rw-r--r--  1 root root 2286085038 Dec 26 17:56 leapgestrecog.zip\n",
            "drwxr-xr-x  2 root root       4096 Dec 26 18:41 net\n",
            "drwxr-xr-x  1 root root       4096 Dec 21 17:29 sample_data\n"
          ],
          "name": "stdout"
        }
      ]
    },
    {
      "cell_type": "code",
      "metadata": {
        "id": "gPlsdMh-3Gcw"
      },
      "source": [
        "data_path = \"data/\""
      ],
      "execution_count": 36,
      "outputs": []
    },
    {
      "cell_type": "code",
      "metadata": {
        "colab": {
          "base_uri": "https://localhost:8080/"
        },
        "id": "GJsdmHHB2ySg",
        "outputId": "cbfd4f89-095e-4627-cc03-02c14817d4af"
      },
      "source": [
        "for cn in range(10):\r\n",
        "    file_counter[cn] = 0\r\n",
        "file_counter"
      ],
      "execution_count": 37,
      "outputs": [
        {
          "output_type": "execute_result",
          "data": {
            "text/plain": [
              "{0: 0, 1: 0, 2: 0, 3: 0, 4: 0, 5: 0, 6: 0, 7: 0, 8: 0, 9: 0}"
            ]
          },
          "metadata": {
            "tags": []
          },
          "execution_count": 37
        }
      ]
    },
    {
      "cell_type": "code",
      "metadata": {
        "colab": {
          "base_uri": "https://localhost:8080/"
        },
        "id": "PvEc--fR4V8t",
        "outputId": "c1dde302-0267-48ae-abd1-4c446aec464a"
      },
      "source": [
        "pip install progressbar2"
      ],
      "execution_count": 38,
      "outputs": [
        {
          "output_type": "stream",
          "text": [
            "Requirement already satisfied: progressbar2 in /usr/local/lib/python3.6/dist-packages (3.38.0)\n",
            "Requirement already satisfied: python-utils>=2.3.0 in /usr/local/lib/python3.6/dist-packages (from progressbar2) (2.4.0)\n",
            "Requirement already satisfied: six in /usr/local/lib/python3.6/dist-packages (from progressbar2) (1.15.0)\n"
          ],
          "name": "stdout"
        }
      ]
    },
    {
      "cell_type": "code",
      "metadata": {
        "id": "AvOmMPem4O_m"
      },
      "source": [
        "import tqdm"
      ],
      "execution_count": 39,
      "outputs": []
    },
    {
      "cell_type": "code",
      "metadata": {
        "colab": {
          "base_uri": "https://localhost:8080/"
        },
        "id": "IfnPrDJY_LPj",
        "outputId": "0956d938-26e8-4f48-ff28-61c8001b8a00"
      },
      "source": [
        "for img in file_img[0]:\r\n",
        "    print(img)\r\n",
        "    print(data_path + img[-20:])   # + img[16:19]\r\n",
        "    break"
      ],
      "execution_count": 40,
      "outputs": [
        {
          "output_type": "stream",
          "text": [
            "./leapGestRecog/05/01_palm/frame_05_01_0130.png\n",
            "data/frame_05_01_0130.png\n"
          ],
          "name": "stdout"
        }
      ]
    },
    {
      "cell_type": "code",
      "metadata": {
        "colab": {
          "base_uri": "https://localhost:8080/"
        },
        "id": "r_s841kWKiJM",
        "outputId": "e391f17c-0bf9-4ec8-c1b5-e77cb87fca31"
      },
      "source": [
        "for cn in range(10):\r\n",
        "    have_cn_inmg = False\r\n",
        "    for img in file_img[cn]:\r\n",
        "        hand_detect_rez, frame = hand_detection_mp(img)\r\n",
        "        if hand_detect_rez.multi_hand_landmarks:\r\n",
        "            for hand_landmarks in hand_detect_rez.multi_hand_landmarks:\r\n",
        "                image = get_hand(frame, hand_landmarks)\r\n",
        "                path = data_path + img[-20:]   # + img[16:19]\r\n",
        "                cv2.imwrite(path, image)\r\n",
        "                file_counter[cn] += 1\r\n",
        "                print(path)\r\n",
        "                break\r\n",
        "        break\r\n",
        "    break"
      ],
      "execution_count": 41,
      "outputs": [
        {
          "output_type": "stream",
          "text": [
            "data/frame_05_01_0130.png\n"
          ],
          "name": "stdout"
        }
      ]
    },
    {
      "cell_type": "code",
      "metadata": {
        "colab": {
          "base_uri": "https://localhost:8080/"
        },
        "id": "rmdpoqEBkbmy",
        "outputId": "4196dd0c-9014-4328-d05e-a8a64494f742"
      },
      "source": [
        "images_data = []\r\n",
        "labels = []\r\n",
        "images_for_vis = []\r\n",
        "\r\n",
        "pbar = tqdm.tqdm(total=20000)\r\n",
        "for cn in range(10):\r\n",
        "    have_cn_inmg = False\r\n",
        "    for img in file_img[cn]:\r\n",
        "        hand_detect_rez, frame = hand_detection_mp(img)\r\n",
        "        if hand_detect_rez.multi_hand_landmarks:\r\n",
        "            for hand_landmarks in hand_detect_rez.multi_hand_landmarks:\r\n",
        "                image = get_hand(frame, hand_landmarks)\r\n",
        "                path = data_path + img[-20:]   # + img[16:19]\r\n",
        "                cv2.imwrite(path, image)\r\n",
        "                file_counter[cn] += 1\r\n",
        "                images_data.append(path)\r\n",
        "                labels.append(cn)\r\n",
        "                if not have_cn_inmg:\r\n",
        "                    images_for_vis.append(path)\r\n",
        "                    have_cn_inmg = True\r\n",
        "                break\r\n",
        "        pbar.update(1)\r\n",
        "pbar.close()\r\n",
        "file_counter"
      ],
      "execution_count": 42,
      "outputs": [
        {
          "output_type": "stream",
          "text": [
            "100%|██████████| 20000/20000 [04:35<00:00, 72.67it/s]\n"
          ],
          "name": "stderr"
        },
        {
          "output_type": "execute_result",
          "data": {
            "text/plain": [
              "{0: 1973,\n",
              " 1: 1135,\n",
              " 2: 1201,\n",
              " 3: 1182,\n",
              " 4: 1248,\n",
              " 5: 1062,\n",
              " 6: 1841,\n",
              " 7: 801,\n",
              " 8: 996,\n",
              " 9: 1797}"
            ]
          },
          "metadata": {
            "tags": []
          },
          "execution_count": 42
        }
      ]
    },
    {
      "cell_type": "code",
      "metadata": {
        "colab": {
          "base_uri": "https://localhost:8080/"
        },
        "id": "njOlg7pTgSXd",
        "outputId": "bb385b55-5ab3-4730-9bcd-7c3303c844a6"
      },
      "source": [
        "len(images_data), len(labels)"
      ],
      "execution_count": 43,
      "outputs": [
        {
          "output_type": "execute_result",
          "data": {
            "text/plain": [
              "(13235, 13235)"
            ]
          },
          "metadata": {
            "tags": []
          },
          "execution_count": 43
        }
      ]
    },
    {
      "cell_type": "code",
      "metadata": {
        "colab": {
          "base_uri": "https://localhost:8080/"
        },
        "id": "1-Uv8wAKf9S-",
        "outputId": "b3c63e50-378e-49ed-b673-8cb3a2ef57f4"
      },
      "source": [
        "images_for_vis"
      ],
      "execution_count": 44,
      "outputs": [
        {
          "output_type": "execute_result",
          "data": {
            "text/plain": [
              "['data/frame_05_01_0130.png',\n",
              " 'data/frame_05_02_0127.png',\n",
              " 'data/frame_05_03_0028.png',\n",
              " 'data/frame_05_04_0049.png',\n",
              " 'data/frame_05_05_0079.png',\n",
              " 'data/frame_05_06_0129.png',\n",
              " 'data/frame_05_07_0053.png',\n",
              " 'data/frame_05_08_0120.png',\n",
              " 'data/frame_05_09_0101.png',\n",
              " 'data/frame_05_10_0094.png']"
            ]
          },
          "metadata": {
            "tags": []
          },
          "execution_count": 44
        }
      ]
    },
    {
      "cell_type": "code",
      "metadata": {
        "colab": {
          "base_uri": "https://localhost:8080/",
          "height": 223
        },
        "id": "iamX_aIfcdLF",
        "outputId": "27d27b22-ce51-4833-a6f5-1e2bb78cbe40"
      },
      "source": [
        "# plt.figure(figsize=(10,10))\r\n",
        "for ind in range(10):\r\n",
        "    ax = plt.subplot(2,5,ind+1)\r\n",
        "\r\n",
        "    img = Image.open(images_for_vis[ind])\r\n",
        "    # hand_detect_rez, frame = hand_detection_mp(images_for_vis[ind])\r\n",
        "    # if hand_detect_rez.multi_hand_landmarks:\r\n",
        "    #     for hand_landmarks in hand_detect_rez.multi_hand_landmarks:\r\n",
        "    #         img = get_hand(frame, hand_landmarks)\r\n",
        "    #         break\r\n",
        "\r\n",
        "    plt.imshow(img)\r\n",
        "    plt.title(class_names[ind])\r\n",
        "    plt.axis('off')"
      ],
      "execution_count": 45,
      "outputs": [
        {
          "output_type": "display_data",
          "data": {
            "image/png": "[encoded data removed]",
            "text/plain": [
              "<Figure size 432x288 with 10 Axes>"
            ]
          },
          "metadata": {
            "tags": [],
            "needs_background": "light"
          }
        }
      ]
    },
    {
      "cell_type": "code",
      "metadata": {
        "id": "hH9gouON3o-T",
        "colab": {
          "base_uri": "https://localhost:8080/"
        },
        "outputId": "860b3ead-c7f5-4a09-e881-191c23e957a4"
      },
      "source": [
        "labels[0], labels[-1]"
      ],
      "execution_count": 46,
      "outputs": [
        {
          "output_type": "execute_result",
          "data": {
            "text/plain": [
              "(0, 9)"
            ]
          },
          "metadata": {
            "tags": []
          },
          "execution_count": 46
        }
      ]
    },
    {
      "cell_type": "code",
      "metadata": {
        "id": "WDIHDc4_dXLU"
      },
      "source": [
        "import pandas as pd"
      ],
      "execution_count": 47,
      "outputs": []
    },
    {
      "cell_type": "code",
      "metadata": {
        "colab": {
          "base_uri": "https://localhost:8080/",
          "height": 204
        },
        "id": "Osv_FA8xdXOV",
        "outputId": "0f1fcc96-99df-4faf-986a-c7dae08dbb05"
      },
      "source": [
        "data = pd.DataFrame({'images': images_data, 'labels': labels})\r\n",
        "data.reset_index(drop=True, inplace=True)\r\n",
        "data.head()"
      ],
      "execution_count": 48,
      "outputs": [
        {
          "output_type": "execute_result",
          "data": {
            "text/html": [
              "<div>\n",
              "<style scoped>\n",
              "    .dataframe tbody tr th:only-of-type {\n",
              "        vertical-align: middle;\n",
              "    }\n",
              "\n",
              "    .dataframe tbody tr th {\n",
              "        vertical-align: top;\n",
              "    }\n",
              "\n",
              "    .dataframe thead th {\n",
              "        text-align: right;\n",
              "    }\n",
              "</style>\n",
              "<table border=\"1\" class=\"dataframe\">\n",
              "  <thead>\n",
              "    <tr style=\"text-align: right;\">\n",
              "      <th></th>\n",
              "      <th>images</th>\n",
              "      <th>labels</th>\n",
              "    </tr>\n",
              "  </thead>\n",
              "  <tbody>\n",
              "    <tr>\n",
              "      <th>0</th>\n",
              "      <td>data/frame_05_01_0130.png</td>\n",
              "      <td>0</td>\n",
              "    </tr>\n",
              "    <tr>\n",
              "      <th>1</th>\n",
              "      <td>data/frame_05_01_0087.png</td>\n",
              "      <td>0</td>\n",
              "    </tr>\n",
              "    <tr>\n",
              "      <th>2</th>\n",
              "      <td>data/frame_05_01_0185.png</td>\n",
              "      <td>0</td>\n",
              "    </tr>\n",
              "    <tr>\n",
              "      <th>3</th>\n",
              "      <td>data/frame_05_01_0116.png</td>\n",
              "      <td>0</td>\n",
              "    </tr>\n",
              "    <tr>\n",
              "      <th>4</th>\n",
              "      <td>data/frame_05_01_0049.png</td>\n",
              "      <td>0</td>\n",
              "    </tr>\n",
              "  </tbody>\n",
              "</table>\n",
              "</div>"
            ],
            "text/plain": [
              "                      images  labels\n",
              "0  data/frame_05_01_0130.png       0\n",
              "1  data/frame_05_01_0087.png       0\n",
              "2  data/frame_05_01_0185.png       0\n",
              "3  data/frame_05_01_0116.png       0\n",
              "4  data/frame_05_01_0049.png       0"
            ]
          },
          "metadata": {
            "tags": []
          },
          "execution_count": 48
        }
      ]
    },
    {
      "cell_type": "code",
      "metadata": {
        "colab": {
          "base_uri": "https://localhost:8080/",
          "height": 204
        },
        "id": "bI4vwFs7dXR3",
        "outputId": "07d3c777-3c4b-4b17-a4e8-1065b5e5153d"
      },
      "source": [
        "data.tail()"
      ],
      "execution_count": 49,
      "outputs": [
        {
          "output_type": "execute_result",
          "data": {
            "text/html": [
              "<div>\n",
              "<style scoped>\n",
              "    .dataframe tbody tr th:only-of-type {\n",
              "        vertical-align: middle;\n",
              "    }\n",
              "\n",
              "    .dataframe tbody tr th {\n",
              "        vertical-align: top;\n",
              "    }\n",
              "\n",
              "    .dataframe thead th {\n",
              "        text-align: right;\n",
              "    }\n",
              "</style>\n",
              "<table border=\"1\" class=\"dataframe\">\n",
              "  <thead>\n",
              "    <tr style=\"text-align: right;\">\n",
              "      <th></th>\n",
              "      <th>images</th>\n",
              "      <th>labels</th>\n",
              "    </tr>\n",
              "  </thead>\n",
              "  <tbody>\n",
              "    <tr>\n",
              "      <th>13230</th>\n",
              "      <td>data/frame_08_10_0080.png</td>\n",
              "      <td>9</td>\n",
              "    </tr>\n",
              "    <tr>\n",
              "      <th>13231</th>\n",
              "      <td>data/frame_08_10_0194.png</td>\n",
              "      <td>9</td>\n",
              "    </tr>\n",
              "    <tr>\n",
              "      <th>13232</th>\n",
              "      <td>data/frame_08_10_0054.png</td>\n",
              "      <td>9</td>\n",
              "    </tr>\n",
              "    <tr>\n",
              "      <th>13233</th>\n",
              "      <td>data/frame_08_10_0108.png</td>\n",
              "      <td>9</td>\n",
              "    </tr>\n",
              "    <tr>\n",
              "      <th>13234</th>\n",
              "      <td>data/frame_08_10_0038.png</td>\n",
              "      <td>9</td>\n",
              "    </tr>\n",
              "  </tbody>\n",
              "</table>\n",
              "</div>"
            ],
            "text/plain": [
              "                          images  labels\n",
              "13230  data/frame_08_10_0080.png       9\n",
              "13231  data/frame_08_10_0194.png       9\n",
              "13232  data/frame_08_10_0054.png       9\n",
              "13233  data/frame_08_10_0108.png       9\n",
              "13234  data/frame_08_10_0038.png       9"
            ]
          },
          "metadata": {
            "tags": []
          },
          "execution_count": 49
        }
      ]
    },
    {
      "cell_type": "code",
      "metadata": {
        "id": "Mw02Qzew4mJW",
        "colab": {
          "base_uri": "https://localhost:8080/"
        },
        "outputId": "996de409-edd9-4bad-f9f5-444be57adbd6"
      },
      "source": [
        "data.info()"
      ],
      "execution_count": 50,
      "outputs": [
        {
          "output_type": "stream",
          "text": [
            "<class 'pandas.core.frame.DataFrame'>\n",
            "RangeIndex: 13235 entries, 0 to 13234\n",
            "Data columns (total 2 columns):\n",
            " #   Column  Non-Null Count  Dtype \n",
            "---  ------  --------------  ----- \n",
            " 0   images  13235 non-null  object\n",
            " 1   labels  13235 non-null  int64 \n",
            "dtypes: int64(1), object(1)\n",
            "memory usage: 206.9+ KB\n"
          ],
          "name": "stdout"
        }
      ]
    },
    {
      "cell_type": "code",
      "metadata": {
        "id": "NdEakXBJob9w"
      },
      "source": [
        "from torch.utils.data import Dataset, DataLoader\r\n",
        "import torch\r\n",
        "import torch.nn as nn\r\n",
        "from torch.nn import functional as F"
      ],
      "execution_count": 51,
      "outputs": []
    },
    {
      "cell_type": "code",
      "metadata": {
        "id": "3sQNLnAzouj3"
      },
      "source": [
        "class CustomDatasetFromImages(Dataset):\r\n",
        "    def __init__(self, data_info):\r\n",
        "        # Подаем наш подготовленный датафрейм\r\n",
        "        self.data_info = data_info\r\n",
        "        \r\n",
        "        self.image_arr = self.data_info.iloc[:,0]\r\n",
        "        self.label_arr = self.data_info.iloc[:,1]\r\n",
        "        \r\n",
        "        # Количество пар картинка-сегментация\r\n",
        "        self.data_len = len(self.data_info.index)\r\n",
        "\r\n",
        "    def __getitem__(self, index):\r\n",
        "        # Читаем картинку\r\n",
        "        img = np.asarray(Image.open(self.image_arr[index]))\r\n",
        "\r\n",
        "        # hand_detect_rez, frame = hand_detection_mp(self.image_arr[index])\r\n",
        "        # if hand_detect_rez.multi_hand_landmarks:\r\n",
        "        #     for hand_landmarks in hand_detect_rez.multi_hand_landmarks:\r\n",
        "        #         img = get_hand(frame, hand_landmarks)\r\n",
        "        #         break\r\n",
        "\r\n",
        "        # размер 160х160\r\n",
        "        # Нормализуем изображение в значениях [0, 1]\r\n",
        "        img = torch.from_numpy(img)/255   # img = torch.FloatTensor(img)\r\n",
        "        \r\n",
        "        img = img[:, :, 0]\r\n",
        "        img = img.unsqueeze(0)  #.permute(2, 0, 1)   # img = img.unsqueeze(0).permute(0,3,1,2)\r\n",
        "               \r\n",
        "        return (img, self.label_arr[index])\r\n",
        "\r\n",
        "    def __len__(self):\r\n",
        "        return self.data_len"
      ],
      "execution_count": 52,
      "outputs": []
    },
    {
      "cell_type": "code",
      "metadata": {
        "id": "uB0E95dOvTHM"
      },
      "source": [
        "from sklearn.model_selection import train_test_split"
      ],
      "execution_count": 53,
      "outputs": []
    },
    {
      "cell_type": "code",
      "metadata": {
        "id": "2d41M_xSr53z"
      },
      "source": [
        "# 80 % в тренировочную выборку, 20 - в валидационную\r\n",
        "X_train, X_valid = train_test_split(data, test_size=0.2)\r\n",
        "\r\n",
        "# Упорядочиваем индексацию\r\n",
        "X_train.reset_index(drop=True, inplace=True)\r\n",
        "X_valid.reset_index(drop=True, inplace=True)\r\n",
        "\r\n",
        "# Оборачиваем каждую выборку в наш кастомный датасет\r\n",
        "train_data = CustomDatasetFromImages(X_train)   # [:300])\r\n",
        "valid_data = CustomDatasetFromImages(X_valid)   # [:300])"
      ],
      "execution_count": 54,
      "outputs": []
    },
    {
      "cell_type": "code",
      "metadata": {
        "id": "FxkNt8zvr57z"
      },
      "source": [
        "batch_s = 64\r\n",
        "\r\n",
        "train_data_loader = DataLoader(train_data, batch_size=batch_s, shuffle=True)\r\n",
        "valid_data_loader = DataLoader(valid_data, batch_size=batch_s, shuffle=True)"
      ],
      "execution_count": 55,
      "outputs": []
    },
    {
      "cell_type": "code",
      "metadata": {
        "colab": {
          "base_uri": "https://localhost:8080/"
        },
        "id": "S0fa6GZNr5_C",
        "outputId": "2fed0bac-4a8f-40c9-b74d-2ab6afaa2a89"
      },
      "source": [
        "data_iter = iter(valid_data_loader)\r\n",
        "# [data_iter.next() for i in range(5)]\r\n",
        "\r\n",
        "images, labels = data_iter.next()\r\n",
        "\r\n",
        "images.shape, labels"
      ],
      "execution_count": 56,
      "outputs": [
        {
          "output_type": "stream",
          "text": [
            "/usr/local/lib/python3.6/dist-packages/ipykernel_launcher.py:24: UserWarning: The given NumPy array is not writeable, and PyTorch does not support non-writeable tensors. This means you can write to the underlying (supposedly non-writeable) NumPy array using the tensor. You may want to copy the array to protect its data or make it writeable before converting it to a tensor. This type of warning will be suppressed for the rest of this program. (Triggered internally at  /pytorch/torch/csrc/utils/tensor_numpy.cpp:141.)\n"
          ],
          "name": "stderr"
        },
        {
          "output_type": "execute_result",
          "data": {
            "text/plain": [
              "(torch.Size([64, 1, 160, 160]),\n",
              " tensor([1, 9, 8, 5, 4, 1, 2, 4, 1, 8, 5, 4, 2, 2, 5, 4, 1, 2, 1, 9, 8, 5, 5, 6,\n",
              "         0, 0, 8, 0, 0, 9, 7, 0, 9, 4, 9, 6, 9, 9, 7, 1, 0, 6, 9, 9, 2, 2, 4, 0,\n",
              "         8, 9, 4, 0, 9, 0, 4, 9, 5, 6, 4, 9, 6, 9, 9, 1]))"
            ]
          },
          "metadata": {
            "tags": []
          },
          "execution_count": 56
        }
      ]
    },
    {
      "cell_type": "code",
      "metadata": {
        "colab": {
          "base_uri": "https://localhost:8080/",
          "height": 677
        },
        "id": "hMY0_UDMwsZ7",
        "outputId": "97ee05cd-a68f-4b98-98bb-c89e9565ebd9"
      },
      "source": [
        "plt.figure(figsize=(8,12))\r\n",
        "for ind in range(batch_s):\r\n",
        "    ax = plt.subplot(8,8,ind+1)\r\n",
        "    \r\n",
        "    plt.imshow(cv2.cvtColor(images[ind, 0, :, :].numpy(), cv2.COLOR_GRAY2RGB))\r\n",
        "    plt.title(class_names[int(labels[ind])])\r\n",
        "    plt.axis('off')"
      ],
      "execution_count": 57,
      "outputs": [
        {
          "output_type": "display_data",
          "data": {
            "image/png": "[encoded data removed]",
            "text/plain": [
              "<Figure size 576x864 with 64 Axes>"
            ]
          },
          "metadata": {
            "tags": [],
            "needs_background": "light"
          }
        }
      ]
    },
    {
      "cell_type": "markdown",
      "metadata": {
        "id": "MH93BunJr6vg"
      },
      "source": [
        "## Базовая модель"
      ]
    },
    {
      "cell_type": "code",
      "metadata": {
        "colab": {
          "base_uri": "https://localhost:8080/"
        },
        "id": "kxZUW7F3r6Bl",
        "outputId": "76139715-f8d9-4263-cd89-11a4dff8bf98"
      },
      "source": [
        "device = torch.device('cuda') if torch.cuda.is_available() else torch.device('cpu')\r\n",
        "print(device)"
      ],
      "execution_count": 58,
      "outputs": [
        {
          "output_type": "stream",
          "text": [
            "cuda\n"
          ],
          "name": "stdout"
        }
      ]
    },
    {
      "cell_type": "code",
      "metadata": {
        "id": "dyzV1mTSvLBu"
      },
      "source": [
        "class HPSearchNET(nn.Module):\r\n",
        "    \r\n",
        "    def __init__(self, \r\n",
        "                 cnn_num=3, \r\n",
        "                 fc_num=3, \r\n",
        "                 cnn_filt_num=16, \r\n",
        "                 kern_size=3, \r\n",
        "                 func_act='relu', \r\n",
        "                 in_shape=160,\r\n",
        "                #  batch=64, \r\n",
        "                 nn_prn=False):\r\n",
        "        super(HPSearchNET, self).__init__()\r\n",
        "\r\n",
        "        self.in_size = 1\r\n",
        "        self.cnn_num = cnn_num\r\n",
        "        self.fc_num = fc_num\r\n",
        "        self.cnn_filt_num = cnn_filt_num\r\n",
        "        self.kern_size = kern_size\r\n",
        "        self.func_act = func_act\r\n",
        "        self.fs_size = 0\r\n",
        "        self.in_shape = in_shape\r\n",
        "        # self.batch = batch\r\n",
        "        self.nn_prn = nn_prn\r\n",
        "        \r\n",
        "        if kern_size == 3:\r\n",
        "            padd = (1, 1)\r\n",
        "        if kern_size == 5:\r\n",
        "            padd = (2, 2)\r\n",
        "        \r\n",
        "        if func_act == 'relu':\r\n",
        "            self.str_f_act = nn.ReLU()\r\n",
        "        else:\r\n",
        "            self.str_f_act = nn.ELU()\r\n",
        "        self.sftmx = nn.Softmax(dim = 1)\r\n",
        "\r\n",
        "        self.conv1 = nn.Conv2d(self.in_size, \r\n",
        "                               self.cnn_filt_num, \r\n",
        "                               kernel_size=self.kern_size, \r\n",
        "                               stride=1, \r\n",
        "                               padding=padd)\r\n",
        "        self.pool = nn.MaxPool2d(2, 2)\r\n",
        "        if self.cnn_num > 1:\r\n",
        "            self.conv2 = nn.Conv2d(self.cnn_filt_num, \r\n",
        "                                   self.cnn_filt_num*2, \r\n",
        "                                   kernel_size=self.kern_size, \r\n",
        "                                   stride=1, \r\n",
        "                                   padding=padd)\r\n",
        "            self.cnn_filt_num *= 2\r\n",
        "            if self.cnn_num > 2:\r\n",
        "                self.conv3 = nn.Conv2d(self.cnn_filt_num, \r\n",
        "                                       self.cnn_filt_num*2, \r\n",
        "                                       kernel_size=self.kern_size, \r\n",
        "                                       stride=1, \r\n",
        "                                       padding=padd)\r\n",
        "                self.cnn_filt_num *= 2\r\n",
        "        \r\n",
        "        self.fs_size = self.cnn_filt_num * (self.in_shape//2**self.cnn_num) ** 2\r\n",
        "        fs_sz = self.fs_size\r\n",
        "        \r\n",
        "        if self.fc_num > 2:\r\n",
        "            self.fc_dec2 = nn.Linear(fs_sz, fs_sz//4)   # fs_sz*3//4\r\n",
        "            fs_sz=fs_sz//4   #*3//4\r\n",
        "        if self.fc_num > 1:\r\n",
        "            self.fc_dec1 = nn.Linear(fs_sz, fs_sz//4)   # fs_sz*3//4\r\n",
        "            fs_sz=fs_sz//4   # *3//4\r\n",
        "        self.fc_out = nn.Linear(fs_sz, 10)\r\n",
        "\r\n",
        "    def forward(self, x):\r\n",
        "        if self.nn_prn:\r\n",
        "            print(\"\\n\\tX размеры income: %s\" % (x.shape,))\r\n",
        "        x = self.pool(self.str_f_act(self.conv1(x)))\r\n",
        "        if self.nn_prn:\r\n",
        "            print(\"\\tX размеры conv1, pool: %s\" % (x.shape,))\r\n",
        "        if self.cnn_num > 1:\r\n",
        "            x = self.pool(self.str_f_act(self.conv2(x)))\r\n",
        "            if self.nn_prn:\r\n",
        "                print(\"\\tX размеры conv2, pool: %s\" % (x.shape,))\r\n",
        "            if self.cnn_num > 2:\r\n",
        "                x = self.pool(self.str_f_act(self.conv3(x)))\r\n",
        "                if self.nn_prn:\r\n",
        "                    print(\"\\tX размеры conv3, pool: %s\" % (x.shape,))\r\n",
        "        x = x.view(-1, self.fs_size)\r\n",
        "        if self.nn_prn:\r\n",
        "            print(\"\\tX размеры x.view: %s\" % (x.shape,))\r\n",
        "        if self.fc_num > 2:\r\n",
        "            x = self.str_f_act(self.fc_dec2(x))\r\n",
        "            if self.nn_prn:\r\n",
        "                print(\"\\tX размеры fc_dec2: %s\" % (x.shape,))\r\n",
        "        if self.fc_num > 1:\r\n",
        "            x = self.str_f_act(self.fc_dec1(x))\r\n",
        "            if self.nn_prn:\r\n",
        "                print(\"\\tX размеры fc_dec1: %s\" % (x.shape,))\r\n",
        "        x = self.sftmx(self.fc_out(x))\r\n",
        "        if self.nn_prn:\r\n",
        "            print(\"\\tX размеры fc_out: %s\\n\" % (x.shape,))\r\n",
        "            self.nn_prn = False\r\n",
        "        return x"
      ],
      "execution_count": 59,
      "outputs": []
    },
    {
      "cell_type": "code",
      "metadata": {
        "id": "i2hSw1KoPk_J"
      },
      "source": [
        "model = HPSearchNET(nn_prn=True).to(device)\r\n",
        "criterion = nn.CrossEntropyLoss()\r\n",
        "optimizer = torch.optim.SGD(model.parameters(), lr=0.01, momentum=0.9)"
      ],
      "execution_count": 75,
      "outputs": []
    },
    {
      "cell_type": "code",
      "metadata": {
        "id": "8-Fv6FV1Z9q4"
      },
      "source": [
        "epochs = 10"
      ],
      "execution_count": 76,
      "outputs": []
    },
    {
      "cell_type": "code",
      "metadata": {
        "id": "b2nbQO2FPnYu"
      },
      "source": [
        "path_checkpoint = \"checkpoints\"\r\n",
        "if not os.path.exists(path_checkpoint):\r\n",
        "    os.mkdir(path_checkpoint)"
      ],
      "execution_count": 77,
      "outputs": []
    },
    {
      "cell_type": "code",
      "metadata": {
        "id": "wkhZziCDaUNI"
      },
      "source": [
        "import time"
      ],
      "execution_count": 78,
      "outputs": []
    },
    {
      "cell_type": "code",
      "metadata": {
        "colab": {
          "base_uri": "https://localhost:8080/"
        },
        "id": "AVZKrQrAX9gW",
        "outputId": "4128a60c-34a0-4863-a731-26a8e522bc48"
      },
      "source": [
        "epoch_losses = []\r\n",
        "epoch_val_losses = []\r\n",
        "\r\n",
        "for epoch in range(epochs):  # loop over the dataset multiple times\r\n",
        "    running_loss = 0.0\r\n",
        "    cum_loss = []\r\n",
        "\r\n",
        "    print(f'Epoch: {epoch+1}')\r\n",
        "    time1 = time.time()\r\n",
        "    model.train()\r\n",
        "    for i, data in enumerate(train_data_loader, 0):\r\n",
        "        # get the inputs; data is a list of [inputs, labels]\r\n",
        "        inputs, labels = data\r\n",
        "        inputs = inputs.to(device) # .cuda()\r\n",
        "        labels = labels.to(device) # .cuda()\r\n",
        "\r\n",
        "        # zero the parameter gradients\r\n",
        "        optimizer.zero_grad()\r\n",
        "\r\n",
        "        # forward + backward + optimize\r\n",
        "        outputs = model(inputs)\r\n",
        "        loss = criterion(outputs, labels)\r\n",
        "        loss.backward()\r\n",
        "        optimizer.step()\r\n",
        "\r\n",
        "        # print statistics\r\n",
        "        running_loss += loss.item()\r\n",
        "        cum_loss.append(loss.item())\r\n",
        "        bundle = 20\r\n",
        "        if not (i+1) % bundle:    # print every 10 mini-batches\r\n",
        "            print(f'\\tbatchcount: {i+1}, size: {batch_s*bundle} '\r\n",
        "                  f'total: {(i+1)*batch_s} '\r\n",
        "                  f'loss: {running_loss/(batch_s*bundle):.5f}')\r\n",
        "            running_loss = 0.0\r\n",
        "\r\n",
        "    time2 = time.time()\r\n",
        "    epoch_losses.append(np.mean(cum_loss))\r\n",
        "    torch.save(model.state_dict(), path_checkpoint + f\"/checkpoint_ep_{epoch}.pth\")\r\n",
        "\r\n",
        "    cum_loss = []\r\n",
        "    model.eval()\r\n",
        "    with torch.no_grad():\r\n",
        "        running_val_loss = 0.0\r\n",
        "        for i, data in enumerate(valid_data_loader, 0):\r\n",
        "            inputs, labels = data\r\n",
        "            inputs = inputs.to(device) # .cuda()\r\n",
        "            labels = labels.to(device) # .cuda()\r\n",
        "\r\n",
        "            outputs = model(inputs)\r\n",
        "            loss = criterion(outputs, labels)\r\n",
        "\r\n",
        "            running_val_loss += loss.item()\r\n",
        "            cum_loss.append(loss.item())\r\n",
        "\r\n",
        "    epoch_val_losses.append(np.mean(cum_loss))\r\n",
        "    print(f'\\n  Epoch {epoch+1}, loss: {epoch_losses[-1]:.5f} loss_val: {epoch_val_losses[-1]:.5f} time = {time2-time1:.2f} sec\\n')"
      ],
      "execution_count": 79,
      "outputs": [
        {
          "output_type": "stream",
          "text": [
            "Epoch: 1\n",
            "X размеры income: torch.Size([64, 1, 160, 160])\n",
            "\n",
            "X размеры conv1, pool: torch.Size([64, 16, 80, 80])\n",
            "\n",
            "X размеры conv2, pool: torch.Size([64, 32, 40, 40])\n",
            "\n",
            "X размеры conv3, pool: torch.Size([64, 64, 20, 20])\n",
            "\n",
            "X размеры x.view: torch.Size([64, 25600])\n",
            "\n",
            "X размеры fc_dec2: torch.Size([64, 6400])\n",
            "\n",
            "X размеры fc_dec1: torch.Size([64, 1600])\n",
            "\n",
            "X размеры fc_out: torch.Size([64, 10])\n",
            "\n",
            "\tbatchcount: 20, size: 1280 total: 1280 loss: 0.03597\n",
            "\tbatchcount: 40, size: 1280 total: 2560 loss: 0.03596\n",
            "\tbatchcount: 60, size: 1280 total: 3840 loss: 0.03595\n",
            "\tbatchcount: 80, size: 1280 total: 5120 loss: 0.03593\n",
            "\tbatchcount: 100, size: 1280 total: 6400 loss: 0.03592\n",
            "\tbatchcount: 120, size: 1280 total: 7680 loss: 0.03589\n",
            "\tbatchcount: 140, size: 1280 total: 8960 loss: 0.03580\n",
            "\tbatchcount: 160, size: 1280 total: 10240 loss: 0.03559\n",
            "\n",
            "  Epoch 1, loss: 2.29450 loss_val: 2.26584 time = 25.37 sec\n",
            "\n",
            "Epoch: 2\n",
            "\tbatchcount: 20, size: 1280 total: 1280 loss: 0.03512\n",
            "\tbatchcount: 40, size: 1280 total: 2560 loss: 0.03392\n",
            "\tbatchcount: 60, size: 1280 total: 3840 loss: 0.03269\n",
            "\tbatchcount: 80, size: 1280 total: 5120 loss: 0.03192\n",
            "\tbatchcount: 100, size: 1280 total: 6400 loss: 0.03061\n",
            "\tbatchcount: 120, size: 1280 total: 7680 loss: 0.02934\n",
            "\tbatchcount: 140, size: 1280 total: 8960 loss: 0.02869\n",
            "\tbatchcount: 160, size: 1280 total: 10240 loss: 0.02788\n",
            "\n",
            "  Epoch 2, loss: 1.99360 loss_val: 1.72611 time = 25.84 sec\n",
            "\n",
            "Epoch: 3\n",
            "\tbatchcount: 20, size: 1280 total: 1280 loss: 0.02701\n",
            "\tbatchcount: 40, size: 1280 total: 2560 loss: 0.02675\n",
            "\tbatchcount: 60, size: 1280 total: 3840 loss: 0.02651\n",
            "\tbatchcount: 80, size: 1280 total: 5120 loss: 0.02654\n",
            "\tbatchcount: 100, size: 1280 total: 6400 loss: 0.02657\n",
            "\tbatchcount: 120, size: 1280 total: 7680 loss: 0.02707\n",
            "\tbatchcount: 140, size: 1280 total: 8960 loss: 0.02736\n",
            "\tbatchcount: 160, size: 1280 total: 10240 loss: 0.02711\n",
            "\n",
            "  Epoch 3, loss: 1.71938 loss_val: 1.71791 time = 25.84 sec\n",
            "\n",
            "Epoch: 4\n",
            "\tbatchcount: 20, size: 1280 total: 1280 loss: 0.02689\n",
            "\tbatchcount: 40, size: 1280 total: 2560 loss: 0.02661\n",
            "\tbatchcount: 60, size: 1280 total: 3840 loss: 0.02664\n",
            "\tbatchcount: 80, size: 1280 total: 5120 loss: 0.02645\n",
            "\tbatchcount: 100, size: 1280 total: 6400 loss: 0.02616\n",
            "\tbatchcount: 120, size: 1280 total: 7680 loss: 0.02611\n",
            "\tbatchcount: 140, size: 1280 total: 8960 loss: 0.02575\n",
            "\tbatchcount: 160, size: 1280 total: 10240 loss: 0.02580\n",
            "\n",
            "  Epoch 4, loss: 1.68176 loss_val: 1.66589 time = 25.86 sec\n",
            "\n",
            "Epoch: 5\n",
            "\tbatchcount: 20, size: 1280 total: 1280 loss: 0.02601\n",
            "\tbatchcount: 40, size: 1280 total: 2560 loss: 0.02588\n",
            "\tbatchcount: 60, size: 1280 total: 3840 loss: 0.02574\n",
            "\tbatchcount: 80, size: 1280 total: 5120 loss: 0.02576\n",
            "\tbatchcount: 100, size: 1280 total: 6400 loss: 0.02610\n",
            "\tbatchcount: 120, size: 1280 total: 7680 loss: 0.02600\n",
            "\tbatchcount: 140, size: 1280 total: 8960 loss: 0.02601\n",
            "\tbatchcount: 160, size: 1280 total: 10240 loss: 0.02597\n",
            "\n",
            "  Epoch 5, loss: 1.65961 loss_val: 1.65432 time = 25.95 sec\n",
            "\n",
            "Epoch: 6\n",
            "\tbatchcount: 20, size: 1280 total: 1280 loss: 0.02600\n",
            "\tbatchcount: 40, size: 1280 total: 2560 loss: 0.02572\n",
            "\tbatchcount: 60, size: 1280 total: 3840 loss: 0.02562\n",
            "\tbatchcount: 80, size: 1280 total: 5120 loss: 0.02597\n",
            "\tbatchcount: 100, size: 1280 total: 6400 loss: 0.02580\n",
            "\tbatchcount: 120, size: 1280 total: 7680 loss: 0.02593\n",
            "\tbatchcount: 140, size: 1280 total: 8960 loss: 0.02587\n",
            "\tbatchcount: 160, size: 1280 total: 10240 loss: 0.02567\n",
            "\n",
            "  Epoch 6, loss: 1.65182 loss_val: 1.65124 time = 25.94 sec\n",
            "\n",
            "Epoch: 7\n",
            "\tbatchcount: 20, size: 1280 total: 1280 loss: 0.02561\n",
            "\tbatchcount: 40, size: 1280 total: 2560 loss: 0.02570\n",
            "\tbatchcount: 60, size: 1280 total: 3840 loss: 0.02569\n",
            "\tbatchcount: 80, size: 1280 total: 5120 loss: 0.02564\n",
            "\tbatchcount: 100, size: 1280 total: 6400 loss: 0.02581\n",
            "\tbatchcount: 120, size: 1280 total: 7680 loss: 0.02542\n",
            "\tbatchcount: 140, size: 1280 total: 8960 loss: 0.02617\n",
            "\tbatchcount: 160, size: 1280 total: 10240 loss: 0.02575\n",
            "\n",
            "  Epoch 7, loss: 1.64639 loss_val: 1.64569 time = 26.03 sec\n",
            "\n",
            "Epoch: 8\n",
            "\tbatchcount: 20, size: 1280 total: 1280 loss: 0.02569\n",
            "\tbatchcount: 40, size: 1280 total: 2560 loss: 0.02536\n",
            "\tbatchcount: 60, size: 1280 total: 3840 loss: 0.02577\n",
            "\tbatchcount: 80, size: 1280 total: 5120 loss: 0.02574\n",
            "\tbatchcount: 100, size: 1280 total: 6400 loss: 0.02573\n",
            "\tbatchcount: 120, size: 1280 total: 7680 loss: 0.02567\n",
            "\tbatchcount: 140, size: 1280 total: 8960 loss: 0.02563\n",
            "\tbatchcount: 160, size: 1280 total: 10240 loss: 0.02560\n",
            "\n",
            "  Epoch 8, loss: 1.64229 loss_val: 1.64197 time = 25.95 sec\n",
            "\n",
            "Epoch: 9\n",
            "\tbatchcount: 20, size: 1280 total: 1280 loss: 0.02532\n",
            "\tbatchcount: 40, size: 1280 total: 2560 loss: 0.02551\n",
            "\tbatchcount: 60, size: 1280 total: 3840 loss: 0.02568\n",
            "\tbatchcount: 80, size: 1280 total: 5120 loss: 0.02565\n",
            "\tbatchcount: 100, size: 1280 total: 6400 loss: 0.02576\n",
            "\tbatchcount: 120, size: 1280 total: 7680 loss: 0.02560\n",
            "\tbatchcount: 140, size: 1280 total: 8960 loss: 0.02581\n",
            "\tbatchcount: 160, size: 1280 total: 10240 loss: 0.02553\n",
            "\n",
            "  Epoch 9, loss: 1.63853 loss_val: 1.63668 time = 26.12 sec\n",
            "\n",
            "Epoch: 10\n",
            "\tbatchcount: 20, size: 1280 total: 1280 loss: 0.02543\n",
            "\tbatchcount: 40, size: 1280 total: 2560 loss: 0.02541\n",
            "\tbatchcount: 60, size: 1280 total: 3840 loss: 0.02579\n",
            "\tbatchcount: 80, size: 1280 total: 5120 loss: 0.02564\n",
            "\tbatchcount: 100, size: 1280 total: 6400 loss: 0.02582\n",
            "\tbatchcount: 120, size: 1280 total: 7680 loss: 0.02554\n",
            "\tbatchcount: 140, size: 1280 total: 8960 loss: 0.02549\n",
            "\tbatchcount: 160, size: 1280 total: 10240 loss: 0.02564\n",
            "\n",
            "  Epoch 10, loss: 1.63744 loss_val: 1.63649 time = 26.15 sec\n",
            "\n"
          ],
          "name": "stdout"
        }
      ]
    },
    {
      "cell_type": "code",
      "metadata": {
        "id": "4TWh0_XdYpVp",
        "colab": {
          "base_uri": "https://localhost:8080/",
          "height": 281
        },
        "outputId": "2bee654b-abfc-4770-9c34-5289745b8872"
      },
      "source": [
        "plt.plot(np.arange(1, epochs+1), epoch_losses, 'go-', label='train loss')\r\n",
        "plt.plot(np.arange(1, epochs+1), epoch_val_losses, 'ro-', label='validation loss')\r\n",
        "\r\n",
        "plt.legend(loc=\"upper right\")\r\n",
        "plt.grid(color=\"lightgrey\")\r\n",
        "plt.title('Сравнение train и valid loss' )\r\n",
        "plt.show()"
      ],
      "execution_count": 80,
      "outputs": [
        {
          "output_type": "display_data",
          "data": {
            "image/png": "[encoded data removed]",
            "text/plain": [
              "<Figure size 432x288 with 1 Axes>"
            ]
          },
          "metadata": {
            "tags": [],
            "needs_background": "light"
          }
        }
      ]
    },
    {
      "cell_type": "markdown",
      "metadata": {
        "id": "HLMiw0V__kiX"
      },
      "source": [
        "## Подбор гперпараметров"
      ]
    },
    {
      "cell_type": "code",
      "metadata": {
        "id": "ibMeU1IUJg0o"
      },
      "source": [
        "from typing import List, Tuple"
      ],
      "execution_count": 60,
      "outputs": []
    },
    {
      "cell_type": "code",
      "metadata": {
        "id": "Ilt4_5nU_Mdo"
      },
      "source": [
        "class HyperParSearch:\n",
        "    \n",
        "    def __init__(self):\n",
        "        self.device = torch.device(\"cuda:0\" if torch.cuda.is_available() else \"cpu\")\n",
        "        self.net = None\n",
        "        self.summary_data = pd.DataFrame(data=[[0, 0, 0, 0, 0, 0]], \n",
        "                            columns=['func', 'cnn_num', 'fc_num', 'kern_size', 'loss', 'accuracy'])\n",
        "        self.cnn_num = [2, 3]\n",
        "        self.fc_num = [2, 3]\n",
        "        self.kern_size = [3, 5]\n",
        "        self.func_act = ['relu', 'elu']\n",
        "        self.epochs = 5\n",
        "        self.in_shape = 160\n",
        "\n",
        "    def net_sample(self):\n",
        "        if self.net == None:\n",
        "            return 0\n",
        "        criterion = nn.CrossEntropyLoss()\n",
        "        optimizer = torch.optim.SGD(self.net.parameters(), \n",
        "                                    lr=0.01, \n",
        "                                    momentum=0.9)   # lr=0.001\n",
        "        ep_loss_list = []\n",
        "        ep_acc_list = []\n",
        "        for epoch in range(self.epochs):\n",
        "            total_loss = 0\n",
        "            loss_list = []\n",
        "            acc_list = []\n",
        "            running_loss = 0.0\n",
        "            \n",
        "            for i, data in enumerate(train_data_loader, 0):\n",
        "                inputs, labels = data\n",
        "                inputs, labels = inputs.to(self.device), labels.to(self.device)\n",
        "\n",
        "                # обнуляем градиент\n",
        "                optimizer.zero_grad()\n",
        "\n",
        "                outputs = self.net(inputs)\n",
        "                loss = criterion(outputs, labels)\n",
        "                loss.backward()\n",
        "                optimizer.step()\n",
        "\n",
        "                # print statistics\n",
        "                running_loss += loss.item()\n",
        "                bundle = 20\n",
        "                if not (i+1) % bundle:    # print every 10 mini-batches\n",
        "                    print(f'\\t\\t\\tbatchcount: {i+1}, size: {batch_s*bundle} '\n",
        "                          f'total: {(i+1)*batch_s} '\n",
        "                          f'loss: {running_loss/(batch_s*bundle):.5f}')\n",
        "                    running_loss = 0.0\n",
        "\n",
        "                # выводим статистику о процессе обучения\n",
        "                loss_list.append(loss.item())\n",
        "\n",
        "                # Отслеживание точности\n",
        "                total = labels.size(0)\n",
        "                _, predicted = torch.max(outputs.data, 1)\n",
        "                correct = (predicted == labels).sum().item()\n",
        "                acc_list.append(correct / total)\n",
        "                \n",
        "            ep_loss_list.append(sum(loss_list) / len(loss_list))\n",
        "            ep_acc_list.append(sum(acc_list) / len(acc_list))\n",
        "            print(f\"\\t\\tЭпоха: {epoch+1}\\tloss: {ep_loss_list[-1]:.6f}\\taccuracy: {ep_acc_list[-1]*100:.3f}%\")\n",
        "        return ep_loss_list, ep_acc_list\n",
        "        \n",
        "    def grid_search(self):\n",
        "        cnt = 0\n",
        "        \n",
        "        path_dir = './net'\n",
        "        if not os.path.exists(path_dir):\n",
        "            os.mkdir(path_dir)\n",
        "        \n",
        "        for f_a in self.func_act:\n",
        "            for c_n in self.cnn_num:\n",
        "                for f_n in self.fc_num:\n",
        "                    for k_s in self.kern_size:\n",
        "                        loss_m = []\n",
        "                        acc_m = []\n",
        "                        print(f\"Модель: функция активации: {f_a}, cnn слоёв: {c_n}, fc слоёв: {f_n}, kernel: {k_s}\\n\")\n",
        "                        self.net = HPSearchNET(cnn_num=c_n, \n",
        "                                               fc_num=f_n, \n",
        "                                               kern_size=k_s, \n",
        "                                               func_act=f_a, \n",
        "                                               nn_prn=True,\n",
        "                                               in_shape=self.in_shape).to(self.device)\n",
        "                        print(\"\\tМодель state_dict: \")\n",
        "                        for param in self.net.state_dict():\n",
        "                            print(\"\\t\\t\", param,\": \", self.net.state_dict()[param].size())\n",
        "\n",
        "                        loss_t, acc_t = self.net_sample()\n",
        "                        torch.save(self.net.state_dict(), f'./net/cifar_net_{f_a}_cnn{c_n}_fc{f_n}_kr{k_s}.pth')\n",
        "\n",
        "                        print(f\"\\tОшибки на train: {loss_t[-1]:.5f}\")\n",
        "                        print(f\"\\tAccuracy на train: {acc_t[-1]:.5f}\\n\")\n",
        "                        self.summary_data.loc[cnt, ['func', 'cnn_num', 'fc_num', \n",
        "                                               'kern_size', 'loss', \n",
        "                                               'accuracy']] = [f_a, c_n, \n",
        "                                                f_n, k_s, loss_t[-1], acc_t[-1]]\n",
        "                        cnt += 1"
      ],
      "execution_count": 61,
      "outputs": []
    },
    {
      "cell_type": "code",
      "metadata": {
        "id": "QNPMQlKyBXtb"
      },
      "source": [
        "search_top = HyperParSearch()"
      ],
      "execution_count": 62,
      "outputs": []
    },
    {
      "cell_type": "code",
      "metadata": {
        "colab": {
          "base_uri": "https://localhost:8080/"
        },
        "id": "o22c9p_NBXwi",
        "outputId": "4ede73ad-850c-404e-d107-4358e1e96b12"
      },
      "source": [
        "search_top.grid_search()"
      ],
      "execution_count": 63,
      "outputs": [
        {
          "output_type": "stream",
          "text": [
            "Модель: функция активации: relu, cnn слоёв: 2, fc слоёв: 2, kernel: 3\n",
            "\n",
            "\tМодель state_dict: \n",
            "\t\t conv1.weight :  torch.Size([16, 1, 3, 3])\n",
            "\t\t conv1.bias :  torch.Size([16])\n",
            "\t\t conv2.weight :  torch.Size([32, 16, 3, 3])\n",
            "\t\t conv2.bias :  torch.Size([32])\n",
            "\t\t fc_dec1.weight :  torch.Size([12800, 51200])\n",
            "\t\t fc_dec1.bias :  torch.Size([12800])\n",
            "\t\t fc_out.weight :  torch.Size([10, 12800])\n",
            "\t\t fc_out.bias :  torch.Size([10])\n",
            "\n",
            "\tX размеры income: torch.Size([64, 1, 160, 160])\n",
            "\tX размеры conv1, pool: torch.Size([64, 16, 80, 80])\n",
            "\tX размеры conv2, pool: torch.Size([64, 32, 40, 40])\n",
            "\tX размеры x.view: torch.Size([64, 51200])\n",
            "\tX размеры fc_dec1: torch.Size([64, 12800])\n",
            "\tX размеры fc_out: torch.Size([64, 10])\n",
            "\n",
            "\t\t\tbatchcount: 20, size: 1280 total: 1280 loss: 0.03593\n",
            "\t\t\tbatchcount: 40, size: 1280 total: 2560 loss: 0.03573\n",
            "\t\t\tbatchcount: 60, size: 1280 total: 3840 loss: 0.03508\n",
            "\t\t\tbatchcount: 80, size: 1280 total: 5120 loss: 0.03322\n",
            "\t\t\tbatchcount: 100, size: 1280 total: 6400 loss: 0.03225\n",
            "\t\t\tbatchcount: 120, size: 1280 total: 7680 loss: 0.03112\n",
            "\t\t\tbatchcount: 140, size: 1280 total: 8960 loss: 0.03001\n",
            "\t\t\tbatchcount: 160, size: 1280 total: 10240 loss: 0.02883\n",
            "\t\tЭпоха: 1\tloss: 2.087720\taccuracy: 37.423%\n",
            "\t\t\tbatchcount: 20, size: 1280 total: 1280 loss: 0.02769\n",
            "\t\t\tbatchcount: 40, size: 1280 total: 2560 loss: 0.02644\n",
            "\t\t\tbatchcount: 60, size: 1280 total: 3840 loss: 0.02635\n",
            "\t\t\tbatchcount: 80, size: 1280 total: 5120 loss: 0.02602\n",
            "\t\t\tbatchcount: 100, size: 1280 total: 6400 loss: 0.02600\n",
            "\t\t\tbatchcount: 120, size: 1280 total: 7680 loss: 0.02618\n",
            "\t\t\tbatchcount: 140, size: 1280 total: 8960 loss: 0.02585\n",
            "\t\t\tbatchcount: 160, size: 1280 total: 10240 loss: 0.02543\n",
            "\t\tЭпоха: 2\tloss: 1.678722\taccuracy: 78.816%\n",
            "\t\t\tbatchcount: 20, size: 1280 total: 1280 loss: 0.02582\n",
            "\t\t\tbatchcount: 40, size: 1280 total: 2560 loss: 0.02599\n",
            "\t\t\tbatchcount: 60, size: 1280 total: 3840 loss: 0.02591\n",
            "\t\t\tbatchcount: 80, size: 1280 total: 5120 loss: 0.02567\n",
            "\t\t\tbatchcount: 100, size: 1280 total: 6400 loss: 0.02553\n",
            "\t\t\tbatchcount: 120, size: 1280 total: 7680 loss: 0.02595\n",
            "\t\t\tbatchcount: 140, size: 1280 total: 8960 loss: 0.02568\n",
            "\t\t\tbatchcount: 160, size: 1280 total: 10240 loss: 0.02604\n",
            "\t\tЭпоха: 3\tloss: 1.650775\taccuracy: 81.214%\n",
            "\t\t\tbatchcount: 20, size: 1280 total: 1280 loss: 0.02590\n",
            "\t\t\tbatchcount: 40, size: 1280 total: 2560 loss: 0.02548\n",
            "\t\t\tbatchcount: 60, size: 1280 total: 3840 loss: 0.02633\n",
            "\t\t\tbatchcount: 80, size: 1280 total: 5120 loss: 0.02577\n",
            "\t\t\tbatchcount: 100, size: 1280 total: 6400 loss: 0.02604\n",
            "\t\t\tbatchcount: 120, size: 1280 total: 7680 loss: 0.02570\n",
            "\t\t\tbatchcount: 140, size: 1280 total: 8960 loss: 0.02540\n",
            "\t\t\tbatchcount: 160, size: 1280 total: 10240 loss: 0.02570\n",
            "\t\tЭпоха: 4\tloss: 1.650757\taccuracy: 81.071%\n",
            "\t\t\tbatchcount: 20, size: 1280 total: 1280 loss: 0.02574\n",
            "\t\t\tbatchcount: 40, size: 1280 total: 2560 loss: 0.02584\n",
            "\t\t\tbatchcount: 60, size: 1280 total: 3840 loss: 0.02575\n",
            "\t\t\tbatchcount: 80, size: 1280 total: 5120 loss: 0.02552\n",
            "\t\t\tbatchcount: 100, size: 1280 total: 6400 loss: 0.02564\n",
            "\t\t\tbatchcount: 120, size: 1280 total: 7680 loss: 0.02569\n",
            "\t\t\tbatchcount: 140, size: 1280 total: 8960 loss: 0.02526\n",
            "\t\t\tbatchcount: 160, size: 1280 total: 10240 loss: 0.02539\n",
            "\t\tЭпоха: 5\tloss: 1.639956\taccuracy: 82.082%\n",
            "Ошибки на train: 1.63996\n",
            "Accuracy на train: 0.82082\n",
            "Модель: функция активации: relu, cnn слоёв: 2, fc слоёв: 2, kernel: 5\n",
            "\n",
            "\tМодель state_dict: \n",
            "\t\t conv1.weight :  torch.Size([16, 1, 5, 5])\n",
            "\t\t conv1.bias :  torch.Size([16])\n",
            "\t\t conv2.weight :  torch.Size([32, 16, 5, 5])\n",
            "\t\t conv2.bias :  torch.Size([32])\n",
            "\t\t fc_dec1.weight :  torch.Size([12800, 51200])\n",
            "\t\t fc_dec1.bias :  torch.Size([12800])\n",
            "\t\t fc_out.weight :  torch.Size([10, 12800])\n",
            "\t\t fc_out.bias :  torch.Size([10])\n",
            "\n",
            "\tX размеры income: torch.Size([64, 1, 160, 160])\n",
            "\tX размеры conv1, pool: torch.Size([64, 16, 80, 80])\n",
            "\tX размеры conv2, pool: torch.Size([64, 32, 40, 40])\n",
            "\tX размеры x.view: torch.Size([64, 51200])\n",
            "\tX размеры fc_dec1: torch.Size([64, 12800])\n",
            "\tX размеры fc_out: torch.Size([64, 10])\n",
            "\n",
            "\t\t\tbatchcount: 20, size: 1280 total: 1280 loss: 0.03590\n",
            "\t\t\tbatchcount: 40, size: 1280 total: 2560 loss: 0.03504\n",
            "\t\t\tbatchcount: 60, size: 1280 total: 3840 loss: 0.03328\n",
            "\t\t\tbatchcount: 80, size: 1280 total: 5120 loss: 0.03237\n",
            "\t\t\tbatchcount: 100, size: 1280 total: 6400 loss: 0.03209\n",
            "\t\t\tbatchcount: 120, size: 1280 total: 7680 loss: 0.02943\n",
            "\t\t\tbatchcount: 140, size: 1280 total: 8960 loss: 0.02943\n",
            "\t\t\tbatchcount: 160, size: 1280 total: 10240 loss: 0.02895\n",
            "\t\tЭпоха: 1\tloss: 2.043734\taccuracy: 41.296%\n",
            "\t\t\tbatchcount: 20, size: 1280 total: 1280 loss: 0.02847\n",
            "\t\t\tbatchcount: 40, size: 1280 total: 2560 loss: 0.02826\n",
            "\t\t\tbatchcount: 60, size: 1280 total: 3840 loss: 0.02752\n",
            "\t\t\tbatchcount: 80, size: 1280 total: 5120 loss: 0.02669\n",
            "\t\t\tbatchcount: 100, size: 1280 total: 6400 loss: 0.02669\n",
            "\t\t\tbatchcount: 120, size: 1280 total: 7680 loss: 0.02670\n",
            "\t\t\tbatchcount: 140, size: 1280 total: 8960 loss: 0.02692\n",
            "\t\t\tbatchcount: 160, size: 1280 total: 10240 loss: 0.02668\n",
            "\t\tЭпоха: 2\tloss: 1.741272\taccuracy: 72.136%\n",
            "\t\t\tbatchcount: 20, size: 1280 total: 1280 loss: 0.02655\n",
            "\t\t\tbatchcount: 40, size: 1280 total: 2560 loss: 0.02629\n",
            "\t\t\tbatchcount: 60, size: 1280 total: 3840 loss: 0.02649\n",
            "\t\t\tbatchcount: 80, size: 1280 total: 5120 loss: 0.02610\n",
            "\t\t\tbatchcount: 100, size: 1280 total: 6400 loss: 0.02605\n",
            "\t\t\tbatchcount: 120, size: 1280 total: 7680 loss: 0.02614\n",
            "\t\t\tbatchcount: 140, size: 1280 total: 8960 loss: 0.02650\n",
            "\t\t\tbatchcount: 160, size: 1280 total: 10240 loss: 0.02584\n",
            "\t\tЭпоха: 3\tloss: 1.679989\taccuracy: 78.090%\n",
            "\t\t\tbatchcount: 20, size: 1280 total: 1280 loss: 0.02622\n",
            "\t\t\tbatchcount: 40, size: 1280 total: 2560 loss: 0.02612\n",
            "\t\t\tbatchcount: 60, size: 1280 total: 3840 loss: 0.02612\n",
            "\t\t\tbatchcount: 80, size: 1280 total: 5120 loss: 0.02617\n",
            "\t\t\tbatchcount: 100, size: 1280 total: 6400 loss: 0.02608\n",
            "\t\t\tbatchcount: 120, size: 1280 total: 7680 loss: 0.02631\n",
            "\t\t\tbatchcount: 140, size: 1280 total: 8960 loss: 0.02645\n",
            "\t\t\tbatchcount: 160, size: 1280 total: 10240 loss: 0.02579\n",
            "\t\tЭпоха: 4\tloss: 1.672204\taccuracy: 78.978%\n",
            "\t\t\tbatchcount: 20, size: 1280 total: 1280 loss: 0.02603\n",
            "\t\t\tbatchcount: 40, size: 1280 total: 2560 loss: 0.02569\n",
            "\t\t\tbatchcount: 60, size: 1280 total: 3840 loss: 0.02590\n",
            "\t\t\tbatchcount: 80, size: 1280 total: 5120 loss: 0.02592\n",
            "\t\t\tbatchcount: 100, size: 1280 total: 6400 loss: 0.02603\n",
            "\t\t\tbatchcount: 120, size: 1280 total: 7680 loss: 0.02587\n",
            "\t\t\tbatchcount: 140, size: 1280 total: 8960 loss: 0.02597\n",
            "\t\t\tbatchcount: 160, size: 1280 total: 10240 loss: 0.02567\n",
            "\t\tЭпоха: 5\tloss: 1.657603\taccuracy: 80.294%\n",
            "Ошибки на train: 1.65760\n",
            "Accuracy на train: 0.80294\n",
            "Модель: функция активации: relu, cnn слоёв: 2, fc слоёв: 3, kernel: 3\n",
            "\n",
            "\tМодель state_dict: \n",
            "\t\t conv1.weight :  torch.Size([16, 1, 3, 3])\n",
            "\t\t conv1.bias :  torch.Size([16])\n",
            "\t\t conv2.weight :  torch.Size([32, 16, 3, 3])\n",
            "\t\t conv2.bias :  torch.Size([32])\n",
            "\t\t fc_dec2.weight :  torch.Size([12800, 51200])\n",
            "\t\t fc_dec2.bias :  torch.Size([12800])\n",
            "\t\t fc_dec1.weight :  torch.Size([3200, 12800])\n",
            "\t\t fc_dec1.bias :  torch.Size([3200])\n",
            "\t\t fc_out.weight :  torch.Size([10, 3200])\n",
            "\t\t fc_out.bias :  torch.Size([10])\n",
            "\n",
            "\tX размеры income: torch.Size([64, 1, 160, 160])\n",
            "\tX размеры conv1, pool: torch.Size([64, 16, 80, 80])\n",
            "\tX размеры conv2, pool: torch.Size([64, 32, 40, 40])\n",
            "\tX размеры x.view: torch.Size([64, 51200])\n",
            "\tX размеры fc_dec2: torch.Size([64, 12800])\n",
            "\tX размеры fc_dec1: torch.Size([64, 3200])\n",
            "\tX размеры fc_out: torch.Size([64, 10])\n",
            "\n",
            "\t\t\tbatchcount: 20, size: 1280 total: 1280 loss: 0.03596\n",
            "\t\t\tbatchcount: 40, size: 1280 total: 2560 loss: 0.03589\n",
            "\t\t\tbatchcount: 60, size: 1280 total: 3840 loss: 0.03575\n",
            "\t\t\tbatchcount: 80, size: 1280 total: 5120 loss: 0.03535\n",
            "\t\t\tbatchcount: 100, size: 1280 total: 6400 loss: 0.03438\n",
            "\t\t\tbatchcount: 120, size: 1280 total: 7680 loss: 0.03251\n",
            "\t\t\tbatchcount: 140, size: 1280 total: 8960 loss: 0.03256\n",
            "\t\t\tbatchcount: 160, size: 1280 total: 10240 loss: 0.03179\n",
            "\t\tЭпоха: 1\tloss: 2.187354\taccuracy: 26.524%\n",
            "\t\t\tbatchcount: 20, size: 1280 total: 1280 loss: 0.03191\n",
            "\t\t\tbatchcount: 40, size: 1280 total: 2560 loss: 0.03158\n",
            "\t\t\tbatchcount: 60, size: 1280 total: 3840 loss: 0.03136\n",
            "\t\t\tbatchcount: 80, size: 1280 total: 5120 loss: 0.02881\n",
            "\t\t\tbatchcount: 100, size: 1280 total: 6400 loss: 0.02749\n",
            "\t\t\tbatchcount: 120, size: 1280 total: 7680 loss: 0.02737\n",
            "\t\t\tbatchcount: 140, size: 1280 total: 8960 loss: 0.02715\n",
            "\t\t\tbatchcount: 160, size: 1280 total: 10240 loss: 0.02636\n",
            "\t\tЭпоха: 2\tloss: 1.849013\taccuracy: 61.859%\n",
            "\t\t\tbatchcount: 20, size: 1280 total: 1280 loss: 0.02601\n",
            "\t\t\tbatchcount: 40, size: 1280 total: 2560 loss: 0.02599\n",
            "\t\t\tbatchcount: 60, size: 1280 total: 3840 loss: 0.02590\n",
            "\t\t\tbatchcount: 80, size: 1280 total: 5120 loss: 0.02541\n",
            "\t\t\tbatchcount: 100, size: 1280 total: 6400 loss: 0.02583\n",
            "\t\t\tbatchcount: 120, size: 1280 total: 7680 loss: 0.02585\n",
            "\t\t\tbatchcount: 140, size: 1280 total: 8960 loss: 0.02599\n",
            "\t\t\tbatchcount: 160, size: 1280 total: 10240 loss: 0.02586\n",
            "\t\tЭпоха: 3\tloss: 1.657176\taccuracy: 80.634%\n",
            "\t\t\tbatchcount: 20, size: 1280 total: 1280 loss: 0.02589\n",
            "\t\t\tbatchcount: 40, size: 1280 total: 2560 loss: 0.02573\n",
            "\t\t\tbatchcount: 60, size: 1280 total: 3840 loss: 0.02600\n",
            "\t\t\tbatchcount: 80, size: 1280 total: 5120 loss: 0.02566\n",
            "\t\t\tbatchcount: 100, size: 1280 total: 6400 loss: 0.02544\n",
            "\t\t\tbatchcount: 120, size: 1280 total: 7680 loss: 0.02588\n",
            "\t\t\tbatchcount: 140, size: 1280 total: 8960 loss: 0.02572\n",
            "\t\t\tbatchcount: 160, size: 1280 total: 10240 loss: 0.02575\n",
            "\t\tЭпоха: 4\tloss: 1.648358\taccuracy: 81.415%\n",
            "\t\t\tbatchcount: 20, size: 1280 total: 1280 loss: 0.02592\n",
            "\t\t\tbatchcount: 40, size: 1280 total: 2560 loss: 0.02554\n",
            "\t\t\tbatchcount: 60, size: 1280 total: 3840 loss: 0.02559\n",
            "\t\t\tbatchcount: 80, size: 1280 total: 5120 loss: 0.02577\n",
            "\t\t\tbatchcount: 100, size: 1280 total: 6400 loss: 0.02578\n",
            "\t\t\tbatchcount: 120, size: 1280 total: 7680 loss: 0.02546\n",
            "\t\t\tbatchcount: 140, size: 1280 total: 8960 loss: 0.02567\n",
            "\t\t\tbatchcount: 160, size: 1280 total: 10240 loss: 0.02542\n",
            "\t\tЭпоха: 5\tloss: 1.640657\taccuracy: 82.039%\n",
            "Ошибки на train: 1.64066\n",
            "Accuracy на train: 0.82039\n",
            "Модель: функция активации: relu, cnn слоёв: 2, fc слоёв: 3, kernel: 5\n",
            "\n",
            "\tМодель state_dict: \n",
            "\t\t conv1.weight :  torch.Size([16, 1, 5, 5])\n",
            "\t\t conv1.bias :  torch.Size([16])\n",
            "\t\t conv2.weight :  torch.Size([32, 16, 5, 5])\n",
            "\t\t conv2.bias :  torch.Size([32])\n",
            "\t\t fc_dec2.weight :  torch.Size([12800, 51200])\n",
            "\t\t fc_dec2.bias :  torch.Size([12800])\n",
            "\t\t fc_dec1.weight :  torch.Size([3200, 12800])\n",
            "\t\t fc_dec1.bias :  torch.Size([3200])\n",
            "\t\t fc_out.weight :  torch.Size([10, 3200])\n",
            "\t\t fc_out.bias :  torch.Size([10])\n",
            "\n",
            "\tX размеры income: torch.Size([64, 1, 160, 160])\n",
            "\tX размеры conv1, pool: torch.Size([64, 16, 80, 80])\n",
            "\tX размеры conv2, pool: torch.Size([64, 32, 40, 40])\n",
            "\tX размеры x.view: torch.Size([64, 51200])\n",
            "\tX размеры fc_dec2: torch.Size([64, 12800])\n",
            "\tX размеры fc_dec1: torch.Size([64, 3200])\n",
            "\tX размеры fc_out: torch.Size([64, 10])\n",
            "\n",
            "\t\t\tbatchcount: 20, size: 1280 total: 1280 loss: 0.03597\n",
            "\t\t\tbatchcount: 40, size: 1280 total: 2560 loss: 0.03592\n",
            "\t\t\tbatchcount: 60, size: 1280 total: 3840 loss: 0.03582\n",
            "\t\t\tbatchcount: 80, size: 1280 total: 5120 loss: 0.03521\n",
            "\t\t\tbatchcount: 100, size: 1280 total: 6400 loss: 0.03356\n",
            "\t\t\tbatchcount: 120, size: 1280 total: 7680 loss: 0.03039\n",
            "\t\t\tbatchcount: 140, size: 1280 total: 8960 loss: 0.03044\n",
            "\t\t\tbatchcount: 160, size: 1280 total: 10240 loss: 0.02901\n",
            "\t\tЭпоха: 1\tloss: 2.118626\taccuracy: 33.488%\n",
            "\t\t\tbatchcount: 20, size: 1280 total: 1280 loss: 0.02771\n",
            "\t\t\tbatchcount: 40, size: 1280 total: 2560 loss: 0.02679\n",
            "\t\t\tbatchcount: 60, size: 1280 total: 3840 loss: 0.02713\n",
            "\t\t\tbatchcount: 80, size: 1280 total: 5120 loss: 0.02681\n",
            "\t\t\tbatchcount: 100, size: 1280 total: 6400 loss: 0.02663\n",
            "\t\t\tbatchcount: 120, size: 1280 total: 7680 loss: 0.02701\n",
            "\t\t\tbatchcount: 140, size: 1280 total: 8960 loss: 0.02633\n",
            "\t\t\tbatchcount: 160, size: 1280 total: 10240 loss: 0.02651\n",
            "\t\tЭпоха: 2\tloss: 1.717376\taccuracy: 74.610%\n",
            "\t\t\tbatchcount: 20, size: 1280 total: 1280 loss: 0.02593\n",
            "\t\t\tbatchcount: 40, size: 1280 total: 2560 loss: 0.02600\n",
            "\t\t\tbatchcount: 60, size: 1280 total: 3840 loss: 0.02579\n",
            "\t\t\tbatchcount: 80, size: 1280 total: 5120 loss: 0.02580\n",
            "\t\t\tbatchcount: 100, size: 1280 total: 6400 loss: 0.02569\n",
            "\t\t\tbatchcount: 120, size: 1280 total: 7680 loss: 0.02602\n",
            "\t\t\tbatchcount: 140, size: 1280 total: 8960 loss: 0.02611\n",
            "\t\t\tbatchcount: 160, size: 1280 total: 10240 loss: 0.02582\n",
            "\t\tЭпоха: 3\tloss: 1.657556\taccuracy: 80.403%\n",
            "\t\t\tbatchcount: 20, size: 1280 total: 1280 loss: 0.02594\n",
            "\t\t\tbatchcount: 40, size: 1280 total: 2560 loss: 0.02596\n",
            "\t\t\tbatchcount: 60, size: 1280 total: 3840 loss: 0.02588\n",
            "\t\t\tbatchcount: 80, size: 1280 total: 5120 loss: 0.02589\n",
            "\t\t\tbatchcount: 100, size: 1280 total: 6400 loss: 0.02603\n",
            "\t\t\tbatchcount: 120, size: 1280 total: 7680 loss: 0.02585\n",
            "\t\t\tbatchcount: 140, size: 1280 total: 8960 loss: 0.02547\n",
            "\t\t\tbatchcount: 160, size: 1280 total: 10240 loss: 0.02588\n",
            "\t\tЭпоха: 4\tloss: 1.655322\taccuracy: 80.672%\n",
            "\t\t\tbatchcount: 20, size: 1280 total: 1280 loss: 0.02600\n",
            "\t\t\tbatchcount: 40, size: 1280 total: 2560 loss: 0.02611\n",
            "\t\t\tbatchcount: 60, size: 1280 total: 3840 loss: 0.02560\n",
            "\t\t\tbatchcount: 80, size: 1280 total: 5120 loss: 0.02535\n",
            "\t\t\tbatchcount: 100, size: 1280 total: 6400 loss: 0.02577\n",
            "\t\t\tbatchcount: 120, size: 1280 total: 7680 loss: 0.02575\n",
            "\t\t\tbatchcount: 140, size: 1280 total: 8960 loss: 0.02569\n",
            "\t\t\tbatchcount: 160, size: 1280 total: 10240 loss: 0.02592\n",
            "\t\tЭпоха: 5\tloss: 1.649280\taccuracy: 81.130%\n",
            "Ошибки на train: 1.64928\n",
            "Accuracy на train: 0.81130\n",
            "Модель: функция активации: relu, cnn слоёв: 3, fc слоёв: 2, kernel: 3\n",
            "\n",
            "\tМодель state_dict: \n",
            "\t\t conv1.weight :  torch.Size([16, 1, 3, 3])\n",
            "\t\t conv1.bias :  torch.Size([16])\n",
            "\t\t conv2.weight :  torch.Size([32, 16, 3, 3])\n",
            "\t\t conv2.bias :  torch.Size([32])\n",
            "\t\t conv3.weight :  torch.Size([64, 32, 3, 3])\n",
            "\t\t conv3.bias :  torch.Size([64])\n",
            "\t\t fc_dec1.weight :  torch.Size([6400, 25600])\n",
            "\t\t fc_dec1.bias :  torch.Size([6400])\n",
            "\t\t fc_out.weight :  torch.Size([10, 6400])\n",
            "\t\t fc_out.bias :  torch.Size([10])\n",
            "\n",
            "\tX размеры income: torch.Size([64, 1, 160, 160])\n",
            "\tX размеры conv1, pool: torch.Size([64, 16, 80, 80])\n",
            "\tX размеры conv2, pool: torch.Size([64, 32, 40, 40])\n",
            "\tX размеры conv3, pool: torch.Size([64, 64, 20, 20])\n",
            "\tX размеры x.view: torch.Size([64, 25600])\n",
            "\tX размеры fc_dec1: torch.Size([64, 6400])\n",
            "\tX размеры fc_out: torch.Size([64, 10])\n",
            "\n",
            "\t\t\tbatchcount: 20, size: 1280 total: 1280 loss: 0.03597\n",
            "\t\t\tbatchcount: 40, size: 1280 total: 2560 loss: 0.03594\n",
            "\t\t\tbatchcount: 60, size: 1280 total: 3840 loss: 0.03590\n",
            "\t\t\tbatchcount: 80, size: 1280 total: 5120 loss: 0.03579\n",
            "\t\t\tbatchcount: 100, size: 1280 total: 6400 loss: 0.03537\n",
            "\t\t\tbatchcount: 120, size: 1280 total: 7680 loss: 0.03468\n",
            "\t\t\tbatchcount: 140, size: 1280 total: 8960 loss: 0.03303\n",
            "\t\t\tbatchcount: 160, size: 1280 total: 10240 loss: 0.03179\n",
            "\t\tЭпоха: 1\tloss: 2.221692\taccuracy: 23.369%\n",
            "\t\t\tbatchcount: 20, size: 1280 total: 1280 loss: 0.03216\n",
            "\t\t\tbatchcount: 40, size: 1280 total: 2560 loss: 0.03209\n",
            "\t\t\tbatchcount: 60, size: 1280 total: 3840 loss: 0.03183\n",
            "\t\t\tbatchcount: 80, size: 1280 total: 5120 loss: 0.03198\n",
            "\t\t\tbatchcount: 100, size: 1280 total: 6400 loss: 0.03205\n",
            "\t\t\tbatchcount: 120, size: 1280 total: 7680 loss: 0.03081\n",
            "\t\t\tbatchcount: 140, size: 1280 total: 8960 loss: 0.02842\n",
            "\t\t\tbatchcount: 160, size: 1280 total: 10240 loss: 0.02721\n",
            "\t\tЭпоха: 2\tloss: 1.963549\taccuracy: 50.015%\n",
            "\t\t\tbatchcount: 20, size: 1280 total: 1280 loss: 0.02721\n",
            "\t\t\tbatchcount: 40, size: 1280 total: 2560 loss: 0.02660\n",
            "\t\t\tbatchcount: 60, size: 1280 total: 3840 loss: 0.02687\n",
            "\t\t\tbatchcount: 80, size: 1280 total: 5120 loss: 0.02661\n",
            "\t\t\tbatchcount: 100, size: 1280 total: 6400 loss: 0.02573\n",
            "\t\t\tbatchcount: 120, size: 1280 total: 7680 loss: 0.02570\n",
            "\t\t\tbatchcount: 140, size: 1280 total: 8960 loss: 0.02541\n",
            "\t\t\tbatchcount: 160, size: 1280 total: 10240 loss: 0.02564\n",
            "\t\tЭпоха: 3\tloss: 1.676521\taccuracy: 78.566%\n",
            "\t\t\tbatchcount: 20, size: 1280 total: 1280 loss: 0.02489\n",
            "\t\t\tbatchcount: 40, size: 1280 total: 2560 loss: 0.02495\n",
            "\t\t\tbatchcount: 60, size: 1280 total: 3840 loss: 0.02501\n",
            "\t\t\tbatchcount: 80, size: 1280 total: 5120 loss: 0.02571\n",
            "\t\t\tbatchcount: 100, size: 1280 total: 6400 loss: 0.02561\n",
            "\t\t\tbatchcount: 120, size: 1280 total: 7680 loss: 0.02547\n",
            "\t\t\tbatchcount: 140, size: 1280 total: 8960 loss: 0.02508\n",
            "\t\t\tbatchcount: 160, size: 1280 total: 10240 loss: 0.02480\n",
            "\t\tЭпоха: 4\tloss: 1.612397\taccuracy: 85.046%\n",
            "\t\t\tbatchcount: 20, size: 1280 total: 1280 loss: 0.02555\n",
            "\t\t\tbatchcount: 40, size: 1280 total: 2560 loss: 0.02563\n",
            "\t\t\tbatchcount: 60, size: 1280 total: 3840 loss: 0.02505\n",
            "\t\t\tbatchcount: 80, size: 1280 total: 5120 loss: 0.02529\n",
            "\t\t\tbatchcount: 100, size: 1280 total: 6400 loss: 0.02473\n",
            "\t\t\tbatchcount: 120, size: 1280 total: 7680 loss: 0.02475\n",
            "\t\t\tbatchcount: 140, size: 1280 total: 8960 loss: 0.02452\n",
            "\t\t\tbatchcount: 160, size: 1280 total: 10240 loss: 0.02509\n",
            "\t\tЭпоха: 5\tloss: 1.605061\taccuracy: 85.526%\n",
            "Ошибки на train: 1.60506\n",
            "Accuracy на train: 0.85526\n",
            "Модель: функция активации: relu, cnn слоёв: 3, fc слоёв: 2, kernel: 5\n",
            "\n",
            "\tМодель state_dict: \n",
            "\t\t conv1.weight :  torch.Size([16, 1, 5, 5])\n",
            "\t\t conv1.bias :  torch.Size([16])\n",
            "\t\t conv2.weight :  torch.Size([32, 16, 5, 5])\n",
            "\t\t conv2.bias :  torch.Size([32])\n",
            "\t\t conv3.weight :  torch.Size([64, 32, 5, 5])\n",
            "\t\t conv3.bias :  torch.Size([64])\n",
            "\t\t fc_dec1.weight :  torch.Size([6400, 25600])\n",
            "\t\t fc_dec1.bias :  torch.Size([6400])\n",
            "\t\t fc_out.weight :  torch.Size([10, 6400])\n",
            "\t\t fc_out.bias :  torch.Size([10])\n",
            "\n",
            "\tX размеры income: torch.Size([64, 1, 160, 160])\n",
            "\tX размеры conv1, pool: torch.Size([64, 16, 80, 80])\n",
            "\tX размеры conv2, pool: torch.Size([64, 32, 40, 40])\n",
            "\tX размеры conv3, pool: torch.Size([64, 64, 20, 20])\n",
            "\tX размеры x.view: torch.Size([64, 25600])\n",
            "\tX размеры fc_dec1: torch.Size([64, 6400])\n",
            "\tX размеры fc_out: torch.Size([64, 10])\n",
            "\n",
            "\t\t\tbatchcount: 20, size: 1280 total: 1280 loss: 0.03597\n",
            "\t\t\tbatchcount: 40, size: 1280 total: 2560 loss: 0.03592\n",
            "\t\t\tbatchcount: 60, size: 1280 total: 3840 loss: 0.03558\n",
            "\t\t\tbatchcount: 80, size: 1280 total: 5120 loss: 0.03476\n",
            "\t\t\tbatchcount: 100, size: 1280 total: 6400 loss: 0.03321\n",
            "\t\t\tbatchcount: 120, size: 1280 total: 7680 loss: 0.02987\n",
            "\t\t\tbatchcount: 140, size: 1280 total: 8960 loss: 0.02900\n",
            "\t\t\tbatchcount: 160, size: 1280 total: 10240 loss: 0.02866\n",
            "\t\tЭпоха: 1\tloss: 2.091988\taccuracy: 36.781%\n",
            "\t\t\tbatchcount: 20, size: 1280 total: 1280 loss: 0.02847\n",
            "\t\t\tbatchcount: 40, size: 1280 total: 2560 loss: 0.02719\n",
            "\t\t\tbatchcount: 60, size: 1280 total: 3840 loss: 0.02664\n",
            "\t\t\tbatchcount: 80, size: 1280 total: 5120 loss: 0.02657\n",
            "\t\t\tbatchcount: 100, size: 1280 total: 6400 loss: 0.02725\n",
            "\t\t\tbatchcount: 120, size: 1280 total: 7680 loss: 0.02652\n",
            "\t\t\tbatchcount: 140, size: 1280 total: 8960 loss: 0.02666\n",
            "\t\t\tbatchcount: 160, size: 1280 total: 10240 loss: 0.02594\n",
            "\t\tЭпоха: 2\tloss: 1.718773\taccuracy: 74.285%\n",
            "\t\t\tbatchcount: 20, size: 1280 total: 1280 loss: 0.02560\n",
            "\t\t\tbatchcount: 40, size: 1280 total: 2560 loss: 0.02537\n",
            "\t\t\tbatchcount: 60, size: 1280 total: 3840 loss: 0.02512\n",
            "\t\t\tbatchcount: 80, size: 1280 total: 5120 loss: 0.02506\n",
            "\t\t\tbatchcount: 100, size: 1280 total: 6400 loss: 0.02479\n",
            "\t\t\tbatchcount: 120, size: 1280 total: 7680 loss: 0.02496\n",
            "\t\t\tbatchcount: 140, size: 1280 total: 8960 loss: 0.02468\n",
            "\t\t\tbatchcount: 160, size: 1280 total: 10240 loss: 0.02463\n",
            "\t\tЭпоха: 3\tloss: 1.600712\taccuracy: 86.149%\n",
            "\t\t\tbatchcount: 20, size: 1280 total: 1280 loss: 0.02462\n",
            "\t\t\tbatchcount: 40, size: 1280 total: 2560 loss: 0.02478\n",
            "\t\t\tbatchcount: 60, size: 1280 total: 3840 loss: 0.02455\n",
            "\t\t\tbatchcount: 80, size: 1280 total: 5120 loss: 0.02456\n",
            "\t\t\tbatchcount: 100, size: 1280 total: 6400 loss: 0.02457\n",
            "\t\t\tbatchcount: 120, size: 1280 total: 7680 loss: 0.02454\n",
            "\t\t\tbatchcount: 140, size: 1280 total: 8960 loss: 0.02456\n",
            "\t\t\tbatchcount: 160, size: 1280 total: 10240 loss: 0.02437\n",
            "\t\tЭпоха: 4\tloss: 1.572396\taccuracy: 88.898%\n",
            "\t\t\tbatchcount: 20, size: 1280 total: 1280 loss: 0.02455\n",
            "\t\t\tbatchcount: 40, size: 1280 total: 2560 loss: 0.02440\n",
            "\t\t\tbatchcount: 60, size: 1280 total: 3840 loss: 0.02451\n",
            "\t\t\tbatchcount: 80, size: 1280 total: 5120 loss: 0.02446\n",
            "\t\t\tbatchcount: 100, size: 1280 total: 6400 loss: 0.02468\n",
            "\t\t\tbatchcount: 120, size: 1280 total: 7680 loss: 0.02447\n",
            "\t\t\tbatchcount: 140, size: 1280 total: 8960 loss: 0.02457\n",
            "\t\t\tbatchcount: 160, size: 1280 total: 10240 loss: 0.02417\n",
            "\t\tЭпоха: 5\tloss: 1.565388\taccuracy: 89.559%\n",
            "Ошибки на train: 1.56539\n",
            "Accuracy на train: 0.89559\n",
            "Модель: функция активации: relu, cnn слоёв: 3, fc слоёв: 3, kernel: 3\n",
            "\n",
            "\tМодель state_dict: \n",
            "\t\t conv1.weight :  torch.Size([16, 1, 3, 3])\n",
            "\t\t conv1.bias :  torch.Size([16])\n",
            "\t\t conv2.weight :  torch.Size([32, 16, 3, 3])\n",
            "\t\t conv2.bias :  torch.Size([32])\n",
            "\t\t conv3.weight :  torch.Size([64, 32, 3, 3])\n",
            "\t\t conv3.bias :  torch.Size([64])\n",
            "\t\t fc_dec2.weight :  torch.Size([6400, 25600])\n",
            "\t\t fc_dec2.bias :  torch.Size([6400])\n",
            "\t\t fc_dec1.weight :  torch.Size([1600, 6400])\n",
            "\t\t fc_dec1.bias :  torch.Size([1600])\n",
            "\t\t fc_out.weight :  torch.Size([10, 1600])\n",
            "\t\t fc_out.bias :  torch.Size([10])\n",
            "\n",
            "\tX размеры income: torch.Size([64, 1, 160, 160])\n",
            "\tX размеры conv1, pool: torch.Size([64, 16, 80, 80])\n",
            "\tX размеры conv2, pool: torch.Size([64, 32, 40, 40])\n",
            "\tX размеры conv3, pool: torch.Size([64, 64, 20, 20])\n",
            "\tX размеры x.view: torch.Size([64, 25600])\n",
            "\tX размеры fc_dec2: torch.Size([64, 6400])\n",
            "\tX размеры fc_dec1: torch.Size([64, 1600])\n",
            "\tX размеры fc_out: torch.Size([64, 10])\n",
            "\n",
            "\t\t\tbatchcount: 20, size: 1280 total: 1280 loss: 0.03597\n",
            "\t\t\tbatchcount: 40, size: 1280 total: 2560 loss: 0.03597\n",
            "\t\t\tbatchcount: 60, size: 1280 total: 3840 loss: 0.03596\n",
            "\t\t\tbatchcount: 80, size: 1280 total: 5120 loss: 0.03595\n",
            "\t\t\tbatchcount: 100, size: 1280 total: 6400 loss: 0.03595\n",
            "\t\t\tbatchcount: 120, size: 1280 total: 7680 loss: 0.03594\n",
            "\t\t\tbatchcount: 140, size: 1280 total: 8960 loss: 0.03593\n",
            "\t\t\tbatchcount: 160, size: 1280 total: 10240 loss: 0.03592\n",
            "\t\tЭпоха: 1\tloss: 2.300705\taccuracy: 15.868%\n",
            "\t\t\tbatchcount: 20, size: 1280 total: 1280 loss: 0.03590\n",
            "\t\t\tbatchcount: 40, size: 1280 total: 2560 loss: 0.03587\n",
            "\t\t\tbatchcount: 60, size: 1280 total: 3840 loss: 0.03582\n",
            "\t\t\tbatchcount: 80, size: 1280 total: 5120 loss: 0.03574\n",
            "\t\t\tbatchcount: 100, size: 1280 total: 6400 loss: 0.03569\n",
            "\t\t\tbatchcount: 120, size: 1280 total: 7680 loss: 0.03549\n",
            "\t\t\tbatchcount: 140, size: 1280 total: 8960 loss: 0.03541\n",
            "\t\t\tbatchcount: 160, size: 1280 total: 10240 loss: 0.03539\n",
            "\t\tЭпоха: 2\tloss: 2.280820\taccuracy: 16.529%\n",
            "\t\t\tbatchcount: 20, size: 1280 total: 1280 loss: 0.03421\n",
            "\t\t\tbatchcount: 40, size: 1280 total: 2560 loss: 0.03271\n",
            "\t\t\tbatchcount: 60, size: 1280 total: 3840 loss: 0.03222\n",
            "\t\t\tbatchcount: 80, size: 1280 total: 5120 loss: 0.03213\n",
            "\t\t\tbatchcount: 100, size: 1280 total: 6400 loss: 0.03150\n",
            "\t\t\tbatchcount: 120, size: 1280 total: 7680 loss: 0.03204\n",
            "\t\t\tbatchcount: 140, size: 1280 total: 8960 loss: 0.03229\n",
            "\t\t\tbatchcount: 160, size: 1280 total: 10240 loss: 0.03188\n",
            "\t\tЭпоха: 3\tloss: 2.069676\taccuracy: 39.816%\n",
            "\t\t\tbatchcount: 20, size: 1280 total: 1280 loss: 0.03180\n",
            "\t\t\tbatchcount: 40, size: 1280 total: 2560 loss: 0.03161\n",
            "\t\t\tbatchcount: 60, size: 1280 total: 3840 loss: 0.03031\n",
            "\t\t\tbatchcount: 80, size: 1280 total: 5120 loss: 0.02894\n",
            "\t\t\tbatchcount: 100, size: 1280 total: 6400 loss: 0.02817\n",
            "\t\t\tbatchcount: 120, size: 1280 total: 7680 loss: 0.02752\n",
            "\t\t\tbatchcount: 140, size: 1280 total: 8960 loss: 0.02759\n",
            "\t\t\tbatchcount: 160, size: 1280 total: 10240 loss: 0.02635\n",
            "\t\tЭпоха: 4\tloss: 1.852541\taccuracy: 61.236%\n",
            "\t\t\tbatchcount: 20, size: 1280 total: 1280 loss: 0.02615\n",
            "\t\t\tbatchcount: 40, size: 1280 total: 2560 loss: 0.02633\n",
            "\t\t\tbatchcount: 60, size: 1280 total: 3840 loss: 0.02686\n",
            "\t\t\tbatchcount: 80, size: 1280 total: 5120 loss: 0.02750\n",
            "\t\t\tbatchcount: 100, size: 1280 total: 6400 loss: 0.02698\n",
            "\t\t\tbatchcount: 120, size: 1280 total: 7680 loss: 0.02576\n",
            "\t\t\tbatchcount: 140, size: 1280 total: 8960 loss: 0.02581\n",
            "\t\t\tbatchcount: 160, size: 1280 total: 10240 loss: 0.02597\n",
            "\t\tЭпоха: 5\tloss: 1.690461\taccuracy: 77.283%\n",
            "Ошибки на train: 1.69046\n",
            "Accuracy на train: 0.77283\n",
            "Модель: функция активации: relu, cnn слоёв: 3, fc слоёв: 3, kernel: 5\n",
            "\n",
            "\tМодель state_dict: \n",
            "\t\t conv1.weight :  torch.Size([16, 1, 5, 5])\n",
            "\t\t conv1.bias :  torch.Size([16])\n",
            "\t\t conv2.weight :  torch.Size([32, 16, 5, 5])\n",
            "\t\t conv2.bias :  torch.Size([32])\n",
            "\t\t conv3.weight :  torch.Size([64, 32, 5, 5])\n",
            "\t\t conv3.bias :  torch.Size([64])\n",
            "\t\t fc_dec2.weight :  torch.Size([6400, 25600])\n",
            "\t\t fc_dec2.bias :  torch.Size([6400])\n",
            "\t\t fc_dec1.weight :  torch.Size([1600, 6400])\n",
            "\t\t fc_dec1.bias :  torch.Size([1600])\n",
            "\t\t fc_out.weight :  torch.Size([10, 1600])\n",
            "\t\t fc_out.bias :  torch.Size([10])\n",
            "\n",
            "\tX размеры income: torch.Size([64, 1, 160, 160])\n",
            "\tX размеры conv1, pool: torch.Size([64, 16, 80, 80])\n",
            "\tX размеры conv2, pool: torch.Size([64, 32, 40, 40])\n",
            "\tX размеры conv3, pool: torch.Size([64, 64, 20, 20])\n",
            "\tX размеры x.view: torch.Size([64, 25600])\n",
            "\tX размеры fc_dec2: torch.Size([64, 6400])\n",
            "\tX размеры fc_dec1: torch.Size([64, 1600])\n",
            "\tX размеры fc_out: torch.Size([64, 10])\n",
            "\n",
            "\t\t\tbatchcount: 20, size: 1280 total: 1280 loss: 0.03598\n",
            "\t\t\tbatchcount: 40, size: 1280 total: 2560 loss: 0.03597\n",
            "\t\t\tbatchcount: 60, size: 1280 total: 3840 loss: 0.03595\n",
            "\t\t\tbatchcount: 80, size: 1280 total: 5120 loss: 0.03593\n",
            "\t\t\tbatchcount: 100, size: 1280 total: 6400 loss: 0.03588\n",
            "\t\t\tbatchcount: 120, size: 1280 total: 7680 loss: 0.03568\n",
            "\t\t\tbatchcount: 140, size: 1280 total: 8960 loss: 0.03502\n",
            "\t\t\tbatchcount: 160, size: 1280 total: 10240 loss: 0.03353\n",
            "\t\tЭпоха: 1\tloss: 2.265016\taccuracy: 17.657%\n",
            "\t\t\tbatchcount: 20, size: 1280 total: 1280 loss: 0.03123\n",
            "\t\t\tbatchcount: 40, size: 1280 total: 2560 loss: 0.03152\n",
            "\t\t\tbatchcount: 60, size: 1280 total: 3840 loss: 0.03093\n",
            "\t\t\tbatchcount: 80, size: 1280 total: 5120 loss: 0.03036\n",
            "\t\t\tbatchcount: 100, size: 1280 total: 6400 loss: 0.02973\n",
            "\t\t\tbatchcount: 120, size: 1280 total: 7680 loss: 0.02950\n",
            "\t\t\tbatchcount: 140, size: 1280 total: 8960 loss: 0.02901\n",
            "\t\t\tbatchcount: 160, size: 1280 total: 10240 loss: 0.02852\n",
            "\t\tЭпоха: 2\tloss: 1.922749\taccuracy: 53.900%\n",
            "\t\t\tbatchcount: 20, size: 1280 total: 1280 loss: 0.02759\n",
            "\t\t\tbatchcount: 40, size: 1280 total: 2560 loss: 0.02758\n",
            "\t\t\tbatchcount: 60, size: 1280 total: 3840 loss: 0.02778\n",
            "\t\t\tbatchcount: 80, size: 1280 total: 5120 loss: 0.02824\n",
            "\t\t\tbatchcount: 100, size: 1280 total: 6400 loss: 0.02808\n",
            "\t\t\tbatchcount: 120, size: 1280 total: 7680 loss: 0.02822\n",
            "\t\t\tbatchcount: 140, size: 1280 total: 8960 loss: 0.02784\n",
            "\t\t\tbatchcount: 160, size: 1280 total: 10240 loss: 0.02791\n",
            "\t\tЭпоха: 3\tloss: 1.784924\taccuracy: 67.575%\n",
            "\t\t\tbatchcount: 20, size: 1280 total: 1280 loss: 0.02793\n",
            "\t\t\tbatchcount: 40, size: 1280 total: 2560 loss: 0.02794\n",
            "\t\t\tbatchcount: 60, size: 1280 total: 3840 loss: 0.02695\n",
            "\t\t\tbatchcount: 80, size: 1280 total: 5120 loss: 0.02646\n",
            "\t\t\tbatchcount: 100, size: 1280 total: 6400 loss: 0.02613\n",
            "\t\t\tbatchcount: 120, size: 1280 total: 7680 loss: 0.02631\n",
            "\t\t\tbatchcount: 140, size: 1280 total: 8960 loss: 0.02598\n",
            "\t\t\tbatchcount: 160, size: 1280 total: 10240 loss: 0.02582\n",
            "\t\tЭпоха: 4\tloss: 1.705467\taccuracy: 75.532%\n",
            "\t\t\tbatchcount: 20, size: 1280 total: 1280 loss: 0.02580\n",
            "\t\t\tbatchcount: 40, size: 1280 total: 2560 loss: 0.02617\n",
            "\t\t\tbatchcount: 60, size: 1280 total: 3840 loss: 0.02576\n",
            "\t\t\tbatchcount: 80, size: 1280 total: 5120 loss: 0.02616\n",
            "\t\t\tbatchcount: 100, size: 1280 total: 6400 loss: 0.02592\n",
            "\t\t\tbatchcount: 120, size: 1280 total: 7680 loss: 0.02564\n",
            "\t\t\tbatchcount: 140, size: 1280 total: 8960 loss: 0.02601\n",
            "\t\t\tbatchcount: 160, size: 1280 total: 10240 loss: 0.02588\n",
            "\t\tЭпоха: 5\tloss: 1.658970\taccuracy: 80.071%\n",
            "Ошибки на train: 1.65897\n",
            "Accuracy на train: 0.80071\n",
            "Модель: функция активации: elu, cnn слоёв: 2, fc слоёв: 2, kernel: 3\n",
            "\n",
            "\tМодель state_dict: \n",
            "\t\t conv1.weight :  torch.Size([16, 1, 3, 3])\n",
            "\t\t conv1.bias :  torch.Size([16])\n",
            "\t\t conv2.weight :  torch.Size([32, 16, 3, 3])\n",
            "\t\t conv2.bias :  torch.Size([32])\n",
            "\t\t fc_dec1.weight :  torch.Size([12800, 51200])\n",
            "\t\t fc_dec1.bias :  torch.Size([12800])\n",
            "\t\t fc_out.weight :  torch.Size([10, 12800])\n",
            "\t\t fc_out.bias :  torch.Size([10])\n",
            "\n",
            "\tX размеры income: torch.Size([64, 1, 160, 160])\n",
            "\tX размеры conv1, pool: torch.Size([64, 16, 80, 80])\n",
            "\tX размеры conv2, pool: torch.Size([64, 32, 40, 40])\n",
            "\tX размеры x.view: torch.Size([64, 51200])\n",
            "\tX размеры fc_dec1: torch.Size([64, 12800])\n",
            "\tX размеры fc_out: torch.Size([64, 10])\n",
            "\n",
            "\t\t\tbatchcount: 20, size: 1280 total: 1280 loss: 0.03577\n",
            "\t\t\tbatchcount: 40, size: 1280 total: 2560 loss: 0.03491\n",
            "\t\t\tbatchcount: 60, size: 1280 total: 3840 loss: 0.03287\n",
            "\t\t\tbatchcount: 80, size: 1280 total: 5120 loss: 0.03192\n",
            "\t\t\tbatchcount: 100, size: 1280 total: 6400 loss: 0.03222\n",
            "\t\t\tbatchcount: 120, size: 1280 total: 7680 loss: 0.03177\n",
            "\t\t\tbatchcount: 140, size: 1280 total: 8960 loss: 0.03202\n",
            "\t\t\tbatchcount: 160, size: 1280 total: 10240 loss: 0.03153\n",
            "\t\tЭпоха: 1\tloss: 2.097560\taccuracy: 36.225%\n",
            "\t\t\tbatchcount: 20, size: 1280 total: 1280 loss: 0.02893\n",
            "\t\t\tbatchcount: 40, size: 1280 total: 2560 loss: 0.02757\n",
            "\t\t\tbatchcount: 60, size: 1280 total: 3840 loss: 0.02581\n",
            "\t\t\tbatchcount: 80, size: 1280 total: 5120 loss: 0.02547\n",
            "\t\t\tbatchcount: 100, size: 1280 total: 6400 loss: 0.02510\n",
            "\t\t\tbatchcount: 120, size: 1280 total: 7680 loss: 0.02503\n",
            "\t\t\tbatchcount: 140, size: 1280 total: 8960 loss: 0.02502\n",
            "\t\t\tbatchcount: 160, size: 1280 total: 10240 loss: 0.02520\n",
            "\t\tЭпоха: 2\tloss: 1.662044\taccuracy: 80.805%\n",
            "\t\t\tbatchcount: 20, size: 1280 total: 1280 loss: 0.02490\n",
            "\t\t\tbatchcount: 40, size: 1280 total: 2560 loss: 0.02515\n",
            "\t\t\tbatchcount: 60, size: 1280 total: 3840 loss: 0.02473\n",
            "\t\t\tbatchcount: 80, size: 1280 total: 5120 loss: 0.02458\n",
            "\t\t\tbatchcount: 100, size: 1280 total: 6400 loss: 0.02476\n",
            "\t\t\tbatchcount: 120, size: 1280 total: 7680 loss: 0.02466\n",
            "\t\t\tbatchcount: 140, size: 1280 total: 8960 loss: 0.02481\n",
            "\t\t\tbatchcount: 160, size: 1280 total: 10240 loss: 0.02490\n",
            "\t\tЭпоха: 3\tloss: 1.586707\taccuracy: 87.714%\n",
            "\t\t\tbatchcount: 20, size: 1280 total: 1280 loss: 0.02445\n",
            "\t\t\tbatchcount: 40, size: 1280 total: 2560 loss: 0.02468\n",
            "\t\t\tbatchcount: 60, size: 1280 total: 3840 loss: 0.02460\n",
            "\t\t\tbatchcount: 80, size: 1280 total: 5120 loss: 0.02469\n",
            "\t\t\tbatchcount: 100, size: 1280 total: 6400 loss: 0.02451\n",
            "\t\t\tbatchcount: 120, size: 1280 total: 7680 loss: 0.02461\n",
            "\t\t\tbatchcount: 140, size: 1280 total: 8960 loss: 0.02466\n",
            "\t\t\tbatchcount: 160, size: 1280 total: 10240 loss: 0.02469\n",
            "\t\tЭпоха: 4\tloss: 1.574791\taccuracy: 88.699%\n",
            "\t\t\tbatchcount: 20, size: 1280 total: 1280 loss: 0.02472\n",
            "\t\t\tbatchcount: 40, size: 1280 total: 2560 loss: 0.02450\n",
            "\t\t\tbatchcount: 60, size: 1280 total: 3840 loss: 0.02468\n",
            "\t\t\tbatchcount: 80, size: 1280 total: 5120 loss: 0.02432\n",
            "\t\t\tbatchcount: 100, size: 1280 total: 6400 loss: 0.02442\n",
            "\t\t\tbatchcount: 120, size: 1280 total: 7680 loss: 0.02443\n",
            "\t\t\tbatchcount: 140, size: 1280 total: 8960 loss: 0.02438\n",
            "\t\t\tbatchcount: 160, size: 1280 total: 10240 loss: 0.02429\n",
            "\t\tЭпоха: 5\tloss: 1.564712\taccuracy: 89.778%\n",
            "Ошибки на train: 1.56471\n",
            "Accuracy на train: 0.89778\n",
            "Модель: функция активации: elu, cnn слоёв: 2, fc слоёв: 2, kernel: 5\n",
            "\n",
            "\tМодель state_dict: \n",
            "\t\t conv1.weight :  torch.Size([16, 1, 5, 5])\n",
            "\t\t conv1.bias :  torch.Size([16])\n",
            "\t\t conv2.weight :  torch.Size([32, 16, 5, 5])\n",
            "\t\t conv2.bias :  torch.Size([32])\n",
            "\t\t fc_dec1.weight :  torch.Size([12800, 51200])\n",
            "\t\t fc_dec1.bias :  torch.Size([12800])\n",
            "\t\t fc_out.weight :  torch.Size([10, 12800])\n",
            "\t\t fc_out.bias :  torch.Size([10])\n",
            "\n",
            "\tX размеры income: torch.Size([64, 1, 160, 160])\n",
            "\tX размеры conv1, pool: torch.Size([64, 16, 80, 80])\n",
            "\tX размеры conv2, pool: torch.Size([64, 32, 40, 40])\n",
            "\tX размеры x.view: torch.Size([64, 51200])\n",
            "\tX размеры fc_dec1: torch.Size([64, 12800])\n",
            "\tX размеры fc_out: torch.Size([64, 10])\n",
            "\n",
            "\t\t\tbatchcount: 20, size: 1280 total: 1280 loss: 0.03556\n",
            "\t\t\tbatchcount: 40, size: 1280 total: 2560 loss: 0.03239\n",
            "\t\t\tbatchcount: 60, size: 1280 total: 3840 loss: 0.02894\n",
            "\t\t\tbatchcount: 80, size: 1280 total: 5120 loss: 0.02735\n",
            "\t\t\tbatchcount: 100, size: 1280 total: 6400 loss: 0.02672\n",
            "\t\t\tbatchcount: 120, size: 1280 total: 7680 loss: 0.02617\n",
            "\t\t\tbatchcount: 140, size: 1280 total: 8960 loss: 0.02592\n",
            "\t\t\tbatchcount: 160, size: 1280 total: 10240 loss: 0.02589\n",
            "\t\tЭпоха: 1\tloss: 1.826370\taccuracy: 64.266%\n",
            "\t\t\tbatchcount: 20, size: 1280 total: 1280 loss: 0.02586\n",
            "\t\t\tbatchcount: 40, size: 1280 total: 2560 loss: 0.02591\n",
            "\t\t\tbatchcount: 60, size: 1280 total: 3840 loss: 0.02581\n",
            "\t\t\tbatchcount: 80, size: 1280 total: 5120 loss: 0.02595\n",
            "\t\t\tbatchcount: 100, size: 1280 total: 6400 loss: 0.02558\n",
            "\t\t\tbatchcount: 120, size: 1280 total: 7680 loss: 0.02577\n",
            "\t\t\tbatchcount: 140, size: 1280 total: 8960 loss: 0.02574\n",
            "\t\t\tbatchcount: 160, size: 1280 total: 10240 loss: 0.02568\n",
            "\t\tЭпоха: 2\tloss: 1.650577\taccuracy: 81.180%\n",
            "\t\t\tbatchcount: 20, size: 1280 total: 1280 loss: 0.02556\n",
            "\t\t\tbatchcount: 40, size: 1280 total: 2560 loss: 0.02533\n",
            "\t\t\tbatchcount: 60, size: 1280 total: 3840 loss: 0.02553\n",
            "\t\t\tbatchcount: 80, size: 1280 total: 5120 loss: 0.02573\n",
            "\t\t\tbatchcount: 100, size: 1280 total: 6400 loss: 0.02577\n",
            "\t\t\tbatchcount: 120, size: 1280 total: 7680 loss: 0.02592\n",
            "\t\t\tbatchcount: 140, size: 1280 total: 8960 loss: 0.02583\n",
            "\t\t\tbatchcount: 160, size: 1280 total: 10240 loss: 0.02574\n",
            "\t\tЭпоха: 3\tloss: 1.642589\taccuracy: 81.852%\n",
            "\t\t\tbatchcount: 20, size: 1280 total: 1280 loss: 0.02579\n",
            "\t\t\tbatchcount: 40, size: 1280 total: 2560 loss: 0.02562\n",
            "\t\t\tbatchcount: 60, size: 1280 total: 3840 loss: 0.02575\n",
            "\t\t\tbatchcount: 80, size: 1280 total: 5120 loss: 0.02559\n",
            "\t\t\tbatchcount: 100, size: 1280 total: 6400 loss: 0.02565\n",
            "\t\t\tbatchcount: 120, size: 1280 total: 7680 loss: 0.02551\n",
            "\t\t\tbatchcount: 140, size: 1280 total: 8960 loss: 0.02555\n",
            "\t\t\tbatchcount: 160, size: 1280 total: 10240 loss: 0.02554\n",
            "\t\tЭпоха: 4\tloss: 1.639866\taccuracy: 82.117%\n",
            "\t\t\tbatchcount: 20, size: 1280 total: 1280 loss: 0.02557\n",
            "\t\t\tbatchcount: 40, size: 1280 total: 2560 loss: 0.02570\n",
            "\t\t\tbatchcount: 60, size: 1280 total: 3840 loss: 0.02553\n",
            "\t\t\tbatchcount: 80, size: 1280 total: 5120 loss: 0.02556\n",
            "\t\t\tbatchcount: 100, size: 1280 total: 6400 loss: 0.02570\n",
            "\t\t\tbatchcount: 120, size: 1280 total: 7680 loss: 0.02576\n",
            "\t\t\tbatchcount: 140, size: 1280 total: 8960 loss: 0.02537\n",
            "\t\t\tbatchcount: 160, size: 1280 total: 10240 loss: 0.02536\n",
            "\t\tЭпоха: 5\tloss: 1.637330\taccuracy: 82.341%\n",
            "Ошибки на train: 1.63733\n",
            "Accuracy на train: 0.82341\n",
            "Модель: функция активации: elu, cnn слоёв: 2, fc слоёв: 3, kernel: 3\n",
            "\n",
            "\tМодель state_dict: \n",
            "\t\t conv1.weight :  torch.Size([16, 1, 3, 3])\n",
            "\t\t conv1.bias :  torch.Size([16])\n",
            "\t\t conv2.weight :  torch.Size([32, 16, 3, 3])\n",
            "\t\t conv2.bias :  torch.Size([32])\n",
            "\t\t fc_dec2.weight :  torch.Size([12800, 51200])\n",
            "\t\t fc_dec2.bias :  torch.Size([12800])\n",
            "\t\t fc_dec1.weight :  torch.Size([3200, 12800])\n",
            "\t\t fc_dec1.bias :  torch.Size([3200])\n",
            "\t\t fc_out.weight :  torch.Size([10, 3200])\n",
            "\t\t fc_out.bias :  torch.Size([10])\n",
            "\n",
            "\tX размеры income: torch.Size([64, 1, 160, 160])\n",
            "\tX размеры conv1, pool: torch.Size([64, 16, 80, 80])\n",
            "\tX размеры conv2, pool: torch.Size([64, 32, 40, 40])\n",
            "\tX размеры x.view: torch.Size([64, 51200])\n",
            "\tX размеры fc_dec2: torch.Size([64, 12800])\n",
            "\tX размеры fc_dec1: torch.Size([64, 3200])\n",
            "\tX размеры fc_out: torch.Size([64, 10])\n",
            "\n",
            "\t\t\tbatchcount: 20, size: 1280 total: 1280 loss: 0.03581\n",
            "\t\t\tbatchcount: 40, size: 1280 total: 2560 loss: 0.03527\n",
            "\t\t\tbatchcount: 60, size: 1280 total: 3840 loss: 0.03429\n",
            "\t\t\tbatchcount: 80, size: 1280 total: 5120 loss: 0.03255\n",
            "\t\t\tbatchcount: 100, size: 1280 total: 6400 loss: 0.03196\n",
            "\t\t\tbatchcount: 120, size: 1280 total: 7680 loss: 0.03058\n",
            "\t\t\tbatchcount: 140, size: 1280 total: 8960 loss: 0.02852\n",
            "\t\t\tbatchcount: 160, size: 1280 total: 10240 loss: 0.02737\n",
            "\t\tЭпоха: 1\tloss: 2.038089\taccuracy: 42.988%\n",
            "\t\t\tbatchcount: 20, size: 1280 total: 1280 loss: 0.02645\n",
            "\t\t\tbatchcount: 40, size: 1280 total: 2560 loss: 0.02603\n",
            "\t\t\tbatchcount: 60, size: 1280 total: 3840 loss: 0.02595\n",
            "\t\t\tbatchcount: 80, size: 1280 total: 5120 loss: 0.02583\n",
            "\t\t\tbatchcount: 100, size: 1280 total: 6400 loss: 0.02577\n",
            "\t\t\tbatchcount: 120, size: 1280 total: 7680 loss: 0.02598\n",
            "\t\t\tbatchcount: 140, size: 1280 total: 8960 loss: 0.02586\n",
            "\t\t\tbatchcount: 160, size: 1280 total: 10240 loss: 0.02550\n",
            "\t\tЭпоха: 2\tloss: 1.658809\taccuracy: 80.732%\n",
            "\t\t\tbatchcount: 20, size: 1280 total: 1280 loss: 0.02582\n",
            "\t\t\tbatchcount: 40, size: 1280 total: 2560 loss: 0.02570\n",
            "\t\t\tbatchcount: 60, size: 1280 total: 3840 loss: 0.02575\n",
            "\t\t\tbatchcount: 80, size: 1280 total: 5120 loss: 0.02548\n",
            "\t\t\tbatchcount: 100, size: 1280 total: 6400 loss: 0.02566\n",
            "\t\t\tbatchcount: 120, size: 1280 total: 7680 loss: 0.02581\n",
            "\t\t\tbatchcount: 140, size: 1280 total: 8960 loss: 0.02545\n",
            "\t\t\tbatchcount: 160, size: 1280 total: 10240 loss: 0.02576\n",
            "\t\tЭпоха: 3\tloss: 1.642378\taccuracy: 81.955%\n",
            "\t\t\tbatchcount: 20, size: 1280 total: 1280 loss: 0.02539\n",
            "\t\t\tbatchcount: 40, size: 1280 total: 2560 loss: 0.02543\n",
            "\t\t\tbatchcount: 60, size: 1280 total: 3840 loss: 0.02582\n",
            "\t\t\tbatchcount: 80, size: 1280 total: 5120 loss: 0.02545\n",
            "\t\t\tbatchcount: 100, size: 1280 total: 6400 loss: 0.02554\n",
            "\t\t\tbatchcount: 120, size: 1280 total: 7680 loss: 0.02573\n",
            "\t\t\tbatchcount: 140, size: 1280 total: 8960 loss: 0.02590\n",
            "\t\t\tbatchcount: 160, size: 1280 total: 10240 loss: 0.02567\n",
            "\t\tЭпоха: 4\tloss: 1.639697\taccuracy: 82.137%\n",
            "\t\t\tbatchcount: 20, size: 1280 total: 1280 loss: 0.02552\n",
            "\t\t\tbatchcount: 40, size: 1280 total: 2560 loss: 0.02547\n",
            "\t\t\tbatchcount: 60, size: 1280 total: 3840 loss: 0.02586\n",
            "\t\t\tbatchcount: 80, size: 1280 total: 5120 loss: 0.02534\n",
            "\t\t\tbatchcount: 100, size: 1280 total: 6400 loss: 0.02524\n",
            "\t\t\tbatchcount: 120, size: 1280 total: 7680 loss: 0.02583\n",
            "\t\t\tbatchcount: 140, size: 1280 total: 8960 loss: 0.02558\n",
            "\t\t\tbatchcount: 160, size: 1280 total: 10240 loss: 0.02577\n",
            "\t\tЭпоха: 5\tloss: 1.637761\taccuracy: 82.291%\n",
            "Ошибки на train: 1.63776\n",
            "Accuracy на train: 0.82291\n",
            "Модель: функция активации: elu, cnn слоёв: 2, fc слоёв: 3, kernel: 5\n",
            "\n",
            "\tМодель state_dict: \n",
            "\t\t conv1.weight :  torch.Size([16, 1, 5, 5])\n",
            "\t\t conv1.bias :  torch.Size([16])\n",
            "\t\t conv2.weight :  torch.Size([32, 16, 5, 5])\n",
            "\t\t conv2.bias :  torch.Size([32])\n",
            "\t\t fc_dec2.weight :  torch.Size([12800, 51200])\n",
            "\t\t fc_dec2.bias :  torch.Size([12800])\n",
            "\t\t fc_dec1.weight :  torch.Size([3200, 12800])\n",
            "\t\t fc_dec1.bias :  torch.Size([3200])\n",
            "\t\t fc_out.weight :  torch.Size([10, 3200])\n",
            "\t\t fc_out.bias :  torch.Size([10])\n",
            "\n",
            "\tX размеры income: torch.Size([64, 1, 160, 160])\n",
            "\tX размеры conv1, pool: torch.Size([64, 16, 80, 80])\n",
            "\tX размеры conv2, pool: torch.Size([64, 32, 40, 40])\n",
            "\tX размеры x.view: torch.Size([64, 51200])\n",
            "\tX размеры fc_dec2: torch.Size([64, 12800])\n",
            "\tX размеры fc_dec1: torch.Size([64, 3200])\n",
            "\tX размеры fc_out: torch.Size([64, 10])\n",
            "\n",
            "\t\t\tbatchcount: 20, size: 1280 total: 1280 loss: 0.03585\n",
            "\t\t\tbatchcount: 40, size: 1280 total: 2560 loss: 0.03507\n",
            "\t\t\tbatchcount: 60, size: 1280 total: 3840 loss: 0.03222\n",
            "\t\t\tbatchcount: 80, size: 1280 total: 5120 loss: 0.03021\n",
            "\t\t\tbatchcount: 100, size: 1280 total: 6400 loss: 0.02889\n",
            "\t\t\tbatchcount: 120, size: 1280 total: 7680 loss: 0.02715\n",
            "\t\t\tbatchcount: 140, size: 1280 total: 8960 loss: 0.02663\n",
            "\t\t\tbatchcount: 160, size: 1280 total: 10240 loss: 0.02634\n",
            "\t\tЭпоха: 1\tloss: 1.929340\taccuracy: 53.016%\n",
            "\t\t\tbatchcount: 20, size: 1280 total: 1280 loss: 0.02626\n",
            "\t\t\tbatchcount: 40, size: 1280 total: 2560 loss: 0.02600\n",
            "\t\t\tbatchcount: 60, size: 1280 total: 3840 loss: 0.02662\n",
            "\t\t\tbatchcount: 80, size: 1280 total: 5120 loss: 0.02605\n",
            "\t\t\tbatchcount: 100, size: 1280 total: 6400 loss: 0.02584\n",
            "\t\t\tbatchcount: 120, size: 1280 total: 7680 loss: 0.02608\n",
            "\t\t\tbatchcount: 140, size: 1280 total: 8960 loss: 0.02597\n",
            "\t\t\tbatchcount: 160, size: 1280 total: 10240 loss: 0.02577\n",
            "\t\tЭпоха: 2\tloss: 1.667445\taccuracy: 79.624%\n",
            "\t\t\tbatchcount: 20, size: 1280 total: 1280 loss: 0.02560\n",
            "\t\t\tbatchcount: 40, size: 1280 total: 2560 loss: 0.02586\n",
            "\t\t\tbatchcount: 60, size: 1280 total: 3840 loss: 0.02580\n",
            "\t\t\tbatchcount: 80, size: 1280 total: 5120 loss: 0.02574\n",
            "\t\t\tbatchcount: 100, size: 1280 total: 6400 loss: 0.02560\n",
            "\t\t\tbatchcount: 120, size: 1280 total: 7680 loss: 0.02560\n",
            "\t\t\tbatchcount: 140, size: 1280 total: 8960 loss: 0.02562\n",
            "\t\t\tbatchcount: 160, size: 1280 total: 10240 loss: 0.02573\n",
            "\t\tЭпоха: 3\tloss: 1.644400\taccuracy: 81.700%\n",
            "\t\t\tbatchcount: 20, size: 1280 total: 1280 loss: 0.02574\n",
            "\t\t\tbatchcount: 40, size: 1280 total: 2560 loss: 0.02577\n",
            "\t\t\tbatchcount: 60, size: 1280 total: 3840 loss: 0.02576\n",
            "\t\t\tbatchcount: 80, size: 1280 total: 5120 loss: 0.02565\n",
            "\t\t\tbatchcount: 100, size: 1280 total: 6400 loss: 0.02551\n",
            "\t\t\tbatchcount: 120, size: 1280 total: 7680 loss: 0.02561\n",
            "\t\t\tbatchcount: 140, size: 1280 total: 8960 loss: 0.02574\n",
            "\t\t\tbatchcount: 160, size: 1280 total: 10240 loss: 0.02568\n",
            "\t\tЭпоха: 4\tloss: 1.642478\taccuracy: 81.865%\n",
            "\t\t\tbatchcount: 20, size: 1280 total: 1280 loss: 0.02577\n",
            "\t\t\tbatchcount: 40, size: 1280 total: 2560 loss: 0.02576\n",
            "\t\t\tbatchcount: 60, size: 1280 total: 3840 loss: 0.02562\n",
            "\t\t\tbatchcount: 80, size: 1280 total: 5120 loss: 0.02577\n",
            "\t\t\tbatchcount: 100, size: 1280 total: 6400 loss: 0.02556\n",
            "\t\t\tbatchcount: 120, size: 1280 total: 7680 loss: 0.02533\n",
            "\t\t\tbatchcount: 140, size: 1280 total: 8960 loss: 0.02561\n",
            "\t\t\tbatchcount: 160, size: 1280 total: 10240 loss: 0.02555\n",
            "\t\tЭпоха: 5\tloss: 1.640320\taccuracy: 82.038%\n",
            "Ошибки на train: 1.64032\n",
            "Accuracy на train: 0.82038\n",
            "Модель: функция активации: elu, cnn слоёв: 3, fc слоёв: 2, kernel: 3\n",
            "\n",
            "\tМодель state_dict: \n",
            "\t\t conv1.weight :  torch.Size([16, 1, 3, 3])\n",
            "\t\t conv1.bias :  torch.Size([16])\n",
            "\t\t conv2.weight :  torch.Size([32, 16, 3, 3])\n",
            "\t\t conv2.bias :  torch.Size([32])\n",
            "\t\t conv3.weight :  torch.Size([64, 32, 3, 3])\n",
            "\t\t conv3.bias :  torch.Size([64])\n",
            "\t\t fc_dec1.weight :  torch.Size([6400, 25600])\n",
            "\t\t fc_dec1.bias :  torch.Size([6400])\n",
            "\t\t fc_out.weight :  torch.Size([10, 6400])\n",
            "\t\t fc_out.bias :  torch.Size([10])\n",
            "\n",
            "\tX размеры income: torch.Size([64, 1, 160, 160])\n",
            "\tX размеры conv1, pool: torch.Size([64, 16, 80, 80])\n",
            "\tX размеры conv2, pool: torch.Size([64, 32, 40, 40])\n",
            "\tX размеры conv3, pool: torch.Size([64, 64, 20, 20])\n",
            "\tX размеры x.view: torch.Size([64, 25600])\n",
            "\tX размеры fc_dec1: torch.Size([64, 6400])\n",
            "\tX размеры fc_out: torch.Size([64, 10])\n",
            "\n",
            "\t\t\tbatchcount: 20, size: 1280 total: 1280 loss: 0.03590\n",
            "\t\t\tbatchcount: 40, size: 1280 total: 2560 loss: 0.03533\n",
            "\t\t\tbatchcount: 60, size: 1280 total: 3840 loss: 0.03419\n",
            "\t\t\tbatchcount: 80, size: 1280 total: 5120 loss: 0.03152\n",
            "\t\t\tbatchcount: 100, size: 1280 total: 6400 loss: 0.03013\n",
            "\t\t\tbatchcount: 120, size: 1280 total: 7680 loss: 0.02911\n",
            "\t\t\tbatchcount: 140, size: 1280 total: 8960 loss: 0.02731\n",
            "\t\t\tbatchcount: 160, size: 1280 total: 10240 loss: 0.02639\n",
            "\t\tЭпоха: 1\tloss: 1.988543\taccuracy: 48.306%\n",
            "\t\t\tbatchcount: 20, size: 1280 total: 1280 loss: 0.02575\n",
            "\t\t\tbatchcount: 40, size: 1280 total: 2560 loss: 0.02527\n",
            "\t\t\tbatchcount: 60, size: 1280 total: 3840 loss: 0.02458\n",
            "\t\t\tbatchcount: 80, size: 1280 total: 5120 loss: 0.02419\n",
            "\t\t\tbatchcount: 100, size: 1280 total: 6400 loss: 0.02418\n",
            "\t\t\tbatchcount: 120, size: 1280 total: 7680 loss: 0.02389\n",
            "\t\t\tbatchcount: 140, size: 1280 total: 8960 loss: 0.02408\n",
            "\t\t\tbatchcount: 160, size: 1280 total: 10240 loss: 0.02381\n",
            "\t\tЭпоха: 2\tloss: 1.564056\taccuracy: 90.356%\n",
            "\t\t\tbatchcount: 20, size: 1280 total: 1280 loss: 0.02368\n",
            "\t\t\tbatchcount: 40, size: 1280 total: 2560 loss: 0.02365\n",
            "\t\t\tbatchcount: 60, size: 1280 total: 3840 loss: 0.02379\n",
            "\t\t\tbatchcount: 80, size: 1280 total: 5120 loss: 0.02381\n",
            "\t\t\tbatchcount: 100, size: 1280 total: 6400 loss: 0.02359\n",
            "\t\t\tbatchcount: 120, size: 1280 total: 7680 loss: 0.02358\n",
            "\t\t\tbatchcount: 140, size: 1280 total: 8960 loss: 0.02341\n",
            "\t\t\tbatchcount: 160, size: 1280 total: 10240 loss: 0.02330\n",
            "\t\tЭпоха: 3\tloss: 1.510262\taccuracy: 95.378%\n",
            "\t\t\tbatchcount: 20, size: 1280 total: 1280 loss: 0.02331\n",
            "\t\t\tbatchcount: 40, size: 1280 total: 2560 loss: 0.02340\n",
            "\t\t\tbatchcount: 60, size: 1280 total: 3840 loss: 0.02340\n",
            "\t\t\tbatchcount: 80, size: 1280 total: 5120 loss: 0.02331\n",
            "\t\t\tbatchcount: 100, size: 1280 total: 6400 loss: 0.02327\n",
            "\t\t\tbatchcount: 120, size: 1280 total: 7680 loss: 0.02326\n",
            "\t\t\tbatchcount: 140, size: 1280 total: 8960 loss: 0.02326\n",
            "\t\t\tbatchcount: 160, size: 1280 total: 10240 loss: 0.02330\n",
            "\t\tЭпоха: 4\tloss: 1.492099\taccuracy: 97.117%\n",
            "\t\t\tbatchcount: 20, size: 1280 total: 1280 loss: 0.02334\n",
            "\t\t\tbatchcount: 40, size: 1280 total: 2560 loss: 0.02327\n",
            "\t\t\tbatchcount: 60, size: 1280 total: 3840 loss: 0.02304\n",
            "\t\t\tbatchcount: 80, size: 1280 total: 5120 loss: 0.02321\n",
            "\t\t\tbatchcount: 100, size: 1280 total: 6400 loss: 0.02317\n",
            "\t\t\tbatchcount: 120, size: 1280 total: 7680 loss: 0.02323\n",
            "\t\t\tbatchcount: 140, size: 1280 total: 8960 loss: 0.02318\n",
            "\t\t\tbatchcount: 160, size: 1280 total: 10240 loss: 0.02319\n",
            "\t\tЭпоха: 5\tloss: 1.485199\taccuracy: 97.795%\n",
            "Ошибки на train: 1.48520\n",
            "Accuracy на train: 0.97795\n",
            "Модель: функция активации: elu, cnn слоёв: 3, fc слоёв: 2, kernel: 5\n",
            "\n",
            "\tМодель state_dict: \n",
            "\t\t conv1.weight :  torch.Size([16, 1, 5, 5])\n",
            "\t\t conv1.bias :  torch.Size([16])\n",
            "\t\t conv2.weight :  torch.Size([32, 16, 5, 5])\n",
            "\t\t conv2.bias :  torch.Size([32])\n",
            "\t\t conv3.weight :  torch.Size([64, 32, 5, 5])\n",
            "\t\t conv3.bias :  torch.Size([64])\n",
            "\t\t fc_dec1.weight :  torch.Size([6400, 25600])\n",
            "\t\t fc_dec1.bias :  torch.Size([6400])\n",
            "\t\t fc_out.weight :  torch.Size([10, 6400])\n",
            "\t\t fc_out.bias :  torch.Size([10])\n",
            "\n",
            "\tX размеры income: torch.Size([64, 1, 160, 160])\n",
            "\tX размеры conv1, pool: torch.Size([64, 16, 80, 80])\n",
            "\tX размеры conv2, pool: torch.Size([64, 32, 40, 40])\n",
            "\tX размеры conv3, pool: torch.Size([64, 64, 20, 20])\n",
            "\tX размеры x.view: torch.Size([64, 25600])\n",
            "\tX размеры fc_dec1: torch.Size([64, 6400])\n",
            "\tX размеры fc_out: torch.Size([64, 10])\n",
            "\n",
            "\t\t\tbatchcount: 20, size: 1280 total: 1280 loss: 0.03589\n",
            "\t\t\tbatchcount: 40, size: 1280 total: 2560 loss: 0.03555\n",
            "\t\t\tbatchcount: 60, size: 1280 total: 3840 loss: 0.03439\n",
            "\t\t\tbatchcount: 80, size: 1280 total: 5120 loss: 0.03232\n",
            "\t\t\tbatchcount: 100, size: 1280 total: 6400 loss: 0.03228\n",
            "\t\t\tbatchcount: 120, size: 1280 total: 7680 loss: 0.03203\n",
            "\t\t\tbatchcount: 140, size: 1280 total: 8960 loss: 0.03116\n",
            "\t\t\tbatchcount: 160, size: 1280 total: 10240 loss: 0.02932\n",
            "\t\tЭпоха: 1\tloss: 2.091161\taccuracy: 36.799%\n",
            "\t\t\tbatchcount: 20, size: 1280 total: 1280 loss: 0.02713\n",
            "\t\t\tbatchcount: 40, size: 1280 total: 2560 loss: 0.02706\n",
            "\t\t\tbatchcount: 60, size: 1280 total: 3840 loss: 0.02549\n",
            "\t\t\tbatchcount: 80, size: 1280 total: 5120 loss: 0.02549\n",
            "\t\t\tbatchcount: 100, size: 1280 total: 6400 loss: 0.02509\n",
            "\t\t\tbatchcount: 120, size: 1280 total: 7680 loss: 0.02480\n",
            "\t\t\tbatchcount: 140, size: 1280 total: 8960 loss: 0.02502\n",
            "\t\t\tbatchcount: 160, size: 1280 total: 10240 loss: 0.02486\n",
            "\t\tЭпоха: 2\tloss: 1.636754\taccuracy: 82.978%\n",
            "\t\t\tbatchcount: 20, size: 1280 total: 1280 loss: 0.02471\n",
            "\t\t\tbatchcount: 40, size: 1280 total: 2560 loss: 0.02438\n",
            "\t\t\tbatchcount: 60, size: 1280 total: 3840 loss: 0.02474\n",
            "\t\t\tbatchcount: 80, size: 1280 total: 5120 loss: 0.02455\n",
            "\t\t\tbatchcount: 100, size: 1280 total: 6400 loss: 0.02441\n",
            "\t\t\tbatchcount: 120, size: 1280 total: 7680 loss: 0.02452\n",
            "\t\t\tbatchcount: 140, size: 1280 total: 8960 loss: 0.02429\n",
            "\t\t\tbatchcount: 160, size: 1280 total: 10240 loss: 0.02420\n",
            "\t\tЭпоха: 3\tloss: 1.566249\taccuracy: 89.631%\n",
            "\t\t\tbatchcount: 20, size: 1280 total: 1280 loss: 0.02423\n",
            "\t\t\tbatchcount: 40, size: 1280 total: 2560 loss: 0.02435\n",
            "\t\t\tbatchcount: 60, size: 1280 total: 3840 loss: 0.02426\n",
            "\t\t\tbatchcount: 80, size: 1280 total: 5120 loss: 0.02424\n",
            "\t\t\tbatchcount: 100, size: 1280 total: 6400 loss: 0.02442\n",
            "\t\t\tbatchcount: 120, size: 1280 total: 7680 loss: 0.02450\n",
            "\t\t\tbatchcount: 140, size: 1280 total: 8960 loss: 0.02442\n",
            "\t\t\tbatchcount: 160, size: 1280 total: 10240 loss: 0.02438\n",
            "\t\tЭпоха: 4\tloss: 1.557807\taccuracy: 90.427%\n",
            "\t\t\tbatchcount: 20, size: 1280 total: 1280 loss: 0.02423\n",
            "\t\t\tbatchcount: 40, size: 1280 total: 2560 loss: 0.02427\n",
            "\t\t\tbatchcount: 60, size: 1280 total: 3840 loss: 0.02410\n",
            "\t\t\tbatchcount: 80, size: 1280 total: 5120 loss: 0.02426\n",
            "\t\t\tbatchcount: 100, size: 1280 total: 6400 loss: 0.02450\n",
            "\t\t\tbatchcount: 120, size: 1280 total: 7680 loss: 0.02432\n",
            "\t\t\tbatchcount: 140, size: 1280 total: 8960 loss: 0.02423\n",
            "\t\t\tbatchcount: 160, size: 1280 total: 10240 loss: 0.02412\n",
            "\t\tЭпоха: 5\tloss: 1.553869\taccuracy: 90.784%\n",
            "Ошибки на train: 1.55387\n",
            "Accuracy на train: 0.90784\n",
            "Модель: функция активации: elu, cnn слоёв: 3, fc слоёв: 3, kernel: 3\n",
            "\n",
            "\tМодель state_dict: \n",
            "\t\t conv1.weight :  torch.Size([16, 1, 3, 3])\n",
            "\t\t conv1.bias :  torch.Size([16])\n",
            "\t\t conv2.weight :  torch.Size([32, 16, 3, 3])\n",
            "\t\t conv2.bias :  torch.Size([32])\n",
            "\t\t conv3.weight :  torch.Size([64, 32, 3, 3])\n",
            "\t\t conv3.bias :  torch.Size([64])\n",
            "\t\t fc_dec2.weight :  torch.Size([6400, 25600])\n",
            "\t\t fc_dec2.bias :  torch.Size([6400])\n",
            "\t\t fc_dec1.weight :  torch.Size([1600, 6400])\n",
            "\t\t fc_dec1.bias :  torch.Size([1600])\n",
            "\t\t fc_out.weight :  torch.Size([10, 1600])\n",
            "\t\t fc_out.bias :  torch.Size([10])\n",
            "\n",
            "\tX размеры income: torch.Size([64, 1, 160, 160])\n",
            "\tX размеры conv1, pool: torch.Size([64, 16, 80, 80])\n",
            "\tX размеры conv2, pool: torch.Size([64, 32, 40, 40])\n",
            "\tX размеры conv3, pool: torch.Size([64, 64, 20, 20])\n",
            "\tX размеры x.view: torch.Size([64, 25600])\n",
            "\tX размеры fc_dec2: torch.Size([64, 6400])\n",
            "\tX размеры fc_dec1: torch.Size([64, 1600])\n",
            "\tX размеры fc_out: torch.Size([64, 10])\n",
            "\n",
            "\t\t\tbatchcount: 20, size: 1280 total: 1280 loss: 0.03595\n",
            "\t\t\tbatchcount: 40, size: 1280 total: 2560 loss: 0.03580\n",
            "\t\t\tbatchcount: 60, size: 1280 total: 3840 loss: 0.03559\n",
            "\t\t\tbatchcount: 80, size: 1280 total: 5120 loss: 0.03483\n",
            "\t\t\tbatchcount: 100, size: 1280 total: 6400 loss: 0.03354\n",
            "\t\t\tbatchcount: 120, size: 1280 total: 7680 loss: 0.03233\n",
            "\t\t\tbatchcount: 140, size: 1280 total: 8960 loss: 0.03223\n",
            "\t\t\tbatchcount: 160, size: 1280 total: 10240 loss: 0.03189\n",
            "\t\tЭпоха: 1\tloss: 2.172826\taccuracy: 28.801%\n",
            "\t\t\tbatchcount: 20, size: 1280 total: 1280 loss: 0.03200\n",
            "\t\t\tbatchcount: 40, size: 1280 total: 2560 loss: 0.03181\n",
            "\t\t\tbatchcount: 60, size: 1280 total: 3840 loss: 0.02964\n",
            "\t\t\tbatchcount: 80, size: 1280 total: 5120 loss: 0.02824\n",
            "\t\t\tbatchcount: 100, size: 1280 total: 6400 loss: 0.02707\n",
            "\t\t\tbatchcount: 120, size: 1280 total: 7680 loss: 0.02668\n",
            "\t\t\tbatchcount: 140, size: 1280 total: 8960 loss: 0.02611\n",
            "\t\t\tbatchcount: 160, size: 1280 total: 10240 loss: 0.02548\n",
            "\t\tЭпоха: 2\tloss: 1.810209\taccuracy: 65.831%\n",
            "\t\t\tbatchcount: 20, size: 1280 total: 1280 loss: 0.02519\n",
            "\t\t\tbatchcount: 40, size: 1280 total: 2560 loss: 0.02525\n",
            "\t\t\tbatchcount: 60, size: 1280 total: 3840 loss: 0.02523\n",
            "\t\t\tbatchcount: 80, size: 1280 total: 5120 loss: 0.02520\n",
            "\t\t\tbatchcount: 100, size: 1280 total: 6400 loss: 0.02496\n",
            "\t\t\tbatchcount: 120, size: 1280 total: 7680 loss: 0.02507\n",
            "\t\t\tbatchcount: 140, size: 1280 total: 8960 loss: 0.02494\n",
            "\t\t\tbatchcount: 160, size: 1280 total: 10240 loss: 0.02504\n",
            "\t\tЭпоха: 3\tloss: 1.606389\taccuracy: 85.841%\n",
            "\t\t\tbatchcount: 20, size: 1280 total: 1280 loss: 0.02475\n",
            "\t\t\tbatchcount: 40, size: 1280 total: 2560 loss: 0.02457\n",
            "\t\t\tbatchcount: 60, size: 1280 total: 3840 loss: 0.02468\n",
            "\t\t\tbatchcount: 80, size: 1280 total: 5120 loss: 0.02502\n",
            "\t\t\tbatchcount: 100, size: 1280 total: 6400 loss: 0.02468\n",
            "\t\t\tbatchcount: 120, size: 1280 total: 7680 loss: 0.02475\n",
            "\t\t\tbatchcount: 140, size: 1280 total: 8960 loss: 0.02449\n",
            "\t\t\tbatchcount: 160, size: 1280 total: 10240 loss: 0.02455\n",
            "\t\tЭпоха: 4\tloss: 1.578721\taccuracy: 88.471%\n",
            "\t\t\tbatchcount: 20, size: 1280 total: 1280 loss: 0.02434\n",
            "\t\t\tbatchcount: 40, size: 1280 total: 2560 loss: 0.02442\n",
            "\t\t\tbatchcount: 60, size: 1280 total: 3840 loss: 0.02457\n",
            "\t\t\tbatchcount: 80, size: 1280 total: 5120 loss: 0.02445\n",
            "\t\t\tbatchcount: 100, size: 1280 total: 6400 loss: 0.02436\n",
            "\t\t\tbatchcount: 120, size: 1280 total: 7680 loss: 0.02413\n",
            "\t\t\tbatchcount: 140, size: 1280 total: 8960 loss: 0.02431\n",
            "\t\t\tbatchcount: 160, size: 1280 total: 10240 loss: 0.02452\n",
            "\t\tЭпоха: 5\tloss: 1.561323\taccuracy: 90.045%\n",
            "Ошибки на train: 1.56132\n",
            "Accuracy на train: 0.90045\n",
            "Модель: функция активации: elu, cnn слоёв: 3, fc слоёв: 3, kernel: 5\n",
            "\n",
            "\tМодель state_dict: \n",
            "\t\t conv1.weight :  torch.Size([16, 1, 5, 5])\n",
            "\t\t conv1.bias :  torch.Size([16])\n",
            "\t\t conv2.weight :  torch.Size([32, 16, 5, 5])\n",
            "\t\t conv2.bias :  torch.Size([32])\n",
            "\t\t conv3.weight :  torch.Size([64, 32, 5, 5])\n",
            "\t\t conv3.bias :  torch.Size([64])\n",
            "\t\t fc_dec2.weight :  torch.Size([6400, 25600])\n",
            "\t\t fc_dec2.bias :  torch.Size([6400])\n",
            "\t\t fc_dec1.weight :  torch.Size([1600, 6400])\n",
            "\t\t fc_dec1.bias :  torch.Size([1600])\n",
            "\t\t fc_out.weight :  torch.Size([10, 1600])\n",
            "\t\t fc_out.bias :  torch.Size([10])\n",
            "\n",
            "\tX размеры income: torch.Size([64, 1, 160, 160])\n",
            "\tX размеры conv1, pool: torch.Size([64, 16, 80, 80])\n",
            "\tX размеры conv2, pool: torch.Size([64, 32, 40, 40])\n",
            "\tX размеры conv3, pool: torch.Size([64, 64, 20, 20])\n",
            "\tX размеры x.view: torch.Size([64, 25600])\n",
            "\tX размеры fc_dec2: torch.Size([64, 6400])\n",
            "\tX размеры fc_dec1: torch.Size([64, 1600])\n",
            "\tX размеры fc_out: torch.Size([64, 10])\n",
            "\n",
            "\t\t\tbatchcount: 20, size: 1280 total: 1280 loss: 0.03596\n",
            "\t\t\tbatchcount: 40, size: 1280 total: 2560 loss: 0.03585\n",
            "\t\t\tbatchcount: 60, size: 1280 total: 3840 loss: 0.03550\n",
            "\t\t\tbatchcount: 80, size: 1280 total: 5120 loss: 0.03478\n",
            "\t\t\tbatchcount: 100, size: 1280 total: 6400 loss: 0.03290\n",
            "\t\t\tbatchcount: 120, size: 1280 total: 7680 loss: 0.03114\n",
            "\t\t\tbatchcount: 140, size: 1280 total: 8960 loss: 0.03014\n",
            "\t\t\tbatchcount: 160, size: 1280 total: 10240 loss: 0.02878\n",
            "\t\tЭпоха: 1\tloss: 2.109620\taccuracy: 35.063%\n",
            "\t\t\tbatchcount: 20, size: 1280 total: 1280 loss: 0.02719\n",
            "\t\t\tbatchcount: 40, size: 1280 total: 2560 loss: 0.02652\n",
            "\t\t\tbatchcount: 60, size: 1280 total: 3840 loss: 0.02630\n",
            "\t\t\tbatchcount: 80, size: 1280 total: 5120 loss: 0.02601\n",
            "\t\t\tbatchcount: 100, size: 1280 total: 6400 loss: 0.02589\n",
            "\t\t\tbatchcount: 120, size: 1280 total: 7680 loss: 0.02558\n",
            "\t\t\tbatchcount: 140, size: 1280 total: 8960 loss: 0.02598\n",
            "\t\t\tbatchcount: 160, size: 1280 total: 10240 loss: 0.02604\n",
            "\t\tЭпоха: 2\tloss: 1.674816\taccuracy: 79.065%\n",
            "\t\t\tbatchcount: 20, size: 1280 total: 1280 loss: 0.02584\n",
            "\t\t\tbatchcount: 40, size: 1280 total: 2560 loss: 0.02578\n",
            "\t\t\tbatchcount: 60, size: 1280 total: 3840 loss: 0.02573\n",
            "\t\t\tbatchcount: 80, size: 1280 total: 5120 loss: 0.02572\n",
            "\t\t\tbatchcount: 100, size: 1280 total: 6400 loss: 0.02556\n",
            "\t\t\tbatchcount: 120, size: 1280 total: 7680 loss: 0.02569\n",
            "\t\t\tbatchcount: 140, size: 1280 total: 8960 loss: 0.02569\n",
            "\t\t\tbatchcount: 160, size: 1280 total: 10240 loss: 0.02580\n",
            "\t\tЭпоха: 3\tloss: 1.646595\taccuracy: 81.606%\n",
            "\t\t\tbatchcount: 20, size: 1280 total: 1280 loss: 0.02566\n",
            "\t\t\tbatchcount: 40, size: 1280 total: 2560 loss: 0.02521\n",
            "\t\t\tbatchcount: 60, size: 1280 total: 3840 loss: 0.02586\n",
            "\t\t\tbatchcount: 80, size: 1280 total: 5120 loss: 0.02591\n",
            "\t\t\tbatchcount: 100, size: 1280 total: 6400 loss: 0.02577\n",
            "\t\t\tbatchcount: 120, size: 1280 total: 7680 loss: 0.02587\n",
            "\t\t\tbatchcount: 140, size: 1280 total: 8960 loss: 0.02545\n",
            "\t\t\tbatchcount: 160, size: 1280 total: 10240 loss: 0.02545\n",
            "\t\tЭпоха: 4\tloss: 1.643224\taccuracy: 81.807%\n",
            "\t\t\tbatchcount: 20, size: 1280 total: 1280 loss: 0.02540\n",
            "\t\t\tbatchcount: 40, size: 1280 total: 2560 loss: 0.02556\n",
            "\t\t\tbatchcount: 60, size: 1280 total: 3840 loss: 0.02575\n",
            "\t\t\tbatchcount: 80, size: 1280 total: 5120 loss: 0.02567\n",
            "\t\t\tbatchcount: 100, size: 1280 total: 6400 loss: 0.02559\n",
            "\t\t\tbatchcount: 120, size: 1280 total: 7680 loss: 0.02587\n",
            "\t\t\tbatchcount: 140, size: 1280 total: 8960 loss: 0.02550\n",
            "\t\t\tbatchcount: 160, size: 1280 total: 10240 loss: 0.02555\n",
            "\t\tЭпоха: 5\tloss: 1.639487\taccuracy: 82.103%\n",
            "Ошибки на train: 1.63949\n",
            "Accuracy на train: 0.82103\n"
          ],
          "name": "stdout"
        }
      ]
    },
    {
      "cell_type": "code",
      "metadata": {
        "colab": {
          "base_uri": "https://localhost:8080/",
          "height": 545
        },
        "id": "Qjrpg9PKBbWz",
        "outputId": "5ff6c7f6-2635-419a-fbd7-5dd2ff154936"
      },
      "source": [
        "search_top.summary_data"
      ],
      "execution_count": 64,
      "outputs": [
        {
          "output_type": "execute_result",
          "data": {
            "text/html": [
              "<div>\n",
              "<style scoped>\n",
              "    .dataframe tbody tr th:only-of-type {\n",
              "        vertical-align: middle;\n",
              "    }\n",
              "\n",
              "    .dataframe tbody tr th {\n",
              "        vertical-align: top;\n",
              "    }\n",
              "\n",
              "    .dataframe thead th {\n",
              "        text-align: right;\n",
              "    }\n",
              "</style>\n",
              "<table border=\"1\" class=\"dataframe\">\n",
              "  <thead>\n",
              "    <tr style=\"text-align: right;\">\n",
              "      <th></th>\n",
              "      <th>func</th>\n",
              "      <th>cnn_num</th>\n",
              "      <th>fc_num</th>\n",
              "      <th>kern_size</th>\n",
              "      <th>loss</th>\n",
              "      <th>accuracy</th>\n",
              "    </tr>\n",
              "  </thead>\n",
              "  <tbody>\n",
              "    <tr>\n",
              "      <th>0</th>\n",
              "      <td>relu</td>\n",
              "      <td>2.0</td>\n",
              "      <td>2.0</td>\n",
              "      <td>3.0</td>\n",
              "      <td>1.639956</td>\n",
              "      <td>0.820823</td>\n",
              "    </tr>\n",
              "    <tr>\n",
              "      <th>1</th>\n",
              "      <td>relu</td>\n",
              "      <td>2.0</td>\n",
              "      <td>2.0</td>\n",
              "      <td>5.0</td>\n",
              "      <td>1.657603</td>\n",
              "      <td>0.802939</td>\n",
              "    </tr>\n",
              "    <tr>\n",
              "      <th>2</th>\n",
              "      <td>relu</td>\n",
              "      <td>2.0</td>\n",
              "      <td>3.0</td>\n",
              "      <td>3.0</td>\n",
              "      <td>1.640657</td>\n",
              "      <td>0.820393</td>\n",
              "    </tr>\n",
              "    <tr>\n",
              "      <th>3</th>\n",
              "      <td>relu</td>\n",
              "      <td>2.0</td>\n",
              "      <td>3.0</td>\n",
              "      <td>5.0</td>\n",
              "      <td>1.649280</td>\n",
              "      <td>0.811303</td>\n",
              "    </tr>\n",
              "    <tr>\n",
              "      <th>4</th>\n",
              "      <td>relu</td>\n",
              "      <td>3.0</td>\n",
              "      <td>2.0</td>\n",
              "      <td>3.0</td>\n",
              "      <td>1.605061</td>\n",
              "      <td>0.855260</td>\n",
              "    </tr>\n",
              "    <tr>\n",
              "      <th>5</th>\n",
              "      <td>relu</td>\n",
              "      <td>3.0</td>\n",
              "      <td>2.0</td>\n",
              "      <td>5.0</td>\n",
              "      <td>1.565388</td>\n",
              "      <td>0.895587</td>\n",
              "    </tr>\n",
              "    <tr>\n",
              "      <th>6</th>\n",
              "      <td>relu</td>\n",
              "      <td>3.0</td>\n",
              "      <td>3.0</td>\n",
              "      <td>3.0</td>\n",
              "      <td>1.690461</td>\n",
              "      <td>0.772832</td>\n",
              "    </tr>\n",
              "    <tr>\n",
              "      <th>7</th>\n",
              "      <td>relu</td>\n",
              "      <td>3.0</td>\n",
              "      <td>3.0</td>\n",
              "      <td>5.0</td>\n",
              "      <td>1.658970</td>\n",
              "      <td>0.800707</td>\n",
              "    </tr>\n",
              "    <tr>\n",
              "      <th>8</th>\n",
              "      <td>elu</td>\n",
              "      <td>2.0</td>\n",
              "      <td>2.0</td>\n",
              "      <td>3.0</td>\n",
              "      <td>1.564712</td>\n",
              "      <td>0.897779</td>\n",
              "    </tr>\n",
              "    <tr>\n",
              "      <th>9</th>\n",
              "      <td>elu</td>\n",
              "      <td>2.0</td>\n",
              "      <td>2.0</td>\n",
              "      <td>5.0</td>\n",
              "      <td>1.637330</td>\n",
              "      <td>0.823405</td>\n",
              "    </tr>\n",
              "    <tr>\n",
              "      <th>10</th>\n",
              "      <td>elu</td>\n",
              "      <td>2.0</td>\n",
              "      <td>3.0</td>\n",
              "      <td>3.0</td>\n",
              "      <td>1.637761</td>\n",
              "      <td>0.822908</td>\n",
              "    </tr>\n",
              "    <tr>\n",
              "      <th>11</th>\n",
              "      <td>elu</td>\n",
              "      <td>2.0</td>\n",
              "      <td>3.0</td>\n",
              "      <td>5.0</td>\n",
              "      <td>1.640320</td>\n",
              "      <td>0.820380</td>\n",
              "    </tr>\n",
              "    <tr>\n",
              "      <th>12</th>\n",
              "      <td>elu</td>\n",
              "      <td>3.0</td>\n",
              "      <td>2.0</td>\n",
              "      <td>3.0</td>\n",
              "      <td>1.485199</td>\n",
              "      <td>0.977948</td>\n",
              "    </tr>\n",
              "    <tr>\n",
              "      <th>13</th>\n",
              "      <td>elu</td>\n",
              "      <td>3.0</td>\n",
              "      <td>2.0</td>\n",
              "      <td>5.0</td>\n",
              "      <td>1.553869</td>\n",
              "      <td>0.907837</td>\n",
              "    </tr>\n",
              "    <tr>\n",
              "      <th>14</th>\n",
              "      <td>elu</td>\n",
              "      <td>3.0</td>\n",
              "      <td>3.0</td>\n",
              "      <td>3.0</td>\n",
              "      <td>1.561323</td>\n",
              "      <td>0.900454</td>\n",
              "    </tr>\n",
              "    <tr>\n",
              "      <th>15</th>\n",
              "      <td>elu</td>\n",
              "      <td>3.0</td>\n",
              "      <td>3.0</td>\n",
              "      <td>5.0</td>\n",
              "      <td>1.639487</td>\n",
              "      <td>0.821025</td>\n",
              "    </tr>\n",
              "  </tbody>\n",
              "</table>\n",
              "</div>"
            ],
            "text/plain": [
              "    func  cnn_num  fc_num  kern_size      loss  accuracy\n",
              "0   relu      2.0     2.0        3.0  1.639956  0.820823\n",
              "1   relu      2.0     2.0        5.0  1.657603  0.802939\n",
              "2   relu      2.0     3.0        3.0  1.640657  0.820393\n",
              "3   relu      2.0     3.0        5.0  1.649280  0.811303\n",
              "4   relu      3.0     2.0        3.0  1.605061  0.855260\n",
              "5   relu      3.0     2.0        5.0  1.565388  0.895587\n",
              "6   relu      3.0     3.0        3.0  1.690461  0.772832\n",
              "7   relu      3.0     3.0        5.0  1.658970  0.800707\n",
              "8    elu      2.0     2.0        3.0  1.564712  0.897779\n",
              "9    elu      2.0     2.0        5.0  1.637330  0.823405\n",
              "10   elu      2.0     3.0        3.0  1.637761  0.822908\n",
              "11   elu      2.0     3.0        5.0  1.640320  0.820380\n",
              "12   elu      3.0     2.0        3.0  1.485199  0.977948\n",
              "13   elu      3.0     2.0        5.0  1.553869  0.907837\n",
              "14   elu      3.0     3.0        3.0  1.561323  0.900454\n",
              "15   elu      3.0     3.0        5.0  1.639487  0.821025"
            ]
          },
          "metadata": {
            "tags": []
          },
          "execution_count": 64
        }
      ]
    },
    {
      "cell_type": "code",
      "metadata": {
        "colab": {
          "base_uri": "https://localhost:8080/",
          "height": 545
        },
        "id": "XAZcLhOZBbag",
        "outputId": "062e5115-0bde-4e56-f137-f281db83a673"
      },
      "source": [
        "search_top.summary_data.sort_values('accuracy', ascending=False)"
      ],
      "execution_count": 65,
      "outputs": [
        {
          "output_type": "execute_result",
          "data": {
            "text/html": [
              "<div>\n",
              "<style scoped>\n",
              "    .dataframe tbody tr th:only-of-type {\n",
              "        vertical-align: middle;\n",
              "    }\n",
              "\n",
              "    .dataframe tbody tr th {\n",
              "        vertical-align: top;\n",
              "    }\n",
              "\n",
              "    .dataframe thead th {\n",
              "        text-align: right;\n",
              "    }\n",
              "</style>\n",
              "<table border=\"1\" class=\"dataframe\">\n",
              "  <thead>\n",
              "    <tr style=\"text-align: right;\">\n",
              "      <th></th>\n",
              "      <th>func</th>\n",
              "      <th>cnn_num</th>\n",
              "      <th>fc_num</th>\n",
              "      <th>kern_size</th>\n",
              "      <th>loss</th>\n",
              "      <th>accuracy</th>\n",
              "    </tr>\n",
              "  </thead>\n",
              "  <tbody>\n",
              "    <tr>\n",
              "      <th>12</th>\n",
              "      <td>elu</td>\n",
              "      <td>3.0</td>\n",
              "      <td>2.0</td>\n",
              "      <td>3.0</td>\n",
              "      <td>1.485199</td>\n",
              "      <td>0.977948</td>\n",
              "    </tr>\n",
              "    <tr>\n",
              "      <th>13</th>\n",
              "      <td>elu</td>\n",
              "      <td>3.0</td>\n",
              "      <td>2.0</td>\n",
              "      <td>5.0</td>\n",
              "      <td>1.553869</td>\n",
              "      <td>0.907837</td>\n",
              "    </tr>\n",
              "    <tr>\n",
              "      <th>14</th>\n",
              "      <td>elu</td>\n",
              "      <td>3.0</td>\n",
              "      <td>3.0</td>\n",
              "      <td>3.0</td>\n",
              "      <td>1.561323</td>\n",
              "      <td>0.900454</td>\n",
              "    </tr>\n",
              "    <tr>\n",
              "      <th>8</th>\n",
              "      <td>elu</td>\n",
              "      <td>2.0</td>\n",
              "      <td>2.0</td>\n",
              "      <td>3.0</td>\n",
              "      <td>1.564712</td>\n",
              "      <td>0.897779</td>\n",
              "    </tr>\n",
              "    <tr>\n",
              "      <th>5</th>\n",
              "      <td>relu</td>\n",
              "      <td>3.0</td>\n",
              "      <td>2.0</td>\n",
              "      <td>5.0</td>\n",
              "      <td>1.565388</td>\n",
              "      <td>0.895587</td>\n",
              "    </tr>\n",
              "    <tr>\n",
              "      <th>4</th>\n",
              "      <td>relu</td>\n",
              "      <td>3.0</td>\n",
              "      <td>2.0</td>\n",
              "      <td>3.0</td>\n",
              "      <td>1.605061</td>\n",
              "      <td>0.855260</td>\n",
              "    </tr>\n",
              "    <tr>\n",
              "      <th>9</th>\n",
              "      <td>elu</td>\n",
              "      <td>2.0</td>\n",
              "      <td>2.0</td>\n",
              "      <td>5.0</td>\n",
              "      <td>1.637330</td>\n",
              "      <td>0.823405</td>\n",
              "    </tr>\n",
              "    <tr>\n",
              "      <th>10</th>\n",
              "      <td>elu</td>\n",
              "      <td>2.0</td>\n",
              "      <td>3.0</td>\n",
              "      <td>3.0</td>\n",
              "      <td>1.637761</td>\n",
              "      <td>0.822908</td>\n",
              "    </tr>\n",
              "    <tr>\n",
              "      <th>15</th>\n",
              "      <td>elu</td>\n",
              "      <td>3.0</td>\n",
              "      <td>3.0</td>\n",
              "      <td>5.0</td>\n",
              "      <td>1.639487</td>\n",
              "      <td>0.821025</td>\n",
              "    </tr>\n",
              "    <tr>\n",
              "      <th>0</th>\n",
              "      <td>relu</td>\n",
              "      <td>2.0</td>\n",
              "      <td>2.0</td>\n",
              "      <td>3.0</td>\n",
              "      <td>1.639956</td>\n",
              "      <td>0.820823</td>\n",
              "    </tr>\n",
              "    <tr>\n",
              "      <th>2</th>\n",
              "      <td>relu</td>\n",
              "      <td>2.0</td>\n",
              "      <td>3.0</td>\n",
              "      <td>3.0</td>\n",
              "      <td>1.640657</td>\n",
              "      <td>0.820393</td>\n",
              "    </tr>\n",
              "    <tr>\n",
              "      <th>11</th>\n",
              "      <td>elu</td>\n",
              "      <td>2.0</td>\n",
              "      <td>3.0</td>\n",
              "      <td>5.0</td>\n",
              "      <td>1.640320</td>\n",
              "      <td>0.820380</td>\n",
              "    </tr>\n",
              "    <tr>\n",
              "      <th>3</th>\n",
              "      <td>relu</td>\n",
              "      <td>2.0</td>\n",
              "      <td>3.0</td>\n",
              "      <td>5.0</td>\n",
              "      <td>1.649280</td>\n",
              "      <td>0.811303</td>\n",
              "    </tr>\n",
              "    <tr>\n",
              "      <th>1</th>\n",
              "      <td>relu</td>\n",
              "      <td>2.0</td>\n",
              "      <td>2.0</td>\n",
              "      <td>5.0</td>\n",
              "      <td>1.657603</td>\n",
              "      <td>0.802939</td>\n",
              "    </tr>\n",
              "    <tr>\n",
              "      <th>7</th>\n",
              "      <td>relu</td>\n",
              "      <td>3.0</td>\n",
              "      <td>3.0</td>\n",
              "      <td>5.0</td>\n",
              "      <td>1.658970</td>\n",
              "      <td>0.800707</td>\n",
              "    </tr>\n",
              "    <tr>\n",
              "      <th>6</th>\n",
              "      <td>relu</td>\n",
              "      <td>3.0</td>\n",
              "      <td>3.0</td>\n",
              "      <td>3.0</td>\n",
              "      <td>1.690461</td>\n",
              "      <td>0.772832</td>\n",
              "    </tr>\n",
              "  </tbody>\n",
              "</table>\n",
              "</div>"
            ],
            "text/plain": [
              "    func  cnn_num  fc_num  kern_size      loss  accuracy\n",
              "12   elu      3.0     2.0        3.0  1.485199  0.977948\n",
              "13   elu      3.0     2.0        5.0  1.553869  0.907837\n",
              "14   elu      3.0     3.0        3.0  1.561323  0.900454\n",
              "8    elu      2.0     2.0        3.0  1.564712  0.897779\n",
              "5   relu      3.0     2.0        5.0  1.565388  0.895587\n",
              "4   relu      3.0     2.0        3.0  1.605061  0.855260\n",
              "9    elu      2.0     2.0        5.0  1.637330  0.823405\n",
              "10   elu      2.0     3.0        3.0  1.637761  0.822908\n",
              "15   elu      3.0     3.0        5.0  1.639487  0.821025\n",
              "0   relu      2.0     2.0        3.0  1.639956  0.820823\n",
              "2   relu      2.0     3.0        3.0  1.640657  0.820393\n",
              "11   elu      2.0     3.0        5.0  1.640320  0.820380\n",
              "3   relu      2.0     3.0        5.0  1.649280  0.811303\n",
              "1   relu      2.0     2.0        5.0  1.657603  0.802939\n",
              "7   relu      3.0     3.0        5.0  1.658970  0.800707\n",
              "6   relu      3.0     3.0        3.0  1.690461  0.772832"
            ]
          },
          "metadata": {
            "tags": []
          },
          "execution_count": 65
        }
      ]
    },
    {
      "cell_type": "markdown",
      "metadata": {
        "id": "c4q9rkRNBj31"
      },
      "source": [
        "## Итоговое обучение"
      ]
    },
    {
      "cell_type": "code",
      "metadata": {
        "id": "FhOvkvxmBokN"
      },
      "source": [
        "# добавть шедулер"
      ],
      "execution_count": null,
      "outputs": []
    }
  ]
}