{
  "nbformat": 4,
  "nbformat_minor": 0,
  "metadata": {
    "colab": {
      "name": "pytorch_courcework_glvv.ipynb",
      "provenance": [],
      "collapsed_sections": [],
      "authorship_tag": "ABX9TyPY+LvQrTVpOWhV6EVeJPae",
      "include_colab_link": true
    },
    "kernelspec": {
      "name": "python3",
      "display_name": "Python 3"
    }
  },
  "cells": [
    {
      "cell_type": "markdown",
      "metadata": {
        "id": "view-in-github",
        "colab_type": "text"
      },
      "source": [
        "<a href=\"https://colab.research.google.com/github/VitalyGladyshev/gb_pytorch/blob/main/coursework/pytorch_courcework_glvv.ipynb\" target=\"_parent\"><img src=\"https://colab.research.google.com/assets/colab-badge.svg\" alt=\"Open In Colab\"/></a>"
      ]
    },
    {
      "cell_type": "markdown",
      "metadata": {
        "id": "4A-cxY5my-Po"
      },
      "source": [
        "# Курсовая работа Гладышев В.В."
      ]
    },
    {
      "cell_type": "markdown",
      "metadata": {
        "id": "cSiIpYCHzUDA"
      },
      "source": [
        "## Подготовка данных"
      ]
    },
    {
      "cell_type": "markdown",
      "metadata": {
        "id": "HbAoklEG603S"
      },
      "source": [
        "### Получение данных"
      ]
    },
    {
      "cell_type": "code",
      "metadata": {
        "id": "TupWM9NPy9UJ"
      },
      "source": [
        "!pip install -U -q kaggle\r\n",
        "!mkdir -p ~/.kaggle"
      ],
      "execution_count": null,
      "outputs": []
    },
    {
      "cell_type": "code",
      "metadata": {
        "colab": {
          "resources": {
            "http://localhost:8080/nbextensions/google.colab/files.js": {
              "data": "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",
              "ok": true,
              "headers": [
                [
                  "content-type",
                  "application/javascript"
                ]
              ],
              "status": 200,
              "status_text": ""
            }
          },
          "base_uri": "https://localhost:8080/",
          "height": 91
        },
        "id": "c4J5rNM_4QL3",
        "outputId": "6d7360e7-8933-4feb-e774-2f7be293c6cf"
      },
      "source": [
        "from google.colab import files\r\n",
        "files.upload()"
      ],
      "execution_count": null,
      "outputs": [
        {
          "output_type": "display_data",
          "data": {
            "text/html": [
              "\n",
              "     <input type=\"file\" id=\"files-28c279b4-e768-4889-85c2-5573240497e8\" name=\"files[]\" multiple disabled\n",
              "        style=\"border:none\" />\n",
              "     <output id=\"result-28c279b4-e768-4889-85c2-5573240497e8\">\n",
              "      Upload widget is only available when the cell has been executed in the\n",
              "      current browser session. Please rerun this cell to enable.\n",
              "      </output>\n",
              "      <script src=\"/nbextensions/google.colab/files.js\"></script> "
            ],
            "text/plain": [
              "<IPython.core.display.HTML object>"
            ]
          },
          "metadata": {
            "tags": []
          }
        },
        {
          "output_type": "stream",
          "text": [
            "Saving kaggle.json to kaggle.json\n"
          ],
          "name": "stdout"
        },
        {
          "output_type": "execute_result",
          "data": {
            "text/plain": [
              "{'kaggle.json': b'{\"username\":\"vitalygladyshev\",\"key\":\"c7c46752ecdd4a7231c3ada3f19fbf37\"}'}"
            ]
          },
          "metadata": {
            "tags": []
          },
          "execution_count": 38
        }
      ]
    },
    {
      "cell_type": "code",
      "metadata": {
        "colab": {
          "base_uri": "https://localhost:8080/"
        },
        "id": "SOYnR1Bd4XmF",
        "outputId": "2645ab36-8f3d-4a67-9290-cc96dd018ead"
      },
      "source": [
        "!mv kaggle.json ~/.kaggle/\r\n",
        "!chmod 600 ~/.kaggle/kaggle.json\r\n",
        "!ls -la ~/.kaggle/"
      ],
      "execution_count": null,
      "outputs": [
        {
          "output_type": "stream",
          "text": [
            "total 16\n",
            "drwxr-xr-x 2 root root 4096 Dec 25 06:25 .\n",
            "drwx------ 1 root root 4096 Dec 25 05:49 ..\n",
            "-rw------- 1 root root   71 Dec 25 06:25 kaggle.json\n"
          ],
          "name": "stdout"
        }
      ]
    },
    {
      "cell_type": "code",
      "metadata": {
        "colab": {
          "base_uri": "https://localhost:8080/"
        },
        "id": "x73iwMKn4kAd",
        "outputId": "c6117ca0-b4db-4457-dcbe-ecfc3291d544"
      },
      "source": [
        "!kaggle datasets list -s gesture"
      ],
      "execution_count": null,
      "outputs": [
        {
          "output_type": "stream",
          "text": [
            "Warning: Looks like you're using an outdated API Version, please consider updating (server 1.5.10 / client 1.5.4)\n",
            "ref                                                     title                                                size  lastUpdated          downloadCount  \n",
            "------------------------------------------------------  --------------------------------------------------  -----  -------------------  -------------  \n",
            "gti-upm/leapgestrecog                                   Hand Gesture Recognition Database                     2GB  2018-07-30 06:43:29          10174  \n",
            "kyr7plus/emg-4                                          Classify gestures by reading muscle activity.       868KB  2018-12-09 17:45:37           2534  \n",
            "datamunge/sign-language-mnist                           Sign Language MNIST                                  63MB  2017-10-20 15:09:18          34799  \n",
            "shayanriyaz/gesture-recognition                         Gesture Recognition                                   2MB  2020-02-25 18:12:57             74  \n",
            "corrphilip/numeral-gestures                             Numeral Gestures recorded on iOS                     34MB  2017-08-24 16:22:16            350  \n",
            "ahmedkhanak1995/sign-language-gesture-images-dataset    Sign Language Gesture Images Dataset                191MB  2019-09-10 20:54:35            838  \n",
            "gti-upm/depthgestrecog                                  Depth based Gesture Recognition Database            557MB  2018-07-26 14:44:41            351  \n",
            "bitthal/hand-gesture-dataset                            Hand Gesture Dataset                                  3MB  2019-12-28 15:25:43            100  \n",
            "destin369y/interactivehandgesture1                      Interactive Hand Gesture                              2GB  2018-01-24 21:53:55            762  \n",
            "gti-upm/multimodhandgestrec                             Multi-Modal Dataset for Hand Gesture Recognition      6GB  2018-07-30 07:10:03            860  \n",
            "evernext10/hand-gesture-of-the-colombian-sign-language  Hand Gesture of the Colombian sign language          22GB  2018-11-07 18:14:39            655  \n",
            "tobirohrer/hololens-gesture-data                        HoloLens Gesture Data                                 2MB  2020-04-03 10:39:29              6  \n",
            "gti-upm/leaphandgestuav                                 LeapMotion Hand Gesture Dataset for UAV Management   26GB  2018-07-30 09:29:20            401  \n",
            "muhammadkhalid/sign-language-for-numbers                Sign Language for Numbers                            48MB  2019-11-14 17:45:47            282  \n",
            "ashish8898/hand-gestures                                Hand Gestures                                       140MB  2018-06-15 09:02:45            745  \n",
            "sprakash08/hand-gestures-recognition                    Hand Gestures Recognition                             7MB  2019-12-22 22:08:17             87  \n",
            "muhammadkhalid/sign-language-for-alphabets              Sign Language for Alphabets                          98MB  2019-11-14 20:06:56            244  \n",
            "ash2703/handsignimages                                  hand-sign-images                                     23MB  2020-04-07 10:22:31            220  \n",
            "dylanmendonca/hand_gestures                             Hand Gestures                                        41MB  2019-07-26 06:10:11             94  \n",
            "cdcaleanu/upt-tof-3d-hand-gesture-database              UPT Time of Flight 3D Hand Gesture Database         571MB  2020-03-02 18:18:55             17  \n"
          ],
          "name": "stdout"
        }
      ]
    },
    {
      "cell_type": "code",
      "metadata": {
        "colab": {
          "base_uri": "https://localhost:8080/"
        },
        "id": "6MC2bHqc5ABU",
        "outputId": "7fe98b89-ae82-4a7c-ef6c-da7c6a7d30f6"
      },
      "source": [
        "!kaggle datasets download -d gti-upm/leapgestrecog \r\n",
        "!ls"
      ],
      "execution_count": null,
      "outputs": [
        {
          "output_type": "stream",
          "text": [
            "leapgestrecog.zip: Skipping, found more recently modified local copy (use --force to force download)\n",
            "data  leapgestrecog  leapGestRecog  leapgestrecog.zip  sample_data\n"
          ],
          "name": "stdout"
        }
      ]
    },
    {
      "cell_type": "code",
      "metadata": {
        "id": "FJhVJj_a5QN1"
      },
      "source": [
        "from zipfile import ZipFile"
      ],
      "execution_count": null,
      "outputs": []
    },
    {
      "cell_type": "code",
      "metadata": {
        "id": "aG90DLAA6Wuu"
      },
      "source": [
        "zip_file = ZipFile('leapgestrecog.zip')\r\n",
        "zip_file.extractall()   # \"./lyft-udacity-challenge\")"
      ],
      "execution_count": null,
      "outputs": []
    },
    {
      "cell_type": "code",
      "metadata": {
        "colab": {
          "base_uri": "https://localhost:8080/"
        },
        "id": "UU4cw6bP6gJm",
        "outputId": "e0ee6777-8d04-4700-9c0d-f7be89b6f6ee"
      },
      "source": [
        "!ls"
      ],
      "execution_count": null,
      "outputs": [
        {
          "output_type": "stream",
          "text": [
            "data  leapgestrecog  leapGestRecog  leapgestrecog.zip  sample_data\n"
          ],
          "name": "stdout"
        }
      ]
    },
    {
      "cell_type": "code",
      "metadata": {
        "id": "OhPFFKR78sPS"
      },
      "source": [
        "path = \"./leapGestRecog\""
      ],
      "execution_count": null,
      "outputs": []
    },
    {
      "cell_type": "markdown",
      "metadata": {
        "id": "1Ll-To-K66Vx"
      },
      "source": [
        "### Предобработка данных"
      ]
    },
    {
      "cell_type": "code",
      "metadata": {
        "id": "xKZ0hpkJ9b2R"
      },
      "source": [
        "import os"
      ],
      "execution_count": null,
      "outputs": []
    },
    {
      "cell_type": "code",
      "metadata": {
        "colab": {
          "base_uri": "https://localhost:8080/"
        },
        "id": "wBwwM_kw6pVE",
        "outputId": "c65fc642-e8fa-4fa4-b5d8-a0b396bc0ed7"
      },
      "source": [
        "class_names = {}\r\n",
        "file_counter = {}\r\n",
        "file_img = {}\r\n",
        "\r\n",
        "for root, dirs, files in os.walk(path):\r\n",
        "    if dirs:\r\n",
        "        if len(dirs[2]) > 3 and dirs[2][2] == '_':\r\n",
        "            for dir in dirs:\r\n",
        "                class_names[int(dir[:2])-1] = dir[3:]\r\n",
        "                file_counter[int(dir[:2])-1] = 0\r\n",
        "                file_img[int(dir[:2])-1] = []\r\n",
        "            break\r\n",
        "\r\n",
        "class_names"
      ],
      "execution_count": null,
      "outputs": [
        {
          "output_type": "execute_result",
          "data": {
            "text/plain": [
              "{0: 'palm',\n",
              " 1: 'l',\n",
              " 2: 'fist',\n",
              " 3: 'fist_moved',\n",
              " 4: 'thumb',\n",
              " 5: 'index',\n",
              " 6: 'ok',\n",
              " 7: 'palm_moved',\n",
              " 8: 'c',\n",
              " 9: 'down'}"
            ]
          },
          "metadata": {
            "tags": []
          },
          "execution_count": 47
        }
      ]
    },
    {
      "cell_type": "code",
      "metadata": {
        "colab": {
          "base_uri": "https://localhost:8080/"
        },
        "id": "uuq8lGF09aiW",
        "outputId": "7f9f271d-c637-41ed-a2b3-206b9969d44a"
      },
      "source": [
        "file_counter"
      ],
      "execution_count": null,
      "outputs": [
        {
          "output_type": "execute_result",
          "data": {
            "text/plain": [
              "{0: 0, 1: 0, 2: 0, 3: 0, 4: 0, 5: 0, 6: 0, 7: 0, 8: 0, 9: 0}"
            ]
          },
          "metadata": {
            "tags": []
          },
          "execution_count": 48
        }
      ]
    },
    {
      "cell_type": "code",
      "metadata": {
        "colab": {
          "base_uri": "https://localhost:8080/"
        },
        "id": "z3a5XV-HE1Qm",
        "outputId": "dbcbe8a8-ed85-4e90-a3bb-36c23f67cbb1"
      },
      "source": [
        "file_img"
      ],
      "execution_count": null,
      "outputs": [
        {
          "output_type": "execute_result",
          "data": {
            "text/plain": [
              "{0: [], 1: [], 2: [], 3: [], 4: [], 5: [], 6: [], 7: [], 8: [], 9: []}"
            ]
          },
          "metadata": {
            "tags": []
          },
          "execution_count": 49
        }
      ]
    },
    {
      "cell_type": "code",
      "metadata": {
        "id": "GeDZp6t-1B06",
        "colab": {
          "base_uri": "https://localhost:8080/"
        },
        "outputId": "21c5eb11-9ac5-4680-959a-2703c7ff44b5"
      },
      "source": [
        "!mkdir data"
      ],
      "execution_count": null,
      "outputs": [
        {
          "output_type": "stream",
          "text": [
            "mkdir: cannot create directory ‘data’: File exists\n"
          ],
          "name": "stdout"
        }
      ]
    },
    {
      "cell_type": "code",
      "metadata": {
        "colab": {
          "base_uri": "https://localhost:8080/"
        },
        "id": "Fkg0x0W42rk8",
        "outputId": "ed03d09d-e59b-4751-a7ec-eeed5496f15d"
      },
      "source": [
        "!mkdir data/0\n",
        "!mkdir data/1\n",
        "!mkdir data/2\n",
        "!mkdir data/3\n",
        "!mkdir data/4\n",
        "!mkdir data/5\n",
        "!mkdir data/6\n",
        "!mkdir data/7\n",
        "!mkdir data/8\n",
        "!mkdir data/9\n",
        "!ls -la "
      ],
      "execution_count": null,
      "outputs": [
        {
          "output_type": "stream",
          "text": [
            "mkdir: cannot create directory ‘data/0’: File exists\n",
            "mkdir: cannot create directory ‘data/1’: File exists\n",
            "mkdir: cannot create directory ‘data/2’: File exists\n",
            "mkdir: cannot create directory ‘data/3’: File exists\n",
            "mkdir: cannot create directory ‘data/4’: File exists\n",
            "mkdir: cannot create directory ‘data/5’: File exists\n",
            "mkdir: cannot create directory ‘data/6’: File exists\n",
            "mkdir: cannot create directory ‘data/7’: File exists\n",
            "mkdir: cannot create directory ‘data/8’: File exists\n",
            "mkdir: cannot create directory ‘data/9’: File exists\n",
            "total 2232540\n",
            "drwxr-xr-x  1 root root       4096 Dec 25 06:25 .\n",
            "drwxr-xr-x  1 root root       4096 Dec 25 05:46 ..\n",
            "drwxr-xr-x  1 root root       4096 Dec 21 17:29 .config\n",
            "drwxr-xr-x 12 root root       4096 Dec 25 05:59 data\n",
            "drwxr-xr-x  3 root root       4096 Dec 25 05:55 leapgestrecog\n",
            "drwxr-xr-x 12 root root       4096 Dec 25 05:55 leapGestRecog\n",
            "-rw-r--r--  1 root root 2286085038 Dec 25 05:55 leapgestrecog.zip\n",
            "drwxr-xr-x  1 root root       4096 Dec 21 17:29 sample_data\n"
          ],
          "name": "stdout"
        }
      ]
    },
    {
      "cell_type": "code",
      "metadata": {
        "colab": {
          "base_uri": "https://localhost:8080/"
        },
        "id": "nYXWOXbh2_wd",
        "outputId": "938fb89f-2fdc-4e1a-fbdb-d3d6b91816cc"
      },
      "source": [
        "!ls -la data"
      ],
      "execution_count": null,
      "outputs": [
        {
          "output_type": "stream",
          "text": [
            "total 108\n",
            "drwxr-xr-x 12 root root  4096 Dec 25 05:59 .\n",
            "drwxr-xr-x  1 root root  4096 Dec 25 06:25 ..\n",
            "drwxr-xr-x  2 root root  4096 Dec 25 05:56 0\n",
            "drwxr-xr-x  2 root root  4096 Dec 25 05:56 1\n",
            "drwxr-xr-x  2 root root  4096 Dec 25 05:56 2\n",
            "drwxr-xr-x  2 root root  4096 Dec 25 05:56 3\n",
            "drwxr-xr-x  2 root root  4096 Dec 25 05:56 4\n",
            "drwxr-xr-x  2 root root  4096 Dec 25 05:56 5\n",
            "drwxr-xr-x  2 root root  4096 Dec 25 05:56 6\n",
            "drwxr-xr-x  2 root root  4096 Dec 25 05:56 7\n",
            "drwxr-xr-x  2 root root  4096 Dec 25 05:56 8\n",
            "drwxr-xr-x  2 root root  4096 Dec 25 05:56 9\n",
            "-rw-r--r--  1 root root 57729 Dec 25 05:59 frame_06_01_0195.png\n"
          ],
          "name": "stdout"
        }
      ]
    },
    {
      "cell_type": "code",
      "metadata": {
        "id": "gPlsdMh-3Gcw"
      },
      "source": [
        "data_path = \"data/\""
      ],
      "execution_count": null,
      "outputs": []
    },
    {
      "cell_type": "code",
      "metadata": {
        "colab": {
          "base_uri": "https://localhost:8080/"
        },
        "id": "14YdxZOoBmVP",
        "outputId": "1e362540-e2aa-4cf8-b1db-853da29e0720"
      },
      "source": [
        "for root, dirs, files in os.walk(path):\r\n",
        "    for fl in files:\r\n",
        "        file_counter[int(fl[9:11])-1] += 1\r\n",
        "        f = os.path.join(root, fl)\r\n",
        "        file_img[int(fl[9:11])-1].append(f)\r\n",
        "file_counter"
      ],
      "execution_count": null,
      "outputs": [
        {
          "output_type": "execute_result",
          "data": {
            "text/plain": [
              "{0: 2000,\n",
              " 1: 2000,\n",
              " 2: 2000,\n",
              " 3: 2000,\n",
              " 4: 2000,\n",
              " 5: 2000,\n",
              " 6: 2000,\n",
              " 7: 2000,\n",
              " 8: 2000,\n",
              " 9: 2000}"
            ]
          },
          "metadata": {
            "tags": []
          },
          "execution_count": 54
        }
      ]
    },
    {
      "cell_type": "code",
      "metadata": {
        "colab": {
          "base_uri": "https://localhost:8080/",
          "height": 35
        },
        "id": "FwL6mxun3-Bg",
        "outputId": "775bb839-3146-4f6b-cc7e-8b61e9f9ecba"
      },
      "source": [
        "file_img[0][0]"
      ],
      "execution_count": null,
      "outputs": [
        {
          "output_type": "execute_result",
          "data": {
            "application/vnd.google.colaboratory.intrinsic+json": {
              "type": "string"
            },
            "text/plain": [
              "'./leapGestRecog/06/01_palm/frame_06_01_0195.png'"
            ]
          },
          "metadata": {
            "tags": []
          },
          "execution_count": 55
        }
      ]
    },
    {
      "cell_type": "code",
      "metadata": {
        "colab": {
          "base_uri": "https://localhost:8080/"
        },
        "id": "RU80qFi7CISn",
        "outputId": "5cda5295-016f-447d-ab8b-28d20b515944"
      },
      "source": [
        "file_img[0][:5], file_img[0][-5:]"
      ],
      "execution_count": null,
      "outputs": [
        {
          "output_type": "execute_result",
          "data": {
            "text/plain": [
              "(['./leapGestRecog/06/01_palm/frame_06_01_0195.png',\n",
              "  './leapGestRecog/06/01_palm/frame_06_01_0165.png',\n",
              "  './leapGestRecog/06/01_palm/frame_06_01_0034.png',\n",
              "  './leapGestRecog/06/01_palm/frame_06_01_0136.png',\n",
              "  './leapGestRecog/06/01_palm/frame_06_01_0014.png'],\n",
              " ['./leapGestRecog/03/01_palm/frame_03_01_0035.png',\n",
              "  './leapGestRecog/03/01_palm/frame_03_01_0009.png',\n",
              "  './leapGestRecog/03/01_palm/frame_03_01_0089.png',\n",
              "  './leapGestRecog/03/01_palm/frame_03_01_0057.png',\n",
              "  './leapGestRecog/03/01_palm/frame_03_01_0097.png'])"
            ]
          },
          "metadata": {
            "tags": []
          },
          "execution_count": 29
        }
      ]
    },
    {
      "cell_type": "code",
      "metadata": {
        "id": "hwOlMfWw4Fm6"
      },
      "source": [
        "!cp ./leapGestRecog/06/01_palm/frame_06_01_0195.png data/"
      ],
      "execution_count": null,
      "outputs": []
    },
    {
      "cell_type": "code",
      "metadata": {
        "colab": {
          "base_uri": "https://localhost:8080/"
        },
        "id": "k18GBMjq4PIF",
        "outputId": "78196609-fa82-4b52-9965-10484e3b548e"
      },
      "source": [
        "!ls -la data"
      ],
      "execution_count": null,
      "outputs": [
        {
          "output_type": "stream",
          "text": [
            "total 108\n",
            "drwxr-xr-x 12 root root  4096 Dec 25 05:59 .\n",
            "drwxr-xr-x  1 root root  4096 Dec 25 06:25 ..\n",
            "drwxr-xr-x  2 root root  4096 Dec 25 05:56 0\n",
            "drwxr-xr-x  2 root root  4096 Dec 25 05:56 1\n",
            "drwxr-xr-x  2 root root  4096 Dec 25 05:56 2\n",
            "drwxr-xr-x  2 root root  4096 Dec 25 05:56 3\n",
            "drwxr-xr-x  2 root root  4096 Dec 25 05:56 4\n",
            "drwxr-xr-x  2 root root  4096 Dec 25 05:56 5\n",
            "drwxr-xr-x  2 root root  4096 Dec 25 05:56 6\n",
            "drwxr-xr-x  2 root root  4096 Dec 25 05:56 7\n",
            "drwxr-xr-x  2 root root  4096 Dec 25 05:56 8\n",
            "drwxr-xr-x  2 root root  4096 Dec 25 05:56 9\n",
            "-rw-r--r--  1 root root 57729 Dec 25 06:26 frame_06_01_0195.png\n"
          ],
          "name": "stdout"
        }
      ]
    },
    {
      "cell_type": "code",
      "metadata": {
        "colab": {
          "base_uri": "https://localhost:8080/"
        },
        "id": "YfyXQbvV8B7c",
        "outputId": "a1b97a09-19d3-4ff4-9ccd-773fb9e1d6ef"
      },
      "source": [
        "pip install mediapipe"
      ],
      "execution_count": null,
      "outputs": [
        {
          "output_type": "stream",
          "text": [
            "Requirement already satisfied: mediapipe in /usr/local/lib/python3.6/dist-packages (0.8.2)\n",
            "Requirement already satisfied: protobuf>=3.11.4 in /usr/local/lib/python3.6/dist-packages (from mediapipe) (3.12.4)\n",
            "Requirement already satisfied: absl-py in /usr/local/lib/python3.6/dist-packages (from mediapipe) (0.10.0)\n",
            "Requirement already satisfied: numpy==1.19.3 in /usr/local/lib/python3.6/dist-packages (from mediapipe) (1.19.3)\n",
            "Requirement already satisfied: opencv-python in /usr/local/lib/python3.6/dist-packages (from mediapipe) (4.1.2.30)\n",
            "Requirement already satisfied: dataclasses in /usr/local/lib/python3.6/dist-packages (from mediapipe) (0.8)\n",
            "Requirement already satisfied: wheel in /usr/local/lib/python3.6/dist-packages (from mediapipe) (0.36.2)\n",
            "Requirement already satisfied: six in /usr/local/lib/python3.6/dist-packages (from mediapipe) (1.15.0)\n",
            "Requirement already satisfied: setuptools in /usr/local/lib/python3.6/dist-packages (from protobuf>=3.11.4->mediapipe) (51.0.0)\n"
          ],
          "name": "stdout"
        }
      ]
    },
    {
      "cell_type": "code",
      "metadata": {
        "id": "RwxKLg5r5zIn"
      },
      "source": [
        "import cv2\n",
        "import numpy as np\n",
        "from PIL import Image\n",
        "import matplotlib.pyplot as plt\n",
        "# import scipy.misc\n",
        "\n",
        "import mediapipe as mp\n",
        "mp_hands = mp.solutions.hands\n",
        "mp_drawing = mp.solutions.drawing_utils\n",
        "# For webcam input:\n",
        "hands = mp_hands.Hands(\n",
        "    static_image_mode=True,\n",
        "    max_num_hands=2,\n",
        "    min_detection_confidence=0.5)"
      ],
      "execution_count": null,
      "outputs": []
    },
    {
      "cell_type": "code",
      "metadata": {
        "colab": {
          "base_uri": "https://localhost:8080/",
          "height": 214
        },
        "id": "dq_GVLYJ-DBy",
        "outputId": "bfd4a560-750d-46e6-d6af-814ce70eb737"
      },
      "source": [
        "img = Image.open(file_img[0][0])\n",
        "print(np.asarray(img).shape)\n",
        "plt.imshow(img)"
      ],
      "execution_count": null,
      "outputs": [
        {
          "output_type": "stream",
          "text": [
            "(240, 640)\n"
          ],
          "name": "stdout"
        },
        {
          "output_type": "execute_result",
          "data": {
            "text/plain": [
              "<matplotlib.image.AxesImage at 0x7fe161acdb38>"
            ]
          },
          "metadata": {
            "tags": []
          },
          "execution_count": 60
        },
        {
          "output_type": "display_data",
          "data": {
            "image/png": "[encoded data removed]",
            "text/plain": [
              "<Figure size 432x288 with 1 Axes>"
            ]
          },
          "metadata": {
            "tags": [],
            "needs_background": "light"
          }
        }
      ]
    },
    {
      "cell_type": "code",
      "metadata": {
        "id": "SXLgIIOUqu70"
      },
      "source": [
        "src = np.asarray(img)"
      ],
      "execution_count": null,
      "outputs": []
    },
    {
      "cell_type": "code",
      "metadata": {
        "id": "t7lO_WgQqpyu"
      },
      "source": [
        "frame = cv2.cvtColor(src, cv2.COLOR_GRAY2RGB)"
      ],
      "execution_count": null,
      "outputs": []
    },
    {
      "cell_type": "code",
      "metadata": {
        "colab": {
          "base_uri": "https://localhost:8080/",
          "height": 195
        },
        "id": "zrYdGoL4q0fD",
        "outputId": "6e17ea0a-93ec-49bf-8ea8-ab78fb75c604"
      },
      "source": [
        "plt.imshow(frame)"
      ],
      "execution_count": null,
      "outputs": [
        {
          "output_type": "execute_result",
          "data": {
            "text/plain": [
              "<matplotlib.image.AxesImage at 0x7fe149725a90>"
            ]
          },
          "metadata": {
            "tags": []
          },
          "execution_count": 94
        },
        {
          "output_type": "display_data",
          "data": {
            "image/png": "[encoded data removed]",
            "text/plain": [
              "<Figure size 432x288 with 1 Axes>"
            ]
          },
          "metadata": {
            "tags": [],
            "needs_background": "light"
          }
        }
      ]
    },
    {
      "cell_type": "code",
      "metadata": {
        "id": "azb9zSt0suDc"
      },
      "source": [
        "arm_marks = ['WRIST',\r\n",
        "             'THUMB_CMC', 'THUMB_MCP', 'THUMB_IP', 'THUMB_TIP',\r\n",
        "             'INDEX_FINGER_MCP', 'INDEX_FINGER_PIP', 'INDEX_FINGER_DIP', 'INDEX_FINGER_TIP',\r\n",
        "             'MIDDLE_FINGER_MCP', 'MIDDLE_FINGER_PIP', 'MIDDLE_FINGER_DIP', 'MIDDLE_FINGER_TIP',\r\n",
        "             'RING_FINGER_MCP', 'RING_FINGER_PIP', 'RING_FINGER_DIP', 'RING_FINGER_TIP',\r\n",
        "             'PINKY_MCP', 'PINKY_PIP', 'PINKY_DIP', 'PINKY_TIP']"
      ],
      "execution_count": null,
      "outputs": []
    },
    {
      "cell_type": "code",
      "metadata": {
        "id": "Q1GqbX8j-yEh"
      },
      "source": [
        "def hand_detection_mp(file_pth, prn=False):\n",
        "    img = np.asarray(Image.open(file_pth))\n",
        "    h, w = img.shape\n",
        "    frame = cv2.cvtColor(img, cv2.COLOR_GRAY2RGB)   # cv2.flip(frame, 1)\n",
        "\n",
        "    frame.flags.writeable = False\n",
        "    # im_pil = Image.fromarray(frame)\n",
        "    results = hands.process(frame)\n",
        "    frame.flags.writeable = True\n",
        "\n",
        "    if results.multi_hand_landmarks and prn:\n",
        "        count = 0\n",
        "        for hand_landmarks in results.multi_hand_landmarks:\n",
        "            count += 1\n",
        "            print(f\"Рука {count}\")\n",
        "            print(\n",
        "                f'\\tIndex finger tip coordinates: ('\n",
        "                f'x: {round(hand_landmarks.landmark[mp_hands.HandLandmark.INDEX_FINGER_TIP].x * w)}, '\n",
        "                f'y: {round(hand_landmarks.landmark[mp_hands.HandLandmark.INDEX_FINGER_TIP].y * h)})'\n",
        "            )\n",
        "            for num, mark in enumerate(hand_landmarks.landmark):\n",
        "                print(f\"\\tМетка {arm_marks[num]}\"\n",
        "                        f\"- x: {round(mark.x * w)}, y: {round(mark.y * h)}\")\n",
        "\n",
        "    return results, frame"
      ],
      "execution_count": null,
      "outputs": []
    },
    {
      "cell_type": "code",
      "metadata": {
        "colab": {
          "base_uri": "https://localhost:8080/"
        },
        "id": "OzoLT-jdpAaj",
        "outputId": "f23af81d-9179-4b56-fc43-360877e5c0fb"
      },
      "source": [
        "hand_detect_rez, frame = hand_detection_mp(file_img[0][0], True)"
      ],
      "execution_count": null,
      "outputs": [
        {
          "output_type": "stream",
          "text": [
            "Рука 1\n",
            "\tIndex finger tip coordinates: (x: 353, y: 73)\n",
            "\tМетка WRIST- x: 274, y: 179\n",
            "\tМетка THUMB_CMC- x: 318, y: 187\n",
            "\tМетка THUMB_MCP- x: 349, y: 176\n",
            "\tМетка THUMB_IP- x: 367, y: 154\n",
            "\tМетка THUMB_TIP- x: 374, y: 129\n",
            "\tМетка INDEX_FINGER_MCP- x: 332, y: 136\n",
            "\tМетка INDEX_FINGER_PIP- x: 345, y: 108\n",
            "\tМетка INDEX_FINGER_DIP- x: 351, y: 91\n",
            "\tМетка INDEX_FINGER_TIP- x: 353, y: 73\n",
            "\tМетка MIDDLE_FINGER_MCP- x: 304, y: 132\n",
            "\tМетка MIDDLE_FINGER_PIP- x: 314, y: 103\n",
            "\tМетка MIDDLE_FINGER_DIP- x: 317, y: 81\n",
            "\tМетка MIDDLE_FINGER_TIP- x: 318, y: 59\n",
            "\tМетка RING_FINGER_MCP- x: 279, y: 135\n",
            "\tМетка RING_FINGER_PIP- x: 285, y: 110\n",
            "\tМетка RING_FINGER_DIP- x: 288, y: 89\n",
            "\tМетка RING_FINGER_TIP- x: 291, y: 68\n",
            "\tМетка PINKY_MCP- x: 256, y: 142\n",
            "\tМетка PINKY_PIP- x: 255, y: 123\n",
            "\tМетка PINKY_DIP- x: 252, y: 108\n",
            "\tМетка PINKY_TIP- x: 252, y: 94\n"
          ],
          "name": "stdout"
        }
      ]
    },
    {
      "cell_type": "code",
      "metadata": {
        "id": "L1CX_3wHAA27"
      },
      "source": [
        "# Функция рисования прямоугольников рук\n",
        "def draw_hand(frame, hand_landmarks):\n",
        "    h, w, _ = frame.shape\n",
        "    mp_drawing.draw_landmarks(frame, hand_landmarks, mp_hands.HAND_CONNECTIONS)\n",
        "    max_x = max_y = 0\n",
        "    min_x = min_y = 65535\n",
        "    for mark in hand_landmarks.landmark:\n",
        "        if mark.x > max_x:\n",
        "            max_x = mark.x\n",
        "        if mark.x < min_x:\n",
        "            min_x = mark.x\n",
        "        if mark.y > max_y:\n",
        "            max_y = mark.y\n",
        "        if mark.y < min_y:\n",
        "            min_y = mark.y\n",
        "    max_x = round(max_x * w) + 30\n",
        "    min_x = round(min_x * w) - 30\n",
        "    max_y = round(max_y * h) + 30\n",
        "    min_y = round(min_y * h) - 30\n",
        "    print(f\"\\tmax_x: {max_x} min_x: {min_x} max_y: {max_y} min_y: {min_y}\")\n",
        "    # Рисуем обрамляющий прямоугольник руки на кадре\n",
        "    cv2.rectangle(frame,\n",
        "                    (min_x, min_y),\n",
        "                    (max_x, max_y),\n",
        "                    (0, 255, 0),\n",
        "                    thickness=2)\n",
        "    return frame, [min_x, min_y, max_x, max_y]"
      ],
      "execution_count": null,
      "outputs": []
    },
    {
      "cell_type": "code",
      "metadata": {
        "colab": {
          "base_uri": "https://localhost:8080/",
          "height": 195
        },
        "id": "ZlHCrJzErL3d",
        "outputId": "72427df2-bfdc-488f-db28-14a3820c97e7"
      },
      "source": [
        "if hand_detect_rez.multi_hand_landmarks:\r\n",
        "    for hand_landmarks in hand_detect_rez.multi_hand_landmarks:\r\n",
        "        img, hand_box = draw_hand(frame, hand_landmarks)\r\n",
        "        plt.imshow(img)\r\n",
        "        break"
      ],
      "execution_count": null,
      "outputs": [
        {
          "output_type": "stream",
          "text": [
            "\tmax_x: 404 min_x: 222 max_y: 217 min_y: 29\n"
          ],
          "name": "stdout"
        },
        {
          "output_type": "display_data",
          "data": {
            "image/png": "[encoded data removed]",
            "text/plain": [
              "<Figure size 432x288 with 1 Axes>"
            ]
          },
          "metadata": {
            "tags": [],
            "needs_background": "light"
          }
        }
      ]
    },
    {
      "cell_type": "code",
      "metadata": {
        "id": "hQ0u0kW7v9qk"
      },
      "source": [
        "# Возвращает изображение ладони\r\n",
        "def get_hand(frame, hand_landmarks):\r\n",
        "    h, w, _ = frame.shape\r\n",
        "    max_x = max_y = 0\r\n",
        "    min_x = min_y = 65535\r\n",
        "    for mark in hand_landmarks.landmark:\r\n",
        "        if mark.x > max_x:\r\n",
        "            max_x = mark.x\r\n",
        "        if mark.x < min_x:\r\n",
        "            min_x = mark.x\r\n",
        "        if mark.y > max_y:\r\n",
        "            max_y = mark.y\r\n",
        "        if mark.y < min_y:\r\n",
        "            min_y = mark.y\r\n",
        "    max_x = round(max_x * w) + 30\r\n",
        "    min_x = round(min_x * w) - 30\r\n",
        "    max_y = round(max_y * h) + 30\r\n",
        "    min_y = round(min_y * h) - 30\r\n",
        "\r\n",
        "    res = frame[int(min_y):int(max_y), int(min_x):int(max_x)]\r\n",
        "    res = cv2.resize(res, (160, 160), interpolation = cv2.INTER_AREA)\r\n",
        "    return res"
      ],
      "execution_count": null,
      "outputs": []
    },
    {
      "cell_type": "code",
      "metadata": {
        "colab": {
          "base_uri": "https://localhost:8080/",
          "height": 269
        },
        "id": "u9QFSSP4rL7J",
        "outputId": "0e66f84e-c348-42d4-e61e-cf51b2f28263"
      },
      "source": [
        "hand_detect_rez, frame = hand_detection_mp(file_img[0][0])\r\n",
        "\r\n",
        "if hand_detect_rez.multi_hand_landmarks:\r\n",
        "    for hand_landmarks in hand_detect_rez.multi_hand_landmarks:\r\n",
        "        img = get_hand(frame, hand_landmarks)\r\n",
        "        plt.imshow(img)\r\n",
        "        break"
      ],
      "execution_count": null,
      "outputs": [
        {
          "output_type": "display_data",
          "data": {
            "image/png": "[encoded data removed]",
            "text/plain": [
              "<Figure size 432x288 with 1 Axes>"
            ]
          },
          "metadata": {
            "tags": [],
            "needs_background": "light"
          }
        }
      ]
    },
    {
      "cell_type": "code",
      "metadata": {
        "colab": {
          "base_uri": "https://localhost:8080/",
          "height": 269
        },
        "id": "UYiGy6bc0IoG",
        "outputId": "a6550b60-1f6e-4b0f-83fd-ca620a997212"
      },
      "source": [
        "hand_detect_rez, frame = hand_detection_mp(file_img[9][0])\r\n",
        "\r\n",
        "if hand_detect_rez.multi_hand_landmarks:\r\n",
        "    for hand_landmarks in hand_detect_rez.multi_hand_landmarks:\r\n",
        "        img = get_hand(frame, hand_landmarks)\r\n",
        "        plt.imshow(img)\r\n",
        "        break"
      ],
      "execution_count": 202,
      "outputs": [
        {
          "output_type": "display_data",
          "data": {
            "image/png": "[encoded data removed]",
            "text/plain": [
              "<Figure size 432x288 with 1 Axes>"
            ]
          },
          "metadata": {
            "tags": [],
            "needs_background": "light"
          }
        }
      ]
    },
    {
      "cell_type": "code",
      "metadata": {
        "colab": {
          "base_uri": "https://localhost:8080/"
        },
        "id": "GJsdmHHB2ySg",
        "outputId": "774c0cc9-2e49-4a76-aced-72cbbf491587"
      },
      "source": [
        "for cn in range(10):\r\n",
        "    file_counter[cn] = 0\r\n",
        "file_counter"
      ],
      "execution_count": null,
      "outputs": [
        {
          "output_type": "execute_result",
          "data": {
            "text/plain": [
              "{0: 0, 1: 0, 2: 0, 3: 0, 4: 0, 5: 0, 6: 0, 7: 0, 8: 0, 9: 0}"
            ]
          },
          "metadata": {
            "tags": []
          },
          "execution_count": 199
        }
      ]
    },
    {
      "cell_type": "code",
      "metadata": {
        "id": "Mw02Qzew4mJW"
      },
      "source": [
        "def src_data_convert(file_path, data_path):\n",
        "    # Ищем руки\n",
        "    hand_detect_rez = hand_detection_mp(img)\n",
        "    if hand_detect_rez.multi_hand_landmarks:\n",
        "        for hand_landmarks in hand_detect_rez.multi_hand_landmarks:\n",
        "            frame, hand_box = draw_hand(frame, hand_landmarks)\n",
        "            plt.imshow(frame)\n",
        "            break"
      ],
      "execution_count": null,
      "outputs": []
    },
    {
      "cell_type": "code",
      "metadata": {
        "colab": {
          "base_uri": "https://localhost:8080/"
        },
        "id": "PvEc--fR4V8t",
        "outputId": "22004099-6da4-47a8-804f-f5f198d7c919"
      },
      "source": [
        "pip install progressbar2"
      ],
      "execution_count": null,
      "outputs": [
        {
          "output_type": "stream",
          "text": [
            "Requirement already satisfied: progressbar2 in /usr/local/lib/python3.6/dist-packages (3.38.0)\n",
            "Requirement already satisfied: python-utils>=2.3.0 in /usr/local/lib/python3.6/dist-packages (from progressbar2) (2.4.0)\n",
            "Requirement already satisfied: six in /usr/local/lib/python3.6/dist-packages (from progressbar2) (1.15.0)\n"
          ],
          "name": "stdout"
        }
      ]
    },
    {
      "cell_type": "code",
      "metadata": {
        "id": "AvOmMPem4O_m"
      },
      "source": [
        "import tqdm"
      ],
      "execution_count": null,
      "outputs": []
    },
    {
      "cell_type": "code",
      "metadata": {
        "colab": {
          "base_uri": "https://localhost:8080/"
        },
        "id": "rmdpoqEBkbmy",
        "outputId": "20f68bd3-d906-4c7b-bed4-adbb6d2ec7f8"
      },
      "source": [
        "pbar = tqdm.tqdm(total=20000)\r\n",
        "for cn in range(10):\r\n",
        "    for img in file_img[cn]:\r\n",
        "        hand_detect_rez, frame = hand_detection_mp(img)\r\n",
        "        if hand_detect_rez.multi_hand_landmarks:\r\n",
        "            file_counter[cn] += 1\r\n",
        "        pbar.update(1)\r\n",
        "pbar.close()\r\n",
        "file_counter"
      ],
      "execution_count": null,
      "outputs": [
        {
          "output_type": "stream",
          "text": [
            "100%|██████████| 20000/20000 [09:52<00:00, 33.77it/s]\n"
          ],
          "name": "stderr"
        },
        {
          "output_type": "execute_result",
          "data": {
            "text/plain": [
              "{0: 1972,\n",
              " 1: 1135,\n",
              " 2: 1201,\n",
              " 3: 1182,\n",
              " 4: 1248,\n",
              " 5: 1062,\n",
              " 6: 1841,\n",
              " 7: 801,\n",
              " 8: 996,\n",
              " 9: 1797}"
            ]
          },
          "metadata": {
            "tags": []
          },
          "execution_count": 201
        }
      ]
    },
    {
      "cell_type": "markdown",
      "metadata": {
        "id": "WI3uaVU4BYjA"
      },
      "source": [
        "## Формирование датасета"
      ]
    },
    {
      "cell_type": "code",
      "metadata": {
        "id": "hH9gouON3o-T"
      },
      "source": [
        ""
      ],
      "execution_count": null,
      "outputs": []
    }
  ]
}