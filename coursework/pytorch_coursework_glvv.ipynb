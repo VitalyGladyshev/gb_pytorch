{
  "nbformat": 4,
  "nbformat_minor": 0,
  "metadata": {
    "colab": {
      "name": "pytorch_coursework_glvv.ipynb",
      "provenance": [],
      "collapsed_sections": [],
      "toc_visible": true,
      "authorship_tag": "ABX9TyPcQdwz69dMcOVmFwaTXuGp",
      "include_colab_link": true
    },
    "kernelspec": {
      "name": "python3",
      "display_name": "Python 3"
    },
    "accelerator": "GPU"
  },
  "cells": [
    {
      "cell_type": "markdown",
      "metadata": {
        "id": "view-in-github",
        "colab_type": "text"
      },
      "source": [
        "<a href=\"https://colab.research.google.com/github/VitalyGladyshev/gb_pytorch/blob/main/coursework/pytorch_coursework_glvv.ipynb\" target=\"_parent\"><img src=\"https://colab.research.google.com/assets/colab-badge.svg\" alt=\"Open In Colab\"/></a>"
      ]
    },
    {
      "cell_type": "markdown",
      "metadata": {
        "id": "4A-cxY5my-Po"
      },
      "source": [
        "# Курсовая работа Гладышев В.В."
      ]
    },
    {
      "cell_type": "markdown",
      "metadata": {
        "id": "cSiIpYCHzUDA"
      },
      "source": [
        "## Подготовка данных"
      ]
    },
    {
      "cell_type": "markdown",
      "metadata": {
        "id": "HbAoklEG603S"
      },
      "source": [
        "### Получение данных"
      ]
    },
    {
      "cell_type": "code",
      "metadata": {
        "id": "TupWM9NPy9UJ"
      },
      "source": [
        "!pip install -U -q kaggle\r\n",
        "!mkdir -p ~/.kaggle"
      ],
      "execution_count": 1,
      "outputs": []
    },
    {
      "cell_type": "code",
      "metadata": {
        "colab": {
          "resources": {
            "http://localhost:8080/nbextensions/google.colab/files.js": {
              "data": "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",
              "ok": true,
              "headers": [
                [
                  "content-type",
                  "application/javascript"
                ]
              ],
              "status": 200,
              "status_text": ""
            }
          },
          "base_uri": "https://localhost:8080/",
          "height": 89
        },
        "id": "c4J5rNM_4QL3",
        "outputId": "8dcbe9d0-467f-4c5a-fe0c-bd72bf7df6ce"
      },
      "source": [
        "from google.colab import files\r\n",
        "files.upload()"
      ],
      "execution_count": 6,
      "outputs": [
        {
          "output_type": "display_data",
          "data": {
            "text/html": [
              "\n",
              "     <input type=\"file\" id=\"files-e89b8d7b-18c8-432a-8ea8-7853aa10decb\" name=\"files[]\" multiple disabled\n",
              "        style=\"border:none\" />\n",
              "     <output id=\"result-e89b8d7b-18c8-432a-8ea8-7853aa10decb\">\n",
              "      Upload widget is only available when the cell has been executed in the\n",
              "      current browser session. Please rerun this cell to enable.\n",
              "      </output>\n",
              "      <script src=\"/nbextensions/google.colab/files.js\"></script> "
            ],
            "text/plain": [
              "<IPython.core.display.HTML object>"
            ]
          },
          "metadata": {
            "tags": []
          }
        },
        {
          "output_type": "stream",
          "text": [
            "Saving kaggle.json to kaggle.json\n"
          ],
          "name": "stdout"
        },
        {
          "output_type": "execute_result",
          "data": {
            "text/plain": [
              "{'kaggle.json': b'{\"username\":\"vitalygladyshev\",\"key\":\"64fa02d88741a1bf428eb486f9fc1ed7\"}'}"
            ]
          },
          "metadata": {
            "tags": []
          },
          "execution_count": 6
        }
      ]
    },
    {
      "cell_type": "code",
      "metadata": {
        "colab": {
          "base_uri": "https://localhost:8080/"
        },
        "id": "SOYnR1Bd4XmF",
        "outputId": "2218549b-f9f4-4b86-e2b9-5c12edc0da56"
      },
      "source": [
        "!mv kaggle.json ~/.kaggle/\r\n",
        "!chmod 600 ~/.kaggle/kaggle.json\r\n",
        "!ls -la ~/.kaggle/"
      ],
      "execution_count": 7,
      "outputs": [
        {
          "output_type": "stream",
          "text": [
            "total 16\n",
            "drwxr-xr-x 2 root root 4096 Dec 27 18:36 .\n",
            "drwx------ 1 root root 4096 Dec 27 18:32 ..\n",
            "-rw------- 1 root root   71 Dec 27 18:36 kaggle.json\n"
          ],
          "name": "stdout"
        }
      ]
    },
    {
      "cell_type": "code",
      "metadata": {
        "colab": {
          "base_uri": "https://localhost:8080/"
        },
        "id": "x73iwMKn4kAd",
        "outputId": "a1283a49-cee2-4998-978f-abe096fa3e41"
      },
      "source": [
        "!kaggle datasets list -s gesture"
      ],
      "execution_count": 8,
      "outputs": [
        {
          "output_type": "stream",
          "text": [
            "Warning: Looks like you're using an outdated API Version, please consider updating (server 1.5.10 / client 1.5.4)\n",
            "ref                                                     title                                                size  lastUpdated          downloadCount  \n",
            "------------------------------------------------------  --------------------------------------------------  -----  -------------------  -------------  \n",
            "gti-upm/leapgestrecog                                   Hand Gesture Recognition Database                     2GB  2018-07-30 06:43:29          10204  \n",
            "kyr7plus/emg-4                                          Classify gestures by reading muscle activity.       868KB  2018-12-09 17:45:37           2535  \n",
            "datamunge/sign-language-mnist                           Sign Language MNIST                                  63MB  2017-10-20 15:09:18          34891  \n",
            "shayanriyaz/gesture-recognition                         Gesture Recognition                                   2MB  2020-02-25 18:12:57             74  \n",
            "corrphilip/numeral-gestures                             Numeral Gestures recorded on iOS                     34MB  2017-08-24 16:22:16            350  \n",
            "ahmedkhanak1995/sign-language-gesture-images-dataset    Sign Language Gesture Images Dataset                191MB  2019-09-10 20:54:35            842  \n",
            "gti-upm/depthgestrecog                                  Depth based Gesture Recognition Database            557MB  2018-07-26 14:44:41            352  \n",
            "bitthal/hand-gesture-dataset                            Hand Gesture Dataset                                  3MB  2019-12-28 15:25:43            100  \n",
            "destin369y/interactivehandgesture1                      Interactive Hand Gesture                              2GB  2018-01-24 21:53:55            762  \n",
            "gti-upm/multimodhandgestrec                             Multi-Modal Dataset for Hand Gesture Recognition      6GB  2018-07-30 07:10:03            860  \n",
            "evernext10/hand-gesture-of-the-colombian-sign-language  Hand Gesture of the Colombian sign language          22GB  2018-11-07 18:14:39            655  \n",
            "tobirohrer/hololens-gesture-data                        HoloLens Gesture Data                                 2MB  2020-04-03 10:39:29              6  \n",
            "gti-upm/leaphandgestuav                                 LeapMotion Hand Gesture Dataset for UAV Management   26GB  2018-07-30 09:29:20            401  \n",
            "muhammadkhalid/sign-language-for-alphabets              Sign Language for Alphabets                          98MB  2019-11-14 20:06:56            244  \n",
            "muhammadkhalid/sign-language-for-numbers                Sign Language for Numbers                            48MB  2019-11-14 17:45:47            282  \n",
            "sprakash08/hand-gestures-recognition                    Hand Gestures Recognition                             7MB  2019-12-22 22:08:17             88  \n",
            "ashish8898/hand-gestures                                Hand Gestures                                       140MB  2018-06-15 09:02:45            745  \n",
            "ash2703/handsignimages                                  hand-sign-images                                     23MB  2020-04-07 10:22:31            223  \n",
            "dylanmendonca/hand_gestures                             Hand Gestures                                        41MB  2019-07-26 06:10:11             95  \n",
            "cdcaleanu/upt-tof-3d-hand-gesture-database              UPT Time of Flight 3D Hand Gesture Database         571MB  2020-03-02 18:18:55             18  \n"
          ],
          "name": "stdout"
        }
      ]
    },
    {
      "cell_type": "code",
      "metadata": {
        "colab": {
          "base_uri": "https://localhost:8080/"
        },
        "id": "6MC2bHqc5ABU",
        "outputId": "2f1bf78c-5344-4e2c-8eb0-357df513c5d4"
      },
      "source": [
        "!kaggle datasets download -d gti-upm/leapgestrecog \r\n",
        "!ls"
      ],
      "execution_count": 9,
      "outputs": [
        {
          "output_type": "stream",
          "text": [
            "Downloading leapgestrecog.zip to /content\n",
            "100% 2.13G/2.13G [00:25<00:00, 12.6MB/s]\n",
            "100% 2.13G/2.13G [00:25<00:00, 89.9MB/s]\n",
            "leapgestrecog.zip  sample_data\n"
          ],
          "name": "stdout"
        }
      ]
    },
    {
      "cell_type": "code",
      "metadata": {
        "id": "FJhVJj_a5QN1"
      },
      "source": [
        "from zipfile import ZipFile"
      ],
      "execution_count": 10,
      "outputs": []
    },
    {
      "cell_type": "code",
      "metadata": {
        "id": "aG90DLAA6Wuu"
      },
      "source": [
        "zip_file = ZipFile('leapgestrecog.zip')\r\n",
        "zip_file.extractall()   # \"./lyft-udacity-challenge\")"
      ],
      "execution_count": 11,
      "outputs": []
    },
    {
      "cell_type": "code",
      "metadata": {
        "colab": {
          "base_uri": "https://localhost:8080/"
        },
        "id": "UU4cw6bP6gJm",
        "outputId": "1c1d3df0-b2cb-450f-a328-4a44ecf7c739"
      },
      "source": [
        "!ls"
      ],
      "execution_count": 12,
      "outputs": [
        {
          "output_type": "stream",
          "text": [
            "leapgestrecog  leapGestRecog  leapgestrecog.zip  sample_data\n"
          ],
          "name": "stdout"
        }
      ]
    },
    {
      "cell_type": "code",
      "metadata": {
        "id": "OhPFFKR78sPS"
      },
      "source": [
        "path = \"./leapGestRecog\""
      ],
      "execution_count": 13,
      "outputs": []
    },
    {
      "cell_type": "markdown",
      "metadata": {
        "id": "1Ll-To-K66Vx"
      },
      "source": [
        "### Предобработка данных"
      ]
    },
    {
      "cell_type": "code",
      "metadata": {
        "id": "xKZ0hpkJ9b2R"
      },
      "source": [
        "import os"
      ],
      "execution_count": 14,
      "outputs": []
    },
    {
      "cell_type": "code",
      "metadata": {
        "colab": {
          "base_uri": "https://localhost:8080/"
        },
        "id": "wBwwM_kw6pVE",
        "outputId": "b6ff6306-a003-4858-cbf8-9b8ae6f50d69"
      },
      "source": [
        "class_names = {}\r\n",
        "file_counter = {}\r\n",
        "file_img = {}\r\n",
        "\r\n",
        "for root, dirs, files in os.walk(path):\r\n",
        "    if dirs:\r\n",
        "        if len(dirs[2]) > 3 and dirs[2][2] == '_':\r\n",
        "            for dir in dirs:\r\n",
        "                class_names[int(dir[:2])-1] = dir[3:]\r\n",
        "                file_counter[int(dir[:2])-1] = 0\r\n",
        "                file_img[int(dir[:2])-1] = []\r\n",
        "            break\r\n",
        "\r\n",
        "class_names"
      ],
      "execution_count": 15,
      "outputs": [
        {
          "output_type": "execute_result",
          "data": {
            "text/plain": [
              "{0: 'palm',\n",
              " 1: 'l',\n",
              " 2: 'fist',\n",
              " 3: 'fist_moved',\n",
              " 4: 'thumb',\n",
              " 5: 'index',\n",
              " 6: 'ok',\n",
              " 7: 'palm_moved',\n",
              " 8: 'c',\n",
              " 9: 'down'}"
            ]
          },
          "metadata": {
            "tags": []
          },
          "execution_count": 15
        }
      ]
    },
    {
      "cell_type": "code",
      "metadata": {
        "colab": {
          "base_uri": "https://localhost:8080/"
        },
        "id": "uuq8lGF09aiW",
        "outputId": "b74f16c3-2b90-4059-a294-42fcca341241"
      },
      "source": [
        "file_counter"
      ],
      "execution_count": 16,
      "outputs": [
        {
          "output_type": "execute_result",
          "data": {
            "text/plain": [
              "{0: 0, 1: 0, 2: 0, 3: 0, 4: 0, 5: 0, 6: 0, 7: 0, 8: 0, 9: 0}"
            ]
          },
          "metadata": {
            "tags": []
          },
          "execution_count": 16
        }
      ]
    },
    {
      "cell_type": "code",
      "metadata": {
        "colab": {
          "base_uri": "https://localhost:8080/"
        },
        "id": "z3a5XV-HE1Qm",
        "outputId": "3f5a4f83-1337-455e-9e75-2a50329269a5"
      },
      "source": [
        "file_img"
      ],
      "execution_count": 17,
      "outputs": [
        {
          "output_type": "execute_result",
          "data": {
            "text/plain": [
              "{0: [], 1: [], 2: [], 3: [], 4: [], 5: [], 6: [], 7: [], 8: [], 9: []}"
            ]
          },
          "metadata": {
            "tags": []
          },
          "execution_count": 17
        }
      ]
    },
    {
      "cell_type": "code",
      "metadata": {
        "colab": {
          "base_uri": "https://localhost:8080/"
        },
        "id": "14YdxZOoBmVP",
        "outputId": "53e9c3ec-6cd3-467a-e82e-204138bf351a"
      },
      "source": [
        "for root, dirs, files in os.walk(path):\r\n",
        "    for fl in files:\r\n",
        "        file_counter[int(fl[9:11])-1] += 1\r\n",
        "        f = os.path.join(root, fl)\r\n",
        "        file_img[int(fl[9:11])-1].append(f)\r\n",
        "file_counter"
      ],
      "execution_count": 18,
      "outputs": [
        {
          "output_type": "execute_result",
          "data": {
            "text/plain": [
              "{0: 2000,\n",
              " 1: 2000,\n",
              " 2: 2000,\n",
              " 3: 2000,\n",
              " 4: 2000,\n",
              " 5: 2000,\n",
              " 6: 2000,\n",
              " 7: 2000,\n",
              " 8: 2000,\n",
              " 9: 2000}"
            ]
          },
          "metadata": {
            "tags": []
          },
          "execution_count": 18
        }
      ]
    },
    {
      "cell_type": "code",
      "metadata": {
        "colab": {
          "base_uri": "https://localhost:8080/",
          "height": 35
        },
        "id": "FwL6mxun3-Bg",
        "outputId": "edb06ef0-8b07-48e6-94dc-287da0f0c443"
      },
      "source": [
        "file_img[0][0]"
      ],
      "execution_count": 19,
      "outputs": [
        {
          "output_type": "execute_result",
          "data": {
            "application/vnd.google.colaboratory.intrinsic+json": {
              "type": "string"
            },
            "text/plain": [
              "'./leapGestRecog/05/01_palm/frame_05_01_0130.png'"
            ]
          },
          "metadata": {
            "tags": []
          },
          "execution_count": 19
        }
      ]
    },
    {
      "cell_type": "code",
      "metadata": {
        "colab": {
          "base_uri": "https://localhost:8080/"
        },
        "id": "RU80qFi7CISn",
        "outputId": "ecad4bd4-ff5b-4ca6-c1c8-228d7e8c16d8"
      },
      "source": [
        "file_img[0][:5], file_img[0][-5:]"
      ],
      "execution_count": 20,
      "outputs": [
        {
          "output_type": "execute_result",
          "data": {
            "text/plain": [
              "(['./leapGestRecog/05/01_palm/frame_05_01_0130.png',\n",
              "  './leapGestRecog/05/01_palm/frame_05_01_0087.png',\n",
              "  './leapGestRecog/05/01_palm/frame_05_01_0185.png',\n",
              "  './leapGestRecog/05/01_palm/frame_05_01_0116.png',\n",
              "  './leapGestRecog/05/01_palm/frame_05_01_0049.png'],\n",
              " ['./leapGestRecog/08/01_palm/frame_08_01_0057.png',\n",
              "  './leapGestRecog/08/01_palm/frame_08_01_0176.png',\n",
              "  './leapGestRecog/08/01_palm/frame_08_01_0019.png',\n",
              "  './leapGestRecog/08/01_palm/frame_08_01_0156.png',\n",
              "  './leapGestRecog/08/01_palm/frame_08_01_0126.png'])"
            ]
          },
          "metadata": {
            "tags": []
          },
          "execution_count": 20
        }
      ]
    },
    {
      "cell_type": "code",
      "metadata": {
        "id": "hwOlMfWw4Fm6",
        "colab": {
          "base_uri": "https://localhost:8080/"
        },
        "outputId": "b588b249-2f93-4d6c-e99f-ac2c8b7925d3"
      },
      "source": [
        "!cp ./leapGestRecog/06/01_palm/frame_06_01_0195.png data/"
      ],
      "execution_count": 21,
      "outputs": [
        {
          "output_type": "stream",
          "text": [
            "cp: cannot create regular file 'data/': Not a directory\n"
          ],
          "name": "stdout"
        }
      ]
    },
    {
      "cell_type": "code",
      "metadata": {
        "colab": {
          "base_uri": "https://localhost:8080/",
          "height": 462
        },
        "id": "YfyXQbvV8B7c",
        "outputId": "b59a0a49-68a4-4916-f2fc-3054711513c0"
      },
      "source": [
        "pip install mediapipe"
      ],
      "execution_count": 22,
      "outputs": [
        {
          "output_type": "stream",
          "text": [
            "Collecting mediapipe\n",
            "\u001b[?25l  Downloading https://files.pythonhosted.org/packages/1e/75/2f6d32b5599734200c7f5b3b2daf94413680e29bf2804c855678bca6dfb2/mediapipe-0.8.2-cp36-cp36m-manylinux2014_x86_64.whl (35.0MB)\n",
            "\u001b[K     |████████████████████████████████| 35.0MB 102kB/s \n",
            "\u001b[?25hRequirement already satisfied: dataclasses in /usr/local/lib/python3.6/dist-packages (from mediapipe) (0.8)\n",
            "Requirement already satisfied: protobuf>=3.11.4 in /usr/local/lib/python3.6/dist-packages (from mediapipe) (3.12.4)\n",
            "Requirement already satisfied: absl-py in /usr/local/lib/python3.6/dist-packages (from mediapipe) (0.10.0)\n",
            "Requirement already satisfied: opencv-python in /usr/local/lib/python3.6/dist-packages (from mediapipe) (4.1.2.30)\n",
            "Collecting numpy==1.19.3\n",
            "\u001b[?25l  Downloading https://files.pythonhosted.org/packages/0e/f7/a7d7e0de99a7b43bd95aaddcf29e65b5a185ca389dd1329a53cc986edc38/numpy-1.19.3-cp36-cp36m-manylinux2010_x86_64.whl (14.9MB)\n",
            "\u001b[K     |████████████████████████████████| 14.9MB 228kB/s \n",
            "\u001b[?25hRequirement already satisfied: wheel in /usr/local/lib/python3.6/dist-packages (from mediapipe) (0.36.2)\n",
            "Requirement already satisfied: six in /usr/local/lib/python3.6/dist-packages (from mediapipe) (1.15.0)\n",
            "Requirement already satisfied: setuptools in /usr/local/lib/python3.6/dist-packages (from protobuf>=3.11.4->mediapipe) (51.0.0)\n",
            "\u001b[31mERROR: datascience 0.10.6 has requirement folium==0.2.1, but you'll have folium 0.8.3 which is incompatible.\u001b[0m\n",
            "\u001b[31mERROR: albumentations 0.1.12 has requirement imgaug<0.2.7,>=0.2.5, but you'll have imgaug 0.2.9 which is incompatible.\u001b[0m\n",
            "Installing collected packages: numpy, mediapipe\n",
            "  Found existing installation: numpy 1.19.4\n",
            "    Uninstalling numpy-1.19.4:\n",
            "      Successfully uninstalled numpy-1.19.4\n",
            "Successfully installed mediapipe-0.8.2 numpy-1.19.3\n"
          ],
          "name": "stdout"
        },
        {
          "output_type": "display_data",
          "data": {
            "application/vnd.colab-display-data+json": {
              "pip_warning": {
                "packages": [
                  "numpy"
                ]
              }
            }
          },
          "metadata": {
            "tags": []
          }
        }
      ]
    },
    {
      "cell_type": "code",
      "metadata": {
        "id": "RwxKLg5r5zIn"
      },
      "source": [
        "import cv2\n",
        "import numpy as np\n",
        "from PIL import Image\n",
        "import matplotlib.pyplot as plt\n",
        "# import scipy.misc\n",
        "\n",
        "import mediapipe as mp\n",
        "mp_hands = mp.solutions.hands\n",
        "mp_drawing = mp.solutions.drawing_utils\n",
        "# For webcam input:\n",
        "hands = mp_hands.Hands(\n",
        "    static_image_mode=True,\n",
        "    max_num_hands=2,\n",
        "    min_detection_confidence=0.5)"
      ],
      "execution_count": 23,
      "outputs": []
    },
    {
      "cell_type": "code",
      "metadata": {
        "colab": {
          "base_uri": "https://localhost:8080/",
          "height": 211
        },
        "id": "dq_GVLYJ-DBy",
        "outputId": "e2e8443c-8fe3-4d60-ba44-b5a23a08d20b"
      },
      "source": [
        "img = Image.open(file_img[0][0])\n",
        "print(np.asarray(img).shape)\n",
        "plt.imshow(img)"
      ],
      "execution_count": 24,
      "outputs": [
        {
          "output_type": "stream",
          "text": [
            "(240, 640)\n"
          ],
          "name": "stdout"
        },
        {
          "output_type": "execute_result",
          "data": {
            "text/plain": [
              "<matplotlib.image.AxesImage at 0x7f1a12ea8470>"
            ]
          },
          "metadata": {
            "tags": []
          },
          "execution_count": 24
        },
        {
          "output_type": "display_data",
          "data": {
            "image/png": "[encoded data removed]",
            "text/plain": [
              "<Figure size 432x288 with 1 Axes>"
            ]
          },
          "metadata": {
            "tags": [],
            "needs_background": "light"
          }
        }
      ]
    },
    {
      "cell_type": "code",
      "metadata": {
        "id": "SXLgIIOUqu70"
      },
      "source": [
        "src = np.asarray(img)"
      ],
      "execution_count": 25,
      "outputs": []
    },
    {
      "cell_type": "code",
      "metadata": {
        "id": "t7lO_WgQqpyu"
      },
      "source": [
        "frame = cv2.cvtColor(src, cv2.COLOR_GRAY2RGB)"
      ],
      "execution_count": 26,
      "outputs": []
    },
    {
      "cell_type": "code",
      "metadata": {
        "colab": {
          "base_uri": "https://localhost:8080/",
          "height": 194
        },
        "id": "zrYdGoL4q0fD",
        "outputId": "5dc0467e-20ed-4c35-e046-ba1609251655"
      },
      "source": [
        "plt.imshow(frame)"
      ],
      "execution_count": 27,
      "outputs": [
        {
          "output_type": "execute_result",
          "data": {
            "text/plain": [
              "<matplotlib.image.AxesImage at 0x7f1a12e30898>"
            ]
          },
          "metadata": {
            "tags": []
          },
          "execution_count": 27
        },
        {
          "output_type": "display_data",
          "data": {
            "image/png": "[encoded data removed]",
            "text/plain": [
              "<Figure size 432x288 with 1 Axes>"
            ]
          },
          "metadata": {
            "tags": [],
            "needs_background": "light"
          }
        }
      ]
    },
    {
      "cell_type": "code",
      "metadata": {
        "id": "azb9zSt0suDc"
      },
      "source": [
        "arm_marks = ['WRIST',\r\n",
        "             'THUMB_CMC', 'THUMB_MCP', 'THUMB_IP', 'THUMB_TIP',\r\n",
        "             'INDEX_FINGER_MCP', 'INDEX_FINGER_PIP', 'INDEX_FINGER_DIP', 'INDEX_FINGER_TIP',\r\n",
        "             'MIDDLE_FINGER_MCP', 'MIDDLE_FINGER_PIP', 'MIDDLE_FINGER_DIP', 'MIDDLE_FINGER_TIP',\r\n",
        "             'RING_FINGER_MCP', 'RING_FINGER_PIP', 'RING_FINGER_DIP', 'RING_FINGER_TIP',\r\n",
        "             'PINKY_MCP', 'PINKY_PIP', 'PINKY_DIP', 'PINKY_TIP']"
      ],
      "execution_count": 28,
      "outputs": []
    },
    {
      "cell_type": "code",
      "metadata": {
        "id": "Q1GqbX8j-yEh"
      },
      "source": [
        "def hand_detection_mp(file_pth, prn=False):\n",
        "    img = np.asarray(Image.open(file_pth))\n",
        "    h, w = img.shape\n",
        "    frame = cv2.cvtColor(img, cv2.COLOR_GRAY2RGB)   # cv2.flip(frame, 1)\n",
        "\n",
        "    frame.flags.writeable = False\n",
        "    # im_pil = Image.fromarray(frame)\n",
        "    results = hands.process(frame)\n",
        "    frame.flags.writeable = True\n",
        "\n",
        "    if results.multi_hand_landmarks and prn:\n",
        "        count = 0\n",
        "        for hand_landmarks in results.multi_hand_landmarks:\n",
        "            count += 1\n",
        "            print(f\"Рука {count}\")\n",
        "            print(\n",
        "                f'\\tIndex finger tip coordinates: ('\n",
        "                f'x: {round(hand_landmarks.landmark[mp_hands.HandLandmark.INDEX_FINGER_TIP].x * w)}, '\n",
        "                f'y: {round(hand_landmarks.landmark[mp_hands.HandLandmark.INDEX_FINGER_TIP].y * h)})'\n",
        "            )\n",
        "            for num, mark in enumerate(hand_landmarks.landmark):\n",
        "                print(f\"\\tМетка {arm_marks[num]}\"\n",
        "                        f\"- x: {round(mark.x * w)}, y: {round(mark.y * h)}\")\n",
        "\n",
        "    return results, frame"
      ],
      "execution_count": 29,
      "outputs": []
    },
    {
      "cell_type": "code",
      "metadata": {
        "colab": {
          "base_uri": "https://localhost:8080/"
        },
        "id": "OzoLT-jdpAaj",
        "outputId": "0dce5b19-8d34-43a0-f3ff-31d5d26255e3"
      },
      "source": [
        "hand_detect_rez, frame = hand_detection_mp(file_img[0][0], True)"
      ],
      "execution_count": 30,
      "outputs": [
        {
          "output_type": "stream",
          "text": [
            "Рука 1\n",
            "\tIndex finger tip coordinates: (x: 398, y: 60)\n",
            "\tМетка WRIST- x: 302, y: 157\n",
            "\tМетка THUMB_CMC- x: 352, y: 167\n",
            "\tМетка THUMB_MCP- x: 392, y: 158\n",
            "\tМетка THUMB_IP- x: 425, y: 144\n",
            "\tМетка THUMB_TIP- x: 452, y: 130\n",
            "\tМетка INDEX_FINGER_MCP- x: 376, y: 102\n",
            "\tМетка INDEX_FINGER_PIP- x: 394, y: 65\n",
            "\tМетка INDEX_FINGER_DIP- x: 398, y: 59\n",
            "\tМетка INDEX_FINGER_TIP- x: 398, y: 60\n",
            "\tМетка MIDDLE_FINGER_MCP- x: 353, y: 95\n",
            "\tМетка MIDDLE_FINGER_PIP- x: 368, y: 56\n",
            "\tМетка MIDDLE_FINGER_DIP- x: 372, y: 50\n",
            "\tМетка MIDDLE_FINGER_TIP- x: 371, y: 52\n",
            "\tМетка RING_FINGER_MCP- x: 327, y: 94\n",
            "\tМетка RING_FINGER_PIP- x: 340, y: 61\n",
            "\tМетка RING_FINGER_DIP- x: 343, y: 57\n",
            "\tМетка RING_FINGER_TIP- x: 343, y: 59\n",
            "\tМетка PINKY_MCP- x: 302, y: 100\n",
            "\tМетка PINKY_PIP- x: 304, y: 76\n",
            "\tМетка PINKY_DIP- x: 305, y: 71\n",
            "\tМетка PINKY_TIP- x: 305, y: 74\n"
          ],
          "name": "stdout"
        }
      ]
    },
    {
      "cell_type": "code",
      "metadata": {
        "id": "L1CX_3wHAA27"
      },
      "source": [
        "# Функция рисования прямоугольников рук\n",
        "def draw_hand(frame, hand_landmarks):\n",
        "    h, w, _ = frame.shape\n",
        "    mp_drawing.draw_landmarks(frame, hand_landmarks, mp_hands.HAND_CONNECTIONS)\n",
        "    max_x = max_y = 0\n",
        "    min_x = min_y = 65535\n",
        "    for mark in hand_landmarks.landmark:\n",
        "        if mark.x > max_x:\n",
        "            max_x = mark.x\n",
        "        if mark.x < min_x:\n",
        "            min_x = mark.x\n",
        "        if mark.y > max_y:\n",
        "            max_y = mark.y\n",
        "        if mark.y < min_y:\n",
        "            min_y = mark.y\n",
        "    max_x = round(max_x * w) + 30\n",
        "    min_x = round(min_x * w) - 30\n",
        "    max_y = round(max_y * h) + 30\n",
        "    min_y = round(min_y * h) - 30\n",
        "    if min_x < 0:\n",
        "        min_x = 0\n",
        "    if min_y < 0:\n",
        "        min_y = 0\n",
        "    if max_x > w:\n",
        "        max_x = w\n",
        "    if max_y > h:\n",
        "        max_y = h\n",
        "    print(f\"\\tmax_x: {max_x} min_x: {min_x} max_y: {max_y} min_y: {min_y}\")\n",
        "    # Рисуем обрамляющий прямоугольник руки на кадре\n",
        "    cv2.rectangle(frame,\n",
        "                    (min_x, min_y),\n",
        "                    (max_x, max_y),\n",
        "                    (0, 255, 0),\n",
        "                    thickness=2)\n",
        "    return frame, [min_x, min_y, max_x, max_y]"
      ],
      "execution_count": 31,
      "outputs": []
    },
    {
      "cell_type": "code",
      "metadata": {
        "colab": {
          "base_uri": "https://localhost:8080/",
          "height": 194
        },
        "id": "ZlHCrJzErL3d",
        "outputId": "1e36b52a-82eb-4f53-dad4-0b3cbbfe6c8e"
      },
      "source": [
        "if hand_detect_rez.multi_hand_landmarks:\r\n",
        "    for hand_landmarks in hand_detect_rez.multi_hand_landmarks:\r\n",
        "        img, hand_box = draw_hand(frame, hand_landmarks)\r\n",
        "        plt.imshow(img)\r\n",
        "        break"
      ],
      "execution_count": 32,
      "outputs": [
        {
          "output_type": "stream",
          "text": [
            "\tmax_x: 482 min_x: 272 max_y: 197 min_y: 20\n"
          ],
          "name": "stdout"
        },
        {
          "output_type": "display_data",
          "data": {
            "image/png": "[encoded data removed]",
            "text/plain": [
              "<Figure size 432x288 with 1 Axes>"
            ]
          },
          "metadata": {
            "tags": [],
            "needs_background": "light"
          }
        }
      ]
    },
    {
      "cell_type": "code",
      "metadata": {
        "id": "hQ0u0kW7v9qk"
      },
      "source": [
        "# Возвращает изображение ладони\r\n",
        "def get_hand(frame, hand_landmarks):\r\n",
        "    h, w, _ = frame.shape\r\n",
        "    max_x = max_y = 0\r\n",
        "    min_x = min_y = 65535\r\n",
        "    for mark in hand_landmarks.landmark:\r\n",
        "        if mark.x > max_x:\r\n",
        "            max_x = mark.x\r\n",
        "        if mark.x < min_x:\r\n",
        "            min_x = mark.x\r\n",
        "        if mark.y > max_y:\r\n",
        "            max_y = mark.y\r\n",
        "        if mark.y < min_y:\r\n",
        "            min_y = mark.y\r\n",
        "    \r\n",
        "    max_x = round(max_x * w) + 30\r\n",
        "    min_x = round(min_x * w) - 30\r\n",
        "    max_y = round(max_y * h) + 30\r\n",
        "    min_y = round(min_y * h) - 30\r\n",
        "    \r\n",
        "    if min_x < 0:\r\n",
        "        min_x = 0\r\n",
        "    if min_y < 0:\r\n",
        "        min_y = 0\r\n",
        "    if max_x > w:\r\n",
        "        max_x = w\r\n",
        "    if max_y > h:\r\n",
        "        max_y = h\r\n",
        "\r\n",
        "    # print(f\"\\tmax_x: {max_x} min_x: {min_x} max_y: {max_y} min_y: {min_y}\")\r\n",
        "    \r\n",
        "    res = frame[int(min_y):int(max_y), int(min_x):int(max_x)]\r\n",
        "    res = cv2.resize(res, (160, 160), interpolation = cv2.INTER_AREA)\r\n",
        "    return res"
      ],
      "execution_count": 33,
      "outputs": []
    },
    {
      "cell_type": "code",
      "metadata": {
        "colab": {
          "base_uri": "https://localhost:8080/",
          "height": 269
        },
        "id": "u9QFSSP4rL7J",
        "outputId": "8c445619-30be-4c6a-fc1c-0aa41c04022d"
      },
      "source": [
        "hand_detect_rez, frame = hand_detection_mp(file_img[0][0])\r\n",
        "\r\n",
        "if hand_detect_rez.multi_hand_landmarks:\r\n",
        "    for hand_landmarks in hand_detect_rez.multi_hand_landmarks:\r\n",
        "        img = get_hand(frame, hand_landmarks)\r\n",
        "        plt.imshow(img)\r\n",
        "        break"
      ],
      "execution_count": 34,
      "outputs": [
        {
          "output_type": "display_data",
          "data": {
            "image/png": "[encoded data removed]",
            "text/plain": [
              "<Figure size 432x288 with 1 Axes>"
            ]
          },
          "metadata": {
            "tags": [],
            "needs_background": "light"
          }
        }
      ]
    },
    {
      "cell_type": "code",
      "metadata": {
        "colab": {
          "base_uri": "https://localhost:8080/",
          "height": 269
        },
        "id": "UYiGy6bc0IoG",
        "outputId": "74afcbee-9a2a-438d-e4e3-6406b620f47e"
      },
      "source": [
        "hand_detect_rez, frame = hand_detection_mp(file_img[9][0])\r\n",
        "\r\n",
        "if hand_detect_rez.multi_hand_landmarks:\r\n",
        "    for hand_landmarks in hand_detect_rez.multi_hand_landmarks:\r\n",
        "        img = get_hand(frame, hand_landmarks)\r\n",
        "        plt.imshow(img)\r\n",
        "        break"
      ],
      "execution_count": 35,
      "outputs": [
        {
          "output_type": "display_data",
          "data": {
            "image/png": "[encoded data removed]",
            "text/plain": [
              "<Figure size 432x288 with 1 Axes>"
            ]
          },
          "metadata": {
            "tags": [],
            "needs_background": "light"
          }
        }
      ]
    },
    {
      "cell_type": "markdown",
      "metadata": {
        "id": "WI3uaVU4BYjA"
      },
      "source": [
        "## Формирование датасета"
      ]
    },
    {
      "cell_type": "code",
      "metadata": {
        "id": "GeDZp6t-1B06"
      },
      "source": [
        "!mkdir data"
      ],
      "execution_count": 36,
      "outputs": []
    },
    {
      "cell_type": "code",
      "metadata": {
        "colab": {
          "base_uri": "https://localhost:8080/"
        },
        "id": "Fkg0x0W42rk8",
        "outputId": "c91da6a5-35c6-479e-9bc4-e4d7e478e763"
      },
      "source": [
        "!ls -la "
      ],
      "execution_count": 37,
      "outputs": [
        {
          "output_type": "stream",
          "text": [
            "total 2232540\n",
            "drwxr-xr-x  1 root root       4096 Dec 27 18:38 .\n",
            "drwxr-xr-x  1 root root       4096 Dec 27 18:30 ..\n",
            "drwxr-xr-x  1 root root       4096 Dec 21 17:29 .config\n",
            "drwxr-xr-x  2 root root       4096 Dec 27 18:38 data\n",
            "drwxr-xr-x  3 root root       4096 Dec 27 18:37 leapgestrecog\n",
            "drwxr-xr-x 12 root root       4096 Dec 27 18:37 leapGestRecog\n",
            "-rw-r--r--  1 root root 2286085038 Dec 27 18:37 leapgestrecog.zip\n",
            "drwxr-xr-x  1 root root       4096 Dec 21 17:29 sample_data\n"
          ],
          "name": "stdout"
        }
      ]
    },
    {
      "cell_type": "code",
      "metadata": {
        "id": "gPlsdMh-3Gcw"
      },
      "source": [
        "data_path = \"data/\""
      ],
      "execution_count": 38,
      "outputs": []
    },
    {
      "cell_type": "code",
      "metadata": {
        "colab": {
          "base_uri": "https://localhost:8080/"
        },
        "id": "GJsdmHHB2ySg",
        "outputId": "7d630ebb-d1f2-4792-a747-51d8111a6912"
      },
      "source": [
        "for cn in range(10):\r\n",
        "    file_counter[cn] = 0\r\n",
        "file_counter"
      ],
      "execution_count": 39,
      "outputs": [
        {
          "output_type": "execute_result",
          "data": {
            "text/plain": [
              "{0: 0, 1: 0, 2: 0, 3: 0, 4: 0, 5: 0, 6: 0, 7: 0, 8: 0, 9: 0}"
            ]
          },
          "metadata": {
            "tags": []
          },
          "execution_count": 39
        }
      ]
    },
    {
      "cell_type": "code",
      "metadata": {
        "colab": {
          "base_uri": "https://localhost:8080/"
        },
        "id": "PvEc--fR4V8t",
        "outputId": "6aecb587-e6fb-4595-cc15-773665350176"
      },
      "source": [
        "pip install progressbar2"
      ],
      "execution_count": 40,
      "outputs": [
        {
          "output_type": "stream",
          "text": [
            "Requirement already satisfied: progressbar2 in /usr/local/lib/python3.6/dist-packages (3.38.0)\n",
            "Requirement already satisfied: six in /usr/local/lib/python3.6/dist-packages (from progressbar2) (1.15.0)\n",
            "Requirement already satisfied: python-utils>=2.3.0 in /usr/local/lib/python3.6/dist-packages (from progressbar2) (2.4.0)\n"
          ],
          "name": "stdout"
        }
      ]
    },
    {
      "cell_type": "code",
      "metadata": {
        "id": "AvOmMPem4O_m"
      },
      "source": [
        "import tqdm"
      ],
      "execution_count": 41,
      "outputs": []
    },
    {
      "cell_type": "code",
      "metadata": {
        "colab": {
          "base_uri": "https://localhost:8080/"
        },
        "id": "IfnPrDJY_LPj",
        "outputId": "9e3793db-b51d-4207-ce25-4ac362a96f67"
      },
      "source": [
        "for img in file_img[0]:\r\n",
        "    print(img)\r\n",
        "    print(data_path + img[-20:])   # + img[16:19]\r\n",
        "    break"
      ],
      "execution_count": 42,
      "outputs": [
        {
          "output_type": "stream",
          "text": [
            "./leapGestRecog/05/01_palm/frame_05_01_0130.png\n",
            "data/frame_05_01_0130.png\n"
          ],
          "name": "stdout"
        }
      ]
    },
    {
      "cell_type": "code",
      "metadata": {
        "colab": {
          "base_uri": "https://localhost:8080/"
        },
        "id": "r_s841kWKiJM",
        "outputId": "b863fcb2-f8ce-4d53-f3f1-0f72f846e17d"
      },
      "source": [
        "for cn in range(10):\r\n",
        "    have_cn_inmg = False\r\n",
        "    for img in file_img[cn]:\r\n",
        "        hand_detect_rez, frame = hand_detection_mp(img)\r\n",
        "        if hand_detect_rez.multi_hand_landmarks:\r\n",
        "            for hand_landmarks in hand_detect_rez.multi_hand_landmarks:\r\n",
        "                image = get_hand(frame, hand_landmarks)\r\n",
        "                path = data_path + img[-20:]   # + img[16:19]\r\n",
        "                cv2.imwrite(path, image)\r\n",
        "                file_counter[cn] += 1\r\n",
        "                print(path)\r\n",
        "                break\r\n",
        "        break\r\n",
        "    break"
      ],
      "execution_count": 43,
      "outputs": [
        {
          "output_type": "stream",
          "text": [
            "data/frame_05_01_0130.png\n"
          ],
          "name": "stdout"
        }
      ]
    },
    {
      "cell_type": "code",
      "metadata": {
        "colab": {
          "base_uri": "https://localhost:8080/"
        },
        "id": "rmdpoqEBkbmy",
        "outputId": "ad29e678-f8d5-43b9-a4de-64118c8d1423"
      },
      "source": [
        "images_data = []\r\n",
        "labels = []\r\n",
        "images_for_vis = []\r\n",
        "\r\n",
        "pbar = tqdm.tqdm(total=20000)\r\n",
        "for cn in range(10):\r\n",
        "    have_cn_inmg = False\r\n",
        "    for img in file_img[cn]:\r\n",
        "        hand_detect_rez, frame = hand_detection_mp(img)\r\n",
        "        if hand_detect_rez.multi_hand_landmarks:\r\n",
        "            for hand_landmarks in hand_detect_rez.multi_hand_landmarks:\r\n",
        "                image = get_hand(frame, hand_landmarks)\r\n",
        "                path = data_path + img[-20:]   # + img[16:19]\r\n",
        "                cv2.imwrite(path, image)\r\n",
        "                file_counter[cn] += 1\r\n",
        "                images_data.append(path)\r\n",
        "                labels.append(cn)\r\n",
        "                if not have_cn_inmg:\r\n",
        "                    images_for_vis.append(path)\r\n",
        "                    have_cn_inmg = True\r\n",
        "                break\r\n",
        "        pbar.update(1)\r\n",
        "pbar.close()\r\n",
        "file_counter"
      ],
      "execution_count": 44,
      "outputs": [
        {
          "output_type": "stream",
          "text": [
            "100%|██████████| 20000/20000 [06:59<00:00, 47.73it/s]\n"
          ],
          "name": "stderr"
        },
        {
          "output_type": "execute_result",
          "data": {
            "text/plain": [
              "{0: 1973,\n",
              " 1: 1135,\n",
              " 2: 1201,\n",
              " 3: 1182,\n",
              " 4: 1248,\n",
              " 5: 1062,\n",
              " 6: 1841,\n",
              " 7: 801,\n",
              " 8: 996,\n",
              " 9: 1797}"
            ]
          },
          "metadata": {
            "tags": []
          },
          "execution_count": 44
        }
      ]
    },
    {
      "cell_type": "code",
      "metadata": {
        "colab": {
          "base_uri": "https://localhost:8080/"
        },
        "id": "njOlg7pTgSXd",
        "outputId": "36919377-9e8e-4cd1-f157-7546c12c4f08"
      },
      "source": [
        "len(images_data), len(labels)"
      ],
      "execution_count": 45,
      "outputs": [
        {
          "output_type": "execute_result",
          "data": {
            "text/plain": [
              "(13235, 13235)"
            ]
          },
          "metadata": {
            "tags": []
          },
          "execution_count": 45
        }
      ]
    },
    {
      "cell_type": "code",
      "metadata": {
        "colab": {
          "base_uri": "https://localhost:8080/"
        },
        "id": "1-Uv8wAKf9S-",
        "outputId": "c3c8c7f5-c1a6-4845-d88e-4ced53ce0e42"
      },
      "source": [
        "images_for_vis"
      ],
      "execution_count": 46,
      "outputs": [
        {
          "output_type": "execute_result",
          "data": {
            "text/plain": [
              "['data/frame_05_01_0130.png',\n",
              " 'data/frame_05_02_0127.png',\n",
              " 'data/frame_05_03_0028.png',\n",
              " 'data/frame_05_04_0049.png',\n",
              " 'data/frame_05_05_0079.png',\n",
              " 'data/frame_05_06_0129.png',\n",
              " 'data/frame_05_07_0053.png',\n",
              " 'data/frame_05_08_0120.png',\n",
              " 'data/frame_05_09_0101.png',\n",
              " 'data/frame_05_10_0094.png']"
            ]
          },
          "metadata": {
            "tags": []
          },
          "execution_count": 46
        }
      ]
    },
    {
      "cell_type": "code",
      "metadata": {
        "colab": {
          "base_uri": "https://localhost:8080/",
          "height": 223
        },
        "id": "iamX_aIfcdLF",
        "outputId": "dafea028-afc7-405e-9679-3966f8222213"
      },
      "source": [
        "# plt.figure(figsize=(10,10))\r\n",
        "for ind in range(10):\r\n",
        "    ax = plt.subplot(2,5,ind+1)\r\n",
        "\r\n",
        "    img = Image.open(images_for_vis[ind])\r\n",
        "    # hand_detect_rez, frame = hand_detection_mp(images_for_vis[ind])\r\n",
        "    # if hand_detect_rez.multi_hand_landmarks:\r\n",
        "    #     for hand_landmarks in hand_detect_rez.multi_hand_landmarks:\r\n",
        "    #         img = get_hand(frame, hand_landmarks)\r\n",
        "    #         break\r\n",
        "\r\n",
        "    plt.imshow(img)\r\n",
        "    plt.title(class_names[ind])\r\n",
        "    plt.axis('off')"
      ],
      "execution_count": 47,
      "outputs": [
        {
          "output_type": "display_data",
          "data": {
            "image/png": "[encoded data removed]",
            "text/plain": [
              "<Figure size 432x288 with 10 Axes>"
            ]
          },
          "metadata": {
            "tags": [],
            "needs_background": "light"
          }
        }
      ]
    },
    {
      "cell_type": "code",
      "metadata": {
        "id": "hH9gouON3o-T",
        "colab": {
          "base_uri": "https://localhost:8080/"
        },
        "outputId": "1443b368-8931-472c-b905-ed6e1a42bf00"
      },
      "source": [
        "labels[0], labels[-1]"
      ],
      "execution_count": 48,
      "outputs": [
        {
          "output_type": "execute_result",
          "data": {
            "text/plain": [
              "(0, 9)"
            ]
          },
          "metadata": {
            "tags": []
          },
          "execution_count": 48
        }
      ]
    },
    {
      "cell_type": "code",
      "metadata": {
        "id": "WDIHDc4_dXLU"
      },
      "source": [
        "import pandas as pd"
      ],
      "execution_count": 49,
      "outputs": []
    },
    {
      "cell_type": "code",
      "metadata": {
        "colab": {
          "base_uri": "https://localhost:8080/",
          "height": 204
        },
        "id": "Osv_FA8xdXOV",
        "outputId": "489e1d86-3839-4f5a-ef55-f795716c1e82"
      },
      "source": [
        "data = pd.DataFrame({'images': images_data, 'labels': labels})\r\n",
        "data.reset_index(drop=True, inplace=True)\r\n",
        "data.head()"
      ],
      "execution_count": 50,
      "outputs": [
        {
          "output_type": "execute_result",
          "data": {
            "text/html": [
              "<div>\n",
              "<style scoped>\n",
              "    .dataframe tbody tr th:only-of-type {\n",
              "        vertical-align: middle;\n",
              "    }\n",
              "\n",
              "    .dataframe tbody tr th {\n",
              "        vertical-align: top;\n",
              "    }\n",
              "\n",
              "    .dataframe thead th {\n",
              "        text-align: right;\n",
              "    }\n",
              "</style>\n",
              "<table border=\"1\" class=\"dataframe\">\n",
              "  <thead>\n",
              "    <tr style=\"text-align: right;\">\n",
              "      <th></th>\n",
              "      <th>images</th>\n",
              "      <th>labels</th>\n",
              "    </tr>\n",
              "  </thead>\n",
              "  <tbody>\n",
              "    <tr>\n",
              "      <th>0</th>\n",
              "      <td>data/frame_05_01_0130.png</td>\n",
              "      <td>0</td>\n",
              "    </tr>\n",
              "    <tr>\n",
              "      <th>1</th>\n",
              "      <td>data/frame_05_01_0087.png</td>\n",
              "      <td>0</td>\n",
              "    </tr>\n",
              "    <tr>\n",
              "      <th>2</th>\n",
              "      <td>data/frame_05_01_0185.png</td>\n",
              "      <td>0</td>\n",
              "    </tr>\n",
              "    <tr>\n",
              "      <th>3</th>\n",
              "      <td>data/frame_05_01_0116.png</td>\n",
              "      <td>0</td>\n",
              "    </tr>\n",
              "    <tr>\n",
              "      <th>4</th>\n",
              "      <td>data/frame_05_01_0049.png</td>\n",
              "      <td>0</td>\n",
              "    </tr>\n",
              "  </tbody>\n",
              "</table>\n",
              "</div>"
            ],
            "text/plain": [
              "                      images  labels\n",
              "0  data/frame_05_01_0130.png       0\n",
              "1  data/frame_05_01_0087.png       0\n",
              "2  data/frame_05_01_0185.png       0\n",
              "3  data/frame_05_01_0116.png       0\n",
              "4  data/frame_05_01_0049.png       0"
            ]
          },
          "metadata": {
            "tags": []
          },
          "execution_count": 50
        }
      ]
    },
    {
      "cell_type": "code",
      "metadata": {
        "colab": {
          "base_uri": "https://localhost:8080/",
          "height": 204
        },
        "id": "bI4vwFs7dXR3",
        "outputId": "1fb5dd67-0c7d-4308-ee16-8ad504ac7cb7"
      },
      "source": [
        "data.tail()"
      ],
      "execution_count": 51,
      "outputs": [
        {
          "output_type": "execute_result",
          "data": {
            "text/html": [
              "<div>\n",
              "<style scoped>\n",
              "    .dataframe tbody tr th:only-of-type {\n",
              "        vertical-align: middle;\n",
              "    }\n",
              "\n",
              "    .dataframe tbody tr th {\n",
              "        vertical-align: top;\n",
              "    }\n",
              "\n",
              "    .dataframe thead th {\n",
              "        text-align: right;\n",
              "    }\n",
              "</style>\n",
              "<table border=\"1\" class=\"dataframe\">\n",
              "  <thead>\n",
              "    <tr style=\"text-align: right;\">\n",
              "      <th></th>\n",
              "      <th>images</th>\n",
              "      <th>labels</th>\n",
              "    </tr>\n",
              "  </thead>\n",
              "  <tbody>\n",
              "    <tr>\n",
              "      <th>13230</th>\n",
              "      <td>data/frame_08_10_0080.png</td>\n",
              "      <td>9</td>\n",
              "    </tr>\n",
              "    <tr>\n",
              "      <th>13231</th>\n",
              "      <td>data/frame_08_10_0194.png</td>\n",
              "      <td>9</td>\n",
              "    </tr>\n",
              "    <tr>\n",
              "      <th>13232</th>\n",
              "      <td>data/frame_08_10_0054.png</td>\n",
              "      <td>9</td>\n",
              "    </tr>\n",
              "    <tr>\n",
              "      <th>13233</th>\n",
              "      <td>data/frame_08_10_0108.png</td>\n",
              "      <td>9</td>\n",
              "    </tr>\n",
              "    <tr>\n",
              "      <th>13234</th>\n",
              "      <td>data/frame_08_10_0038.png</td>\n",
              "      <td>9</td>\n",
              "    </tr>\n",
              "  </tbody>\n",
              "</table>\n",
              "</div>"
            ],
            "text/plain": [
              "                          images  labels\n",
              "13230  data/frame_08_10_0080.png       9\n",
              "13231  data/frame_08_10_0194.png       9\n",
              "13232  data/frame_08_10_0054.png       9\n",
              "13233  data/frame_08_10_0108.png       9\n",
              "13234  data/frame_08_10_0038.png       9"
            ]
          },
          "metadata": {
            "tags": []
          },
          "execution_count": 51
        }
      ]
    },
    {
      "cell_type": "code",
      "metadata": {
        "id": "Mw02Qzew4mJW",
        "colab": {
          "base_uri": "https://localhost:8080/"
        },
        "outputId": "dd3accb8-826c-47a5-f96b-2a06d2dc7549"
      },
      "source": [
        "data.info()"
      ],
      "execution_count": 52,
      "outputs": [
        {
          "output_type": "stream",
          "text": [
            "<class 'pandas.core.frame.DataFrame'>\n",
            "RangeIndex: 13235 entries, 0 to 13234\n",
            "Data columns (total 2 columns):\n",
            " #   Column  Non-Null Count  Dtype \n",
            "---  ------  --------------  ----- \n",
            " 0   images  13235 non-null  object\n",
            " 1   labels  13235 non-null  int64 \n",
            "dtypes: int64(1), object(1)\n",
            "memory usage: 206.9+ KB\n"
          ],
          "name": "stdout"
        }
      ]
    },
    {
      "cell_type": "code",
      "metadata": {
        "id": "NdEakXBJob9w"
      },
      "source": [
        "from torch.utils.data import Dataset, DataLoader\r\n",
        "import torch\r\n",
        "import torch.nn as nn\r\n",
        "from torch.nn import functional as F"
      ],
      "execution_count": 53,
      "outputs": []
    },
    {
      "cell_type": "code",
      "metadata": {
        "id": "3sQNLnAzouj3"
      },
      "source": [
        "class CustomDatasetFromImages(Dataset):\r\n",
        "    def __init__(self, data_info):\r\n",
        "        # Подаем наш подготовленный датафрейм\r\n",
        "        self.data_info = data_info\r\n",
        "        \r\n",
        "        self.image_arr = self.data_info.iloc[:,0]\r\n",
        "        self.label_arr = self.data_info.iloc[:,1]\r\n",
        "        \r\n",
        "        # Количество пар картинка-сегментация\r\n",
        "        self.data_len = len(self.data_info.index)\r\n",
        "\r\n",
        "    def __getitem__(self, index):\r\n",
        "        # Читаем картинку\r\n",
        "        img = np.asarray(Image.open(self.image_arr[index]))\r\n",
        "\r\n",
        "        # hand_detect_rez, frame = hand_detection_mp(self.image_arr[index])\r\n",
        "        # if hand_detect_rez.multi_hand_landmarks:\r\n",
        "        #     for hand_landmarks in hand_detect_rez.multi_hand_landmarks:\r\n",
        "        #         img = get_hand(frame, hand_landmarks)\r\n",
        "        #         break\r\n",
        "\r\n",
        "        # размер 160х160\r\n",
        "        # Нормализуем изображение в значениях [0, 1]\r\n",
        "        img = torch.from_numpy(img)/255   # img = torch.FloatTensor(img)\r\n",
        "        \r\n",
        "        img = img[:, :, 0]\r\n",
        "        img = img.unsqueeze(0)  #.permute(2, 0, 1)   # img = img.unsqueeze(0).permute(0,3,1,2)\r\n",
        "               \r\n",
        "        return (img, self.label_arr[index])\r\n",
        "\r\n",
        "    def __len__(self):\r\n",
        "        return self.data_len"
      ],
      "execution_count": 54,
      "outputs": []
    },
    {
      "cell_type": "code",
      "metadata": {
        "id": "uB0E95dOvTHM"
      },
      "source": [
        "from sklearn.model_selection import train_test_split"
      ],
      "execution_count": 55,
      "outputs": []
    },
    {
      "cell_type": "code",
      "metadata": {
        "id": "2d41M_xSr53z"
      },
      "source": [
        "# 80 % в тренировочную выборку, 20 - в валидационную\r\n",
        "X_train, X_valid = train_test_split(data, test_size=0.2)\r\n",
        "\r\n",
        "# Упорядочиваем индексацию\r\n",
        "X_train.reset_index(drop=True, inplace=True)\r\n",
        "X_valid.reset_index(drop=True, inplace=True)\r\n",
        "\r\n",
        "# Оборачиваем каждую выборку в наш кастомный датасет\r\n",
        "train_data = CustomDatasetFromImages(X_train)   # [:300])\r\n",
        "valid_data = CustomDatasetFromImages(X_valid)   # [:300])"
      ],
      "execution_count": 56,
      "outputs": []
    },
    {
      "cell_type": "code",
      "metadata": {
        "id": "FxkNt8zvr57z"
      },
      "source": [
        "batch_s = 64\r\n",
        "\r\n",
        "train_data_loader = DataLoader(train_data, batch_size=batch_s, shuffle=True)\r\n",
        "valid_data_loader = DataLoader(valid_data, batch_size=batch_s, shuffle=True)"
      ],
      "execution_count": 57,
      "outputs": []
    },
    {
      "cell_type": "code",
      "metadata": {
        "colab": {
          "base_uri": "https://localhost:8080/"
        },
        "id": "S0fa6GZNr5_C",
        "outputId": "844193b5-b732-4fa8-f7df-efe933974e4d"
      },
      "source": [
        "data_iter = iter(valid_data_loader)\r\n",
        "# [data_iter.next() for i in range(5)]\r\n",
        "\r\n",
        "images, labels = data_iter.next()\r\n",
        "\r\n",
        "images.shape, labels"
      ],
      "execution_count": 58,
      "outputs": [
        {
          "output_type": "stream",
          "text": [
            "/usr/local/lib/python3.6/dist-packages/ipykernel_launcher.py:24: UserWarning: The given NumPy array is not writeable, and PyTorch does not support non-writeable tensors. This means you can write to the underlying (supposedly non-writeable) NumPy array using the tensor. You may want to copy the array to protect its data or make it writeable before converting it to a tensor. This type of warning will be suppressed for the rest of this program. (Triggered internally at  /pytorch/torch/csrc/utils/tensor_numpy.cpp:141.)\n"
          ],
          "name": "stderr"
        },
        {
          "output_type": "execute_result",
          "data": {
            "text/plain": [
              "(torch.Size([64, 1, 160, 160]),\n",
              " tensor([4, 9, 6, 7, 1, 8, 1, 8, 0, 6, 6, 0, 5, 0, 5, 6, 1, 3, 4, 6, 3, 1, 3, 2,\n",
              "         9, 8, 3, 9, 2, 3, 6, 4, 5, 9, 6, 5, 3, 2, 1, 8, 6, 2, 0, 2, 9, 1, 5, 7,\n",
              "         2, 2, 1, 2, 8, 2, 0, 8, 7, 6, 8, 3, 9, 8, 0, 2]))"
            ]
          },
          "metadata": {
            "tags": []
          },
          "execution_count": 58
        }
      ]
    },
    {
      "cell_type": "code",
      "metadata": {
        "colab": {
          "base_uri": "https://localhost:8080/",
          "height": 677
        },
        "id": "hMY0_UDMwsZ7",
        "outputId": "d908d302-2f35-46fa-98e4-6c0263edea62"
      },
      "source": [
        "plt.figure(figsize=(8,12))\r\n",
        "for ind in range(batch_s):\r\n",
        "    ax = plt.subplot(8,8,ind+1)\r\n",
        "    \r\n",
        "    plt.imshow(cv2.cvtColor(images[ind, 0, :, :].numpy(), cv2.COLOR_GRAY2RGB))\r\n",
        "    plt.title(class_names[int(labels[ind])])\r\n",
        "    plt.axis('off')"
      ],
      "execution_count": 59,
      "outputs": [
        {
          "output_type": "display_data",
          "data": {
            "image/png": "[encoded data removed]",
            "text/plain": [
              "<Figure size 576x864 with 64 Axes>"
            ]
          },
          "metadata": {
            "tags": [],
            "needs_background": "light"
          }
        }
      ]
    },
    {
      "cell_type": "markdown",
      "metadata": {
        "id": "MH93BunJr6vg"
      },
      "source": [
        "## Базовая модель"
      ]
    },
    {
      "cell_type": "code",
      "metadata": {
        "colab": {
          "base_uri": "https://localhost:8080/"
        },
        "id": "kxZUW7F3r6Bl",
        "outputId": "40b4eabe-a2b6-4fbc-a373-366c0e1f5ffa"
      },
      "source": [
        "device = torch.device('cuda') if torch.cuda.is_available() else torch.device('cpu')\r\n",
        "print(device)"
      ],
      "execution_count": 60,
      "outputs": [
        {
          "output_type": "stream",
          "text": [
            "cuda\n"
          ],
          "name": "stdout"
        }
      ]
    },
    {
      "cell_type": "code",
      "metadata": {
        "id": "wkhZziCDaUNI"
      },
      "source": [
        "import time"
      ],
      "execution_count": 61,
      "outputs": []
    },
    {
      "cell_type": "code",
      "metadata": {
        "id": "dyzV1mTSvLBu"
      },
      "source": [
        "class HPSearchNET(nn.Module):\r\n",
        "    \r\n",
        "    def __init__(self, \r\n",
        "                 cnn_num=3, \r\n",
        "                 fc_num=3, \r\n",
        "                 cnn_filt_num=16, \r\n",
        "                 kern_size=3, \r\n",
        "                 func_act='relu', \r\n",
        "                 in_shape=160,\r\n",
        "                #  batch=64, \r\n",
        "                 nn_prn=False):\r\n",
        "        super(HPSearchNET, self).__init__()\r\n",
        "\r\n",
        "        self.in_size = 1\r\n",
        "        self.cnn_num = cnn_num\r\n",
        "        self.fc_num = fc_num\r\n",
        "        self.cnn_filt_num = cnn_filt_num\r\n",
        "        self.kern_size = kern_size\r\n",
        "        self.func_act = func_act\r\n",
        "        self.fs_size = 0\r\n",
        "        self.in_shape = in_shape\r\n",
        "        # self.batch = batch\r\n",
        "        self.nn_prn = nn_prn\r\n",
        "        \r\n",
        "        if kern_size == 3:\r\n",
        "            padd = (1, 1)\r\n",
        "        if kern_size == 5:\r\n",
        "            padd = (2, 2)\r\n",
        "        \r\n",
        "        if func_act == 'relu':\r\n",
        "            self.str_f_act = nn.ReLU()\r\n",
        "        else:\r\n",
        "            self.str_f_act = nn.ELU()\r\n",
        "        self.sftmx = nn.Softmax(dim = 1)\r\n",
        "\r\n",
        "        self.conv1 = nn.Conv2d(self.in_size, \r\n",
        "                               self.cnn_filt_num, \r\n",
        "                               kernel_size=self.kern_size, \r\n",
        "                               stride=1, \r\n",
        "                               padding=padd)\r\n",
        "        self.pool = nn.MaxPool2d(2, 2)\r\n",
        "        if self.cnn_num > 1:\r\n",
        "            self.conv2 = nn.Conv2d(self.cnn_filt_num, \r\n",
        "                                   self.cnn_filt_num*2, \r\n",
        "                                   kernel_size=self.kern_size, \r\n",
        "                                   stride=1, \r\n",
        "                                   padding=padd)\r\n",
        "            self.cnn_filt_num *= 2\r\n",
        "            if self.cnn_num > 2:\r\n",
        "                self.conv3 = nn.Conv2d(self.cnn_filt_num, \r\n",
        "                                       self.cnn_filt_num*2, \r\n",
        "                                       kernel_size=self.kern_size, \r\n",
        "                                       stride=1, \r\n",
        "                                       padding=padd)\r\n",
        "                self.cnn_filt_num *= 2\r\n",
        "        \r\n",
        "        self.fs_size = self.cnn_filt_num * (self.in_shape//2**self.cnn_num) ** 2\r\n",
        "        fs_sz = self.fs_size\r\n",
        "        \r\n",
        "        if self.fc_num > 2:\r\n",
        "            self.fc_dec2 = nn.Linear(fs_sz, fs_sz//4)   # fs_sz*3//4\r\n",
        "            fs_sz=fs_sz//4   #*3//4\r\n",
        "        if self.fc_num > 1:\r\n",
        "            self.fc_dec1 = nn.Linear(fs_sz, fs_sz//4)   # fs_sz*3//4\r\n",
        "            fs_sz=fs_sz//4   # *3//4\r\n",
        "        self.fc_out = nn.Linear(fs_sz, 10)\r\n",
        "\r\n",
        "    def forward(self, x):\r\n",
        "        if self.nn_prn:\r\n",
        "            print(\"\\n\\tX размеры income: %s\" % (x.shape,))\r\n",
        "        x = self.pool(self.str_f_act(self.conv1(x)))\r\n",
        "        if self.nn_prn:\r\n",
        "            print(\"\\tX размеры conv1, pool: %s\" % (x.shape,))\r\n",
        "        if self.cnn_num > 1:\r\n",
        "            x = self.pool(self.str_f_act(self.conv2(x)))\r\n",
        "            if self.nn_prn:\r\n",
        "                print(\"\\tX размеры conv2, pool: %s\" % (x.shape,))\r\n",
        "            if self.cnn_num > 2:\r\n",
        "                x = self.pool(self.str_f_act(self.conv3(x)))\r\n",
        "                if self.nn_prn:\r\n",
        "                    print(\"\\tX размеры conv3, pool: %s\" % (x.shape,))\r\n",
        "        x = x.view(-1, self.fs_size)\r\n",
        "        if self.nn_prn:\r\n",
        "            print(\"\\tX размеры x.view: %s\" % (x.shape,))\r\n",
        "        if self.fc_num > 2:\r\n",
        "            x = self.str_f_act(self.fc_dec2(x))\r\n",
        "            if self.nn_prn:\r\n",
        "                print(\"\\tX размеры fc_dec2: %s\" % (x.shape,))\r\n",
        "        if self.fc_num > 1:\r\n",
        "            x = self.str_f_act(self.fc_dec1(x))\r\n",
        "            if self.nn_prn:\r\n",
        "                print(\"\\tX размеры fc_dec1: %s\" % (x.shape,))\r\n",
        "        x = self.sftmx(self.fc_out(x))\r\n",
        "        if self.nn_prn:\r\n",
        "            print(\"\\tX размеры fc_out: %s\\n\" % (x.shape,))\r\n",
        "            self.nn_prn = False\r\n",
        "        return x"
      ],
      "execution_count": 62,
      "outputs": []
    },
    {
      "cell_type": "code",
      "metadata": {
        "id": "i2hSw1KoPk_J"
      },
      "source": [
        "model = HPSearchNET(nn_prn=True).to(device)\r\n",
        "criterion = nn.CrossEntropyLoss()\r\n",
        "optimizer = torch.optim.SGD(model.parameters(), lr=0.01, momentum=0.9)"
      ],
      "execution_count": null,
      "outputs": []
    },
    {
      "cell_type": "code",
      "metadata": {
        "id": "8-Fv6FV1Z9q4"
      },
      "source": [
        "epochs = 10"
      ],
      "execution_count": null,
      "outputs": []
    },
    {
      "cell_type": "code",
      "metadata": {
        "id": "b2nbQO2FPnYu"
      },
      "source": [
        "path_checkpoint = \"checkpoints\"\r\n",
        "if not os.path.exists(path_checkpoint):\r\n",
        "    os.mkdir(path_checkpoint)"
      ],
      "execution_count": null,
      "outputs": []
    },
    {
      "cell_type": "code",
      "metadata": {
        "colab": {
          "base_uri": "https://localhost:8080/"
        },
        "id": "AVZKrQrAX9gW",
        "outputId": "4128a60c-34a0-4863-a731-26a8e522bc48"
      },
      "source": [
        "epoch_losses = []\r\n",
        "epoch_val_losses = []\r\n",
        "\r\n",
        "for epoch in range(epochs):  # loop over the dataset multiple times\r\n",
        "    running_loss = 0.0\r\n",
        "    cum_loss = []\r\n",
        "\r\n",
        "    print(f'Epoch: {epoch+1}')\r\n",
        "    time1 = time.time()\r\n",
        "    model.train()\r\n",
        "    for i, data in enumerate(train_data_loader, 0):\r\n",
        "        # get the inputs; data is a list of [inputs, labels]\r\n",
        "        inputs, labels = data\r\n",
        "        inputs = inputs.to(device) # .cuda()\r\n",
        "        labels = labels.to(device) # .cuda()\r\n",
        "\r\n",
        "        # zero the parameter gradients\r\n",
        "        optimizer.zero_grad()\r\n",
        "\r\n",
        "        # forward + backward + optimize\r\n",
        "        outputs = model(inputs)\r\n",
        "        loss = criterion(outputs, labels)\r\n",
        "        loss.backward()\r\n",
        "        optimizer.step()\r\n",
        "\r\n",
        "        # print statistics\r\n",
        "        running_loss += loss.item()\r\n",
        "        cum_loss.append(loss.item())\r\n",
        "        bundle = 20\r\n",
        "        if not (i+1) % bundle:    # print every 10 mini-batches\r\n",
        "            print(f'\\tbatchcount: {i+1}, size: {batch_s*bundle} '\r\n",
        "                  f'total: {(i+1)*batch_s} '\r\n",
        "                  f'loss: {running_loss/(batch_s*bundle):.5f}')\r\n",
        "            running_loss = 0.0\r\n",
        "\r\n",
        "    time2 = time.time()\r\n",
        "    epoch_losses.append(np.mean(cum_loss))\r\n",
        "    torch.save(model.state_dict(), path_checkpoint + f\"/checkpoint_ep_{epoch}.pth\")\r\n",
        "\r\n",
        "    cum_loss = []\r\n",
        "    model.eval()\r\n",
        "    with torch.no_grad():\r\n",
        "        running_val_loss = 0.0\r\n",
        "        for i, data in enumerate(valid_data_loader, 0):\r\n",
        "            inputs, labels = data\r\n",
        "            inputs = inputs.to(device) # .cuda()\r\n",
        "            labels = labels.to(device) # .cuda()\r\n",
        "\r\n",
        "            outputs = model(inputs)\r\n",
        "            loss = criterion(outputs, labels)\r\n",
        "\r\n",
        "            running_val_loss += loss.item()\r\n",
        "            cum_loss.append(loss.item())\r\n",
        "\r\n",
        "    epoch_val_losses.append(np.mean(cum_loss))\r\n",
        "    print(f'\\n  Epoch {epoch+1}, loss: {epoch_losses[-1]:.5f} loss_val: {epoch_val_losses[-1]:.5f} time = {time2-time1:.2f} sec\\n')"
      ],
      "execution_count": null,
      "outputs": [
        {
          "output_type": "stream",
          "text": [
            "Epoch: 1\n",
            "X размеры income: torch.Size([64, 1, 160, 160])\n",
            "\n",
            "X размеры conv1, pool: torch.Size([64, 16, 80, 80])\n",
            "\n",
            "X размеры conv2, pool: torch.Size([64, 32, 40, 40])\n",
            "\n",
            "X размеры conv3, pool: torch.Size([64, 64, 20, 20])\n",
            "\n",
            "X размеры x.view: torch.Size([64, 25600])\n",
            "\n",
            "X размеры fc_dec2: torch.Size([64, 6400])\n",
            "\n",
            "X размеры fc_dec1: torch.Size([64, 1600])\n",
            "\n",
            "X размеры fc_out: torch.Size([64, 10])\n",
            "\n",
            "\tbatchcount: 20, size: 1280 total: 1280 loss: 0.03597\n",
            "\tbatchcount: 40, size: 1280 total: 2560 loss: 0.03596\n",
            "\tbatchcount: 60, size: 1280 total: 3840 loss: 0.03595\n",
            "\tbatchcount: 80, size: 1280 total: 5120 loss: 0.03593\n",
            "\tbatchcount: 100, size: 1280 total: 6400 loss: 0.03592\n",
            "\tbatchcount: 120, size: 1280 total: 7680 loss: 0.03589\n",
            "\tbatchcount: 140, size: 1280 total: 8960 loss: 0.03580\n",
            "\tbatchcount: 160, size: 1280 total: 10240 loss: 0.03559\n",
            "\n",
            "  Epoch 1, loss: 2.29450 loss_val: 2.26584 time = 25.37 sec\n",
            "\n",
            "Epoch: 2\n",
            "\tbatchcount: 20, size: 1280 total: 1280 loss: 0.03512\n",
            "\tbatchcount: 40, size: 1280 total: 2560 loss: 0.03392\n",
            "\tbatchcount: 60, size: 1280 total: 3840 loss: 0.03269\n",
            "\tbatchcount: 80, size: 1280 total: 5120 loss: 0.03192\n",
            "\tbatchcount: 100, size: 1280 total: 6400 loss: 0.03061\n",
            "\tbatchcount: 120, size: 1280 total: 7680 loss: 0.02934\n",
            "\tbatchcount: 140, size: 1280 total: 8960 loss: 0.02869\n",
            "\tbatchcount: 160, size: 1280 total: 10240 loss: 0.02788\n",
            "\n",
            "  Epoch 2, loss: 1.99360 loss_val: 1.72611 time = 25.84 sec\n",
            "\n",
            "Epoch: 3\n",
            "\tbatchcount: 20, size: 1280 total: 1280 loss: 0.02701\n",
            "\tbatchcount: 40, size: 1280 total: 2560 loss: 0.02675\n",
            "\tbatchcount: 60, size: 1280 total: 3840 loss: 0.02651\n",
            "\tbatchcount: 80, size: 1280 total: 5120 loss: 0.02654\n",
            "\tbatchcount: 100, size: 1280 total: 6400 loss: 0.02657\n",
            "\tbatchcount: 120, size: 1280 total: 7680 loss: 0.02707\n",
            "\tbatchcount: 140, size: 1280 total: 8960 loss: 0.02736\n",
            "\tbatchcount: 160, size: 1280 total: 10240 loss: 0.02711\n",
            "\n",
            "  Epoch 3, loss: 1.71938 loss_val: 1.71791 time = 25.84 sec\n",
            "\n",
            "Epoch: 4\n",
            "\tbatchcount: 20, size: 1280 total: 1280 loss: 0.02689\n",
            "\tbatchcount: 40, size: 1280 total: 2560 loss: 0.02661\n",
            "\tbatchcount: 60, size: 1280 total: 3840 loss: 0.02664\n",
            "\tbatchcount: 80, size: 1280 total: 5120 loss: 0.02645\n",
            "\tbatchcount: 100, size: 1280 total: 6400 loss: 0.02616\n",
            "\tbatchcount: 120, size: 1280 total: 7680 loss: 0.02611\n",
            "\tbatchcount: 140, size: 1280 total: 8960 loss: 0.02575\n",
            "\tbatchcount: 160, size: 1280 total: 10240 loss: 0.02580\n",
            "\n",
            "  Epoch 4, loss: 1.68176 loss_val: 1.66589 time = 25.86 sec\n",
            "\n",
            "Epoch: 5\n",
            "\tbatchcount: 20, size: 1280 total: 1280 loss: 0.02601\n",
            "\tbatchcount: 40, size: 1280 total: 2560 loss: 0.02588\n",
            "\tbatchcount: 60, size: 1280 total: 3840 loss: 0.02574\n",
            "\tbatchcount: 80, size: 1280 total: 5120 loss: 0.02576\n",
            "\tbatchcount: 100, size: 1280 total: 6400 loss: 0.02610\n",
            "\tbatchcount: 120, size: 1280 total: 7680 loss: 0.02600\n",
            "\tbatchcount: 140, size: 1280 total: 8960 loss: 0.02601\n",
            "\tbatchcount: 160, size: 1280 total: 10240 loss: 0.02597\n",
            "\n",
            "  Epoch 5, loss: 1.65961 loss_val: 1.65432 time = 25.95 sec\n",
            "\n",
            "Epoch: 6\n",
            "\tbatchcount: 20, size: 1280 total: 1280 loss: 0.02600\n",
            "\tbatchcount: 40, size: 1280 total: 2560 loss: 0.02572\n",
            "\tbatchcount: 60, size: 1280 total: 3840 loss: 0.02562\n",
            "\tbatchcount: 80, size: 1280 total: 5120 loss: 0.02597\n",
            "\tbatchcount: 100, size: 1280 total: 6400 loss: 0.02580\n",
            "\tbatchcount: 120, size: 1280 total: 7680 loss: 0.02593\n",
            "\tbatchcount: 140, size: 1280 total: 8960 loss: 0.02587\n",
            "\tbatchcount: 160, size: 1280 total: 10240 loss: 0.02567\n",
            "\n",
            "  Epoch 6, loss: 1.65182 loss_val: 1.65124 time = 25.94 sec\n",
            "\n",
            "Epoch: 7\n",
            "\tbatchcount: 20, size: 1280 total: 1280 loss: 0.02561\n",
            "\tbatchcount: 40, size: 1280 total: 2560 loss: 0.02570\n",
            "\tbatchcount: 60, size: 1280 total: 3840 loss: 0.02569\n",
            "\tbatchcount: 80, size: 1280 total: 5120 loss: 0.02564\n",
            "\tbatchcount: 100, size: 1280 total: 6400 loss: 0.02581\n",
            "\tbatchcount: 120, size: 1280 total: 7680 loss: 0.02542\n",
            "\tbatchcount: 140, size: 1280 total: 8960 loss: 0.02617\n",
            "\tbatchcount: 160, size: 1280 total: 10240 loss: 0.02575\n",
            "\n",
            "  Epoch 7, loss: 1.64639 loss_val: 1.64569 time = 26.03 sec\n",
            "\n",
            "Epoch: 8\n",
            "\tbatchcount: 20, size: 1280 total: 1280 loss: 0.02569\n",
            "\tbatchcount: 40, size: 1280 total: 2560 loss: 0.02536\n",
            "\tbatchcount: 60, size: 1280 total: 3840 loss: 0.02577\n",
            "\tbatchcount: 80, size: 1280 total: 5120 loss: 0.02574\n",
            "\tbatchcount: 100, size: 1280 total: 6400 loss: 0.02573\n",
            "\tbatchcount: 120, size: 1280 total: 7680 loss: 0.02567\n",
            "\tbatchcount: 140, size: 1280 total: 8960 loss: 0.02563\n",
            "\tbatchcount: 160, size: 1280 total: 10240 loss: 0.02560\n",
            "\n",
            "  Epoch 8, loss: 1.64229 loss_val: 1.64197 time = 25.95 sec\n",
            "\n",
            "Epoch: 9\n",
            "\tbatchcount: 20, size: 1280 total: 1280 loss: 0.02532\n",
            "\tbatchcount: 40, size: 1280 total: 2560 loss: 0.02551\n",
            "\tbatchcount: 60, size: 1280 total: 3840 loss: 0.02568\n",
            "\tbatchcount: 80, size: 1280 total: 5120 loss: 0.02565\n",
            "\tbatchcount: 100, size: 1280 total: 6400 loss: 0.02576\n",
            "\tbatchcount: 120, size: 1280 total: 7680 loss: 0.02560\n",
            "\tbatchcount: 140, size: 1280 total: 8960 loss: 0.02581\n",
            "\tbatchcount: 160, size: 1280 total: 10240 loss: 0.02553\n",
            "\n",
            "  Epoch 9, loss: 1.63853 loss_val: 1.63668 time = 26.12 sec\n",
            "\n",
            "Epoch: 10\n",
            "\tbatchcount: 20, size: 1280 total: 1280 loss: 0.02543\n",
            "\tbatchcount: 40, size: 1280 total: 2560 loss: 0.02541\n",
            "\tbatchcount: 60, size: 1280 total: 3840 loss: 0.02579\n",
            "\tbatchcount: 80, size: 1280 total: 5120 loss: 0.02564\n",
            "\tbatchcount: 100, size: 1280 total: 6400 loss: 0.02582\n",
            "\tbatchcount: 120, size: 1280 total: 7680 loss: 0.02554\n",
            "\tbatchcount: 140, size: 1280 total: 8960 loss: 0.02549\n",
            "\tbatchcount: 160, size: 1280 total: 10240 loss: 0.02564\n",
            "\n",
            "  Epoch 10, loss: 1.63744 loss_val: 1.63649 time = 26.15 sec\n",
            "\n"
          ],
          "name": "stdout"
        }
      ]
    },
    {
      "cell_type": "code",
      "metadata": {
        "id": "4TWh0_XdYpVp",
        "colab": {
          "base_uri": "https://localhost:8080/",
          "height": 281
        },
        "outputId": "2bee654b-abfc-4770-9c34-5289745b8872"
      },
      "source": [
        "plt.plot(np.arange(1, epochs+1), epoch_losses, 'go-', label='train loss')\r\n",
        "plt.plot(np.arange(1, epochs+1), epoch_val_losses, 'ro-', label='validation loss')\r\n",
        "\r\n",
        "plt.legend(loc=\"upper right\")\r\n",
        "plt.grid(color=\"lightgrey\")\r\n",
        "plt.title('Сравнение train и valid loss' )\r\n",
        "plt.show()"
      ],
      "execution_count": null,
      "outputs": [
        {
          "output_type": "display_data",
          "data": {
            "image/png": "[encoded data removed]",
            "text/plain": [
              "<Figure size 432x288 with 1 Axes>"
            ]
          },
          "metadata": {
            "tags": [],
            "needs_background": "light"
          }
        }
      ]
    },
    {
      "cell_type": "markdown",
      "metadata": {
        "id": "HLMiw0V__kiX"
      },
      "source": [
        "## Подбор гперпараметров"
      ]
    },
    {
      "cell_type": "code",
      "metadata": {
        "id": "ibMeU1IUJg0o"
      },
      "source": [
        "from typing import List, Tuple"
      ],
      "execution_count": 63,
      "outputs": []
    },
    {
      "cell_type": "code",
      "metadata": {
        "id": "Ilt4_5nU_Mdo"
      },
      "source": [
        "class HyperParSearch:\n",
        "    \n",
        "    def __init__(self):\n",
        "        self.device = torch.device(\"cuda:0\" if torch.cuda.is_available() else \"cpu\")\n",
        "        self.net = None\n",
        "        self.summary_data = pd.DataFrame(data=[[0, 0, 0, 0, 0, 0, 0, 0]], \n",
        "                            columns=['func', 'cnn_num', \n",
        "                                     'fc_num', 'kern_size', \n",
        "                                     'loss', 'accuracy', \n",
        "                                     'loss_val', 'accuracy_val'])\n",
        "        self.cnn_num = [2, 3]\n",
        "        self.fc_num = [2, 3]\n",
        "        self.kern_size = [3, 5]\n",
        "        self.func_act = ['relu', 'elu']\n",
        "        self.epochs = 5\n",
        "        self.in_shape = 160\n",
        "\n",
        "    def net_sample(self):\n",
        "        if self.net == None:\n",
        "            return 0\n",
        "        criterion = nn.CrossEntropyLoss()\n",
        "        optimizer = torch.optim.SGD(self.net.parameters(), \n",
        "                                    lr=0.01,   # lr=0.001\n",
        "                                    momentum=0.9)\n",
        "        ep_loss_list = []\n",
        "        ep_acc_list = []\n",
        "        for epoch in range(self.epochs):\n",
        "            time1 = time.time()\n",
        "            self.net.train()\n",
        "            \n",
        "            total_loss = 0\n",
        "            loss_list = []\n",
        "            acc_list = []\n",
        "            epoch_val_losses = []\n",
        "            epoch_val_acc = []\n",
        "            running_loss = 0.0\n",
        "            \n",
        "            for i, data in enumerate(train_data_loader, 0):\n",
        "                inputs, labels = data\n",
        "                inputs, labels = inputs.to(self.device), labels.to(self.device)\n",
        "\n",
        "                # обнуляем градиент\n",
        "                optimizer.zero_grad()\n",
        "\n",
        "                outputs = self.net(inputs)\n",
        "                loss = criterion(outputs, labels)\n",
        "                loss.backward()\n",
        "                optimizer.step()\n",
        "\n",
        "                # print statistics\n",
        "                running_loss += loss.item()\n",
        "                bundle = 20\n",
        "                if not (i+1) % bundle:    # print every 10 mini-batches\n",
        "                    print(f'\\t\\t\\tbatchcount: {i+1}, size: {batch_s*bundle} '\n",
        "                          f'total: {(i+1)*batch_s} '\n",
        "                          f'loss: {running_loss/(batch_s*bundle):.5f}')\n",
        "                    running_loss = 0.0\n",
        "\n",
        "                # выводим статистику о процессе обучения\n",
        "                loss_list.append(loss.item())\n",
        "\n",
        "                # Отслеживание точности\n",
        "                total = labels.size(0)\n",
        "                _, predicted = torch.max(outputs.data, 1)\n",
        "                correct = (predicted == labels).sum().item()\n",
        "                acc_list.append(correct / total)\n",
        "                \n",
        "            ep_loss_list.append(sum(loss_list) / len(loss_list))\n",
        "            ep_acc_list.append(sum(acc_list) / len(acc_list))\n",
        "\n",
        "            time2 = time.time()\n",
        "            cum_loss = []\n",
        "            cum_acc = []\n",
        "            self.net.eval()\n",
        "            with torch.no_grad():\n",
        "                running_val_loss = 0.0\n",
        "                for i, data in enumerate(valid_data_loader, 0):\n",
        "                    inputs, labels = data\n",
        "                    inputs, labels = inputs.to(self.device), labels.to(self.device)\n",
        "\n",
        "                    outputs = self.net(inputs)\n",
        "                    loss = criterion(outputs, labels)\n",
        "\n",
        "                    running_val_loss += loss.item()\n",
        "                    cum_loss.append(loss.item())\n",
        "\n",
        "                    # Отслеживание точности\n",
        "                    total = labels.size(0)\n",
        "                    _, predicted = torch.max(outputs.data, 1)\n",
        "                    correct = (predicted == labels).sum().item()\n",
        "                    cum_acc.append(correct / total)\n",
        "\n",
        "            epoch_val_losses.append(np.mean(cum_loss))\n",
        "            epoch_val_acc.append(np.mean(cum_acc))\n",
        "            print(f\"\\t\\tЭпоха: {epoch+1}   loss: {ep_loss_list[-1]:.5f}   \"\n",
        "                  f\"accuracy: {ep_acc_list[-1]*100:.3f}%   \"\n",
        "                  f\"loss_val: {epoch_val_losses[-1]:.5f}   \"\n",
        "                  f\"accuracy_val: {epoch_val_acc[-1]*100:.3f}%   \"\n",
        "                  f\"time = {time2-time1:.2f} c\")\n",
        "\n",
        "        return ep_loss_list, ep_acc_list, epoch_val_losses, epoch_val_acc\n",
        "        \n",
        "    def grid_search(self):\n",
        "        cnt = 0\n",
        "        \n",
        "        path_dir = './net'\n",
        "        if not os.path.exists(path_dir):\n",
        "            os.mkdir(path_dir)\n",
        "        \n",
        "        for f_a in self.func_act:\n",
        "            for c_n in self.cnn_num:\n",
        "                for f_n in self.fc_num:\n",
        "                    for k_s in self.kern_size:\n",
        "                        loss_m = []\n",
        "                        acc_m = []\n",
        "                        print(f\"Модель: функция активации: {f_a}, cnn слоёв: {c_n}, fc слоёв: {f_n}, kernel: {k_s}\\n\")\n",
        "                        self.net = HPSearchNET(cnn_num=c_n, \n",
        "                                               fc_num=f_n, \n",
        "                                               kern_size=k_s, \n",
        "                                               func_act=f_a, \n",
        "                                               nn_prn=True,\n",
        "                                               in_shape=self.in_shape).to(self.device)\n",
        "                        print(\"\\tМодель state_dict: \")\n",
        "                        for param in self.net.state_dict():\n",
        "                            print(\"\\t\\t\", param,\": \", self.net.state_dict()[param].size())\n",
        "\n",
        "                        loss, acc, loss_val, acc_val = self.net_sample()\n",
        "                        torch.save(self.net.state_dict(), f'./net/cifar_net_{f_a}_cnn{c_n}_fc{f_n}_kr{k_s}.pth')\n",
        "\n",
        "                        print(f\"\\tLoss на train: {loss[-1]:.5f}   accuracy на train: {acc[-1]:.5f}\")\n",
        "                        print(f\"\\tLoss на valid: {loss_val[-1]:.5f}   accuracy на valid: {acc_val[-1]:.5f}\\n\")\n",
        "                        self.summary_data.loc[cnt, ['func', 'cnn_num', 'fc_num', 'kern_size', \n",
        "                                                    'loss', 'accuracy', 'loss_val', 'accuracy_val']] = [f_a, c_n, \n",
        "                                                    f_n, k_s, loss[-1], acc[-1], loss_val[-1], acc_val[-1]]\n",
        "                        cnt += 1"
      ],
      "execution_count": 64,
      "outputs": []
    },
    {
      "cell_type": "code",
      "metadata": {
        "id": "QNPMQlKyBXtb"
      },
      "source": [
        "search_top = HyperParSearch()"
      ],
      "execution_count": 65,
      "outputs": []
    },
    {
      "cell_type": "code",
      "metadata": {
        "colab": {
          "base_uri": "https://localhost:8080/"
        },
        "id": "o22c9p_NBXwi",
        "outputId": "1e3da8a7-37b5-4ad6-b807-5f12f0fd9bc8"
      },
      "source": [
        "search_top.grid_search()"
      ],
      "execution_count": 66,
      "outputs": [
        {
          "output_type": "stream",
          "text": [
            "Модель: функция активации: relu, cnn слоёв: 2, fc слоёв: 2, kernel: 3\n",
            "\n",
            "\tМодель state_dict: \n",
            "\t\t conv1.weight :  torch.Size([16, 1, 3, 3])\n",
            "\t\t conv1.bias :  torch.Size([16])\n",
            "\t\t conv2.weight :  torch.Size([32, 16, 3, 3])\n",
            "\t\t conv2.bias :  torch.Size([32])\n",
            "\t\t fc_dec1.weight :  torch.Size([12800, 51200])\n",
            "\t\t fc_dec1.bias :  torch.Size([12800])\n",
            "\t\t fc_out.weight :  torch.Size([10, 12800])\n",
            "\t\t fc_out.bias :  torch.Size([10])\n",
            "\n",
            "\tX размеры income: torch.Size([64, 1, 160, 160])\n",
            "\tX размеры conv1, pool: torch.Size([64, 16, 80, 80])\n",
            "\tX размеры conv2, pool: torch.Size([64, 32, 40, 40])\n",
            "\tX размеры x.view: torch.Size([64, 51200])\n",
            "\tX размеры fc_dec1: torch.Size([64, 12800])\n",
            "\tX размеры fc_out: torch.Size([64, 10])\n",
            "\n",
            "\t\t\tbatchcount: 20, size: 1280 total: 1280 loss: 0.03575\n",
            "\t\t\tbatchcount: 40, size: 1280 total: 2560 loss: 0.03501\n",
            "\t\t\tbatchcount: 60, size: 1280 total: 3840 loss: 0.03304\n",
            "\t\t\tbatchcount: 80, size: 1280 total: 5120 loss: 0.03203\n",
            "\t\t\tbatchcount: 100, size: 1280 total: 6400 loss: 0.03227\n",
            "\t\t\tbatchcount: 120, size: 1280 total: 7680 loss: 0.03214\n",
            "\t\t\tbatchcount: 140, size: 1280 total: 8960 loss: 0.03211\n",
            "\t\t\tbatchcount: 160, size: 1280 total: 10240 loss: 0.03157\n",
            "\t\tЭпоха: 1   loss: 2.10797   accuracy: 35.351%   loss_val: 2.04581   accuracy_val: 41.264%   time = 49.76 c\n",
            "\t\t\tbatchcount: 20, size: 1280 total: 1280 loss: 0.03169\n",
            "\t\t\tbatchcount: 40, size: 1280 total: 2560 loss: 0.03139\n",
            "\t\t\tbatchcount: 60, size: 1280 total: 3840 loss: 0.03167\n",
            "\t\t\tbatchcount: 80, size: 1280 total: 5120 loss: 0.03160\n",
            "\t\t\tbatchcount: 100, size: 1280 total: 6400 loss: 0.03087\n",
            "\t\t\tbatchcount: 120, size: 1280 total: 7680 loss: 0.02908\n",
            "\t\t\tbatchcount: 140, size: 1280 total: 8960 loss: 0.02728\n",
            "\t\t\tbatchcount: 160, size: 1280 total: 10240 loss: 0.02597\n",
            "\t\tЭпоха: 2   loss: 1.90634   accuracy: 55.785%   loss_val: 1.63432   accuracy_val: 83.895%   time = 49.90 c\n",
            "\t\t\tbatchcount: 20, size: 1280 total: 1280 loss: 0.02585\n",
            "\t\t\tbatchcount: 40, size: 1280 total: 2560 loss: 0.02556\n",
            "\t\t\tbatchcount: 60, size: 1280 total: 3840 loss: 0.02532\n",
            "\t\t\tbatchcount: 80, size: 1280 total: 5120 loss: 0.02539\n",
            "\t\t\tbatchcount: 100, size: 1280 total: 6400 loss: 0.02508\n",
            "\t\t\tbatchcount: 120, size: 1280 total: 7680 loss: 0.02497\n",
            "\t\t\tbatchcount: 140, size: 1280 total: 8960 loss: 0.02469\n",
            "\t\t\tbatchcount: 160, size: 1280 total: 10240 loss: 0.02514\n",
            "\t\tЭпоха: 3   loss: 1.61512   accuracy: 84.838%   loss_val: 1.60163   accuracy_val: 86.036%   time = 50.19 c\n",
            "\t\t\tbatchcount: 20, size: 1280 total: 1280 loss: 0.02511\n",
            "\t\t\tbatchcount: 40, size: 1280 total: 2560 loss: 0.02508\n",
            "\t\t\tbatchcount: 60, size: 1280 total: 3840 loss: 0.02575\n",
            "\t\t\tbatchcount: 80, size: 1280 total: 5120 loss: 0.02511\n",
            "\t\t\tbatchcount: 100, size: 1280 total: 6400 loss: 0.02476\n",
            "\t\t\tbatchcount: 120, size: 1280 total: 7680 loss: 0.02431\n",
            "\t\t\tbatchcount: 140, size: 1280 total: 8960 loss: 0.02466\n",
            "\t\t\tbatchcount: 160, size: 1280 total: 10240 loss: 0.02461\n",
            "\t\tЭпоха: 4   loss: 1.59400   accuracy: 86.904%   loss_val: 1.57172   accuracy_val: 88.789%   time = 50.42 c\n",
            "\t\t\tbatchcount: 20, size: 1280 total: 1280 loss: 0.02472\n",
            "\t\t\tbatchcount: 40, size: 1280 total: 2560 loss: 0.02451\n",
            "\t\t\tbatchcount: 60, size: 1280 total: 3840 loss: 0.02462\n",
            "\t\t\tbatchcount: 80, size: 1280 total: 5120 loss: 0.02463\n",
            "\t\t\tbatchcount: 100, size: 1280 total: 6400 loss: 0.02467\n",
            "\t\t\tbatchcount: 120, size: 1280 total: 7680 loss: 0.02461\n",
            "\t\t\tbatchcount: 140, size: 1280 total: 8960 loss: 0.02456\n",
            "\t\t\tbatchcount: 160, size: 1280 total: 10240 loss: 0.02445\n",
            "\t\tЭпоха: 5   loss: 1.57411   accuracy: 88.775%   loss_val: 1.59239   accuracy_val: 87.024%   time = 50.70 c\n",
            "\tLoss на train: 1.57411   accuracy на train: 0.88775\n",
            "\tLoss на valid: 1.59239   accuracy на valid: 0.87024\n",
            "\n",
            "Модель: функция активации: relu, cnn слоёв: 2, fc слоёв: 2, kernel: 5\n",
            "\n",
            "\tМодель state_dict: \n",
            "\t\t conv1.weight :  torch.Size([16, 1, 5, 5])\n",
            "\t\t conv1.bias :  torch.Size([16])\n",
            "\t\t conv2.weight :  torch.Size([32, 16, 5, 5])\n",
            "\t\t conv2.bias :  torch.Size([32])\n",
            "\t\t fc_dec1.weight :  torch.Size([12800, 51200])\n",
            "\t\t fc_dec1.bias :  torch.Size([12800])\n",
            "\t\t fc_out.weight :  torch.Size([10, 12800])\n",
            "\t\t fc_out.bias :  torch.Size([10])\n",
            "\n",
            "\tX размеры income: torch.Size([64, 1, 160, 160])\n",
            "\tX размеры conv1, pool: torch.Size([64, 16, 80, 80])\n",
            "\tX размеры conv2, pool: torch.Size([64, 32, 40, 40])\n",
            "\tX размеры x.view: torch.Size([64, 51200])\n",
            "\tX размеры fc_dec1: torch.Size([64, 12800])\n",
            "\tX размеры fc_out: torch.Size([64, 10])\n",
            "\n",
            "\t\t\tbatchcount: 20, size: 1280 total: 1280 loss: 0.03593\n",
            "\t\t\tbatchcount: 40, size: 1280 total: 2560 loss: 0.03554\n",
            "\t\t\tbatchcount: 60, size: 1280 total: 3840 loss: 0.03382\n",
            "\t\t\tbatchcount: 80, size: 1280 total: 5120 loss: 0.03269\n",
            "\t\t\tbatchcount: 100, size: 1280 total: 6400 loss: 0.03195\n",
            "\t\t\tbatchcount: 120, size: 1280 total: 7680 loss: 0.03180\n",
            "\t\t\tbatchcount: 140, size: 1280 total: 8960 loss: 0.03167\n",
            "\t\t\tbatchcount: 160, size: 1280 total: 10240 loss: 0.03164\n",
            "\t\tЭпоха: 1   loss: 2.11695   accuracy: 34.314%   loss_val: 2.04810   accuracy_val: 40.821%   time = 56.36 c\n",
            "\t\t\tbatchcount: 20, size: 1280 total: 1280 loss: 0.03181\n",
            "\t\t\tbatchcount: 40, size: 1280 total: 2560 loss: 0.03169\n",
            "\t\t\tbatchcount: 60, size: 1280 total: 3840 loss: 0.03113\n",
            "\t\t\tbatchcount: 80, size: 1280 total: 5120 loss: 0.02953\n",
            "\t\t\tbatchcount: 100, size: 1280 total: 6400 loss: 0.02761\n",
            "\t\t\tbatchcount: 120, size: 1280 total: 7680 loss: 0.02714\n",
            "\t\t\tbatchcount: 140, size: 1280 total: 8960 loss: 0.02677\n",
            "\t\t\tbatchcount: 160, size: 1280 total: 10240 loss: 0.02614\n",
            "\t\tЭпоха: 2   loss: 1.84881   accuracy: 61.439%   loss_val: 1.69840   accuracy_val: 76.173%   time = 50.19 c\n",
            "\t\t\tbatchcount: 20, size: 1280 total: 1280 loss: 0.02664\n",
            "\t\t\tbatchcount: 40, size: 1280 total: 2560 loss: 0.02671\n",
            "\t\t\tbatchcount: 60, size: 1280 total: 3840 loss: 0.02624\n",
            "\t\t\tbatchcount: 80, size: 1280 total: 5120 loss: 0.02594\n",
            "\t\t\tbatchcount: 100, size: 1280 total: 6400 loss: 0.02610\n",
            "\t\t\tbatchcount: 120, size: 1280 total: 7680 loss: 0.02617\n",
            "\t\t\tbatchcount: 140, size: 1280 total: 8960 loss: 0.02603\n",
            "\t\t\tbatchcount: 160, size: 1280 total: 10240 loss: 0.02586\n",
            "\t\tЭпоха: 3   loss: 1.67582   accuracy: 78.610%   loss_val: 1.62701   accuracy_val: 83.722%   time = 49.58 c\n",
            "\t\t\tbatchcount: 20, size: 1280 total: 1280 loss: 0.02508\n",
            "\t\t\tbatchcount: 40, size: 1280 total: 2560 loss: 0.02535\n",
            "\t\t\tbatchcount: 60, size: 1280 total: 3840 loss: 0.02500\n",
            "\t\t\tbatchcount: 80, size: 1280 total: 5120 loss: 0.02557\n",
            "\t\t\tbatchcount: 100, size: 1280 total: 6400 loss: 0.02517\n",
            "\t\t\tbatchcount: 120, size: 1280 total: 7680 loss: 0.02515\n",
            "\t\t\tbatchcount: 140, size: 1280 total: 8960 loss: 0.02522\n",
            "\t\t\tbatchcount: 160, size: 1280 total: 10240 loss: 0.02482\n",
            "\t\tЭпоха: 4   loss: 1.60918   accuracy: 85.351%   loss_val: 1.58650   accuracy_val: 87.524%   time = 49.56 c\n",
            "\t\t\tbatchcount: 20, size: 1280 total: 1280 loss: 0.02468\n",
            "\t\t\tbatchcount: 40, size: 1280 total: 2560 loss: 0.02490\n",
            "\t\t\tbatchcount: 60, size: 1280 total: 3840 loss: 0.02468\n",
            "\t\t\tbatchcount: 80, size: 1280 total: 5120 loss: 0.02471\n",
            "\t\t\tbatchcount: 100, size: 1280 total: 6400 loss: 0.02452\n",
            "\t\t\tbatchcount: 120, size: 1280 total: 7680 loss: 0.02494\n",
            "\t\t\tbatchcount: 140, size: 1280 total: 8960 loss: 0.02474\n",
            "\t\t\tbatchcount: 160, size: 1280 total: 10240 loss: 0.02476\n",
            "\t\tЭпоха: 5   loss: 1.58564   accuracy: 87.535%   loss_val: 1.57931   accuracy_val: 88.128%   time = 49.66 c\n",
            "\tLoss на train: 1.58564   accuracy на train: 0.87535\n",
            "\tLoss на valid: 1.57931   accuracy на valid: 0.88128\n",
            "\n",
            "Модель: функция активации: relu, cnn слоёв: 2, fc слоёв: 3, kernel: 3\n",
            "\n",
            "\tМодель state_dict: \n",
            "\t\t conv1.weight :  torch.Size([16, 1, 3, 3])\n",
            "\t\t conv1.bias :  torch.Size([16])\n",
            "\t\t conv2.weight :  torch.Size([32, 16, 3, 3])\n",
            "\t\t conv2.bias :  torch.Size([32])\n",
            "\t\t fc_dec2.weight :  torch.Size([12800, 51200])\n",
            "\t\t fc_dec2.bias :  torch.Size([12800])\n",
            "\t\t fc_dec1.weight :  torch.Size([3200, 12800])\n",
            "\t\t fc_dec1.bias :  torch.Size([3200])\n",
            "\t\t fc_out.weight :  torch.Size([10, 3200])\n",
            "\t\t fc_out.bias :  torch.Size([10])\n",
            "\n",
            "\tX размеры income: torch.Size([64, 1, 160, 160])\n",
            "\tX размеры conv1, pool: torch.Size([64, 16, 80, 80])\n",
            "\tX размеры conv2, pool: torch.Size([64, 32, 40, 40])\n",
            "\tX размеры x.view: torch.Size([64, 51200])\n",
            "\tX размеры fc_dec2: torch.Size([64, 12800])\n",
            "\tX размеры fc_dec1: torch.Size([64, 3200])\n",
            "\tX размеры fc_out: torch.Size([64, 10])\n",
            "\n",
            "\t\t\tbatchcount: 20, size: 1280 total: 1280 loss: 0.03595\n",
            "\t\t\tbatchcount: 40, size: 1280 total: 2560 loss: 0.03586\n",
            "\t\t\tbatchcount: 60, size: 1280 total: 3840 loss: 0.03554\n",
            "\t\t\tbatchcount: 80, size: 1280 total: 5120 loss: 0.03493\n",
            "\t\t\tbatchcount: 100, size: 1280 total: 6400 loss: 0.03279\n",
            "\t\t\tbatchcount: 120, size: 1280 total: 7680 loss: 0.03229\n",
            "\t\t\tbatchcount: 140, size: 1280 total: 8960 loss: 0.03102\n",
            "\t\t\tbatchcount: 160, size: 1280 total: 10240 loss: 0.02924\n",
            "\t\tЭпоха: 1   loss: 2.13099   accuracy: 33.344%   loss_val: 1.83878   accuracy_val: 62.073%   time = 56.87 c\n",
            "\t\t\tbatchcount: 20, size: 1280 total: 1280 loss: 0.02810\n",
            "\t\t\tbatchcount: 40, size: 1280 total: 2560 loss: 0.02775\n",
            "\t\t\tbatchcount: 60, size: 1280 total: 3840 loss: 0.02779\n",
            "\t\t\tbatchcount: 80, size: 1280 total: 5120 loss: 0.02717\n",
            "\t\t\tbatchcount: 100, size: 1280 total: 6400 loss: 0.02669\n",
            "\t\t\tbatchcount: 120, size: 1280 total: 7680 loss: 0.02624\n",
            "\t\t\tbatchcount: 140, size: 1280 total: 8960 loss: 0.02590\n",
            "\t\t\tbatchcount: 160, size: 1280 total: 10240 loss: 0.02602\n",
            "\t\tЭпоха: 2   loss: 1.72313   accuracy: 74.373%   loss_val: 1.71192   accuracy_val: 75.251%   time = 53.35 c\n",
            "\t\t\tbatchcount: 20, size: 1280 total: 1280 loss: 0.02625\n",
            "\t\t\tbatchcount: 40, size: 1280 total: 2560 loss: 0.02617\n",
            "\t\t\tbatchcount: 60, size: 1280 total: 3840 loss: 0.02594\n",
            "\t\t\tbatchcount: 80, size: 1280 total: 5120 loss: 0.02588\n",
            "\t\t\tbatchcount: 100, size: 1280 total: 6400 loss: 0.02575\n",
            "\t\t\tbatchcount: 120, size: 1280 total: 7680 loss: 0.02599\n",
            "\t\t\tbatchcount: 140, size: 1280 total: 8960 loss: 0.02590\n",
            "\t\t\tbatchcount: 160, size: 1280 total: 10240 loss: 0.02561\n",
            "\t\tЭпоха: 3   loss: 1.65855   accuracy: 80.396%   loss_val: 1.65219   accuracy_val: 81.017%   time = 52.39 c\n",
            "\t\t\tbatchcount: 20, size: 1280 total: 1280 loss: 0.02583\n",
            "\t\t\tbatchcount: 40, size: 1280 total: 2560 loss: 0.02612\n",
            "\t\t\tbatchcount: 60, size: 1280 total: 3840 loss: 0.02559\n",
            "\t\t\tbatchcount: 80, size: 1280 total: 5120 loss: 0.02575\n",
            "\t\t\tbatchcount: 100, size: 1280 total: 6400 loss: 0.02579\n",
            "\t\t\tbatchcount: 120, size: 1280 total: 7680 loss: 0.02544\n",
            "\t\t\tbatchcount: 140, size: 1280 total: 8960 loss: 0.02570\n",
            "\t\t\tbatchcount: 160, size: 1280 total: 10240 loss: 0.02554\n",
            "\t\tЭпоха: 4   loss: 1.64483   accuracy: 81.682%   loss_val: 1.64811   accuracy_val: 81.452%   time = 52.56 c\n",
            "\t\t\tbatchcount: 20, size: 1280 total: 1280 loss: 0.02578\n",
            "\t\t\tbatchcount: 40, size: 1280 total: 2560 loss: 0.02560\n",
            "\t\t\tbatchcount: 60, size: 1280 total: 3840 loss: 0.02562\n",
            "\t\t\tbatchcount: 80, size: 1280 total: 5120 loss: 0.02571\n",
            "\t\t\tbatchcount: 100, size: 1280 total: 6400 loss: 0.02566\n",
            "\t\t\tbatchcount: 120, size: 1280 total: 7680 loss: 0.02589\n",
            "\t\t\tbatchcount: 140, size: 1280 total: 8960 loss: 0.02537\n",
            "\t\t\tbatchcount: 160, size: 1280 total: 10240 loss: 0.02553\n",
            "\t\tЭпоха: 5   loss: 1.64010   accuracy: 82.042%   loss_val: 1.64020   accuracy_val: 81.981%   time = 52.55 c\n",
            "\tLoss на train: 1.64010   accuracy на train: 0.82042\n",
            "\tLoss на valid: 1.64020   accuracy на valid: 0.81981\n",
            "\n",
            "Модель: функция активации: relu, cnn слоёв: 2, fc слоёв: 3, kernel: 5\n",
            "\n",
            "\tМодель state_dict: \n",
            "\t\t conv1.weight :  torch.Size([16, 1, 5, 5])\n",
            "\t\t conv1.bias :  torch.Size([16])\n",
            "\t\t conv2.weight :  torch.Size([32, 16, 5, 5])\n",
            "\t\t conv2.bias :  torch.Size([32])\n",
            "\t\t fc_dec2.weight :  torch.Size([12800, 51200])\n",
            "\t\t fc_dec2.bias :  torch.Size([12800])\n",
            "\t\t fc_dec1.weight :  torch.Size([3200, 12800])\n",
            "\t\t fc_dec1.bias :  torch.Size([3200])\n",
            "\t\t fc_out.weight :  torch.Size([10, 3200])\n",
            "\t\t fc_out.bias :  torch.Size([10])\n",
            "\n",
            "\tX размеры income: torch.Size([64, 1, 160, 160])\n",
            "\tX размеры conv1, pool: torch.Size([64, 16, 80, 80])\n",
            "\tX размеры conv2, pool: torch.Size([64, 32, 40, 40])\n",
            "\tX размеры x.view: torch.Size([64, 51200])\n",
            "\tX размеры fc_dec2: torch.Size([64, 12800])\n",
            "\tX размеры fc_dec1: torch.Size([64, 3200])\n",
            "\tX размеры fc_out: torch.Size([64, 10])\n",
            "\n",
            "\t\t\tbatchcount: 20, size: 1280 total: 1280 loss: 0.03596\n",
            "\t\t\tbatchcount: 40, size: 1280 total: 2560 loss: 0.03591\n",
            "\t\t\tbatchcount: 60, size: 1280 total: 3840 loss: 0.03582\n",
            "\t\t\tbatchcount: 80, size: 1280 total: 5120 loss: 0.03519\n",
            "\t\t\tbatchcount: 100, size: 1280 total: 6400 loss: 0.03380\n",
            "\t\t\tbatchcount: 120, size: 1280 total: 7680 loss: 0.03067\n",
            "\t\t\tbatchcount: 140, size: 1280 total: 8960 loss: 0.03062\n",
            "\t\t\tbatchcount: 160, size: 1280 total: 10240 loss: 0.02916\n",
            "\t\tЭпоха: 1   loss: 2.12505   accuracy: 33.442%   loss_val: 1.78670   accuracy_val: 67.707%   time = 57.00 c\n",
            "\t\t\tbatchcount: 20, size: 1280 total: 1280 loss: 0.02678\n",
            "\t\t\tbatchcount: 40, size: 1280 total: 2560 loss: 0.02623\n",
            "\t\t\tbatchcount: 60, size: 1280 total: 3840 loss: 0.02644\n",
            "\t\t\tbatchcount: 80, size: 1280 total: 5120 loss: 0.02627\n",
            "\t\t\tbatchcount: 100, size: 1280 total: 6400 loss: 0.02612\n",
            "\t\t\tbatchcount: 120, size: 1280 total: 7680 loss: 0.02595\n",
            "\t\t\tbatchcount: 140, size: 1280 total: 8960 loss: 0.02579\n",
            "\t\t\tbatchcount: 160, size: 1280 total: 10240 loss: 0.02530\n",
            "\t\tЭпоха: 2   loss: 1.66865   accuracy: 79.479%   loss_val: 1.63078   accuracy_val: 83.031%   time = 53.29 c\n",
            "\t\t\tbatchcount: 20, size: 1280 total: 1280 loss: 0.02527\n",
            "\t\t\tbatchcount: 40, size: 1280 total: 2560 loss: 0.02524\n",
            "\t\t\tbatchcount: 60, size: 1280 total: 3840 loss: 0.02506\n",
            "\t\t\tbatchcount: 80, size: 1280 total: 5120 loss: 0.02489\n",
            "\t\t\tbatchcount: 100, size: 1280 total: 6400 loss: 0.02475\n",
            "\t\t\tbatchcount: 120, size: 1280 total: 7680 loss: 0.02478\n",
            "\t\t\tbatchcount: 140, size: 1280 total: 8960 loss: 0.02530\n",
            "\t\t\tbatchcount: 160, size: 1280 total: 10240 loss: 0.02480\n",
            "\t\tЭпоха: 3   loss: 1.59926   accuracy: 86.321%   loss_val: 1.58716   accuracy_val: 87.264%   time = 52.23 c\n",
            "\t\t\tbatchcount: 20, size: 1280 total: 1280 loss: 0.02476\n",
            "\t\t\tbatchcount: 40, size: 1280 total: 2560 loss: 0.02489\n",
            "\t\t\tbatchcount: 60, size: 1280 total: 3840 loss: 0.02513\n",
            "\t\t\tbatchcount: 80, size: 1280 total: 5120 loss: 0.02462\n",
            "\t\t\tbatchcount: 100, size: 1280 total: 6400 loss: 0.02451\n",
            "\t\t\tbatchcount: 120, size: 1280 total: 7680 loss: 0.02456\n",
            "\t\t\tbatchcount: 140, size: 1280 total: 8960 loss: 0.02474\n",
            "\t\t\tbatchcount: 160, size: 1280 total: 10240 loss: 0.02449\n",
            "\t\tЭпоха: 4   loss: 1.58197   accuracy: 87.920%   loss_val: 1.57581   accuracy_val: 88.521%   time = 52.30 c\n",
            "\t\t\tbatchcount: 20, size: 1280 total: 1280 loss: 0.02462\n",
            "\t\t\tbatchcount: 40, size: 1280 total: 2560 loss: 0.02483\n",
            "\t\t\tbatchcount: 60, size: 1280 total: 3840 loss: 0.02484\n",
            "\t\t\tbatchcount: 80, size: 1280 total: 5120 loss: 0.02455\n",
            "\t\t\tbatchcount: 100, size: 1280 total: 6400 loss: 0.02442\n",
            "\t\t\tbatchcount: 120, size: 1280 total: 7680 loss: 0.02454\n",
            "\t\t\tbatchcount: 140, size: 1280 total: 8960 loss: 0.02446\n",
            "\t\t\tbatchcount: 160, size: 1280 total: 10240 loss: 0.02442\n",
            "\t\tЭпоха: 5   loss: 1.57517   accuracy: 88.638%   loss_val: 1.58293   accuracy_val: 87.731%   time = 52.21 c\n",
            "\tLoss на train: 1.57517   accuracy на train: 0.88638\n",
            "\tLoss на valid: 1.58293   accuracy на valid: 0.87731\n",
            "\n",
            "Модель: функция активации: relu, cnn слоёв: 3, fc слоёв: 2, kernel: 3\n",
            "\n",
            "\tМодель state_dict: \n",
            "\t\t conv1.weight :  torch.Size([16, 1, 3, 3])\n",
            "\t\t conv1.bias :  torch.Size([16])\n",
            "\t\t conv2.weight :  torch.Size([32, 16, 3, 3])\n",
            "\t\t conv2.bias :  torch.Size([32])\n",
            "\t\t conv3.weight :  torch.Size([64, 32, 3, 3])\n",
            "\t\t conv3.bias :  torch.Size([64])\n",
            "\t\t fc_dec1.weight :  torch.Size([6400, 25600])\n",
            "\t\t fc_dec1.bias :  torch.Size([6400])\n",
            "\t\t fc_out.weight :  torch.Size([10, 6400])\n",
            "\t\t fc_out.bias :  torch.Size([10])\n",
            "\n",
            "\tX размеры income: torch.Size([64, 1, 160, 160])\n",
            "\tX размеры conv1, pool: torch.Size([64, 16, 80, 80])\n",
            "\tX размеры conv2, pool: torch.Size([64, 32, 40, 40])\n",
            "\tX размеры conv3, pool: torch.Size([64, 64, 20, 20])\n",
            "\tX размеры x.view: torch.Size([64, 25600])\n",
            "\tX размеры fc_dec1: torch.Size([64, 6400])\n",
            "\tX размеры fc_out: torch.Size([64, 10])\n",
            "\n",
            "\t\t\tbatchcount: 20, size: 1280 total: 1280 loss: 0.03593\n",
            "\t\t\tbatchcount: 40, size: 1280 total: 2560 loss: 0.03572\n",
            "\t\t\tbatchcount: 60, size: 1280 total: 3840 loss: 0.03473\n",
            "\t\t\tbatchcount: 80, size: 1280 total: 5120 loss: 0.03288\n",
            "\t\t\tbatchcount: 100, size: 1280 total: 6400 loss: 0.03266\n",
            "\t\t\tbatchcount: 120, size: 1280 total: 7680 loss: 0.03197\n",
            "\t\t\tbatchcount: 140, size: 1280 total: 8960 loss: 0.03219\n",
            "\t\t\tbatchcount: 160, size: 1280 total: 10240 loss: 0.03203\n",
            "\t\tЭпоха: 1   loss: 2.14161   accuracy: 31.457%   loss_val: 2.05812   accuracy_val: 39.878%   time = 32.46 c\n",
            "\t\t\tbatchcount: 20, size: 1280 total: 1280 loss: 0.03098\n",
            "\t\t\tbatchcount: 40, size: 1280 total: 2560 loss: 0.02948\n",
            "\t\t\tbatchcount: 60, size: 1280 total: 3840 loss: 0.02767\n",
            "\t\t\tbatchcount: 80, size: 1280 total: 5120 loss: 0.02679\n",
            "\t\t\tbatchcount: 100, size: 1280 total: 6400 loss: 0.02590\n",
            "\t\t\tbatchcount: 120, size: 1280 total: 7680 loss: 0.02611\n",
            "\t\t\tbatchcount: 140, size: 1280 total: 8960 loss: 0.02585\n",
            "\t\t\tbatchcount: 160, size: 1280 total: 10240 loss: 0.02650\n",
            "\t\tЭпоха: 2   loss: 1.75357   accuracy: 71.184%   loss_val: 1.71557   accuracy_val: 74.812%   time = 26.30 c\n",
            "\t\t\tbatchcount: 20, size: 1280 total: 1280 loss: 0.02724\n",
            "\t\t\tbatchcount: 40, size: 1280 total: 2560 loss: 0.02680\n",
            "\t\t\tbatchcount: 60, size: 1280 total: 3840 loss: 0.02596\n",
            "\t\t\tbatchcount: 80, size: 1280 total: 5120 loss: 0.02537\n",
            "\t\t\tbatchcount: 100, size: 1280 total: 6400 loss: 0.02576\n",
            "\t\t\tbatchcount: 120, size: 1280 total: 7680 loss: 0.02502\n",
            "\t\t\tbatchcount: 140, size: 1280 total: 8960 loss: 0.02520\n",
            "\t\t\tbatchcount: 160, size: 1280 total: 10240 loss: 0.02524\n",
            "\t\tЭпоха: 3   loss: 1.64981   accuracy: 81.251%   loss_val: 1.58947   accuracy_val: 87.277%   time = 25.12 c\n",
            "\t\t\tbatchcount: 20, size: 1280 total: 1280 loss: 0.02489\n",
            "\t\t\tbatchcount: 40, size: 1280 total: 2560 loss: 0.02489\n",
            "\t\t\tbatchcount: 60, size: 1280 total: 3840 loss: 0.02518\n",
            "\t\t\tbatchcount: 80, size: 1280 total: 5120 loss: 0.02488\n",
            "\t\t\tbatchcount: 100, size: 1280 total: 6400 loss: 0.02471\n",
            "\t\t\tbatchcount: 120, size: 1280 total: 7680 loss: 0.02523\n",
            "\t\t\tbatchcount: 140, size: 1280 total: 8960 loss: 0.02477\n",
            "\t\t\tbatchcount: 160, size: 1280 total: 10240 loss: 0.02475\n",
            "\t\tЭпоха: 4   loss: 1.59337   accuracy: 86.908%   loss_val: 1.57836   accuracy_val: 88.297%   time = 25.05 c\n",
            "\t\t\tbatchcount: 20, size: 1280 total: 1280 loss: 0.02480\n",
            "\t\t\tbatchcount: 40, size: 1280 total: 2560 loss: 0.02474\n",
            "\t\t\tbatchcount: 60, size: 1280 total: 3840 loss: 0.02463\n",
            "\t\t\tbatchcount: 80, size: 1280 total: 5120 loss: 0.02448\n",
            "\t\t\tbatchcount: 100, size: 1280 total: 6400 loss: 0.02453\n",
            "\t\t\tbatchcount: 120, size: 1280 total: 7680 loss: 0.02441\n",
            "\t\t\tbatchcount: 140, size: 1280 total: 8960 loss: 0.02450\n",
            "\t\t\tbatchcount: 160, size: 1280 total: 10240 loss: 0.02443\n",
            "\t\tЭпоха: 5   loss: 1.57235   accuracy: 88.863%   loss_val: 1.56666   accuracy_val: 89.562%   time = 25.13 c\n",
            "\tLoss на train: 1.57235   accuracy на train: 0.88863\n",
            "\tLoss на valid: 1.56666   accuracy на valid: 0.89562\n",
            "\n",
            "Модель: функция активации: relu, cnn слоёв: 3, fc слоёв: 2, kernel: 5\n",
            "\n",
            "\tМодель state_dict: \n",
            "\t\t conv1.weight :  torch.Size([16, 1, 5, 5])\n",
            "\t\t conv1.bias :  torch.Size([16])\n",
            "\t\t conv2.weight :  torch.Size([32, 16, 5, 5])\n",
            "\t\t conv2.bias :  torch.Size([32])\n",
            "\t\t conv3.weight :  torch.Size([64, 32, 5, 5])\n",
            "\t\t conv3.bias :  torch.Size([64])\n",
            "\t\t fc_dec1.weight :  torch.Size([6400, 25600])\n",
            "\t\t fc_dec1.bias :  torch.Size([6400])\n",
            "\t\t fc_out.weight :  torch.Size([10, 6400])\n",
            "\t\t fc_out.bias :  torch.Size([10])\n",
            "\n",
            "\tX размеры income: torch.Size([64, 1, 160, 160])\n",
            "\tX размеры conv1, pool: torch.Size([64, 16, 80, 80])\n",
            "\tX размеры conv2, pool: torch.Size([64, 32, 40, 40])\n",
            "\tX размеры conv3, pool: torch.Size([64, 64, 20, 20])\n",
            "\tX размеры x.view: torch.Size([64, 25600])\n",
            "\tX размеры fc_dec1: torch.Size([64, 6400])\n",
            "\tX размеры fc_out: torch.Size([64, 10])\n",
            "\n",
            "\t\t\tbatchcount: 20, size: 1280 total: 1280 loss: 0.03597\n",
            "\t\t\tbatchcount: 40, size: 1280 total: 2560 loss: 0.03594\n",
            "\t\t\tbatchcount: 60, size: 1280 total: 3840 loss: 0.03581\n",
            "\t\t\tbatchcount: 80, size: 1280 total: 5120 loss: 0.03492\n",
            "\t\t\tbatchcount: 100, size: 1280 total: 6400 loss: 0.03332\n",
            "\t\t\tbatchcount: 120, size: 1280 total: 7680 loss: 0.03253\n",
            "\t\t\tbatchcount: 140, size: 1280 total: 8960 loss: 0.03190\n",
            "\t\t\tbatchcount: 160, size: 1280 total: 10240 loss: 0.03211\n",
            "\t\tЭпоха: 1   loss: 2.17555   accuracy: 27.332%   loss_val: 1.98486   accuracy_val: 49.101%   time = 25.63 c\n",
            "\t\t\tbatchcount: 20, size: 1280 total: 1280 loss: 0.03025\n",
            "\t\t\tbatchcount: 40, size: 1280 total: 2560 loss: 0.02886\n",
            "\t\t\tbatchcount: 60, size: 1280 total: 3840 loss: 0.02814\n",
            "\t\t\tbatchcount: 80, size: 1280 total: 5120 loss: 0.02794\n",
            "\t\t\tbatchcount: 100, size: 1280 total: 6400 loss: 0.02785\n",
            "\t\t\tbatchcount: 120, size: 1280 total: 7680 loss: 0.02752\n",
            "\t\t\tbatchcount: 140, size: 1280 total: 8960 loss: 0.02781\n",
            "\t\t\tbatchcount: 160, size: 1280 total: 10240 loss: 0.02757\n",
            "\t\tЭпоха: 2   loss: 1.80396   accuracy: 65.891%   loss_val: 1.77560   accuracy_val: 68.658%   time = 25.59 c\n",
            "\t\t\tbatchcount: 20, size: 1280 total: 1280 loss: 0.02748\n",
            "\t\t\tbatchcount: 40, size: 1280 total: 2560 loss: 0.02740\n",
            "\t\t\tbatchcount: 60, size: 1280 total: 3840 loss: 0.02759\n",
            "\t\t\tbatchcount: 80, size: 1280 total: 5120 loss: 0.02745\n",
            "\t\t\tbatchcount: 100, size: 1280 total: 6400 loss: 0.02605\n",
            "\t\t\tbatchcount: 120, size: 1280 total: 7680 loss: 0.02635\n",
            "\t\t\tbatchcount: 140, size: 1280 total: 8960 loss: 0.02630\n",
            "\t\t\tbatchcount: 160, size: 1280 total: 10240 loss: 0.02561\n",
            "\t\tЭпоха: 3   loss: 1.71223   accuracy: 74.968%   loss_val: 1.70237   accuracy_val: 75.833%   time = 25.24 c\n",
            "\t\t\tbatchcount: 20, size: 1280 total: 1280 loss: 0.02596\n",
            "\t\t\tbatchcount: 40, size: 1280 total: 2560 loss: 0.02574\n",
            "\t\t\tbatchcount: 60, size: 1280 total: 3840 loss: 0.02572\n",
            "\t\t\tbatchcount: 80, size: 1280 total: 5120 loss: 0.02577\n",
            "\t\t\tbatchcount: 100, size: 1280 total: 6400 loss: 0.02549\n",
            "\t\t\tbatchcount: 120, size: 1280 total: 7680 loss: 0.02576\n",
            "\t\t\tbatchcount: 140, size: 1280 total: 8960 loss: 0.02553\n",
            "\t\t\tbatchcount: 160, size: 1280 total: 10240 loss: 0.02570\n",
            "\t\tЭпоха: 4   loss: 1.64457   accuracy: 81.741%   loss_val: 1.64472   accuracy_val: 81.543%   time = 25.23 c\n",
            "\t\t\tbatchcount: 20, size: 1280 total: 1280 loss: 0.02546\n",
            "\t\t\tbatchcount: 40, size: 1280 total: 2560 loss: 0.02557\n",
            "\t\t\tbatchcount: 60, size: 1280 total: 3840 loss: 0.02571\n",
            "\t\t\tbatchcount: 80, size: 1280 total: 5120 loss: 0.02552\n",
            "\t\t\tbatchcount: 100, size: 1280 total: 6400 loss: 0.02568\n",
            "\t\t\tbatchcount: 120, size: 1280 total: 7680 loss: 0.02569\n",
            "\t\t\tbatchcount: 140, size: 1280 total: 8960 loss: 0.02540\n",
            "\t\t\tbatchcount: 160, size: 1280 total: 10240 loss: 0.02556\n",
            "\t\tЭпоха: 5   loss: 1.63696   accuracy: 82.373%   loss_val: 1.64075   accuracy_val: 81.989%   time = 25.24 c\n",
            "\tLoss на train: 1.63696   accuracy на train: 0.82373\n",
            "\tLoss на valid: 1.64075   accuracy на valid: 0.81989\n",
            "\n",
            "Модель: функция активации: relu, cnn слоёв: 3, fc слоёв: 3, kernel: 3\n",
            "\n",
            "\tМодель state_dict: \n",
            "\t\t conv1.weight :  torch.Size([16, 1, 3, 3])\n",
            "\t\t conv1.bias :  torch.Size([16])\n",
            "\t\t conv2.weight :  torch.Size([32, 16, 3, 3])\n",
            "\t\t conv2.bias :  torch.Size([32])\n",
            "\t\t conv3.weight :  torch.Size([64, 32, 3, 3])\n",
            "\t\t conv3.bias :  torch.Size([64])\n",
            "\t\t fc_dec2.weight :  torch.Size([6400, 25600])\n",
            "\t\t fc_dec2.bias :  torch.Size([6400])\n",
            "\t\t fc_dec1.weight :  torch.Size([1600, 6400])\n",
            "\t\t fc_dec1.bias :  torch.Size([1600])\n",
            "\t\t fc_out.weight :  torch.Size([10, 1600])\n",
            "\t\t fc_out.bias :  torch.Size([10])\n",
            "\n",
            "\tX размеры income: torch.Size([64, 1, 160, 160])\n",
            "\tX размеры conv1, pool: torch.Size([64, 16, 80, 80])\n",
            "\tX размеры conv2, pool: torch.Size([64, 32, 40, 40])\n",
            "\tX размеры conv3, pool: torch.Size([64, 64, 20, 20])\n",
            "\tX размеры x.view: torch.Size([64, 25600])\n",
            "\tX размеры fc_dec2: torch.Size([64, 6400])\n",
            "\tX размеры fc_dec1: torch.Size([64, 1600])\n",
            "\tX размеры fc_out: torch.Size([64, 10])\n",
            "\n",
            "\t\t\tbatchcount: 20, size: 1280 total: 1280 loss: 0.03598\n",
            "\t\t\tbatchcount: 40, size: 1280 total: 2560 loss: 0.03597\n",
            "\t\t\tbatchcount: 60, size: 1280 total: 3840 loss: 0.03596\n",
            "\t\t\tbatchcount: 80, size: 1280 total: 5120 loss: 0.03595\n",
            "\t\t\tbatchcount: 100, size: 1280 total: 6400 loss: 0.03594\n",
            "\t\t\tbatchcount: 120, size: 1280 total: 7680 loss: 0.03594\n",
            "\t\t\tbatchcount: 140, size: 1280 total: 8960 loss: 0.03592\n",
            "\t\t\tbatchcount: 160, size: 1280 total: 10240 loss: 0.03588\n",
            "\t\tЭпоха: 1   loss: 2.30020   accuracy: 16.304%   loss_val: 2.29574   accuracy_val: 14.973%   time = 25.93 c\n",
            "\t\t\tbatchcount: 20, size: 1280 total: 1280 loss: 0.03586\n",
            "\t\t\tbatchcount: 40, size: 1280 total: 2560 loss: 0.03576\n",
            "\t\t\tbatchcount: 60, size: 1280 total: 3840 loss: 0.03566\n",
            "\t\t\tbatchcount: 80, size: 1280 total: 5120 loss: 0.03552\n",
            "\t\t\tbatchcount: 100, size: 1280 total: 6400 loss: 0.03532\n",
            "\t\t\tbatchcount: 120, size: 1280 total: 7680 loss: 0.03499\n",
            "\t\t\tbatchcount: 140, size: 1280 total: 8960 loss: 0.03376\n",
            "\t\t\tbatchcount: 160, size: 1280 total: 10240 loss: 0.03260\n",
            "\t\tЭпоха: 2   loss: 2.22887   accuracy: 22.413%   loss_val: 2.06469   accuracy_val: 39.598%   time = 25.95 c\n",
            "\t\t\tbatchcount: 20, size: 1280 total: 1280 loss: 0.03197\n",
            "\t\t\tbatchcount: 40, size: 1280 total: 2560 loss: 0.03222\n",
            "\t\t\tbatchcount: 60, size: 1280 total: 3840 loss: 0.03191\n",
            "\t\t\tbatchcount: 80, size: 1280 total: 5120 loss: 0.03206\n",
            "\t\t\tbatchcount: 100, size: 1280 total: 6400 loss: 0.03170\n",
            "\t\t\tbatchcount: 120, size: 1280 total: 7680 loss: 0.03143\n",
            "\t\t\tbatchcount: 140, size: 1280 total: 8960 loss: 0.03038\n",
            "\t\t\tbatchcount: 160, size: 1280 total: 10240 loss: 0.02899\n",
            "\t\tЭпоха: 3   loss: 1.99944   accuracy: 46.196%   loss_val: 1.82037   accuracy_val: 64.045%   time = 26.09 c\n",
            "\t\t\tbatchcount: 20, size: 1280 total: 1280 loss: 0.02853\n",
            "\t\t\tbatchcount: 40, size: 1280 total: 2560 loss: 0.02763\n",
            "\t\t\tbatchcount: 60, size: 1280 total: 3840 loss: 0.02766\n",
            "\t\t\tbatchcount: 80, size: 1280 total: 5120 loss: 0.02728\n",
            "\t\t\tbatchcount: 100, size: 1280 total: 6400 loss: 0.02705\n",
            "\t\t\tbatchcount: 120, size: 1280 total: 7680 loss: 0.02640\n",
            "\t\t\tbatchcount: 140, size: 1280 total: 8960 loss: 0.02643\n",
            "\t\t\tbatchcount: 160, size: 1280 total: 10240 loss: 0.02617\n",
            "\t\tЭпоха: 4   loss: 1.73490   accuracy: 73.085%   loss_val: 1.70918   accuracy_val: 75.136%   time = 25.99 c\n",
            "\t\t\tbatchcount: 20, size: 1280 total: 1280 loss: 0.02649\n",
            "\t\t\tbatchcount: 40, size: 1280 total: 2560 loss: 0.02601\n",
            "\t\t\tbatchcount: 60, size: 1280 total: 3840 loss: 0.02599\n",
            "\t\t\tbatchcount: 80, size: 1280 total: 5120 loss: 0.02582\n",
            "\t\t\tbatchcount: 100, size: 1280 total: 6400 loss: 0.02613\n",
            "\t\t\tbatchcount: 120, size: 1280 total: 7680 loss: 0.02567\n",
            "\t\t\tbatchcount: 140, size: 1280 total: 8960 loss: 0.02572\n",
            "\t\t\tbatchcount: 160, size: 1280 total: 10240 loss: 0.02568\n",
            "\t\tЭпоха: 5   loss: 1.65938   accuracy: 80.256%   loss_val: 1.65773   accuracy_val: 80.315%   time = 26.42 c\n",
            "\tLoss на train: 1.65938   accuracy на train: 0.80256\n",
            "\tLoss на valid: 1.65773   accuracy на valid: 0.80315\n",
            "\n",
            "Модель: функция активации: relu, cnn слоёв: 3, fc слоёв: 3, kernel: 5\n",
            "\n",
            "\tМодель state_dict: \n",
            "\t\t conv1.weight :  torch.Size([16, 1, 5, 5])\n",
            "\t\t conv1.bias :  torch.Size([16])\n",
            "\t\t conv2.weight :  torch.Size([32, 16, 5, 5])\n",
            "\t\t conv2.bias :  torch.Size([32])\n",
            "\t\t conv3.weight :  torch.Size([64, 32, 5, 5])\n",
            "\t\t conv3.bias :  torch.Size([64])\n",
            "\t\t fc_dec2.weight :  torch.Size([6400, 25600])\n",
            "\t\t fc_dec2.bias :  torch.Size([6400])\n",
            "\t\t fc_dec1.weight :  torch.Size([1600, 6400])\n",
            "\t\t fc_dec1.bias :  torch.Size([1600])\n",
            "\t\t fc_out.weight :  torch.Size([10, 1600])\n",
            "\t\t fc_out.bias :  torch.Size([10])\n",
            "\n",
            "\tX размеры income: torch.Size([64, 1, 160, 160])\n",
            "\tX размеры conv1, pool: torch.Size([64, 16, 80, 80])\n",
            "\tX размеры conv2, pool: torch.Size([64, 32, 40, 40])\n",
            "\tX размеры conv3, pool: torch.Size([64, 64, 20, 20])\n",
            "\tX размеры x.view: torch.Size([64, 25600])\n",
            "\tX размеры fc_dec2: torch.Size([64, 6400])\n",
            "\tX размеры fc_dec1: torch.Size([64, 1600])\n",
            "\tX размеры fc_out: torch.Size([64, 10])\n",
            "\n",
            "\t\t\tbatchcount: 20, size: 1280 total: 1280 loss: 0.03597\n",
            "\t\t\tbatchcount: 40, size: 1280 total: 2560 loss: 0.03596\n",
            "\t\t\tbatchcount: 60, size: 1280 total: 3840 loss: 0.03595\n",
            "\t\t\tbatchcount: 80, size: 1280 total: 5120 loss: 0.03593\n",
            "\t\t\tbatchcount: 100, size: 1280 total: 6400 loss: 0.03589\n",
            "\t\t\tbatchcount: 120, size: 1280 total: 7680 loss: 0.03577\n",
            "\t\t\tbatchcount: 140, size: 1280 total: 8960 loss: 0.03514\n",
            "\t\t\tbatchcount: 160, size: 1280 total: 10240 loss: 0.03332\n",
            "\t\tЭпоха: 1   loss: 2.26484   accuracy: 19.404%   loss_val: 2.07991   accuracy_val: 38.068%   time = 26.14 c\n",
            "\t\t\tbatchcount: 20, size: 1280 total: 1280 loss: 0.03203\n",
            "\t\t\tbatchcount: 40, size: 1280 total: 2560 loss: 0.03294\n",
            "\t\t\tbatchcount: 60, size: 1280 total: 3840 loss: 0.03419\n",
            "\t\t\tbatchcount: 80, size: 1280 total: 5120 loss: 0.03417\n",
            "\t\t\tbatchcount: 100, size: 1280 total: 6400 loss: 0.03405\n",
            "\t\t\tbatchcount: 120, size: 1280 total: 7680 loss: 0.03418\n",
            "\t\t\tbatchcount: 140, size: 1280 total: 8960 loss: 0.03384\n",
            "\t\t\tbatchcount: 160, size: 1280 total: 10240 loss: 0.03394\n",
            "\t\tЭпоха: 2   loss: 2.15567   accuracy: 30.455%   loss_val: 2.18951   accuracy_val: 26.998%   time = 26.09 c\n",
            "\t\t\tbatchcount: 20, size: 1280 total: 1280 loss: 0.03418\n",
            "\t\t\tbatchcount: 40, size: 1280 total: 2560 loss: 0.03416\n",
            "\t\t\tbatchcount: 60, size: 1280 total: 3840 loss: 0.03365\n",
            "\t\t\tbatchcount: 80, size: 1280 total: 5120 loss: 0.03284\n",
            "\t\t\tbatchcount: 100, size: 1280 total: 6400 loss: 0.03188\n",
            "\t\t\tbatchcount: 120, size: 1280 total: 7680 loss: 0.03096\n",
            "\t\t\tbatchcount: 140, size: 1280 total: 8960 loss: 0.02858\n",
            "\t\t\tbatchcount: 160, size: 1280 total: 10240 loss: 0.02903\n",
            "\t\tЭпоха: 3   loss: 2.03507   accuracy: 42.770%   loss_val: 1.87287   accuracy_val: 58.675%   time = 26.12 c\n",
            "\t\t\tbatchcount: 20, size: 1280 total: 1280 loss: 0.02810\n",
            "\t\t\tbatchcount: 40, size: 1280 total: 2560 loss: 0.02813\n",
            "\t\t\tbatchcount: 60, size: 1280 total: 3840 loss: 0.02779\n",
            "\t\t\tbatchcount: 80, size: 1280 total: 5120 loss: 0.02773\n",
            "\t\t\tbatchcount: 100, size: 1280 total: 6400 loss: 0.02778\n",
            "\t\t\tbatchcount: 120, size: 1280 total: 7680 loss: 0.02726\n",
            "\t\t\tbatchcount: 140, size: 1280 total: 8960 loss: 0.02709\n",
            "\t\t\tbatchcount: 160, size: 1280 total: 10240 loss: 0.02761\n",
            "\t\tЭпоха: 4   loss: 1.77239   accuracy: 68.823%   loss_val: 1.85910   accuracy_val: 60.168%   time = 26.07 c\n",
            "\t\t\tbatchcount: 20, size: 1280 total: 1280 loss: 0.02755\n",
            "\t\t\tbatchcount: 40, size: 1280 total: 2560 loss: 0.02757\n",
            "\t\t\tbatchcount: 60, size: 1280 total: 3840 loss: 0.02757\n",
            "\t\t\tbatchcount: 80, size: 1280 total: 5120 loss: 0.02682\n",
            "\t\t\tbatchcount: 100, size: 1280 total: 6400 loss: 0.02681\n",
            "\t\t\tbatchcount: 120, size: 1280 total: 7680 loss: 0.02720\n",
            "\t\t\tbatchcount: 140, size: 1280 total: 8960 loss: 0.02651\n",
            "\t\t\tbatchcount: 160, size: 1280 total: 10240 loss: 0.02699\n",
            "\t\tЭпоха: 5   loss: 1.73297   accuracy: 72.777%   loss_val: 1.71275   accuracy_val: 74.751%   time = 26.05 c\n",
            "\tLoss на train: 1.73297   accuracy на train: 0.72777\n",
            "\tLoss на valid: 1.71275   accuracy на valid: 0.74751\n",
            "\n",
            "Модель: функция активации: elu, cnn слоёв: 2, fc слоёв: 2, kernel: 3\n",
            "\n",
            "\tМодель state_dict: \n",
            "\t\t conv1.weight :  torch.Size([16, 1, 3, 3])\n",
            "\t\t conv1.bias :  torch.Size([16])\n",
            "\t\t conv2.weight :  torch.Size([32, 16, 3, 3])\n",
            "\t\t conv2.bias :  torch.Size([32])\n",
            "\t\t fc_dec1.weight :  torch.Size([12800, 51200])\n",
            "\t\t fc_dec1.bias :  torch.Size([12800])\n",
            "\t\t fc_out.weight :  torch.Size([10, 12800])\n",
            "\t\t fc_out.bias :  torch.Size([10])\n",
            "\n",
            "\tX размеры income: torch.Size([64, 1, 160, 160])\n",
            "\tX размеры conv1, pool: torch.Size([64, 16, 80, 80])\n",
            "\tX размеры conv2, pool: torch.Size([64, 32, 40, 40])\n",
            "\tX размеры x.view: torch.Size([64, 51200])\n",
            "\tX размеры fc_dec1: torch.Size([64, 12800])\n",
            "\tX размеры fc_out: torch.Size([64, 10])\n",
            "\n",
            "\t\t\tbatchcount: 20, size: 1280 total: 1280 loss: 0.03536\n",
            "\t\t\tbatchcount: 40, size: 1280 total: 2560 loss: 0.03328\n",
            "\t\t\tbatchcount: 60, size: 1280 total: 3840 loss: 0.03159\n",
            "\t\t\tbatchcount: 80, size: 1280 total: 5120 loss: 0.03101\n",
            "\t\t\tbatchcount: 100, size: 1280 total: 6400 loss: 0.03005\n",
            "\t\t\tbatchcount: 120, size: 1280 total: 7680 loss: 0.02967\n",
            "\t\t\tbatchcount: 140, size: 1280 total: 8960 loss: 0.02824\n",
            "\t\t\tbatchcount: 160, size: 1280 total: 10240 loss: 0.02732\n",
            "\t\tЭпоха: 1   loss: 1.96267   accuracy: 50.426%   loss_val: 1.68750   accuracy_val: 78.083%   time = 50.70 c\n",
            "\t\t\tbatchcount: 20, size: 1280 total: 1280 loss: 0.02614\n",
            "\t\t\tbatchcount: 40, size: 1280 total: 2560 loss: 0.02555\n",
            "\t\t\tbatchcount: 60, size: 1280 total: 3840 loss: 0.02498\n",
            "\t\t\tbatchcount: 80, size: 1280 total: 5120 loss: 0.02520\n",
            "\t\t\tbatchcount: 100, size: 1280 total: 6400 loss: 0.02506\n",
            "\t\t\tbatchcount: 120, size: 1280 total: 7680 loss: 0.02499\n",
            "\t\t\tbatchcount: 140, size: 1280 total: 8960 loss: 0.02488\n",
            "\t\t\tbatchcount: 160, size: 1280 total: 10240 loss: 0.02477\n",
            "\t\tЭпоха: 2   loss: 1.61140   accuracy: 85.470%   loss_val: 1.59186   accuracy_val: 87.139%   time = 50.93 c\n",
            "\t\t\tbatchcount: 20, size: 1280 total: 1280 loss: 0.02507\n",
            "\t\t\tbatchcount: 40, size: 1280 total: 2560 loss: 0.02493\n",
            "\t\t\tbatchcount: 60, size: 1280 total: 3840 loss: 0.02484\n",
            "\t\t\tbatchcount: 80, size: 1280 total: 5120 loss: 0.02495\n",
            "\t\t\tbatchcount: 100, size: 1280 total: 6400 loss: 0.02477\n",
            "\t\t\tbatchcount: 120, size: 1280 total: 7680 loss: 0.02482\n",
            "\t\t\tbatchcount: 140, size: 1280 total: 8960 loss: 0.02457\n",
            "\t\t\tbatchcount: 160, size: 1280 total: 10240 loss: 0.02433\n",
            "\t\tЭпоха: 3   loss: 1.58614   accuracy: 87.718%   loss_val: 1.57964   accuracy_val: 88.231%   time = 51.09 c\n",
            "\t\t\tbatchcount: 20, size: 1280 total: 1280 loss: 0.02464\n",
            "\t\t\tbatchcount: 40, size: 1280 total: 2560 loss: 0.02455\n",
            "\t\t\tbatchcount: 60, size: 1280 total: 3840 loss: 0.02451\n",
            "\t\t\tbatchcount: 80, size: 1280 total: 5120 loss: 0.02476\n",
            "\t\t\tbatchcount: 100, size: 1280 total: 6400 loss: 0.02452\n",
            "\t\t\tbatchcount: 120, size: 1280 total: 7680 loss: 0.02449\n",
            "\t\t\tbatchcount: 140, size: 1280 total: 8960 loss: 0.02468\n",
            "\t\t\tbatchcount: 160, size: 1280 total: 10240 loss: 0.02458\n",
            "\t\tЭпоха: 4   loss: 1.57376   accuracy: 88.845%   loss_val: 1.57993   accuracy_val: 88.624%   time = 51.11 c\n",
            "\t\t\tbatchcount: 20, size: 1280 total: 1280 loss: 0.02461\n",
            "\t\t\tbatchcount: 40, size: 1280 total: 2560 loss: 0.02425\n",
            "\t\t\tbatchcount: 60, size: 1280 total: 3840 loss: 0.02461\n",
            "\t\t\tbatchcount: 80, size: 1280 total: 5120 loss: 0.02456\n",
            "\t\t\tbatchcount: 100, size: 1280 total: 6400 loss: 0.02441\n",
            "\t\t\tbatchcount: 120, size: 1280 total: 7680 loss: 0.02452\n",
            "\t\t\tbatchcount: 140, size: 1280 total: 8960 loss: 0.02427\n",
            "\t\t\tbatchcount: 160, size: 1280 total: 10240 loss: 0.02440\n",
            "\t\tЭпоха: 5   loss: 1.56548   accuracy: 89.645%   loss_val: 1.57247   accuracy_val: 88.896%   time = 51.11 c\n",
            "\tLoss на train: 1.56548   accuracy на train: 0.89645\n",
            "\tLoss на valid: 1.57247   accuracy на valid: 0.88896\n",
            "\n",
            "Модель: функция активации: elu, cnn слоёв: 2, fc слоёв: 2, kernel: 5\n",
            "\n",
            "\tМодель state_dict: \n",
            "\t\t conv1.weight :  torch.Size([16, 1, 5, 5])\n",
            "\t\t conv1.bias :  torch.Size([16])\n",
            "\t\t conv2.weight :  torch.Size([32, 16, 5, 5])\n",
            "\t\t conv2.bias :  torch.Size([32])\n",
            "\t\t fc_dec1.weight :  torch.Size([12800, 51200])\n",
            "\t\t fc_dec1.bias :  torch.Size([12800])\n",
            "\t\t fc_out.weight :  torch.Size([10, 12800])\n",
            "\t\t fc_out.bias :  torch.Size([10])\n",
            "\n",
            "\tX размеры income: torch.Size([64, 1, 160, 160])\n",
            "\tX размеры conv1, pool: torch.Size([64, 16, 80, 80])\n",
            "\tX размеры conv2, pool: torch.Size([64, 32, 40, 40])\n",
            "\tX размеры x.view: torch.Size([64, 51200])\n",
            "\tX размеры fc_dec1: torch.Size([64, 12800])\n",
            "\tX размеры fc_out: torch.Size([64, 10])\n",
            "\n",
            "\t\t\tbatchcount: 20, size: 1280 total: 1280 loss: 0.03548\n",
            "\t\t\tbatchcount: 40, size: 1280 total: 2560 loss: 0.03269\n",
            "\t\t\tbatchcount: 60, size: 1280 total: 3840 loss: 0.02959\n",
            "\t\t\tbatchcount: 80, size: 1280 total: 5120 loss: 0.02885\n",
            "\t\t\tbatchcount: 100, size: 1280 total: 6400 loss: 0.02898\n",
            "\t\t\tbatchcount: 120, size: 1280 total: 7680 loss: 0.02885\n",
            "\t\t\tbatchcount: 140, size: 1280 total: 8960 loss: 0.02803\n",
            "\t\t\tbatchcount: 160, size: 1280 total: 10240 loss: 0.02856\n",
            "\t\tЭпоха: 1   loss: 1.92466   accuracy: 53.769%   loss_val: 1.80520   accuracy_val: 65.318%   time = 56.39 c\n",
            "\t\t\tbatchcount: 20, size: 1280 total: 1280 loss: 0.02751\n",
            "\t\t\tbatchcount: 40, size: 1280 total: 2560 loss: 0.02672\n",
            "\t\t\tbatchcount: 60, size: 1280 total: 3840 loss: 0.02621\n",
            "\t\t\tbatchcount: 80, size: 1280 total: 5120 loss: 0.02603\n",
            "\t\t\tbatchcount: 100, size: 1280 total: 6400 loss: 0.02584\n",
            "\t\t\tbatchcount: 120, size: 1280 total: 7680 loss: 0.02591\n",
            "\t\t\tbatchcount: 140, size: 1280 total: 8960 loss: 0.02574\n",
            "\t\t\tbatchcount: 160, size: 1280 total: 10240 loss: 0.02568\n",
            "\t\tЭпоха: 2   loss: 1.67756   accuracy: 78.571%   loss_val: 1.65283   accuracy_val: 80.948%   time = 51.03 c\n",
            "\t\t\tbatchcount: 20, size: 1280 total: 1280 loss: 0.02576\n",
            "\t\t\tbatchcount: 40, size: 1280 total: 2560 loss: 0.02569\n",
            "\t\t\tbatchcount: 60, size: 1280 total: 3840 loss: 0.02554\n",
            "\t\t\tbatchcount: 80, size: 1280 total: 5120 loss: 0.02581\n",
            "\t\t\tbatchcount: 100, size: 1280 total: 6400 loss: 0.02569\n",
            "\t\t\tbatchcount: 120, size: 1280 total: 7680 loss: 0.02562\n",
            "\t\t\tbatchcount: 140, size: 1280 total: 8960 loss: 0.02578\n",
            "\t\t\tbatchcount: 160, size: 1280 total: 10240 loss: 0.02563\n",
            "\t\tЭпоха: 3   loss: 1.64466   accuracy: 81.792%   loss_val: 1.64743   accuracy_val: 81.373%   time = 50.76 c\n",
            "\t\t\tbatchcount: 20, size: 1280 total: 1280 loss: 0.02563\n",
            "\t\t\tbatchcount: 40, size: 1280 total: 2560 loss: 0.02543\n",
            "\t\t\tbatchcount: 60, size: 1280 total: 3840 loss: 0.02554\n",
            "\t\t\tbatchcount: 80, size: 1280 total: 5120 loss: 0.02553\n",
            "\t\t\tbatchcount: 100, size: 1280 total: 6400 loss: 0.02546\n",
            "\t\t\tbatchcount: 120, size: 1280 total: 7680 loss: 0.02560\n",
            "\t\t\tbatchcount: 140, size: 1280 total: 8960 loss: 0.02568\n",
            "\t\t\tbatchcount: 160, size: 1280 total: 10240 loss: 0.02595\n",
            "\t\tЭпоха: 4   loss: 1.63879   accuracy: 82.275%   loss_val: 1.64862   accuracy_val: 81.187%   time = 50.14 c\n",
            "\t\t\tbatchcount: 20, size: 1280 total: 1280 loss: 0.02572\n",
            "\t\t\tbatchcount: 40, size: 1280 total: 2560 loss: 0.02602\n",
            "\t\t\tbatchcount: 60, size: 1280 total: 3840 loss: 0.02545\n",
            "\t\t\tbatchcount: 80, size: 1280 total: 5120 loss: 0.02545\n",
            "\t\t\tbatchcount: 100, size: 1280 total: 6400 loss: 0.02573\n",
            "\t\t\tbatchcount: 120, size: 1280 total: 7680 loss: 0.02565\n",
            "\t\t\tbatchcount: 140, size: 1280 total: 8960 loss: 0.02526\n",
            "\t\t\tbatchcount: 160, size: 1280 total: 10240 loss: 0.02549\n",
            "\t\tЭпоха: 5   loss: 1.63880   accuracy: 82.209%   loss_val: 1.64312   accuracy_val: 81.774%   time = 50.15 c\n",
            "\tLoss на train: 1.63880   accuracy на train: 0.82209\n",
            "\tLoss на valid: 1.64312   accuracy на valid: 0.81774\n",
            "\n",
            "Модель: функция активации: elu, cnn слоёв: 2, fc слоёв: 3, kernel: 3\n",
            "\n",
            "\tМодель state_dict: \n",
            "\t\t conv1.weight :  torch.Size([16, 1, 3, 3])\n",
            "\t\t conv1.bias :  torch.Size([16])\n",
            "\t\t conv2.weight :  torch.Size([32, 16, 3, 3])\n",
            "\t\t conv2.bias :  torch.Size([32])\n",
            "\t\t fc_dec2.weight :  torch.Size([12800, 51200])\n",
            "\t\t fc_dec2.bias :  torch.Size([12800])\n",
            "\t\t fc_dec1.weight :  torch.Size([3200, 12800])\n",
            "\t\t fc_dec1.bias :  torch.Size([3200])\n",
            "\t\t fc_out.weight :  torch.Size([10, 3200])\n",
            "\t\t fc_out.bias :  torch.Size([10])\n",
            "\n",
            "\tX размеры income: torch.Size([64, 1, 160, 160])\n",
            "\tX размеры conv1, pool: torch.Size([64, 16, 80, 80])\n",
            "\tX размеры conv2, pool: torch.Size([64, 32, 40, 40])\n",
            "\tX размеры x.view: torch.Size([64, 51200])\n",
            "\tX размеры fc_dec2: torch.Size([64, 12800])\n",
            "\tX размеры fc_dec1: torch.Size([64, 3200])\n",
            "\tX размеры fc_out: torch.Size([64, 10])\n",
            "\n",
            "\t\t\tbatchcount: 20, size: 1280 total: 1280 loss: 0.03572\n",
            "\t\t\tbatchcount: 40, size: 1280 total: 2560 loss: 0.03527\n",
            "\t\t\tbatchcount: 60, size: 1280 total: 3840 loss: 0.03364\n",
            "\t\t\tbatchcount: 80, size: 1280 total: 5120 loss: 0.03204\n",
            "\t\t\tbatchcount: 100, size: 1280 total: 6400 loss: 0.03117\n",
            "\t\t\tbatchcount: 120, size: 1280 total: 7680 loss: 0.02952\n",
            "\t\t\tbatchcount: 140, size: 1280 total: 8960 loss: 0.02786\n",
            "\t\t\tbatchcount: 160, size: 1280 total: 10240 loss: 0.02711\n",
            "\t\tЭпоха: 1   loss: 2.00845   accuracy: 46.473%   loss_val: 1.69882   accuracy_val: 78.120%   time = 58.91 c\n",
            "\t\t\tbatchcount: 20, size: 1280 total: 1280 loss: 0.02645\n",
            "\t\t\tbatchcount: 40, size: 1280 total: 2560 loss: 0.02613\n",
            "\t\t\tbatchcount: 60, size: 1280 total: 3840 loss: 0.02583\n",
            "\t\t\tbatchcount: 80, size: 1280 total: 5120 loss: 0.02580\n",
            "\t\t\tbatchcount: 100, size: 1280 total: 6400 loss: 0.02598\n",
            "\t\t\tbatchcount: 120, size: 1280 total: 7680 loss: 0.02574\n",
            "\t\t\tbatchcount: 140, size: 1280 total: 8960 loss: 0.02588\n",
            "\t\t\tbatchcount: 160, size: 1280 total: 10240 loss: 0.02551\n",
            "\t\tЭпоха: 2   loss: 1.65719   accuracy: 80.860%   loss_val: 1.65128   accuracy_val: 80.977%   time = 54.03 c\n",
            "\t\t\tbatchcount: 20, size: 1280 total: 1280 loss: 0.02577\n",
            "\t\t\tbatchcount: 40, size: 1280 total: 2560 loss: 0.02569\n",
            "\t\t\tbatchcount: 60, size: 1280 total: 3840 loss: 0.02551\n",
            "\t\t\tbatchcount: 80, size: 1280 total: 5120 loss: 0.02567\n",
            "\t\t\tbatchcount: 100, size: 1280 total: 6400 loss: 0.02520\n",
            "\t\t\tbatchcount: 120, size: 1280 total: 7680 loss: 0.02501\n",
            "\t\t\tbatchcount: 140, size: 1280 total: 8960 loss: 0.02519\n",
            "\t\t\tbatchcount: 160, size: 1280 total: 10240 loss: 0.02500\n",
            "\t\tЭпоха: 3   loss: 1.62278   accuracy: 84.103%   loss_val: 1.59300   accuracy_val: 86.958%   time = 53.40 c\n",
            "\t\t\tbatchcount: 20, size: 1280 total: 1280 loss: 0.02478\n",
            "\t\t\tbatchcount: 40, size: 1280 total: 2560 loss: 0.02490\n",
            "\t\t\tbatchcount: 60, size: 1280 total: 3840 loss: 0.02451\n",
            "\t\t\tbatchcount: 80, size: 1280 total: 5120 loss: 0.02479\n",
            "\t\t\tbatchcount: 100, size: 1280 total: 6400 loss: 0.02420\n",
            "\t\t\tbatchcount: 120, size: 1280 total: 7680 loss: 0.02437\n",
            "\t\t\tbatchcount: 140, size: 1280 total: 8960 loss: 0.02449\n",
            "\t\t\tbatchcount: 160, size: 1280 total: 10240 loss: 0.02459\n",
            "\t\tЭпоха: 4   loss: 1.57284   accuracy: 88.995%   loss_val: 1.56795   accuracy_val: 89.645%   time = 53.45 c\n",
            "\t\t\tbatchcount: 20, size: 1280 total: 1280 loss: 0.02447\n",
            "\t\t\tbatchcount: 40, size: 1280 total: 2560 loss: 0.02428\n",
            "\t\t\tbatchcount: 60, size: 1280 total: 3840 loss: 0.02448\n",
            "\t\t\tbatchcount: 80, size: 1280 total: 5120 loss: 0.02447\n",
            "\t\t\tbatchcount: 100, size: 1280 total: 6400 loss: 0.02424\n",
            "\t\t\tbatchcount: 120, size: 1280 total: 7680 loss: 0.02442\n",
            "\t\t\tbatchcount: 140, size: 1280 total: 8960 loss: 0.02455\n",
            "\t\t\tbatchcount: 160, size: 1280 total: 10240 loss: 0.02454\n",
            "\t\tЭпоха: 5   loss: 1.56289   accuracy: 89.989%   loss_val: 1.56079   accuracy_val: 90.062%   time = 53.45 c\n",
            "\tLoss на train: 1.56289   accuracy на train: 0.89989\n",
            "\tLoss на valid: 1.56079   accuracy на valid: 0.90062\n",
            "\n",
            "Модель: функция активации: elu, cnn слоёв: 2, fc слоёв: 3, kernel: 5\n",
            "\n",
            "\tМодель state_dict: \n",
            "\t\t conv1.weight :  torch.Size([16, 1, 5, 5])\n",
            "\t\t conv1.bias :  torch.Size([16])\n",
            "\t\t conv2.weight :  torch.Size([32, 16, 5, 5])\n",
            "\t\t conv2.bias :  torch.Size([32])\n",
            "\t\t fc_dec2.weight :  torch.Size([12800, 51200])\n",
            "\t\t fc_dec2.bias :  torch.Size([12800])\n",
            "\t\t fc_dec1.weight :  torch.Size([3200, 12800])\n",
            "\t\t fc_dec1.bias :  torch.Size([3200])\n",
            "\t\t fc_out.weight :  torch.Size([10, 3200])\n",
            "\t\t fc_out.bias :  torch.Size([10])\n",
            "\n",
            "\tX размеры income: torch.Size([64, 1, 160, 160])\n",
            "\tX размеры conv1, pool: torch.Size([64, 16, 80, 80])\n",
            "\tX размеры conv2, pool: torch.Size([64, 32, 40, 40])\n",
            "\tX размеры x.view: torch.Size([64, 51200])\n",
            "\tX размеры fc_dec2: torch.Size([64, 12800])\n",
            "\tX размеры fc_dec1: torch.Size([64, 3200])\n",
            "\tX размеры fc_out: torch.Size([64, 10])\n",
            "\n",
            "\t\t\tbatchcount: 20, size: 1280 total: 1280 loss: 0.03583\n",
            "\t\t\tbatchcount: 40, size: 1280 total: 2560 loss: 0.03481\n",
            "\t\t\tbatchcount: 60, size: 1280 total: 3840 loss: 0.03271\n",
            "\t\t\tbatchcount: 80, size: 1280 total: 5120 loss: 0.03102\n",
            "\t\t\tbatchcount: 100, size: 1280 total: 6400 loss: 0.02934\n",
            "\t\t\tbatchcount: 120, size: 1280 total: 7680 loss: 0.02735\n",
            "\t\t\tbatchcount: 140, size: 1280 total: 8960 loss: 0.02592\n",
            "\t\t\tbatchcount: 160, size: 1280 total: 10240 loss: 0.02525\n",
            "\t\tЭпоха: 1   loss: 1.92567   accuracy: 54.156%   loss_val: 1.60583   accuracy_val: 85.954%   time = 57.47 c\n",
            "\t\t\tbatchcount: 20, size: 1280 total: 1280 loss: 0.02476\n",
            "\t\t\tbatchcount: 40, size: 1280 total: 2560 loss: 0.02441\n",
            "\t\t\tbatchcount: 60, size: 1280 total: 3840 loss: 0.02453\n",
            "\t\t\tbatchcount: 80, size: 1280 total: 5120 loss: 0.02395\n",
            "\t\t\tbatchcount: 100, size: 1280 total: 6400 loss: 0.02429\n",
            "\t\t\tbatchcount: 120, size: 1280 total: 7680 loss: 0.02433\n",
            "\t\t\tbatchcount: 140, size: 1280 total: 8960 loss: 0.02423\n",
            "\t\t\tbatchcount: 160, size: 1280 total: 10240 loss: 0.02385\n",
            "\t\tЭпоха: 2   loss: 1.55390   accuracy: 91.319%   loss_val: 1.53324   accuracy_val: 93.163%   time = 53.26 c\n",
            "\t\t\tbatchcount: 20, size: 1280 total: 1280 loss: 0.02369\n",
            "\t\t\tbatchcount: 40, size: 1280 total: 2560 loss: 0.02373\n",
            "\t\t\tbatchcount: 60, size: 1280 total: 3840 loss: 0.02361\n",
            "\t\t\tbatchcount: 80, size: 1280 total: 5120 loss: 0.02351\n",
            "\t\t\tbatchcount: 100, size: 1280 total: 6400 loss: 0.02357\n",
            "\t\t\tbatchcount: 120, size: 1280 total: 7680 loss: 0.02368\n",
            "\t\t\tbatchcount: 140, size: 1280 total: 8960 loss: 0.02345\n",
            "\t\t\tbatchcount: 160, size: 1280 total: 10240 loss: 0.02353\n",
            "\t\tЭпоха: 3   loss: 1.50961   accuracy: 95.454%   loss_val: 1.50003   accuracy_val: 96.399%   time = 52.76 c\n",
            "\t\t\tbatchcount: 20, size: 1280 total: 1280 loss: 0.02336\n",
            "\t\t\tbatchcount: 40, size: 1280 total: 2560 loss: 0.02328\n",
            "\t\t\tbatchcount: 60, size: 1280 total: 3840 loss: 0.02341\n",
            "\t\t\tbatchcount: 80, size: 1280 total: 5120 loss: 0.02340\n",
            "\t\t\tbatchcount: 100, size: 1280 total: 6400 loss: 0.02354\n",
            "\t\t\tbatchcount: 120, size: 1280 total: 7680 loss: 0.02335\n",
            "\t\t\tbatchcount: 140, size: 1280 total: 8960 loss: 0.02343\n",
            "\t\t\tbatchcount: 160, size: 1280 total: 10240 loss: 0.02339\n",
            "\t\tЭпоха: 4   loss: 1.49748   accuracy: 96.571%   loss_val: 1.49793   accuracy_val: 96.540%   time = 52.81 c\n",
            "\t\t\tbatchcount: 20, size: 1280 total: 1280 loss: 0.02333\n",
            "\t\t\tbatchcount: 40, size: 1280 total: 2560 loss: 0.02343\n",
            "\t\t\tbatchcount: 60, size: 1280 total: 3840 loss: 0.02346\n",
            "\t\t\tbatchcount: 80, size: 1280 total: 5120 loss: 0.02323\n",
            "\t\t\tbatchcount: 100, size: 1280 total: 6400 loss: 0.02316\n",
            "\t\t\tbatchcount: 120, size: 1280 total: 7680 loss: 0.02317\n",
            "\t\t\tbatchcount: 140, size: 1280 total: 8960 loss: 0.02325\n",
            "\t\t\tbatchcount: 160, size: 1280 total: 10240 loss: 0.02315\n",
            "\t\tЭпоха: 5   loss: 1.48917   accuracy: 97.299%   loss_val: 1.48928   accuracy_val: 97.218%   time = 53.34 c\n",
            "\tLoss на train: 1.48917   accuracy на train: 0.97299\n",
            "\tLoss на valid: 1.48928   accuracy на valid: 0.97218\n",
            "\n",
            "Модель: функция активации: elu, cnn слоёв: 3, fc слоёв: 2, kernel: 3\n",
            "\n",
            "\tМодель state_dict: \n",
            "\t\t conv1.weight :  torch.Size([16, 1, 3, 3])\n",
            "\t\t conv1.bias :  torch.Size([16])\n",
            "\t\t conv2.weight :  torch.Size([32, 16, 3, 3])\n",
            "\t\t conv2.bias :  torch.Size([32])\n",
            "\t\t conv3.weight :  torch.Size([64, 32, 3, 3])\n",
            "\t\t conv3.bias :  torch.Size([64])\n",
            "\t\t fc_dec1.weight :  torch.Size([6400, 25600])\n",
            "\t\t fc_dec1.bias :  torch.Size([6400])\n",
            "\t\t fc_out.weight :  torch.Size([10, 6400])\n",
            "\t\t fc_out.bias :  torch.Size([10])\n",
            "\n",
            "\tX размеры income: torch.Size([64, 1, 160, 160])\n",
            "\tX размеры conv1, pool: torch.Size([64, 16, 80, 80])\n",
            "\tX размеры conv2, pool: torch.Size([64, 32, 40, 40])\n",
            "\tX размеры conv3, pool: torch.Size([64, 64, 20, 20])\n",
            "\tX размеры x.view: torch.Size([64, 25600])\n",
            "\tX размеры fc_dec1: torch.Size([64, 6400])\n",
            "\tX размеры fc_out: torch.Size([64, 10])\n",
            "\n",
            "\t\t\tbatchcount: 20, size: 1280 total: 1280 loss: 0.03589\n",
            "\t\t\tbatchcount: 40, size: 1280 total: 2560 loss: 0.03537\n",
            "\t\t\tbatchcount: 60, size: 1280 total: 3840 loss: 0.03404\n",
            "\t\t\tbatchcount: 80, size: 1280 total: 5120 loss: 0.03257\n",
            "\t\t\tbatchcount: 100, size: 1280 total: 6400 loss: 0.03177\n",
            "\t\t\tbatchcount: 120, size: 1280 total: 7680 loss: 0.03187\n",
            "\t\t\tbatchcount: 140, size: 1280 total: 8960 loss: 0.03208\n",
            "\t\t\tbatchcount: 160, size: 1280 total: 10240 loss: 0.03190\n",
            "\t\tЭпоха: 1   loss: 2.12056   accuracy: 35.078%   loss_val: 2.04942   accuracy_val: 40.775%   time = 30.95 c\n",
            "\t\t\tbatchcount: 20, size: 1280 total: 1280 loss: 0.03190\n",
            "\t\t\tbatchcount: 40, size: 1280 total: 2560 loss: 0.03121\n",
            "\t\t\tbatchcount: 60, size: 1280 total: 3840 loss: 0.03044\n",
            "\t\t\tbatchcount: 80, size: 1280 total: 5120 loss: 0.02986\n",
            "\t\t\tbatchcount: 100, size: 1280 total: 6400 loss: 0.02922\n",
            "\t\t\tbatchcount: 120, size: 1280 total: 7680 loss: 0.02799\n",
            "\t\t\tbatchcount: 140, size: 1280 total: 8960 loss: 0.02700\n",
            "\t\t\tbatchcount: 160, size: 1280 total: 10240 loss: 0.02644\n",
            "\t\tЭпоха: 2   loss: 1.86560   accuracy: 59.937%   loss_val: 1.66445   accuracy_val: 80.368%   time = 26.50 c\n",
            "\t\t\tbatchcount: 20, size: 1280 total: 1280 loss: 0.02601\n",
            "\t\t\tbatchcount: 40, size: 1280 total: 2560 loss: 0.02578\n",
            "\t\t\tbatchcount: 60, size: 1280 total: 3840 loss: 0.02532\n",
            "\t\t\tbatchcount: 80, size: 1280 total: 5120 loss: 0.02572\n",
            "\t\t\tbatchcount: 100, size: 1280 total: 6400 loss: 0.02586\n",
            "\t\t\tbatchcount: 120, size: 1280 total: 7680 loss: 0.02573\n",
            "\t\t\tbatchcount: 140, size: 1280 total: 8960 loss: 0.02593\n",
            "\t\t\tbatchcount: 160, size: 1280 total: 10240 loss: 0.02581\n",
            "\t\tЭпоха: 3   loss: 1.64900   accuracy: 81.491%   loss_val: 1.64682   accuracy_val: 81.497%   time = 25.49 c\n",
            "\t\t\tbatchcount: 20, size: 1280 total: 1280 loss: 0.02586\n",
            "\t\t\tbatchcount: 40, size: 1280 total: 2560 loss: 0.02528\n",
            "\t\t\tbatchcount: 60, size: 1280 total: 3840 loss: 0.02531\n",
            "\t\t\tbatchcount: 80, size: 1280 total: 5120 loss: 0.02552\n",
            "\t\t\tbatchcount: 100, size: 1280 total: 6400 loss: 0.02603\n",
            "\t\t\tbatchcount: 120, size: 1280 total: 7680 loss: 0.02568\n",
            "\t\t\tbatchcount: 140, size: 1280 total: 8960 loss: 0.02574\n",
            "\t\t\tbatchcount: 160, size: 1280 total: 10240 loss: 0.02576\n",
            "\t\tЭпоха: 4   loss: 1.64221   accuracy: 81.990%   loss_val: 1.64684   accuracy_val: 81.750%   time = 25.30 c\n",
            "\t\t\tbatchcount: 20, size: 1280 total: 1280 loss: 0.02586\n",
            "\t\t\tbatchcount: 40, size: 1280 total: 2560 loss: 0.02536\n",
            "\t\t\tbatchcount: 60, size: 1280 total: 3840 loss: 0.02553\n",
            "\t\t\tbatchcount: 80, size: 1280 total: 5120 loss: 0.02578\n",
            "\t\t\tbatchcount: 100, size: 1280 total: 6400 loss: 0.02556\n",
            "\t\t\tbatchcount: 120, size: 1280 total: 7680 loss: 0.02575\n",
            "\t\t\tbatchcount: 140, size: 1280 total: 8960 loss: 0.02532\n",
            "\t\t\tbatchcount: 160, size: 1280 total: 10240 loss: 0.02508\n",
            "\t\tЭпоха: 5   loss: 1.63256   accuracy: 82.943%   loss_val: 1.59996   accuracy_val: 86.288%   time = 25.26 c\n",
            "\tLoss на train: 1.63256   accuracy на train: 0.82943\n",
            "\tLoss на valid: 1.59996   accuracy на valid: 0.86288\n",
            "\n",
            "Модель: функция активации: elu, cnn слоёв: 3, fc слоёв: 2, kernel: 5\n",
            "\n",
            "\tМодель state_dict: \n",
            "\t\t conv1.weight :  torch.Size([16, 1, 5, 5])\n",
            "\t\t conv1.bias :  torch.Size([16])\n",
            "\t\t conv2.weight :  torch.Size([32, 16, 5, 5])\n",
            "\t\t conv2.bias :  torch.Size([32])\n",
            "\t\t conv3.weight :  torch.Size([64, 32, 5, 5])\n",
            "\t\t conv3.bias :  torch.Size([64])\n",
            "\t\t fc_dec1.weight :  torch.Size([6400, 25600])\n",
            "\t\t fc_dec1.bias :  torch.Size([6400])\n",
            "\t\t fc_out.weight :  torch.Size([10, 6400])\n",
            "\t\t fc_out.bias :  torch.Size([10])\n",
            "\n",
            "\tX размеры income: torch.Size([64, 1, 160, 160])\n",
            "\tX размеры conv1, pool: torch.Size([64, 16, 80, 80])\n",
            "\tX размеры conv2, pool: torch.Size([64, 32, 40, 40])\n",
            "\tX размеры conv3, pool: torch.Size([64, 64, 20, 20])\n",
            "\tX размеры x.view: torch.Size([64, 25600])\n",
            "\tX размеры fc_dec1: torch.Size([64, 6400])\n",
            "\tX размеры fc_out: torch.Size([64, 10])\n",
            "\n",
            "\t\t\tbatchcount: 20, size: 1280 total: 1280 loss: 0.03594\n",
            "\t\t\tbatchcount: 40, size: 1280 total: 2560 loss: 0.03540\n",
            "\t\t\tbatchcount: 60, size: 1280 total: 3840 loss: 0.03348\n",
            "\t\t\tbatchcount: 80, size: 1280 total: 5120 loss: 0.03228\n",
            "\t\t\tbatchcount: 100, size: 1280 total: 6400 loss: 0.03199\n",
            "\t\t\tbatchcount: 120, size: 1280 total: 7680 loss: 0.03188\n",
            "\t\t\tbatchcount: 140, size: 1280 total: 8960 loss: 0.03204\n",
            "\t\t\tbatchcount: 160, size: 1280 total: 10240 loss: 0.03211\n",
            "\t\tЭпоха: 1   loss: 2.11845   accuracy: 33.532%   loss_val: 2.04850   accuracy_val: 40.924%   time = 25.85 c\n",
            "\t\t\tbatchcount: 20, size: 1280 total: 1280 loss: 0.03158\n",
            "\t\t\tbatchcount: 40, size: 1280 total: 2560 loss: 0.03069\n",
            "\t\t\tbatchcount: 60, size: 1280 total: 3840 loss: 0.03070\n",
            "\t\t\tbatchcount: 80, size: 1280 total: 5120 loss: 0.02927\n",
            "\t\t\tbatchcount: 100, size: 1280 total: 6400 loss: 0.02795\n",
            "\t\t\tbatchcount: 120, size: 1280 total: 7680 loss: 0.02758\n",
            "\t\t\tbatchcount: 140, size: 1280 total: 8960 loss: 0.02754\n",
            "\t\t\tbatchcount: 160, size: 1280 total: 10240 loss: 0.02731\n",
            "\t\tЭпоха: 2   loss: 1.85807   accuracy: 60.488%   loss_val: 1.75129   accuracy_val: 70.890%   time = 25.85 c\n",
            "\t\t\tbatchcount: 20, size: 1280 total: 1280 loss: 0.02753\n",
            "\t\t\tbatchcount: 40, size: 1280 total: 2560 loss: 0.02718\n",
            "\t\t\tbatchcount: 60, size: 1280 total: 3840 loss: 0.02743\n",
            "\t\t\tbatchcount: 80, size: 1280 total: 5120 loss: 0.02721\n",
            "\t\t\tbatchcount: 100, size: 1280 total: 6400 loss: 0.02681\n",
            "\t\t\tbatchcount: 120, size: 1280 total: 7680 loss: 0.02682\n",
            "\t\t\tbatchcount: 140, size: 1280 total: 8960 loss: 0.02685\n",
            "\t\t\tbatchcount: 160, size: 1280 total: 10240 loss: 0.02687\n",
            "\t\tЭпоха: 3   loss: 1.73287   accuracy: 72.772%   loss_val: 1.73693   accuracy_val: 72.349%   time = 25.87 c\n",
            "\t\t\tbatchcount: 20, size: 1280 total: 1280 loss: 0.02672\n",
            "\t\t\tbatchcount: 40, size: 1280 total: 2560 loss: 0.02696\n",
            "\t\t\tbatchcount: 60, size: 1280 total: 3840 loss: 0.02675\n",
            "\t\t\tbatchcount: 80, size: 1280 total: 5120 loss: 0.02735\n",
            "\t\t\tbatchcount: 100, size: 1280 total: 6400 loss: 0.02705\n",
            "\t\t\tbatchcount: 120, size: 1280 total: 7680 loss: 0.02680\n",
            "\t\t\tbatchcount: 140, size: 1280 total: 8960 loss: 0.02696\n",
            "\t\t\tbatchcount: 160, size: 1280 total: 10240 loss: 0.02693\n",
            "\t\tЭпоха: 4   loss: 1.72522   accuracy: 73.486%   loss_val: 1.73170   accuracy_val: 72.837%   time = 25.98 c\n",
            "\t\t\tbatchcount: 20, size: 1280 total: 1280 loss: 0.02704\n",
            "\t\t\tbatchcount: 40, size: 1280 total: 2560 loss: 0.02690\n",
            "\t\t\tbatchcount: 60, size: 1280 total: 3840 loss: 0.02689\n",
            "\t\t\tbatchcount: 80, size: 1280 total: 5120 loss: 0.02679\n",
            "\t\t\tbatchcount: 100, size: 1280 total: 6400 loss: 0.02707\n",
            "\t\t\tbatchcount: 120, size: 1280 total: 7680 loss: 0.02694\n",
            "\t\t\tbatchcount: 140, size: 1280 total: 8960 loss: 0.02676\n",
            "\t\t\tbatchcount: 160, size: 1280 total: 10240 loss: 0.02651\n",
            "\t\tЭпоха: 5   loss: 1.71714   accuracy: 74.228%   loss_val: 1.68064   accuracy_val: 78.227%   time = 25.90 c\n",
            "\tLoss на train: 1.71714   accuracy на train: 0.74228\n",
            "\tLoss на valid: 1.68064   accuracy на valid: 0.78227\n",
            "\n",
            "Модель: функция активации: elu, cnn слоёв: 3, fc слоёв: 3, kernel: 3\n",
            "\n",
            "\tМодель state_dict: \n",
            "\t\t conv1.weight :  torch.Size([16, 1, 3, 3])\n",
            "\t\t conv1.bias :  torch.Size([16])\n",
            "\t\t conv2.weight :  torch.Size([32, 16, 3, 3])\n",
            "\t\t conv2.bias :  torch.Size([32])\n",
            "\t\t conv3.weight :  torch.Size([64, 32, 3, 3])\n",
            "\t\t conv3.bias :  torch.Size([64])\n",
            "\t\t fc_dec2.weight :  torch.Size([6400, 25600])\n",
            "\t\t fc_dec2.bias :  torch.Size([6400])\n",
            "\t\t fc_dec1.weight :  torch.Size([1600, 6400])\n",
            "\t\t fc_dec1.bias :  torch.Size([1600])\n",
            "\t\t fc_out.weight :  torch.Size([10, 1600])\n",
            "\t\t fc_out.bias :  torch.Size([10])\n",
            "\n",
            "\tX размеры income: torch.Size([64, 1, 160, 160])\n",
            "\tX размеры conv1, pool: torch.Size([64, 16, 80, 80])\n",
            "\tX размеры conv2, pool: torch.Size([64, 32, 40, 40])\n",
            "\tX размеры conv3, pool: torch.Size([64, 64, 20, 20])\n",
            "\tX размеры x.view: torch.Size([64, 25600])\n",
            "\tX размеры fc_dec2: torch.Size([64, 6400])\n",
            "\tX размеры fc_dec1: torch.Size([64, 1600])\n",
            "\tX размеры fc_out: torch.Size([64, 10])\n",
            "\n",
            "\t\t\tbatchcount: 20, size: 1280 total: 1280 loss: 0.03595\n",
            "\t\t\tbatchcount: 40, size: 1280 total: 2560 loss: 0.03582\n",
            "\t\t\tbatchcount: 60, size: 1280 total: 3840 loss: 0.03559\n",
            "\t\t\tbatchcount: 80, size: 1280 total: 5120 loss: 0.03493\n",
            "\t\t\tbatchcount: 100, size: 1280 total: 6400 loss: 0.03390\n",
            "\t\t\tbatchcount: 120, size: 1280 total: 7680 loss: 0.03260\n",
            "\t\t\tbatchcount: 140, size: 1280 total: 8960 loss: 0.03195\n",
            "\t\t\tbatchcount: 160, size: 1280 total: 10240 loss: 0.03181\n",
            "\t\tЭпоха: 1   loss: 2.17490   accuracy: 28.044%   loss_val: 2.05050   accuracy_val: 40.565%   time = 26.93 c\n",
            "\t\t\tbatchcount: 20, size: 1280 total: 1280 loss: 0.03123\n",
            "\t\t\tbatchcount: 40, size: 1280 total: 2560 loss: 0.02933\n",
            "\t\t\tbatchcount: 60, size: 1280 total: 3840 loss: 0.02728\n",
            "\t\t\tbatchcount: 80, size: 1280 total: 5120 loss: 0.02609\n",
            "\t\t\tbatchcount: 100, size: 1280 total: 6400 loss: 0.02555\n",
            "\t\t\tbatchcount: 120, size: 1280 total: 7680 loss: 0.02527\n",
            "\t\t\tbatchcount: 140, size: 1280 total: 8960 loss: 0.02505\n",
            "\t\t\tbatchcount: 160, size: 1280 total: 10240 loss: 0.02508\n",
            "\t\tЭпоха: 2   loss: 1.71524   accuracy: 75.707%   loss_val: 1.60443   accuracy_val: 85.908%   time = 26.82 c\n",
            "\t\t\tbatchcount: 20, size: 1280 total: 1280 loss: 0.02483\n",
            "\t\t\tbatchcount: 40, size: 1280 total: 2560 loss: 0.02483\n",
            "\t\t\tbatchcount: 60, size: 1280 total: 3840 loss: 0.02520\n",
            "\t\t\tbatchcount: 80, size: 1280 total: 5120 loss: 0.02489\n",
            "\t\t\tbatchcount: 100, size: 1280 total: 6400 loss: 0.02444\n",
            "\t\t\tbatchcount: 120, size: 1280 total: 7680 loss: 0.02463\n",
            "\t\t\tbatchcount: 140, size: 1280 total: 8960 loss: 0.02460\n",
            "\t\t\tbatchcount: 160, size: 1280 total: 10240 loss: 0.02500\n",
            "\t\tЭпоха: 3   loss: 1.58726   accuracy: 87.671%   loss_val: 1.57603   accuracy_val: 88.715%   time = 26.75 c\n",
            "\t\t\tbatchcount: 20, size: 1280 total: 1280 loss: 0.02479\n",
            "\t\t\tbatchcount: 40, size: 1280 total: 2560 loss: 0.02441\n",
            "\t\t\tbatchcount: 60, size: 1280 total: 3840 loss: 0.02419\n",
            "\t\t\tbatchcount: 80, size: 1280 total: 5120 loss: 0.02457\n",
            "\t\t\tbatchcount: 100, size: 1280 total: 6400 loss: 0.02460\n",
            "\t\t\tbatchcount: 120, size: 1280 total: 7680 loss: 0.02467\n",
            "\t\t\tbatchcount: 140, size: 1280 total: 8960 loss: 0.02448\n",
            "\t\t\tbatchcount: 160, size: 1280 total: 10240 loss: 0.02452\n",
            "\t\tЭпоха: 4   loss: 1.56854   accuracy: 89.465%   loss_val: 1.56422   accuracy_val: 89.777%   time = 26.74 c\n",
            "\t\t\tbatchcount: 20, size: 1280 total: 1280 loss: 0.02425\n",
            "\t\t\tbatchcount: 40, size: 1280 total: 2560 loss: 0.02453\n",
            "\t\t\tbatchcount: 60, size: 1280 total: 3840 loss: 0.02440\n",
            "\t\t\tbatchcount: 80, size: 1280 total: 5120 loss: 0.02427\n",
            "\t\t\tbatchcount: 100, size: 1280 total: 6400 loss: 0.02453\n",
            "\t\t\tbatchcount: 120, size: 1280 total: 7680 loss: 0.02448\n",
            "\t\t\tbatchcount: 140, size: 1280 total: 8960 loss: 0.02451\n",
            "\t\t\tbatchcount: 160, size: 1280 total: 10240 loss: 0.02437\n",
            "\t\tЭпоха: 5   loss: 1.56155   accuracy: 89.970%   loss_val: 1.56478   accuracy_val: 89.591%   time = 26.71 c\n",
            "\tLoss на train: 1.56155   accuracy на train: 0.89970\n",
            "\tLoss на valid: 1.56478   accuracy на valid: 0.89591\n",
            "\n",
            "Модель: функция активации: elu, cnn слоёв: 3, fc слоёв: 3, kernel: 5\n",
            "\n",
            "\tМодель state_dict: \n",
            "\t\t conv1.weight :  torch.Size([16, 1, 5, 5])\n",
            "\t\t conv1.bias :  torch.Size([16])\n",
            "\t\t conv2.weight :  torch.Size([32, 16, 5, 5])\n",
            "\t\t conv2.bias :  torch.Size([32])\n",
            "\t\t conv3.weight :  torch.Size([64, 32, 5, 5])\n",
            "\t\t conv3.bias :  torch.Size([64])\n",
            "\t\t fc_dec2.weight :  torch.Size([6400, 25600])\n",
            "\t\t fc_dec2.bias :  torch.Size([6400])\n",
            "\t\t fc_dec1.weight :  torch.Size([1600, 6400])\n",
            "\t\t fc_dec1.bias :  torch.Size([1600])\n",
            "\t\t fc_out.weight :  torch.Size([10, 1600])\n",
            "\t\t fc_out.bias :  torch.Size([10])\n",
            "\n",
            "\tX размеры income: torch.Size([64, 1, 160, 160])\n",
            "\tX размеры conv1, pool: torch.Size([64, 16, 80, 80])\n",
            "\tX размеры conv2, pool: torch.Size([64, 32, 40, 40])\n",
            "\tX размеры conv3, pool: torch.Size([64, 64, 20, 20])\n",
            "\tX размеры x.view: torch.Size([64, 25600])\n",
            "\tX размеры fc_dec2: torch.Size([64, 6400])\n",
            "\tX размеры fc_dec1: torch.Size([64, 1600])\n",
            "\tX размеры fc_out: torch.Size([64, 10])\n",
            "\n",
            "\t\t\tbatchcount: 20, size: 1280 total: 1280 loss: 0.03594\n",
            "\t\t\tbatchcount: 40, size: 1280 total: 2560 loss: 0.03566\n",
            "\t\t\tbatchcount: 60, size: 1280 total: 3840 loss: 0.03494\n",
            "\t\t\tbatchcount: 80, size: 1280 total: 5120 loss: 0.03274\n",
            "\t\t\tbatchcount: 100, size: 1280 total: 6400 loss: 0.03223\n",
            "\t\t\tbatchcount: 120, size: 1280 total: 7680 loss: 0.03205\n",
            "\t\t\tbatchcount: 140, size: 1280 total: 8960 loss: 0.03198\n",
            "\t\t\tbatchcount: 160, size: 1280 total: 10240 loss: 0.03199\n",
            "\t\tЭпоха: 1   loss: 2.13701   accuracy: 31.986%   loss_val: 2.05196   accuracy_val: 40.640%   time = 26.42 c\n",
            "\t\t\tbatchcount: 20, size: 1280 total: 1280 loss: 0.03174\n",
            "\t\t\tbatchcount: 40, size: 1280 total: 2560 loss: 0.03101\n",
            "\t\t\tbatchcount: 60, size: 1280 total: 3840 loss: 0.03089\n",
            "\t\t\tbatchcount: 80, size: 1280 total: 5120 loss: 0.02953\n",
            "\t\t\tbatchcount: 100, size: 1280 total: 6400 loss: 0.02751\n",
            "\t\t\tbatchcount: 120, size: 1280 total: 7680 loss: 0.02727\n",
            "\t\t\tbatchcount: 140, size: 1280 total: 8960 loss: 0.02686\n",
            "\t\t\tbatchcount: 160, size: 1280 total: 10240 loss: 0.02607\n",
            "\t\tЭпоха: 2   loss: 1.83998   accuracy: 62.442%   loss_val: 1.71028   accuracy_val: 75.049%   time = 26.30 c\n",
            "\t\t\tbatchcount: 20, size: 1280 total: 1280 loss: 0.02600\n",
            "\t\t\tbatchcount: 40, size: 1280 total: 2560 loss: 0.02540\n",
            "\t\t\tbatchcount: 60, size: 1280 total: 3840 loss: 0.02538\n",
            "\t\t\tbatchcount: 80, size: 1280 total: 5120 loss: 0.02532\n",
            "\t\t\tbatchcount: 100, size: 1280 total: 6400 loss: 0.02525\n",
            "\t\t\tbatchcount: 120, size: 1280 total: 7680 loss: 0.02529\n",
            "\t\t\tbatchcount: 140, size: 1280 total: 8960 loss: 0.02506\n",
            "\t\t\tbatchcount: 160, size: 1280 total: 10240 loss: 0.02533\n",
            "\t\tЭпоха: 3   loss: 1.62363   accuracy: 83.912%   loss_val: 1.62383   accuracy_val: 83.908%   time = 26.36 c\n",
            "\t\t\tbatchcount: 20, size: 1280 total: 1280 loss: 0.02511\n",
            "\t\t\tbatchcount: 40, size: 1280 total: 2560 loss: 0.02497\n",
            "\t\t\tbatchcount: 60, size: 1280 total: 3840 loss: 0.02478\n",
            "\t\t\tbatchcount: 80, size: 1280 total: 5120 loss: 0.02488\n",
            "\t\t\tbatchcount: 100, size: 1280 total: 6400 loss: 0.02500\n",
            "\t\t\tbatchcount: 120, size: 1280 total: 7680 loss: 0.02486\n",
            "\t\t\tbatchcount: 140, size: 1280 total: 8960 loss: 0.02455\n",
            "\t\t\tbatchcount: 160, size: 1280 total: 10240 loss: 0.02383\n",
            "\t\tЭпоха: 4   loss: 1.58279   accuracy: 87.920%   loss_val: 1.53701   accuracy_val: 92.857%   time = 26.43 c\n",
            "\t\t\tbatchcount: 20, size: 1280 total: 1280 loss: 0.02380\n",
            "\t\t\tbatchcount: 40, size: 1280 total: 2560 loss: 0.02356\n",
            "\t\t\tbatchcount: 60, size: 1280 total: 3840 loss: 0.02347\n",
            "\t\t\tbatchcount: 80, size: 1280 total: 5120 loss: 0.02337\n",
            "\t\t\tbatchcount: 100, size: 1280 total: 6400 loss: 0.02339\n",
            "\t\t\tbatchcount: 120, size: 1280 total: 7680 loss: 0.02350\n",
            "\t\t\tbatchcount: 140, size: 1280 total: 8960 loss: 0.02316\n",
            "\t\t\tbatchcount: 160, size: 1280 total: 10240 loss: 0.02324\n",
            "\t\tЭпоха: 5   loss: 1.49966   accuracy: 96.367%   loss_val: 1.49528   accuracy_val: 96.809%   time = 26.37 c\n",
            "\tLoss на train: 1.49966   accuracy на train: 0.96367\n",
            "\tLoss на valid: 1.49528   accuracy на valid: 0.96809\n",
            "\n"
          ],
          "name": "stdout"
        }
      ]
    },
    {
      "cell_type": "code",
      "metadata": {
        "colab": {
          "base_uri": "https://localhost:8080/",
          "height": 545
        },
        "id": "Qjrpg9PKBbWz",
        "outputId": "5265b7f5-7126-458a-f9fc-93a16a9b5b4e"
      },
      "source": [
        "search_top.summary_data"
      ],
      "execution_count": 67,
      "outputs": [
        {
          "output_type": "execute_result",
          "data": {
            "text/html": [
              "<div>\n",
              "<style scoped>\n",
              "    .dataframe tbody tr th:only-of-type {\n",
              "        vertical-align: middle;\n",
              "    }\n",
              "\n",
              "    .dataframe tbody tr th {\n",
              "        vertical-align: top;\n",
              "    }\n",
              "\n",
              "    .dataframe thead th {\n",
              "        text-align: right;\n",
              "    }\n",
              "</style>\n",
              "<table border=\"1\" class=\"dataframe\">\n",
              "  <thead>\n",
              "    <tr style=\"text-align: right;\">\n",
              "      <th></th>\n",
              "      <th>func</th>\n",
              "      <th>cnn_num</th>\n",
              "      <th>fc_num</th>\n",
              "      <th>kern_size</th>\n",
              "      <th>loss</th>\n",
              "      <th>accuracy</th>\n",
              "      <th>loss_val</th>\n",
              "      <th>accuracy_val</th>\n",
              "    </tr>\n",
              "  </thead>\n",
              "  <tbody>\n",
              "    <tr>\n",
              "      <th>0</th>\n",
              "      <td>relu</td>\n",
              "      <td>2.0</td>\n",
              "      <td>2.0</td>\n",
              "      <td>3.0</td>\n",
              "      <td>1.574110</td>\n",
              "      <td>0.887747</td>\n",
              "      <td>1.592389</td>\n",
              "      <td>0.870245</td>\n",
              "    </tr>\n",
              "    <tr>\n",
              "      <th>1</th>\n",
              "      <td>relu</td>\n",
              "      <td>2.0</td>\n",
              "      <td>2.0</td>\n",
              "      <td>5.0</td>\n",
              "      <td>1.585640</td>\n",
              "      <td>0.875350</td>\n",
              "      <td>1.579309</td>\n",
              "      <td>0.881276</td>\n",
              "    </tr>\n",
              "    <tr>\n",
              "      <th>2</th>\n",
              "      <td>relu</td>\n",
              "      <td>2.0</td>\n",
              "      <td>3.0</td>\n",
              "      <td>3.0</td>\n",
              "      <td>1.640098</td>\n",
              "      <td>0.820420</td>\n",
              "      <td>1.640203</td>\n",
              "      <td>0.819811</td>\n",
              "    </tr>\n",
              "    <tr>\n",
              "      <th>3</th>\n",
              "      <td>relu</td>\n",
              "      <td>2.0</td>\n",
              "      <td>3.0</td>\n",
              "      <td>5.0</td>\n",
              "      <td>1.575172</td>\n",
              "      <td>0.886376</td>\n",
              "      <td>1.582927</td>\n",
              "      <td>0.877313</td>\n",
              "    </tr>\n",
              "    <tr>\n",
              "      <th>4</th>\n",
              "      <td>relu</td>\n",
              "      <td>3.0</td>\n",
              "      <td>2.0</td>\n",
              "      <td>3.0</td>\n",
              "      <td>1.572350</td>\n",
              "      <td>0.888635</td>\n",
              "      <td>1.566664</td>\n",
              "      <td>0.895623</td>\n",
              "    </tr>\n",
              "    <tr>\n",
              "      <th>5</th>\n",
              "      <td>relu</td>\n",
              "      <td>3.0</td>\n",
              "      <td>2.0</td>\n",
              "      <td>5.0</td>\n",
              "      <td>1.636958</td>\n",
              "      <td>0.823728</td>\n",
              "      <td>1.640750</td>\n",
              "      <td>0.819892</td>\n",
              "    </tr>\n",
              "    <tr>\n",
              "      <th>6</th>\n",
              "      <td>relu</td>\n",
              "      <td>3.0</td>\n",
              "      <td>3.0</td>\n",
              "      <td>3.0</td>\n",
              "      <td>1.659383</td>\n",
              "      <td>0.802563</td>\n",
              "      <td>1.657726</td>\n",
              "      <td>0.803151</td>\n",
              "    </tr>\n",
              "    <tr>\n",
              "      <th>7</th>\n",
              "      <td>relu</td>\n",
              "      <td>3.0</td>\n",
              "      <td>3.0</td>\n",
              "      <td>5.0</td>\n",
              "      <td>1.732965</td>\n",
              "      <td>0.727773</td>\n",
              "      <td>1.712750</td>\n",
              "      <td>0.747509</td>\n",
              "    </tr>\n",
              "    <tr>\n",
              "      <th>8</th>\n",
              "      <td>elu</td>\n",
              "      <td>2.0</td>\n",
              "      <td>2.0</td>\n",
              "      <td>3.0</td>\n",
              "      <td>1.565479</td>\n",
              "      <td>0.896447</td>\n",
              "      <td>1.572471</td>\n",
              "      <td>0.888959</td>\n",
              "    </tr>\n",
              "    <tr>\n",
              "      <th>9</th>\n",
              "      <td>elu</td>\n",
              "      <td>2.0</td>\n",
              "      <td>2.0</td>\n",
              "      <td>5.0</td>\n",
              "      <td>1.638795</td>\n",
              "      <td>0.822087</td>\n",
              "      <td>1.643122</td>\n",
              "      <td>0.817741</td>\n",
              "    </tr>\n",
              "    <tr>\n",
              "      <th>10</th>\n",
              "      <td>elu</td>\n",
              "      <td>2.0</td>\n",
              "      <td>3.0</td>\n",
              "      <td>3.0</td>\n",
              "      <td>1.562891</td>\n",
              "      <td>0.899890</td>\n",
              "      <td>1.560791</td>\n",
              "      <td>0.900621</td>\n",
              "    </tr>\n",
              "    <tr>\n",
              "      <th>11</th>\n",
              "      <td>elu</td>\n",
              "      <td>2.0</td>\n",
              "      <td>3.0</td>\n",
              "      <td>5.0</td>\n",
              "      <td>1.489165</td>\n",
              "      <td>0.972986</td>\n",
              "      <td>1.489285</td>\n",
              "      <td>0.972179</td>\n",
              "    </tr>\n",
              "    <tr>\n",
              "      <th>12</th>\n",
              "      <td>elu</td>\n",
              "      <td>3.0</td>\n",
              "      <td>2.0</td>\n",
              "      <td>3.0</td>\n",
              "      <td>1.632556</td>\n",
              "      <td>0.829429</td>\n",
              "      <td>1.599961</td>\n",
              "      <td>0.862885</td>\n",
              "    </tr>\n",
              "    <tr>\n",
              "      <th>13</th>\n",
              "      <td>elu</td>\n",
              "      <td>3.0</td>\n",
              "      <td>2.0</td>\n",
              "      <td>5.0</td>\n",
              "      <td>1.717145</td>\n",
              "      <td>0.742282</td>\n",
              "      <td>1.680644</td>\n",
              "      <td>0.782269</td>\n",
              "    </tr>\n",
              "    <tr>\n",
              "      <th>14</th>\n",
              "      <td>elu</td>\n",
              "      <td>3.0</td>\n",
              "      <td>3.0</td>\n",
              "      <td>3.0</td>\n",
              "      <td>1.561555</td>\n",
              "      <td>0.899701</td>\n",
              "      <td>1.564777</td>\n",
              "      <td>0.895914</td>\n",
              "    </tr>\n",
              "    <tr>\n",
              "      <th>15</th>\n",
              "      <td>elu</td>\n",
              "      <td>3.0</td>\n",
              "      <td>3.0</td>\n",
              "      <td>5.0</td>\n",
              "      <td>1.499656</td>\n",
              "      <td>0.963667</td>\n",
              "      <td>1.495281</td>\n",
              "      <td>0.968087</td>\n",
              "    </tr>\n",
              "  </tbody>\n",
              "</table>\n",
              "</div>"
            ],
            "text/plain": [
              "    func  cnn_num  fc_num  ...  accuracy  loss_val  accuracy_val\n",
              "0   relu      2.0     2.0  ...  0.887747  1.592389      0.870245\n",
              "1   relu      2.0     2.0  ...  0.875350  1.579309      0.881276\n",
              "2   relu      2.0     3.0  ...  0.820420  1.640203      0.819811\n",
              "3   relu      2.0     3.0  ...  0.886376  1.582927      0.877313\n",
              "4   relu      3.0     2.0  ...  0.888635  1.566664      0.895623\n",
              "5   relu      3.0     2.0  ...  0.823728  1.640750      0.819892\n",
              "6   relu      3.0     3.0  ...  0.802563  1.657726      0.803151\n",
              "7   relu      3.0     3.0  ...  0.727773  1.712750      0.747509\n",
              "8    elu      2.0     2.0  ...  0.896447  1.572471      0.888959\n",
              "9    elu      2.0     2.0  ...  0.822087  1.643122      0.817741\n",
              "10   elu      2.0     3.0  ...  0.899890  1.560791      0.900621\n",
              "11   elu      2.0     3.0  ...  0.972986  1.489285      0.972179\n",
              "12   elu      3.0     2.0  ...  0.829429  1.599961      0.862885\n",
              "13   elu      3.0     2.0  ...  0.742282  1.680644      0.782269\n",
              "14   elu      3.0     3.0  ...  0.899701  1.564777      0.895914\n",
              "15   elu      3.0     3.0  ...  0.963667  1.495281      0.968087\n",
              "\n",
              "[16 rows x 8 columns]"
            ]
          },
          "metadata": {
            "tags": []
          },
          "execution_count": 67
        }
      ]
    },
    {
      "cell_type": "code",
      "metadata": {
        "colab": {
          "base_uri": "https://localhost:8080/",
          "height": 545
        },
        "id": "XAZcLhOZBbag",
        "outputId": "77e4dd91-61ba-4bb5-dd8f-445ca239c6e5"
      },
      "source": [
        "search_top.summary_data.sort_values('accuracy_val', ascending=False)"
      ],
      "execution_count": 68,
      "outputs": [
        {
          "output_type": "execute_result",
          "data": {
            "text/html": [
              "<div>\n",
              "<style scoped>\n",
              "    .dataframe tbody tr th:only-of-type {\n",
              "        vertical-align: middle;\n",
              "    }\n",
              "\n",
              "    .dataframe tbody tr th {\n",
              "        vertical-align: top;\n",
              "    }\n",
              "\n",
              "    .dataframe thead th {\n",
              "        text-align: right;\n",
              "    }\n",
              "</style>\n",
              "<table border=\"1\" class=\"dataframe\">\n",
              "  <thead>\n",
              "    <tr style=\"text-align: right;\">\n",
              "      <th></th>\n",
              "      <th>func</th>\n",
              "      <th>cnn_num</th>\n",
              "      <th>fc_num</th>\n",
              "      <th>kern_size</th>\n",
              "      <th>loss</th>\n",
              "      <th>accuracy</th>\n",
              "      <th>loss_val</th>\n",
              "      <th>accuracy_val</th>\n",
              "    </tr>\n",
              "  </thead>\n",
              "  <tbody>\n",
              "    <tr>\n",
              "      <th>11</th>\n",
              "      <td>elu</td>\n",
              "      <td>2.0</td>\n",
              "      <td>3.0</td>\n",
              "      <td>5.0</td>\n",
              "      <td>1.489165</td>\n",
              "      <td>0.972986</td>\n",
              "      <td>1.489285</td>\n",
              "      <td>0.972179</td>\n",
              "    </tr>\n",
              "    <tr>\n",
              "      <th>15</th>\n",
              "      <td>elu</td>\n",
              "      <td>3.0</td>\n",
              "      <td>3.0</td>\n",
              "      <td>5.0</td>\n",
              "      <td>1.499656</td>\n",
              "      <td>0.963667</td>\n",
              "      <td>1.495281</td>\n",
              "      <td>0.968087</td>\n",
              "    </tr>\n",
              "    <tr>\n",
              "      <th>10</th>\n",
              "      <td>elu</td>\n",
              "      <td>2.0</td>\n",
              "      <td>3.0</td>\n",
              "      <td>3.0</td>\n",
              "      <td>1.562891</td>\n",
              "      <td>0.899890</td>\n",
              "      <td>1.560791</td>\n",
              "      <td>0.900621</td>\n",
              "    </tr>\n",
              "    <tr>\n",
              "      <th>14</th>\n",
              "      <td>elu</td>\n",
              "      <td>3.0</td>\n",
              "      <td>3.0</td>\n",
              "      <td>3.0</td>\n",
              "      <td>1.561555</td>\n",
              "      <td>0.899701</td>\n",
              "      <td>1.564777</td>\n",
              "      <td>0.895914</td>\n",
              "    </tr>\n",
              "    <tr>\n",
              "      <th>4</th>\n",
              "      <td>relu</td>\n",
              "      <td>3.0</td>\n",
              "      <td>2.0</td>\n",
              "      <td>3.0</td>\n",
              "      <td>1.572350</td>\n",
              "      <td>0.888635</td>\n",
              "      <td>1.566664</td>\n",
              "      <td>0.895623</td>\n",
              "    </tr>\n",
              "    <tr>\n",
              "      <th>8</th>\n",
              "      <td>elu</td>\n",
              "      <td>2.0</td>\n",
              "      <td>2.0</td>\n",
              "      <td>3.0</td>\n",
              "      <td>1.565479</td>\n",
              "      <td>0.896447</td>\n",
              "      <td>1.572471</td>\n",
              "      <td>0.888959</td>\n",
              "    </tr>\n",
              "    <tr>\n",
              "      <th>1</th>\n",
              "      <td>relu</td>\n",
              "      <td>2.0</td>\n",
              "      <td>2.0</td>\n",
              "      <td>5.0</td>\n",
              "      <td>1.585640</td>\n",
              "      <td>0.875350</td>\n",
              "      <td>1.579309</td>\n",
              "      <td>0.881276</td>\n",
              "    </tr>\n",
              "    <tr>\n",
              "      <th>3</th>\n",
              "      <td>relu</td>\n",
              "      <td>2.0</td>\n",
              "      <td>3.0</td>\n",
              "      <td>5.0</td>\n",
              "      <td>1.575172</td>\n",
              "      <td>0.886376</td>\n",
              "      <td>1.582927</td>\n",
              "      <td>0.877313</td>\n",
              "    </tr>\n",
              "    <tr>\n",
              "      <th>0</th>\n",
              "      <td>relu</td>\n",
              "      <td>2.0</td>\n",
              "      <td>2.0</td>\n",
              "      <td>3.0</td>\n",
              "      <td>1.574110</td>\n",
              "      <td>0.887747</td>\n",
              "      <td>1.592389</td>\n",
              "      <td>0.870245</td>\n",
              "    </tr>\n",
              "    <tr>\n",
              "      <th>12</th>\n",
              "      <td>elu</td>\n",
              "      <td>3.0</td>\n",
              "      <td>2.0</td>\n",
              "      <td>3.0</td>\n",
              "      <td>1.632556</td>\n",
              "      <td>0.829429</td>\n",
              "      <td>1.599961</td>\n",
              "      <td>0.862885</td>\n",
              "    </tr>\n",
              "    <tr>\n",
              "      <th>5</th>\n",
              "      <td>relu</td>\n",
              "      <td>3.0</td>\n",
              "      <td>2.0</td>\n",
              "      <td>5.0</td>\n",
              "      <td>1.636958</td>\n",
              "      <td>0.823728</td>\n",
              "      <td>1.640750</td>\n",
              "      <td>0.819892</td>\n",
              "    </tr>\n",
              "    <tr>\n",
              "      <th>2</th>\n",
              "      <td>relu</td>\n",
              "      <td>2.0</td>\n",
              "      <td>3.0</td>\n",
              "      <td>3.0</td>\n",
              "      <td>1.640098</td>\n",
              "      <td>0.820420</td>\n",
              "      <td>1.640203</td>\n",
              "      <td>0.819811</td>\n",
              "    </tr>\n",
              "    <tr>\n",
              "      <th>9</th>\n",
              "      <td>elu</td>\n",
              "      <td>2.0</td>\n",
              "      <td>2.0</td>\n",
              "      <td>5.0</td>\n",
              "      <td>1.638795</td>\n",
              "      <td>0.822087</td>\n",
              "      <td>1.643122</td>\n",
              "      <td>0.817741</td>\n",
              "    </tr>\n",
              "    <tr>\n",
              "      <th>6</th>\n",
              "      <td>relu</td>\n",
              "      <td>3.0</td>\n",
              "      <td>3.0</td>\n",
              "      <td>3.0</td>\n",
              "      <td>1.659383</td>\n",
              "      <td>0.802563</td>\n",
              "      <td>1.657726</td>\n",
              "      <td>0.803151</td>\n",
              "    </tr>\n",
              "    <tr>\n",
              "      <th>13</th>\n",
              "      <td>elu</td>\n",
              "      <td>3.0</td>\n",
              "      <td>2.0</td>\n",
              "      <td>5.0</td>\n",
              "      <td>1.717145</td>\n",
              "      <td>0.742282</td>\n",
              "      <td>1.680644</td>\n",
              "      <td>0.782269</td>\n",
              "    </tr>\n",
              "    <tr>\n",
              "      <th>7</th>\n",
              "      <td>relu</td>\n",
              "      <td>3.0</td>\n",
              "      <td>3.0</td>\n",
              "      <td>5.0</td>\n",
              "      <td>1.732965</td>\n",
              "      <td>0.727773</td>\n",
              "      <td>1.712750</td>\n",
              "      <td>0.747509</td>\n",
              "    </tr>\n",
              "  </tbody>\n",
              "</table>\n",
              "</div>"
            ],
            "text/plain": [
              "    func  cnn_num  fc_num  ...  accuracy  loss_val  accuracy_val\n",
              "11   elu      2.0     3.0  ...  0.972986  1.489285      0.972179\n",
              "15   elu      3.0     3.0  ...  0.963667  1.495281      0.968087\n",
              "10   elu      2.0     3.0  ...  0.899890  1.560791      0.900621\n",
              "14   elu      3.0     3.0  ...  0.899701  1.564777      0.895914\n",
              "4   relu      3.0     2.0  ...  0.888635  1.566664      0.895623\n",
              "8    elu      2.0     2.0  ...  0.896447  1.572471      0.888959\n",
              "1   relu      2.0     2.0  ...  0.875350  1.579309      0.881276\n",
              "3   relu      2.0     3.0  ...  0.886376  1.582927      0.877313\n",
              "0   relu      2.0     2.0  ...  0.887747  1.592389      0.870245\n",
              "12   elu      3.0     2.0  ...  0.829429  1.599961      0.862885\n",
              "5   relu      3.0     2.0  ...  0.823728  1.640750      0.819892\n",
              "2   relu      2.0     3.0  ...  0.820420  1.640203      0.819811\n",
              "9    elu      2.0     2.0  ...  0.822087  1.643122      0.817741\n",
              "6   relu      3.0     3.0  ...  0.802563  1.657726      0.803151\n",
              "13   elu      3.0     2.0  ...  0.742282  1.680644      0.782269\n",
              "7   relu      3.0     3.0  ...  0.727773  1.712750      0.747509\n",
              "\n",
              "[16 rows x 8 columns]"
            ]
          },
          "metadata": {
            "tags": []
          },
          "execution_count": 68
        }
      ]
    },
    {
      "cell_type": "markdown",
      "metadata": {
        "id": "c4q9rkRNBj31"
      },
      "source": [
        "## Итоговое обучение"
      ]
    },
    {
      "cell_type": "code",
      "metadata": {
        "id": "h3GSquKIu2Zf"
      },
      "source": [
        "epochs = 10\n",
        "lr = 0.01"
      ],
      "execution_count": null,
      "outputs": []
    },
    {
      "cell_type": "code",
      "metadata": {
        "id": "FhOvkvxmBokN"
      },
      "source": [
        "model = HPSearchNET(nn_prn=True).to(device)\n",
        "criterion = nn.CrossEntropyLoss()\n",
        "optimizer = torch.optim.SGD(model.parameters(), lr=lr, momentum=0.9)"
      ],
      "execution_count": null,
      "outputs": []
    },
    {
      "cell_type": "code",
      "metadata": {
        "id": "n0e5k4_SvDQ_"
      },
      "source": [
        "path_checkpoint = \"rez_checkpoints\"\n",
        "if not os.path.exists(path_checkpoint):\n",
        "    os.mkdir(path_checkpoint)"
      ],
      "execution_count": null,
      "outputs": []
    },
    {
      "cell_type": "code",
      "metadata": {
        "id": "A9b40SkXE791"
      },
      "source": [
        "# scheduler = torch.optim.lr_scheduler.OneCycleLR(optimizer, \n",
        "#                                                 max_lr, \n",
        "#                                                 epochs=epochs, \n",
        "#                                                 steps_per_epoch=len(train_data_loader))\n",
        "\n",
        "scheduler = torch.optim.lr_scheduler.StepLR(optimizer, \n",
        "                                            step_size=4, # при ep=10\n",
        "                                            gamma=0.1)"
      ],
      "execution_count": null,
      "outputs": []
    },
    {
      "cell_type": "code",
      "metadata": {
        "id": "NzxxNLX4u7Vr"
      },
      "source": [
        "epoch_losses = []\n",
        "epoch_val_losses = []\n",
        "\n",
        "for epoch in range(epochs):  # loop over the dataset multiple times\n",
        "    running_loss = 0.0\n",
        "    cum_loss = []\n",
        "\n",
        "    print(f'Epoch: {epoch+1}')\n",
        "    time1 = time.time()\n",
        "    model.train()\n",
        "    for i, data in enumerate(train_data_loader, 0):\n",
        "        # get the inputs; data is a list of [inputs, labels]\n",
        "        inputs, labels = data\n",
        "        inputs = inputs.to(device) # .cuda()\n",
        "        labels = labels.to(device) # .cuda()\n",
        "\n",
        "        # zero the parameter gradients\n",
        "        optimizer.zero_grad()\n",
        "\n",
        "        # forward + backward + optimize\n",
        "        outputs = model(inputs)\n",
        "        loss = criterion(outputs, labels)\n",
        "        loss.backward()\n",
        "        optimizer.step()\n",
        "        scheduler.step()\n",
        "\n",
        "        # print statistics\n",
        "        running_loss += loss.item()\n",
        "        cum_loss.append(loss.item())\n",
        "        bundle = 20\n",
        "        if not (i+1) % bundle:    # print every 10 mini-batches\n",
        "            print(f'\\tbatchcount: {i+1}, size: {batch_s*bundle} '\n",
        "                  f'total: {(i+1)*batch_s} '\n",
        "                  f'loss: {running_loss/(batch_s*bundle):.5f}')\n",
        "            running_loss = 0.0\n",
        "\n",
        "    time2 = time.time()\n",
        "    epoch_losses.append(np.mean(cum_loss))\n",
        "    torch.save(model.state_dict(), path_checkpoint + f\"/checkpoint_ep_{epoch}.pth\")\n",
        "\n",
        "    cum_loss = []\n",
        "    model.eval()\n",
        "    with torch.no_grad():\n",
        "        running_val_loss = 0.0\n",
        "        for i, data in enumerate(valid_data_loader, 0):\n",
        "            inputs, labels = data\n",
        "            inputs = inputs.to(device) # .cuda()\n",
        "            labels = labels.to(device) # .cuda()\n",
        "\n",
        "            outputs = model(inputs)\n",
        "            loss = criterion(outputs, labels)\n",
        "\n",
        "            running_val_loss += loss.item()\n",
        "            cum_loss.append(loss.item())\n",
        "\n",
        "    epoch_val_losses.append(np.mean(cum_loss))\n",
        "    print(f'\\n  Epoch {epoch+1}, loss: {epoch_losses[-1]:.5f} loss_val: {epoch_val_losses[-1]:.5f} time = {time2-time1:.2f} sec\\n')"
      ],
      "execution_count": null,
      "outputs": []
    },
    {
      "cell_type": "code",
      "metadata": {
        "id": "Z29UqxeObAVs"
      },
      "source": [
        "plt.plot(np.arange(1, epochs+1), epoch_losses, 'go-', label='train loss')\n",
        "plt.plot(np.arange(1, epochs+1), epoch_val_losses, 'ro-', label='validation loss')\n",
        "\n",
        "plt.legend(loc=\"upper right\")\n",
        "plt.grid(color=\"lightgrey\")\n",
        "plt.title('Сравнение train и valid loss' )\n",
        "plt.show()"
      ],
      "execution_count": null,
      "outputs": []
    }
  ]
}